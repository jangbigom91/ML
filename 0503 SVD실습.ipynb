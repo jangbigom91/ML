{
 "cells": [
  {
   "cell_type": "code",
   "execution_count": 1,
   "id": "80830968",
   "metadata": {},
   "outputs": [
    {
     "name": "stdout",
     "output_type": "stream",
     "text": [
      "[[-0.052 -0.111  1.042 -1.257]\n",
      " [ 0.745 -1.711 -0.206 -0.235]\n",
      " [ 1.128 -0.013 -0.613  1.374]\n",
      " [ 1.611 -0.689  0.692 -0.448]]\n"
     ]
    }
   ],
   "source": [
    "# numpy의 svd 모듈 import\n",
    "import numpy as np\n",
    "from numpy.linalg import svd\n",
    "\n",
    "# 4X4 Random 행렬 a 생성\n",
    "np.random.seed(21)\n",
    "a = np.random.randn(4, 4)\n",
    "print(np.round(a, 3))"
   ]
  },
  {
   "cell_type": "code",
   "execution_count": 2,
   "id": "dbe3ca0f",
   "metadata": {},
   "outputs": [
    {
     "name": "stdout",
     "output_type": "stream",
     "text": [
      "(4, 4) (4,) (4, 4)\n",
      "U matrix:\n",
      " [[ 0.13  -0.666  0.236  0.696]\n",
      " [ 0.653  0.011 -0.744  0.142]\n",
      " [ 0.236  0.734  0.323  0.549]\n",
      " [ 0.708 -0.133  0.535 -0.441]]\n",
      "Sigma Value:\n",
      " [[ 0.13  -0.666  0.236  0.696]\n",
      " [ 0.653  0.011 -0.744  0.142]\n",
      " [ 0.236  0.734  0.323  0.549]\n",
      " [ 0.708 -0.133  0.535 -0.441]]\n",
      "V transpose matrix:\n",
      " [[ 0.13  -0.666  0.236  0.696]\n",
      " [ 0.653  0.011 -0.744  0.142]\n",
      " [ 0.236  0.734  0.323  0.549]\n",
      " [ 0.708 -0.133  0.535 -0.441]]\n"
     ]
    }
   ],
   "source": [
    "U, Sigma, Vt = svd(a)\n",
    "print(U.shape, Sigma.shape, Vt.shape)\n",
    "print('U matrix:\\n', np.round(U,3))\n",
    "print('Sigma Value:\\n', np.round(U,3))\n",
    "print('V transpose matrix:\\n', np.round(U,3))"
   ]
  },
  {
   "cell_type": "code",
   "execution_count": 3,
   "id": "22a142d2",
   "metadata": {},
   "outputs": [
    {
     "name": "stdout",
     "output_type": "stream",
     "text": [
      "[[-0.052 -0.111  1.042 -1.257]\n",
      " [ 0.745 -1.711 -0.206 -0.235]\n",
      " [ 1.128 -0.013 -0.613  1.374]\n",
      " [ 1.611 -0.689  0.692 -0.448]]\n"
     ]
    }
   ],
   "source": [
    "# Sigma를 다시 0을 포함한 대칭행렬로 변환\n",
    "Sigma_mat = np.diag(Sigma)\n",
    "a_ = np.dot(np.dot(U, Sigma_mat), Vt)\n",
    "print(np.round(a_, 3))"
   ]
  },
  {
   "cell_type": "code",
   "execution_count": 4,
   "id": "33ac10bf",
   "metadata": {},
   "outputs": [
    {
     "name": "stdout",
     "output_type": "stream",
     "text": [
      "[[-0.052 -0.111  1.042 -1.257]\n",
      " [ 0.745 -1.711 -0.206 -0.235]\n",
      " [ 0.693 -1.822  0.836 -1.491]\n",
      " [-0.052 -0.111  1.042 -1.257]]\n"
     ]
    }
   ],
   "source": [
    "a[2] = a[0] + a[1]\n",
    "a[3] = a[0]\n",
    "print(np.round(a,3))"
   ]
  },
  {
   "cell_type": "code",
   "execution_count": 5,
   "id": "3102a294",
   "metadata": {},
   "outputs": [
    {
     "name": "stdout",
     "output_type": "stream",
     "text": [
      "(4, 4) (4,) (4, 4)\n",
      "Sigma Value:\n",
      " [3.395 2.035 0.    0.   ]\n"
     ]
    }
   ],
   "source": [
    "# 다시 svd를 수행하여 Sigma 값 확인\n",
    "U, Sigma, Vt = svd(a)\n",
    "print(U.shape, Sigma.shape, Vt.shape)\n",
    "print('Sigma Value:\\n', np.round(Sigma,3))"
   ]
  },
  {
   "cell_type": "code",
   "execution_count": 7,
   "id": "8c324cee",
   "metadata": {},
   "outputs": [
    {
     "name": "stdout",
     "output_type": "stream",
     "text": [
      "(4, 2) (2, 2) (2, 4)\n",
      "[[-0.052 -0.111  1.042 -1.257]\n",
      " [ 0.745 -1.711 -0.206 -0.235]\n",
      " [ 0.693 -1.822  0.836 -1.491]\n",
      " [-0.052 -0.111  1.042 -1.257]]\n"
     ]
    }
   ],
   "source": [
    "# U 행렬의 경우는 Sigma와 내적을 수행하므로 Sigma의 앞 2행에 대응되는 앞 2열만 추출\n",
    "U_ = U[:, :2]\n",
    "Sigma_ = np.diag(Sigma[:2])\n",
    "\n",
    "# V 전치 행렬의 경우는 앞 2행만 추출\n",
    "Vt_ = Vt[:2]\n",
    "print(U_.shape, Sigma_.shape, Vt_.shape)\n",
    "\n",
    "# U, Sigma, Vt의 내적을 수행하며, 다시 원본 행렬 복원\n",
    "a_ = np.dot(np.dot(U_, Sigma_), Vt_)\n",
    "print(np.round(a_,3))"
   ]
  },
  {
   "cell_type": "code",
   "execution_count": null,
   "id": "873fd005",
   "metadata": {},
   "outputs": [],
   "source": []
  }
 ],
 "metadata": {
  "kernelspec": {
   "display_name": "Python 3",
   "language": "python",
   "name": "python3"
  },
  "language_info": {
   "codemirror_mode": {
    "name": "ipython",
    "version": 3
   },
   "file_extension": ".py",
   "mimetype": "text/x-python",
   "name": "python",
   "nbconvert_exporter": "python",
   "pygments_lexer": "ipython3",
   "version": "3.8.9"
  }
 },
 "nbformat": 4,
 "nbformat_minor": 5
}
