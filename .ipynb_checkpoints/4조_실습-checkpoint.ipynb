{
 "cells": [
  {
   "cell_type": "markdown",
   "id": "de59844e",
   "metadata": {},
   "source": [
    "# 4조"
   ]
  },
  {
   "cell_type": "markdown",
   "id": "89d28dce",
   "metadata": {},
   "source": [
    "### 방형진 - 그래프 시각화, 데이터 전처리, 모듈 학습, 테스트\n",
    "### 이상욱 - 데이터 전처리, Logistic Regression\n",
    "### 최정한 - 데이터 전처리, Decision Tree\n",
    "### 최형욱 - 데이터 전처리, Random Forest"
   ]
  },
  {
   "cell_type": "markdown",
   "id": "a54f2830",
   "metadata": {},
   "source": [
    "## import 해올것들"
   ]
  },
  {
   "cell_type": "code",
   "execution_count": 99,
   "id": "9053a180",
   "metadata": {},
   "outputs": [],
   "source": [
    "import sklearn\n",
    "import numpy as np\n",
    "import pandas as pd\n",
    "import matplotlib.pyplot as plt\n",
    "import seaborn as sns\n",
    "import graphviz\n",
    "from sklearn import preprocessing\n",
    "from sklearn.model_selection import train_test_split\n",
    "from sklearn.tree import DecisionTreeClassifier\n",
    "from sklearn.ensemble import RandomForestClassifier\n",
    "from sklearn.linear_model import LogisticRegression\n",
    "from sklearn.metrics import accuracy_score, precision_score, recall_score, f1_score, roc_curve, roc_auc_score,confusion_matrix, precision_recall_curve\n",
    "from sklearn.model_selection import train_test_split\n",
    "from sklearn.model_selection import cross_val_score\n",
    "from sklearn.model_selection import GridSearchCV\n",
    "from sklearn.tree import export_graphviz\n",
    "from sklearn.ensemble import GradientBoostingClassifier\n",
    "import warnings\n",
    "import time\n",
    "\n",
    "warnings.filterwarnings('ignore')\n",
    "%matplotlib inline"
   ]
  },
  {
   "cell_type": "markdown",
   "id": "7a372f74",
   "metadata": {},
   "source": [
    "## 정밀도, 재현율 그림 함수"
   ]
  },
  {
   "cell_type": "code",
   "execution_count": 100,
   "id": "1ddff58c",
   "metadata": {},
   "outputs": [],
   "source": [
    "def precision_recall_curve_plot(y_test=None, pred_proba_c1=None):\n",
    "    # threshold ndarray와 이 threshold에 따른 정밀도, 재현율 ndarray 추출. \n",
    "    precisions, recalls, thresholds = precision_recall_curve( y_test, pred_proba_c1)\n",
    "    \n",
    "    # X축을 threshold값으로, Y축은 정밀도, 재현율 값으로 각각 Plot 수행. 정밀도는 점선으로 표시\n",
    "    plt.figure(figsize=(8,6))\n",
    "    threshold_boundary = thresholds.shape[0]\n",
    "    plt.plot(thresholds, precisions[0:threshold_boundary], linestyle='--', label='precision')\n",
    "    plt.plot(thresholds, recalls[0:threshold_boundary],label='recall')\n",
    "    \n",
    "    # threshold 값 X 축의 Scale을 0.1 단위로 변경\n",
    "    start, end = plt.xlim()\n",
    "    plt.xticks(np.round(np.arange(start, end, 0.1),2))\n",
    "    \n",
    "    # x축, y축 label과 legend, 그리고 grid 설정\n",
    "    plt.xlabel('Threshold value'); plt.ylabel('Precision and Recall value')\n",
    "    plt.legend(); plt.grid()\n",
    "    plt.show()"
   ]
  },
  {
   "cell_type": "markdown",
   "id": "73ebd7aa",
   "metadata": {},
   "source": [
    "## string 값 인코딩 함수"
   ]
  },
  {
   "cell_type": "code",
   "execution_count": 101,
   "id": "5b7cb389",
   "metadata": {},
   "outputs": [],
   "source": [
    "def encode_features(dataDF):\n",
    "    features = test_df_dropna.columns\n",
    "    for feature in features:\n",
    "        le = preprocessing.LabelEncoder()\n",
    "        le = le.fit(dataDF[feature])\n",
    "        dataDF[feature] = le.transform(dataDF[feature])\n",
    "        \n",
    "    return dataDF"
   ]
  },
  {
   "cell_type": "markdown",
   "id": "7b7d992f",
   "metadata": {},
   "source": [
    "## 수치 출력 함수"
   ]
  },
  {
   "cell_type": "code",
   "execution_count": 102,
   "id": "05029900",
   "metadata": {},
   "outputs": [],
   "source": [
    "def get_clf_eval(y_test , pred):\n",
    "    confusion = confusion_matrix( y_test, pred)\n",
    "    print('오차 행렬')\n",
    "    print(confusion)\n",
    "    print('정확도        : {0:.4f}'.format(accuracy_score(y_test , pred)))\n",
    "    print('정밀도        : {0:.4f}'.format(precision_score(y_test , pred)))\n",
    "    print('재현율        : {0:.4f}'.format(recall_score(y_test , pred)))\n",
    "    print('F1스코어      : {0:.4f}'.format(f1_score(y_test, pred)))\n",
    "    print('roc_auc_스코어: {0:.4f}'.format(roc_auc_score(y_test,pred)))"
   ]
  },
  {
   "cell_type": "markdown",
   "id": "78fa1e0f",
   "metadata": {},
   "source": [
    "## CSV 파일 읽기, 읽은 정보 출력"
   ]
  },
  {
   "cell_type": "code",
   "execution_count": 103,
   "id": "70660638",
   "metadata": {},
   "outputs": [
    {
     "ename": "KeyError",
     "evalue": "'[32561] not found in axis'",
     "output_type": "error",
     "traceback": [
      "\u001b[1;31m---------------------------------------------------------------------------\u001b[0m",
      "\u001b[1;31mKeyError\u001b[0m                                  Traceback (most recent call last)",
      "\u001b[1;32m<ipython-input-103-8c4ef076e44f>\u001b[0m in \u001b[0;36m<module>\u001b[1;34m\u001b[0m\n\u001b[0;32m      1\u001b[0m \u001b[0mtest_df\u001b[0m \u001b[1;33m=\u001b[0m \u001b[0mpd\u001b[0m\u001b[1;33m.\u001b[0m\u001b[0mread_csv\u001b[0m\u001b[1;33m(\u001b[0m\u001b[1;34m'./adult.data_converted.csv'\u001b[0m\u001b[1;33m)\u001b[0m\u001b[1;33m\u001b[0m\u001b[1;33m\u001b[0m\u001b[0m\n\u001b[1;32m----> 2\u001b[1;33m \u001b[0mtest_df\u001b[0m\u001b[1;33m.\u001b[0m\u001b[0mdrop\u001b[0m\u001b[1;33m(\u001b[0m\u001b[1;36m32561\u001b[0m\u001b[1;33m,\u001b[0m \u001b[0maxis\u001b[0m\u001b[1;33m=\u001b[0m\u001b[1;36m0\u001b[0m\u001b[1;33m,\u001b[0m \u001b[0minplace\u001b[0m\u001b[1;33m=\u001b[0m\u001b[1;32mTrue\u001b[0m\u001b[1;33m)\u001b[0m\u001b[1;33m\u001b[0m\u001b[1;33m\u001b[0m\u001b[0m\n\u001b[0m",
      "\u001b[1;32mc:\\users\\ad\\appdata\\local\\programs\\python\\python38\\lib\\site-packages\\pandas\\core\\frame.py\u001b[0m in \u001b[0;36mdrop\u001b[1;34m(self, labels, axis, index, columns, level, inplace, errors)\u001b[0m\n\u001b[0;32m   4306\u001b[0m                 \u001b[0mweight\u001b[0m  \u001b[1;36m1.0\u001b[0m     \u001b[1;36m0.8\u001b[0m\u001b[1;33m\u001b[0m\u001b[1;33m\u001b[0m\u001b[0m\n\u001b[0;32m   4307\u001b[0m         \"\"\"\n\u001b[1;32m-> 4308\u001b[1;33m         return super().drop(\n\u001b[0m\u001b[0;32m   4309\u001b[0m             \u001b[0mlabels\u001b[0m\u001b[1;33m=\u001b[0m\u001b[0mlabels\u001b[0m\u001b[1;33m,\u001b[0m\u001b[1;33m\u001b[0m\u001b[1;33m\u001b[0m\u001b[0m\n\u001b[0;32m   4310\u001b[0m             \u001b[0maxis\u001b[0m\u001b[1;33m=\u001b[0m\u001b[0maxis\u001b[0m\u001b[1;33m,\u001b[0m\u001b[1;33m\u001b[0m\u001b[1;33m\u001b[0m\u001b[0m\n",
      "\u001b[1;32mc:\\users\\ad\\appdata\\local\\programs\\python\\python38\\lib\\site-packages\\pandas\\core\\generic.py\u001b[0m in \u001b[0;36mdrop\u001b[1;34m(self, labels, axis, index, columns, level, inplace, errors)\u001b[0m\n\u001b[0;32m   4151\u001b[0m         \u001b[1;32mfor\u001b[0m \u001b[0maxis\u001b[0m\u001b[1;33m,\u001b[0m \u001b[0mlabels\u001b[0m \u001b[1;32min\u001b[0m \u001b[0maxes\u001b[0m\u001b[1;33m.\u001b[0m\u001b[0mitems\u001b[0m\u001b[1;33m(\u001b[0m\u001b[1;33m)\u001b[0m\u001b[1;33m:\u001b[0m\u001b[1;33m\u001b[0m\u001b[1;33m\u001b[0m\u001b[0m\n\u001b[0;32m   4152\u001b[0m             \u001b[1;32mif\u001b[0m \u001b[0mlabels\u001b[0m \u001b[1;32mis\u001b[0m \u001b[1;32mnot\u001b[0m \u001b[1;32mNone\u001b[0m\u001b[1;33m:\u001b[0m\u001b[1;33m\u001b[0m\u001b[1;33m\u001b[0m\u001b[0m\n\u001b[1;32m-> 4153\u001b[1;33m                 \u001b[0mobj\u001b[0m \u001b[1;33m=\u001b[0m \u001b[0mobj\u001b[0m\u001b[1;33m.\u001b[0m\u001b[0m_drop_axis\u001b[0m\u001b[1;33m(\u001b[0m\u001b[0mlabels\u001b[0m\u001b[1;33m,\u001b[0m \u001b[0maxis\u001b[0m\u001b[1;33m,\u001b[0m \u001b[0mlevel\u001b[0m\u001b[1;33m=\u001b[0m\u001b[0mlevel\u001b[0m\u001b[1;33m,\u001b[0m \u001b[0merrors\u001b[0m\u001b[1;33m=\u001b[0m\u001b[0merrors\u001b[0m\u001b[1;33m)\u001b[0m\u001b[1;33m\u001b[0m\u001b[1;33m\u001b[0m\u001b[0m\n\u001b[0m\u001b[0;32m   4154\u001b[0m \u001b[1;33m\u001b[0m\u001b[0m\n\u001b[0;32m   4155\u001b[0m         \u001b[1;32mif\u001b[0m \u001b[0minplace\u001b[0m\u001b[1;33m:\u001b[0m\u001b[1;33m\u001b[0m\u001b[1;33m\u001b[0m\u001b[0m\n",
      "\u001b[1;32mc:\\users\\ad\\appdata\\local\\programs\\python\\python38\\lib\\site-packages\\pandas\\core\\generic.py\u001b[0m in \u001b[0;36m_drop_axis\u001b[1;34m(self, labels, axis, level, errors)\u001b[0m\n\u001b[0;32m   4186\u001b[0m                 \u001b[0mnew_axis\u001b[0m \u001b[1;33m=\u001b[0m \u001b[0maxis\u001b[0m\u001b[1;33m.\u001b[0m\u001b[0mdrop\u001b[0m\u001b[1;33m(\u001b[0m\u001b[0mlabels\u001b[0m\u001b[1;33m,\u001b[0m \u001b[0mlevel\u001b[0m\u001b[1;33m=\u001b[0m\u001b[0mlevel\u001b[0m\u001b[1;33m,\u001b[0m \u001b[0merrors\u001b[0m\u001b[1;33m=\u001b[0m\u001b[0merrors\u001b[0m\u001b[1;33m)\u001b[0m\u001b[1;33m\u001b[0m\u001b[1;33m\u001b[0m\u001b[0m\n\u001b[0;32m   4187\u001b[0m             \u001b[1;32melse\u001b[0m\u001b[1;33m:\u001b[0m\u001b[1;33m\u001b[0m\u001b[1;33m\u001b[0m\u001b[0m\n\u001b[1;32m-> 4188\u001b[1;33m                 \u001b[0mnew_axis\u001b[0m \u001b[1;33m=\u001b[0m \u001b[0maxis\u001b[0m\u001b[1;33m.\u001b[0m\u001b[0mdrop\u001b[0m\u001b[1;33m(\u001b[0m\u001b[0mlabels\u001b[0m\u001b[1;33m,\u001b[0m \u001b[0merrors\u001b[0m\u001b[1;33m=\u001b[0m\u001b[0merrors\u001b[0m\u001b[1;33m)\u001b[0m\u001b[1;33m\u001b[0m\u001b[1;33m\u001b[0m\u001b[0m\n\u001b[0m\u001b[0;32m   4189\u001b[0m             \u001b[0mresult\u001b[0m \u001b[1;33m=\u001b[0m \u001b[0mself\u001b[0m\u001b[1;33m.\u001b[0m\u001b[0mreindex\u001b[0m\u001b[1;33m(\u001b[0m\u001b[1;33m**\u001b[0m\u001b[1;33m{\u001b[0m\u001b[0maxis_name\u001b[0m\u001b[1;33m:\u001b[0m \u001b[0mnew_axis\u001b[0m\u001b[1;33m}\u001b[0m\u001b[1;33m)\u001b[0m\u001b[1;33m\u001b[0m\u001b[1;33m\u001b[0m\u001b[0m\n\u001b[0;32m   4190\u001b[0m \u001b[1;33m\u001b[0m\u001b[0m\n",
      "\u001b[1;32mc:\\users\\ad\\appdata\\local\\programs\\python\\python38\\lib\\site-packages\\pandas\\core\\indexes\\base.py\u001b[0m in \u001b[0;36mdrop\u001b[1;34m(self, labels, errors)\u001b[0m\n\u001b[0;32m   5589\u001b[0m         \u001b[1;32mif\u001b[0m \u001b[0mmask\u001b[0m\u001b[1;33m.\u001b[0m\u001b[0many\u001b[0m\u001b[1;33m(\u001b[0m\u001b[1;33m)\u001b[0m\u001b[1;33m:\u001b[0m\u001b[1;33m\u001b[0m\u001b[1;33m\u001b[0m\u001b[0m\n\u001b[0;32m   5590\u001b[0m             \u001b[1;32mif\u001b[0m \u001b[0merrors\u001b[0m \u001b[1;33m!=\u001b[0m \u001b[1;34m\"ignore\"\u001b[0m\u001b[1;33m:\u001b[0m\u001b[1;33m\u001b[0m\u001b[1;33m\u001b[0m\u001b[0m\n\u001b[1;32m-> 5591\u001b[1;33m                 \u001b[1;32mraise\u001b[0m \u001b[0mKeyError\u001b[0m\u001b[1;33m(\u001b[0m\u001b[1;34mf\"{labels[mask]} not found in axis\"\u001b[0m\u001b[1;33m)\u001b[0m\u001b[1;33m\u001b[0m\u001b[1;33m\u001b[0m\u001b[0m\n\u001b[0m\u001b[0;32m   5592\u001b[0m             \u001b[0mindexer\u001b[0m \u001b[1;33m=\u001b[0m \u001b[0mindexer\u001b[0m\u001b[1;33m[\u001b[0m\u001b[1;33m~\u001b[0m\u001b[0mmask\u001b[0m\u001b[1;33m]\u001b[0m\u001b[1;33m\u001b[0m\u001b[1;33m\u001b[0m\u001b[0m\n\u001b[0;32m   5593\u001b[0m         \u001b[1;32mreturn\u001b[0m \u001b[0mself\u001b[0m\u001b[1;33m.\u001b[0m\u001b[0mdelete\u001b[0m\u001b[1;33m(\u001b[0m\u001b[0mindexer\u001b[0m\u001b[1;33m)\u001b[0m\u001b[1;33m\u001b[0m\u001b[1;33m\u001b[0m\u001b[0m\n",
      "\u001b[1;31mKeyError\u001b[0m: '[32561] not found in axis'"
     ]
    }
   ],
   "source": [
    "test_df = pd.read_csv('./adult.data_converted.csv')\n",
    "test_df.drop(32561, axis=0, inplace=True)"
   ]
  },
  {
   "cell_type": "code",
   "execution_count": null,
   "id": "a053728e",
   "metadata": {
    "scrolled": true
   },
   "outputs": [],
   "source": [
    "test_df.head(10)"
   ]
  },
  {
   "cell_type": "code",
   "execution_count": null,
   "id": "27dcedc6",
   "metadata": {
    "scrolled": true
   },
   "outputs": [],
   "source": [
    "test_df.info()"
   ]
  },
  {
   "cell_type": "markdown",
   "id": "dd78e8ee",
   "metadata": {},
   "source": [
    "## 읽은 자료에서 Null 값 출력 (이 csv파일에는 ?를 널로 안바꿔서 널값이 없습니다.)"
   ]
  },
  {
   "cell_type": "code",
   "execution_count": 104,
   "id": "cbf55279",
   "metadata": {
    "scrolled": true
   },
   "outputs": [
    {
     "name": "stdout",
     "output_type": "stream",
     "text": [
      "데이터 세트 Null 값 갯수 \n",
      " age                 0\n",
      "work-class          0\n",
      "fnlwgt              0\n",
      "education           0\n",
      "education-num       0\n",
      "marital-status      0\n",
      "occupation          0\n",
      "relationship        0\n",
      "race                0\n",
      "sex                 0\n",
      "capital-gain        0\n",
      "capital-loss        0\n",
      "hours-per-week      0\n",
      "native-country      0\n",
      "is_more_than_50K    0\n",
      "dtype: int64\n"
     ]
    }
   ],
   "source": [
    "print('데이터 세트 Null 값 갯수 \\n',test_df.isnull().sum()) #이 csv파일에는 ?를 널로 안바꿔서 널값이 없습니다."
   ]
  },
  {
   "cell_type": "code",
   "execution_count": 105,
   "id": "24a3fd7f",
   "metadata": {},
   "outputs": [],
   "source": [
    "test_df_dropna = test_df#.dropna(axis = 0)"
   ]
  },
  {
   "cell_type": "markdown",
   "id": "239bfd26",
   "metadata": {},
   "source": [
    "## 각 칼럼별 50K이상인 사람 히스토그램"
   ]
  },
  {
   "cell_type": "markdown",
   "id": "fc94ef86",
   "metadata": {},
   "source": [
    "### <li>나이"
   ]
  },
  {
   "cell_type": "code",
   "execution_count": 106,
   "id": "fa5b67c8",
   "metadata": {},
   "outputs": [
    {
     "data": {
      "text/plain": [
       "<AxesSubplot:xlabel='age', ylabel='is_more_than_50K'>"
      ]
     },
     "execution_count": 106,
     "metadata": {},
     "output_type": "execute_result"
    },
    {
     "data": {
      "image/png": "[encoded data removed]",
      "text/plain": [
       "<Figure size 1440x720 with 1 Axes>"
      ]
     },
     "metadata": {
      "needs_background": "light"
     },
     "output_type": "display_data"
    }
   ],
   "source": [
    "plt.figure(figsize=(20, 10))\n",
    "plt.xticks(rotation = - 45 )\n",
    "sns.barplot(x='age', y = 'is_more_than_50K', data=test_df_dropna)"
   ]
  },
  {
   "cell_type": "markdown",
   "id": "8af50b0a",
   "metadata": {},
   "source": [
    "### <li>직종"
   ]
  },
  {
   "cell_type": "code",
   "execution_count": 107,
   "id": "c62af020",
   "metadata": {},
   "outputs": [
    {
     "data": {
      "text/plain": [
       "<AxesSubplot:xlabel='work-class', ylabel='is_more_than_50K'>"
      ]
     },
     "execution_count": 107,
     "metadata": {},
     "output_type": "execute_result"
    },
    {
     "data": {
      "image/png": "[encoded data removed]",
      "text/plain": [
       "<Figure size 720x432 with 1 Axes>"
      ]
     },
     "metadata": {
      "needs_background": "light"
     },
     "output_type": "display_data"
    }
   ],
   "source": [
    "plt.figure(figsize=(10, 6))\n",
    "plt.xticks(rotation = - 45 )\n",
    "sns.barplot(x='work-class', y = 'is_more_than_50K', data=test_df_dropna)"
   ]
  },
  {
   "cell_type": "markdown",
   "id": "e9e61246",
   "metadata": {},
   "source": [
    "### <li>교육"
   ]
  },
  {
   "cell_type": "code",
   "execution_count": 108,
   "id": "798bc5bd",
   "metadata": {},
   "outputs": [
    {
     "data": {
      "text/plain": [
       "<AxesSubplot:xlabel='education-num', ylabel='is_more_than_50K'>"
      ]
     },
     "execution_count": 108,
     "metadata": {},
     "output_type": "execute_result"
    },
    {
     "data": {
      "image/png": "[encoded data removed]",
      "text/plain": [
       "<Figure size 720x432 with 1 Axes>"
      ]
     },
     "metadata": {
      "needs_background": "light"
     },
     "output_type": "display_data"
    }
   ],
   "source": [
    "plt.figure(figsize=(10, 6))\n",
    "plt.xticks(rotation = - 45)\n",
    "sns.barplot(x='education-num', y = 'is_more_than_50K', data=test_df_dropna)"
   ]
  },
  {
   "cell_type": "markdown",
   "id": "73cc3304",
   "metadata": {},
   "source": [
    "### <li>결혼여부"
   ]
  },
  {
   "cell_type": "code",
   "execution_count": 109,
   "id": "c69d4538",
   "metadata": {},
   "outputs": [
    {
     "data": {
      "text/plain": [
       "<AxesSubplot:xlabel='marital-status', ylabel='is_more_than_50K'>"
      ]
     },
     "execution_count": 109,
     "metadata": {},
     "output_type": "execute_result"
    },
    {
     "data": {
      "image/png": "[encoded data removed]",
      "text/plain": [
       "<Figure size 720x432 with 1 Axes>"
      ]
     },
     "metadata": {
      "needs_background": "light"
     },
     "output_type": "display_data"
    }
   ],
   "source": [
    "plt.figure(figsize=(10, 6))\n",
    "plt.xticks(rotation = - 45 )\n",
    "sns.barplot(x='marital-status', y = 'is_more_than_50K', data=test_df_dropna)"
   ]
  },
  {
   "cell_type": "markdown",
   "id": "0c0ee8b2",
   "metadata": {},
   "source": [
    "### <li>직업"
   ]
  },
  {
   "cell_type": "code",
   "execution_count": 110,
   "id": "9a26a0e8",
   "metadata": {},
   "outputs": [
    {
     "data": {
      "text/plain": [
       "<AxesSubplot:xlabel='occupation', ylabel='is_more_than_50K'>"
      ]
     },
     "execution_count": 110,
     "metadata": {},
     "output_type": "execute_result"
    },
    {
     "data": {
      "text/plain": [
       "<Figure size 720x432 with 0 Axes>"
      ]
     },
     "metadata": {},
     "output_type": "display_data"
    },
    {
     "data": {
      "image/png": "[encoded data removed]",
      "text/plain": [
       "<Figure size 720x432 with 1 Axes>"
      ]
     },
     "metadata": {
      "needs_background": "light"
     },
     "output_type": "display_data"
    }
   ],
   "source": [
    "plt.figure(figsize=(10, 6))\n",
    "plt.figure(figsize=(10, 6))\n",
    "plt.xticks(rotation = - 45)\n",
    "sns.barplot(x='occupation', y = 'is_more_than_50K', data=test_df_dropna)"
   ]
  },
  {
   "cell_type": "markdown",
   "id": "97533019",
   "metadata": {},
   "source": [
    "### <li>가족관계"
   ]
  },
  {
   "cell_type": "code",
   "execution_count": 111,
   "id": "5171b21b",
   "metadata": {},
   "outputs": [
    {
     "data": {
      "text/plain": [
       "<AxesSubplot:xlabel='relationship', ylabel='is_more_than_50K'>"
      ]
     },
     "execution_count": 111,
     "metadata": {},
     "output_type": "execute_result"
    },
    {
     "data": {
      "image/png": "[encoded data removed]",
      "text/plain": [
       "<Figure size 720x432 with 1 Axes>"
      ]
     },
     "metadata": {
      "needs_background": "light"
     },
     "output_type": "display_data"
    }
   ],
   "source": [
    "plt.figure(figsize=(10, 6))\n",
    "plt.xticks(rotation = - 45 )\n",
    "sns.barplot(x='relationship', y = 'is_more_than_50K', data=test_df_dropna)"
   ]
  },
  {
   "cell_type": "markdown",
   "id": "413dcdfa",
   "metadata": {},
   "source": [
    "### <li>인종"
   ]
  },
  {
   "cell_type": "code",
   "execution_count": 112,
   "id": "7d38b7e0",
   "metadata": {},
   "outputs": [
    {
     "data": {
      "text/plain": [
       "<AxesSubplot:xlabel='race', ylabel='is_more_than_50K'>"
      ]
     },
     "execution_count": 112,
     "metadata": {},
     "output_type": "execute_result"
    },
    {
     "data": {
      "image/png": "[encoded data removed]",
      "text/plain": [
       "<Figure size 720x432 with 1 Axes>"
      ]
     },
     "metadata": {
      "needs_background": "light"
     },
     "output_type": "display_data"
    }
   ],
   "source": [
    "plt.figure(figsize=(10, 6))\n",
    "plt.xticks(rotation = - 45 )\n",
    "sns.barplot(x='race', y = 'is_more_than_50K', data=test_df_dropna)"
   ]
  },
  {
   "cell_type": "markdown",
   "id": "cdc0e525",
   "metadata": {},
   "source": [
    "### <li>성별"
   ]
  },
  {
   "cell_type": "code",
   "execution_count": 113,
   "id": "30244de3",
   "metadata": {},
   "outputs": [
    {
     "data": {
      "text/plain": [
       "<AxesSubplot:xlabel='sex', ylabel='is_more_than_50K'>"
      ]
     },
     "execution_count": 113,
     "metadata": {},
     "output_type": "execute_result"
    },
    {
     "data": {
      "image/png": "[encoded data removed]",
      "text/plain": [
       "<Figure size 720x432 with 1 Axes>"
      ]
     },
     "metadata": {
      "needs_background": "light"
     },
     "output_type": "display_data"
    }
   ],
   "source": [
    "plt.figure(figsize=(10, 6))\n",
    "sns.barplot(x='sex', y = 'is_more_than_50K', data=test_df_dropna)"
   ]
  },
  {
   "cell_type": "markdown",
   "id": "12dd02eb",
   "metadata": {},
   "source": [
    "### <li>주간 업무량"
   ]
  },
  {
   "cell_type": "code",
   "execution_count": 114,
   "id": "23d5dff7",
   "metadata": {
    "scrolled": false
   },
   "outputs": [
    {
     "data": {
      "text/plain": [
       "<AxesSubplot:xlabel='hours-per-week', ylabel='is_more_than_50K'>"
      ]
     },
     "execution_count": 114,
     "metadata": {},
     "output_type": "execute_result"
    },
    {
     "data": {
      "image/png": "[encoded data removed]",
      "text/plain": [
       "<Figure size 1440x720 with 1 Axes>"
      ]
     },
     "metadata": {
      "needs_background": "light"
     },
     "output_type": "display_data"
    }
   ],
   "source": [
    "plt.figure(figsize=(20, 10))\n",
    "plt.xticks(rotation = - 45 )\n",
    "sns.barplot(x='hours-per-week', y = 'is_more_than_50K', data=test_df_dropna)"
   ]
  },
  {
   "cell_type": "markdown",
   "id": "789a8013",
   "metadata": {},
   "source": [
    "### <li>국적"
   ]
  },
  {
   "cell_type": "code",
   "execution_count": 115,
   "id": "4559e059",
   "metadata": {},
   "outputs": [
    {
     "data": {
      "text/plain": [
       "<AxesSubplot:xlabel='native-country', ylabel='is_more_than_50K'>"
      ]
     },
     "execution_count": 115,
     "metadata": {},
     "output_type": "execute_result"
    },
    {
     "data": {
      "image/png": "[encoded data removed]",
      "text/plain": [
       "<Figure size 1440x432 with 1 Axes>"
      ]
     },
     "metadata": {
      "needs_background": "light"
     },
     "output_type": "display_data"
    }
   ],
   "source": [
    "plt.figure(figsize=(20, 6))\n",
    "plt.xticks(rotation = - 45)\n",
    "sns.barplot(x='native-country', y = 'is_more_than_50K', data=test_df_dropna)"
   ]
  },
  {
   "cell_type": "markdown",
   "id": "e58ef83d",
   "metadata": {},
   "source": [
    "## 데이터 전처리 시작"
   ]
  },
  {
   "cell_type": "markdown",
   "id": "feddd3a1",
   "metadata": {},
   "source": [
    "### 칼럼 제거"
   ]
  },
  {
   "cell_type": "code",
   "execution_count": 116,
   "id": "be98a361",
   "metadata": {},
   "outputs": [],
   "source": [
    "test_df.drop(['education','native-country','fnlwgt','sex','work-class','race'], axis=1, inplace=True) #6개의 칼럼 제거"
   ]
  },
  {
   "cell_type": "code",
   "execution_count": 117,
   "id": "b6a1b9cf",
   "metadata": {},
   "outputs": [
    {
     "name": "stdout",
     "output_type": "stream",
     "text": [
      "데이터 세트 Null 값 갯수 \n",
      " age                 0\n",
      "education-num       0\n",
      "marital-status      0\n",
      "occupation          0\n",
      "relationship        0\n",
      "capital-gain        0\n",
      "capital-loss        0\n",
      "hours-per-week      0\n",
      "is_more_than_50K    0\n",
      "dtype: int64\n"
     ]
    }
   ],
   "source": [
    "print('데이터 세트 Null 값 갯수 \\n',test_df_dropna.isnull().sum())"
   ]
  },
  {
   "cell_type": "code",
   "execution_count": 118,
   "id": "f670b539",
   "metadata": {},
   "outputs": [
    {
     "data": {
      "text/html": [
       "<div>\n",
       "<style scoped>\n",
       "    .dataframe tbody tr th:only-of-type {\n",
       "        vertical-align: middle;\n",
       "    }\n",
       "\n",
       "    .dataframe tbody tr th {\n",
       "        vertical-align: top;\n",
       "    }\n",
       "\n",
       "    .dataframe thead th {\n",
       "        text-align: right;\n",
       "    }\n",
       "</style>\n",
       "<table border=\"1\" class=\"dataframe\">\n",
       "  <thead>\n",
       "    <tr style=\"text-align: right;\">\n",
       "      <th></th>\n",
       "      <th>age</th>\n",
       "      <th>education-num</th>\n",
       "      <th>marital-status</th>\n",
       "      <th>occupation</th>\n",
       "      <th>relationship</th>\n",
       "      <th>capital-gain</th>\n",
       "      <th>capital-loss</th>\n",
       "      <th>hours-per-week</th>\n",
       "      <th>is_more_than_50K</th>\n",
       "    </tr>\n",
       "  </thead>\n",
       "  <tbody>\n",
       "    <tr>\n",
       "      <th>0</th>\n",
       "      <td>39</td>\n",
       "      <td>13</td>\n",
       "      <td>Never-married</td>\n",
       "      <td>Adm-clerical</td>\n",
       "      <td>Not-in-family</td>\n",
       "      <td>2174</td>\n",
       "      <td>0</td>\n",
       "      <td>40</td>\n",
       "      <td>0</td>\n",
       "    </tr>\n",
       "    <tr>\n",
       "      <th>1</th>\n",
       "      <td>50</td>\n",
       "      <td>13</td>\n",
       "      <td>Married-civ-spouse</td>\n",
       "      <td>Exec-managerial</td>\n",
       "      <td>Husband</td>\n",
       "      <td>0</td>\n",
       "      <td>0</td>\n",
       "      <td>13</td>\n",
       "      <td>0</td>\n",
       "    </tr>\n",
       "    <tr>\n",
       "      <th>2</th>\n",
       "      <td>38</td>\n",
       "      <td>9</td>\n",
       "      <td>Divorced</td>\n",
       "      <td>Handlers-cleaners</td>\n",
       "      <td>Not-in-family</td>\n",
       "      <td>0</td>\n",
       "      <td>0</td>\n",
       "      <td>40</td>\n",
       "      <td>0</td>\n",
       "    </tr>\n",
       "    <tr>\n",
       "      <th>3</th>\n",
       "      <td>53</td>\n",
       "      <td>7</td>\n",
       "      <td>Married-civ-spouse</td>\n",
       "      <td>Handlers-cleaners</td>\n",
       "      <td>Husband</td>\n",
       "      <td>0</td>\n",
       "      <td>0</td>\n",
       "      <td>40</td>\n",
       "      <td>0</td>\n",
       "    </tr>\n",
       "    <tr>\n",
       "      <th>4</th>\n",
       "      <td>28</td>\n",
       "      <td>13</td>\n",
       "      <td>Married-civ-spouse</td>\n",
       "      <td>Prof-specialty</td>\n",
       "      <td>Wife</td>\n",
       "      <td>0</td>\n",
       "      <td>0</td>\n",
       "      <td>40</td>\n",
       "      <td>0</td>\n",
       "    </tr>\n",
       "    <tr>\n",
       "      <th>5</th>\n",
       "      <td>37</td>\n",
       "      <td>14</td>\n",
       "      <td>Married-civ-spouse</td>\n",
       "      <td>Exec-managerial</td>\n",
       "      <td>Wife</td>\n",
       "      <td>0</td>\n",
       "      <td>0</td>\n",
       "      <td>40</td>\n",
       "      <td>0</td>\n",
       "    </tr>\n",
       "    <tr>\n",
       "      <th>6</th>\n",
       "      <td>49</td>\n",
       "      <td>5</td>\n",
       "      <td>Married-spouse-absent</td>\n",
       "      <td>Other-service</td>\n",
       "      <td>Not-in-family</td>\n",
       "      <td>0</td>\n",
       "      <td>0</td>\n",
       "      <td>16</td>\n",
       "      <td>0</td>\n",
       "    </tr>\n",
       "    <tr>\n",
       "      <th>7</th>\n",
       "      <td>52</td>\n",
       "      <td>9</td>\n",
       "      <td>Married-civ-spouse</td>\n",
       "      <td>Exec-managerial</td>\n",
       "      <td>Husband</td>\n",
       "      <td>0</td>\n",
       "      <td>0</td>\n",
       "      <td>45</td>\n",
       "      <td>1</td>\n",
       "    </tr>\n",
       "    <tr>\n",
       "      <th>8</th>\n",
       "      <td>31</td>\n",
       "      <td>14</td>\n",
       "      <td>Never-married</td>\n",
       "      <td>Prof-specialty</td>\n",
       "      <td>Not-in-family</td>\n",
       "      <td>14084</td>\n",
       "      <td>0</td>\n",
       "      <td>50</td>\n",
       "      <td>1</td>\n",
       "    </tr>\n",
       "    <tr>\n",
       "      <th>9</th>\n",
       "      <td>42</td>\n",
       "      <td>13</td>\n",
       "      <td>Married-civ-spouse</td>\n",
       "      <td>Exec-managerial</td>\n",
       "      <td>Husband</td>\n",
       "      <td>5178</td>\n",
       "      <td>0</td>\n",
       "      <td>40</td>\n",
       "      <td>1</td>\n",
       "    </tr>\n",
       "  </tbody>\n",
       "</table>\n",
       "</div>"
      ],
      "text/plain": [
       "   age  education-num         marital-status         occupation  \\\n",
       "0   39             13          Never-married       Adm-clerical   \n",
       "1   50             13     Married-civ-spouse    Exec-managerial   \n",
       "2   38              9               Divorced  Handlers-cleaners   \n",
       "3   53              7     Married-civ-spouse  Handlers-cleaners   \n",
       "4   28             13     Married-civ-spouse     Prof-specialty   \n",
       "5   37             14     Married-civ-spouse    Exec-managerial   \n",
       "6   49              5  Married-spouse-absent      Other-service   \n",
       "7   52              9     Married-civ-spouse    Exec-managerial   \n",
       "8   31             14          Never-married     Prof-specialty   \n",
       "9   42             13     Married-civ-spouse    Exec-managerial   \n",
       "\n",
       "    relationship  capital-gain  capital-loss  hours-per-week  is_more_than_50K  \n",
       "0  Not-in-family          2174             0              40                 0  \n",
       "1        Husband             0             0              13                 0  \n",
       "2  Not-in-family             0             0              40                 0  \n",
       "3        Husband             0             0              40                 0  \n",
       "4           Wife             0             0              40                 0  \n",
       "5           Wife             0             0              40                 0  \n",
       "6  Not-in-family             0             0              16                 0  \n",
       "7        Husband             0             0              45                 1  \n",
       "8  Not-in-family         14084             0              50                 1  \n",
       "9        Husband          5178             0              40                 1  "
      ]
     },
     "execution_count": 118,
     "metadata": {},
     "output_type": "execute_result"
    }
   ],
   "source": [
    "test_df_dropna.head(10)"
   ]
  },
  {
   "cell_type": "markdown",
   "id": "38da7000",
   "metadata": {},
   "source": [
    "### 데이터 String 값 인코딩"
   ]
  },
  {
   "cell_type": "code",
   "execution_count": 119,
   "id": "014f29a0",
   "metadata": {
    "scrolled": false
   },
   "outputs": [
    {
     "data": {
      "text/html": [
       "<div>\n",
       "<style scoped>\n",
       "    .dataframe tbody tr th:only-of-type {\n",
       "        vertical-align: middle;\n",
       "    }\n",
       "\n",
       "    .dataframe tbody tr th {\n",
       "        vertical-align: top;\n",
       "    }\n",
       "\n",
       "    .dataframe thead th {\n",
       "        text-align: right;\n",
       "    }\n",
       "</style>\n",
       "<table border=\"1\" class=\"dataframe\">\n",
       "  <thead>\n",
       "    <tr style=\"text-align: right;\">\n",
       "      <th></th>\n",
       "      <th>age</th>\n",
       "      <th>education-num</th>\n",
       "      <th>marital-status</th>\n",
       "      <th>occupation</th>\n",
       "      <th>relationship</th>\n",
       "      <th>capital-gain</th>\n",
       "      <th>capital-loss</th>\n",
       "      <th>hours-per-week</th>\n",
       "      <th>is_more_than_50K</th>\n",
       "    </tr>\n",
       "  </thead>\n",
       "  <tbody>\n",
       "    <tr>\n",
       "      <th>0</th>\n",
       "      <td>22</td>\n",
       "      <td>12</td>\n",
       "      <td>4</td>\n",
       "      <td>1</td>\n",
       "      <td>1</td>\n",
       "      <td>25</td>\n",
       "      <td>0</td>\n",
       "      <td>39</td>\n",
       "      <td>0</td>\n",
       "    </tr>\n",
       "    <tr>\n",
       "      <th>1</th>\n",
       "      <td>33</td>\n",
       "      <td>12</td>\n",
       "      <td>2</td>\n",
       "      <td>4</td>\n",
       "      <td>0</td>\n",
       "      <td>0</td>\n",
       "      <td>0</td>\n",
       "      <td>12</td>\n",
       "      <td>0</td>\n",
       "    </tr>\n",
       "    <tr>\n",
       "      <th>2</th>\n",
       "      <td>21</td>\n",
       "      <td>8</td>\n",
       "      <td>0</td>\n",
       "      <td>6</td>\n",
       "      <td>1</td>\n",
       "      <td>0</td>\n",
       "      <td>0</td>\n",
       "      <td>39</td>\n",
       "      <td>0</td>\n",
       "    </tr>\n",
       "    <tr>\n",
       "      <th>3</th>\n",
       "      <td>36</td>\n",
       "      <td>6</td>\n",
       "      <td>2</td>\n",
       "      <td>6</td>\n",
       "      <td>0</td>\n",
       "      <td>0</td>\n",
       "      <td>0</td>\n",
       "      <td>39</td>\n",
       "      <td>0</td>\n",
       "    </tr>\n",
       "    <tr>\n",
       "      <th>4</th>\n",
       "      <td>11</td>\n",
       "      <td>12</td>\n",
       "      <td>2</td>\n",
       "      <td>10</td>\n",
       "      <td>5</td>\n",
       "      <td>0</td>\n",
       "      <td>0</td>\n",
       "      <td>39</td>\n",
       "      <td>0</td>\n",
       "    </tr>\n",
       "    <tr>\n",
       "      <th>5</th>\n",
       "      <td>20</td>\n",
       "      <td>13</td>\n",
       "      <td>2</td>\n",
       "      <td>4</td>\n",
       "      <td>5</td>\n",
       "      <td>0</td>\n",
       "      <td>0</td>\n",
       "      <td>39</td>\n",
       "      <td>0</td>\n",
       "    </tr>\n",
       "    <tr>\n",
       "      <th>6</th>\n",
       "      <td>32</td>\n",
       "      <td>4</td>\n",
       "      <td>3</td>\n",
       "      <td>8</td>\n",
       "      <td>1</td>\n",
       "      <td>0</td>\n",
       "      <td>0</td>\n",
       "      <td>15</td>\n",
       "      <td>0</td>\n",
       "    </tr>\n",
       "    <tr>\n",
       "      <th>7</th>\n",
       "      <td>35</td>\n",
       "      <td>8</td>\n",
       "      <td>2</td>\n",
       "      <td>4</td>\n",
       "      <td>0</td>\n",
       "      <td>0</td>\n",
       "      <td>0</td>\n",
       "      <td>44</td>\n",
       "      <td>1</td>\n",
       "    </tr>\n",
       "    <tr>\n",
       "      <th>8</th>\n",
       "      <td>14</td>\n",
       "      <td>13</td>\n",
       "      <td>4</td>\n",
       "      <td>10</td>\n",
       "      <td>1</td>\n",
       "      <td>105</td>\n",
       "      <td>0</td>\n",
       "      <td>49</td>\n",
       "      <td>1</td>\n",
       "    </tr>\n",
       "    <tr>\n",
       "      <th>9</th>\n",
       "      <td>25</td>\n",
       "      <td>12</td>\n",
       "      <td>2</td>\n",
       "      <td>4</td>\n",
       "      <td>0</td>\n",
       "      <td>79</td>\n",
       "      <td>0</td>\n",
       "      <td>39</td>\n",
       "      <td>1</td>\n",
       "    </tr>\n",
       "  </tbody>\n",
       "</table>\n",
       "</div>"
      ],
      "text/plain": [
       "   age  education-num  marital-status  occupation  relationship  capital-gain  \\\n",
       "0   22             12               4           1             1            25   \n",
       "1   33             12               2           4             0             0   \n",
       "2   21              8               0           6             1             0   \n",
       "3   36              6               2           6             0             0   \n",
       "4   11             12               2          10             5             0   \n",
       "5   20             13               2           4             5             0   \n",
       "6   32              4               3           8             1             0   \n",
       "7   35              8               2           4             0             0   \n",
       "8   14             13               4          10             1           105   \n",
       "9   25             12               2           4             0            79   \n",
       "\n",
       "   capital-loss  hours-per-week  is_more_than_50K  \n",
       "0             0              39                 0  \n",
       "1             0              12                 0  \n",
       "2             0              39                 0  \n",
       "3             0              39                 0  \n",
       "4             0              39                 0  \n",
       "5             0              39                 0  \n",
       "6             0              15                 0  \n",
       "7             0              44                 1  \n",
       "8             0              49                 1  \n",
       "9             0              39                 1  "
      ]
     },
     "execution_count": 119,
     "metadata": {},
     "output_type": "execute_result"
    }
   ],
   "source": [
    "test_df_dropna = encode_features(test_df_dropna)\n",
    "test_df_dropna.head(10)"
   ]
  },
  {
   "cell_type": "code",
   "execution_count": 120,
   "id": "b2416597",
   "metadata": {},
   "outputs": [],
   "source": [
    "y_test_df = test_df_dropna['is_more_than_50K']\n",
    "X_test_df= test_df_dropna.drop('is_more_than_50K',axis=1)"
   ]
  },
  {
   "cell_type": "code",
   "execution_count": 121,
   "id": "b9b1ef42",
   "metadata": {},
   "outputs": [
    {
     "data": {
      "text/plain": [
       "0    0\n",
       "1    0\n",
       "2    0\n",
       "3    0\n",
       "4    0\n",
       "Name: is_more_than_50K, dtype: int64"
      ]
     },
     "execution_count": 121,
     "metadata": {},
     "output_type": "execute_result"
    }
   ],
   "source": [
    "y_test_df.head()"
   ]
  },
  {
   "cell_type": "code",
   "execution_count": 122,
   "id": "956f6cbe",
   "metadata": {},
   "outputs": [
    {
     "data": {
      "text/html": [
       "<div>\n",
       "<style scoped>\n",
       "    .dataframe tbody tr th:only-of-type {\n",
       "        vertical-align: middle;\n",
       "    }\n",
       "\n",
       "    .dataframe tbody tr th {\n",
       "        vertical-align: top;\n",
       "    }\n",
       "\n",
       "    .dataframe thead th {\n",
       "        text-align: right;\n",
       "    }\n",
       "</style>\n",
       "<table border=\"1\" class=\"dataframe\">\n",
       "  <thead>\n",
       "    <tr style=\"text-align: right;\">\n",
       "      <th></th>\n",
       "      <th>age</th>\n",
       "      <th>education-num</th>\n",
       "      <th>marital-status</th>\n",
       "      <th>occupation</th>\n",
       "      <th>relationship</th>\n",
       "      <th>capital-gain</th>\n",
       "      <th>capital-loss</th>\n",
       "      <th>hours-per-week</th>\n",
       "    </tr>\n",
       "  </thead>\n",
       "  <tbody>\n",
       "    <tr>\n",
       "      <th>0</th>\n",
       "      <td>22</td>\n",
       "      <td>12</td>\n",
       "      <td>4</td>\n",
       "      <td>1</td>\n",
       "      <td>1</td>\n",
       "      <td>25</td>\n",
       "      <td>0</td>\n",
       "      <td>39</td>\n",
       "    </tr>\n",
       "    <tr>\n",
       "      <th>1</th>\n",
       "      <td>33</td>\n",
       "      <td>12</td>\n",
       "      <td>2</td>\n",
       "      <td>4</td>\n",
       "      <td>0</td>\n",
       "      <td>0</td>\n",
       "      <td>0</td>\n",
       "      <td>12</td>\n",
       "    </tr>\n",
       "    <tr>\n",
       "      <th>2</th>\n",
       "      <td>21</td>\n",
       "      <td>8</td>\n",
       "      <td>0</td>\n",
       "      <td>6</td>\n",
       "      <td>1</td>\n",
       "      <td>0</td>\n",
       "      <td>0</td>\n",
       "      <td>39</td>\n",
       "    </tr>\n",
       "    <tr>\n",
       "      <th>3</th>\n",
       "      <td>36</td>\n",
       "      <td>6</td>\n",
       "      <td>2</td>\n",
       "      <td>6</td>\n",
       "      <td>0</td>\n",
       "      <td>0</td>\n",
       "      <td>0</td>\n",
       "      <td>39</td>\n",
       "    </tr>\n",
       "    <tr>\n",
       "      <th>4</th>\n",
       "      <td>11</td>\n",
       "      <td>12</td>\n",
       "      <td>2</td>\n",
       "      <td>10</td>\n",
       "      <td>5</td>\n",
       "      <td>0</td>\n",
       "      <td>0</td>\n",
       "      <td>39</td>\n",
       "    </tr>\n",
       "  </tbody>\n",
       "</table>\n",
       "</div>"
      ],
      "text/plain": [
       "   age  education-num  marital-status  occupation  relationship  capital-gain  \\\n",
       "0   22             12               4           1             1            25   \n",
       "1   33             12               2           4             0             0   \n",
       "2   21              8               0           6             1             0   \n",
       "3   36              6               2           6             0             0   \n",
       "4   11             12               2          10             5             0   \n",
       "\n",
       "   capital-loss  hours-per-week  \n",
       "0             0              39  \n",
       "1             0              12  \n",
       "2             0              39  \n",
       "3             0              39  \n",
       "4             0              39  "
      ]
     },
     "execution_count": 122,
     "metadata": {},
     "output_type": "execute_result"
    }
   ],
   "source": [
    "X_test_df.head()"
   ]
  },
  {
   "cell_type": "markdown",
   "id": "cf30c744",
   "metadata": {},
   "source": [
    "### 변환된 자료를 학습, 테스트 용으로 변경"
   ]
  },
  {
   "cell_type": "code",
   "execution_count": 123,
   "id": "bc3ca6f5",
   "metadata": {},
   "outputs": [],
   "source": [
    "X_train, X_test, y_train, y_test=train_test_split(X_test_df, y_test_df, test_size=0.3, random_state=12)"
   ]
  },
  {
   "cell_type": "markdown",
   "id": "17ea83e7",
   "metadata": {},
   "source": [
    "## 예측"
   ]
  },
  {
   "cell_type": "markdown",
   "id": "16e2c690",
   "metadata": {},
   "source": [
    "### 별 다른 파라미터 설정 없이 그냥 학습, 예측"
   ]
  },
  {
   "cell_type": "code",
   "execution_count": 124,
   "id": "429619c7",
   "metadata": {},
   "outputs": [
    {
     "name": "stdout",
     "output_type": "stream",
     "text": [
      "DecisionTreeClassifier 정확도: 0.8215\n",
      "DecisionTreeClassifier 정밀도: 0.6401\n",
      "DecisionTreeClassifier 재현도: 0.6061\n",
      "DecisionTreeClassifier f1스코어: 0.6227\n",
      "\n",
      "RandomForestClassifier 정확도:0.8441\n",
      "RandomForestClassifier 정밀도: 0.7065\n",
      "RandomForestClassifier 재현도: 0.6133\n",
      "RandomForestClassifier f1스코어: 0.6566\n",
      "\n",
      "LogisticRegression 정확도: 0.8199\n",
      "LogisticRegression 정밀도: 0.7040\n",
      "LogisticRegression 재현도: 0.4469\n",
      "LogisticRegression f1스코어: 0.5468\n"
     ]
    }
   ],
   "source": [
    "# 결정트리, Random Forest, 로지스틱 회귀를 위한 사이킷런 Classifier 클래스 생성\n",
    "dt_clf = DecisionTreeClassifier(random_state=11)\n",
    "rf_clf = RandomForestClassifier(random_state=11)\n",
    "lr_clf = LogisticRegression()\n",
    "\n",
    "# DecisionTreeClassifier 학습/예측/평가\n",
    "dt_clf.fit(X_train , y_train)\n",
    "dt_pred = dt_clf.predict(X_test)\n",
    "print('DecisionTreeClassifier 정확도: {0:.4f}'.format(accuracy_score(y_test, dt_pred)))\n",
    "print('DecisionTreeClassifier 정밀도: {0:.4f}'.format(precision_score(y_test, dt_pred)))\n",
    "print('DecisionTreeClassifier 재현도: {0:.4f}'.format(recall_score(y_test, dt_pred)))\n",
    "print('DecisionTreeClassifier f1스코어: {0:.4f}'.format(f1_score(y_test, dt_pred)))\n",
    "print()\n",
    "\n",
    "# RandomForestClassifier 학습/예측/평가\n",
    "rf_clf.fit(X_train , y_train)\n",
    "rf_pred = rf_clf.predict(X_test)\n",
    "print('RandomForestClassifier 정확도:{0:.4f}'.format(accuracy_score(y_test, rf_pred)))\n",
    "print('RandomForestClassifier 정밀도: {0:.4f}'.format(precision_score(y_test, rf_pred)))\n",
    "print('RandomForestClassifier 재현도: {0:.4f}'.format(recall_score(y_test, rf_pred)))\n",
    "print('RandomForestClassifier f1스코어: {0:.4f}'.format(f1_score(y_test, rf_pred)))\n",
    "print()\n",
    "\n",
    "# LogisticRegression 학습/예측/평가\n",
    "lr_clf.fit(X_train , y_train)\n",
    "lr_pred = lr_clf.predict(X_test)\n",
    "print('LogisticRegression 정확도: {0:.4f}'.format(accuracy_score(y_test, lr_pred)))\n",
    "print('LogisticRegression 정밀도: {0:.4f}'.format(precision_score(y_test, lr_pred)))\n",
    "print('LogisticRegression 재현도: {0:.4f}'.format(recall_score(y_test, lr_pred)))\n",
    "print('LogisticRegression f1스코어: {0:.4f}'.format(f1_score(y_test, lr_pred)))\n"
   ]
  },
  {
   "cell_type": "markdown",
   "id": "facdffb0",
   "metadata": {},
   "source": [
    "## Decision Tree"
   ]
  },
  {
   "cell_type": "markdown",
   "id": "504440b0",
   "metadata": {},
   "source": [
    "### <li>최적 파라미터 탐색"
   ]
  },
  {
   "cell_type": "code",
   "execution_count": 125,
   "id": "6dc39fb0",
   "metadata": {},
   "outputs": [
    {
     "name": "stdout",
     "output_type": "stream",
     "text": [
      "GridSearchCV 최적 하이퍼 파라미터 : {'max_depth': 10, 'min_samples_leaf': 2, 'min_samples_split': 5}\n",
      "GridSearchCV 최고 정확도: 0.8533\n",
      "테스트 세트에서의 DecisionTreeClassifier 정확도 : 0.8546\n"
     ]
    }
   ],
   "source": [
    "parameters = {'max_depth':[2,3,5,10],\n",
    "             'min_samples_split':[2,3,5], 'min_samples_leaf':[1,2,5,8]}\n",
    "\n",
    "grid_dclf = GridSearchCV(dt_clf , param_grid=parameters , scoring='accuracy' , cv=5)\n",
    "grid_dclf.fit(X_train , y_train)\n",
    "\n",
    "print('GridSearchCV 최적 하이퍼 파라미터 :',grid_dclf.best_params_)\n",
    "print('GridSearchCV 최고 정확도: {0:.4f}'.format(grid_dclf.best_score_))\n",
    "best_dclf = grid_dclf.best_estimator_\n",
    "\n",
    "# GridSearchCV의 최적 하이퍼 파라미터로 학습된 Estimator로 예측 및 평가 수행. \n",
    "dpredictions = best_dclf.predict(X_test)\n",
    "accuracy = accuracy_score(y_test , dpredictions)\n",
    "print('테스트 세트에서의 DecisionTreeClassifier 정확도 : {0:.4f}'.format(accuracy))"
   ]
  },
  {
   "cell_type": "markdown",
   "id": "cee2db1d",
   "metadata": {},
   "source": [
    "### <li>수형도 그리기"
   ]
  },
  {
   "cell_type": "code",
   "execution_count": 126,
   "id": "ce5ccdb1",
   "metadata": {},
   "outputs": [],
   "source": [
    "# export_graphviz()의 호출 결과로 out_file로 지정된 tree.dot 파일을 생성함. \n",
    "export_graphviz(best_dclf,out_file=\"tree.dot\", max_depth=4, impurity=True, filled=True, \n",
    "                feature_names = X_test_df.columns, rounded=True) # 박스의 모양을 둥글게"
   ]
  },
  {
   "cell_type": "code",
   "execution_count": 127,
   "id": "819ea5cb",
   "metadata": {
    "scrolled": false
   },
   "outputs": [
    {
     "data": {
      "image/svg+xml": [
       "<?xml version=\"1.0\" encoding=\"UTF-8\" standalone=\"no\"?>\r\n",
       "<!DOCTYPE svg PUBLIC \"-//W3C//DTD SVG 1.1//EN\"\r\n",
       " \"http://www.w3.org/Graphics/SVG/1.1/DTD/svg11.dtd\">\r\n",
       "<!-- Generated by graphviz version 2.47.1 (20210417.1919)\r\n",
       " -->\r\n",
       "<!-- Title: Tree Pages: 1 -->\r\n",
       "<svg width=\"2151pt\" height=\"564pt\"\r\n",
       " viewBox=\"0.00 0.00 2151.00 564.00\" xmlns=\"http://www.w3.org/2000/svg\" xmlns:xlink=\"http://www.w3.org/1999/xlink\">\r\n",
       "<g id=\"graph0\" class=\"graph\" transform=\"scale(1 1) rotate(0) translate(4 560)\">\r\n",
       "<title>Tree</title>\r\n",
       "<polygon fill=\"white\" stroke=\"transparent\" points=\"-4,4 -4,-560 2147,-560 2147,4 -4,4\"/>\r\n",
       "<!-- 0 -->\r\n",
       "<g id=\"node1\" class=\"node\">\r\n",
       "<title>0</title>\r\n",
       "<path fill=\"#eda977\" stroke=\"black\" d=\"M1363.5,-556C1363.5,-556 1232.5,-556 1232.5,-556 1226.5,-556 1220.5,-550 1220.5,-544 1220.5,-544 1220.5,-500 1220.5,-500 1220.5,-494 1226.5,-488 1232.5,-488 1232.5,-488 1363.5,-488 1363.5,-488 1369.5,-488 1375.5,-494 1375.5,-500 1375.5,-500 1375.5,-544 1375.5,-544 1375.5,-550 1369.5,-556 1363.5,-556\"/>\r\n",
       "<text text-anchor=\"middle\" x=\"1298\" y=\"-540.8\" font-family=\"Helvetica,sans-Serif\" font-size=\"14.00\">relationship &lt;= 0.5</text>\r\n",
       "<text text-anchor=\"middle\" x=\"1298\" y=\"-525.8\" font-family=\"Helvetica,sans-Serif\" font-size=\"14.00\">gini = 0.365</text>\r\n",
       "<text text-anchor=\"middle\" x=\"1298\" y=\"-510.8\" font-family=\"Helvetica,sans-Serif\" font-size=\"14.00\">samples = 22792</text>\r\n",
       "<text text-anchor=\"middle\" x=\"1298\" y=\"-495.8\" font-family=\"Helvetica,sans-Serif\" font-size=\"14.00\">value = [17325, 5467]</text>\r\n",
       "</g>\r\n",
       "<!-- 1 -->\r\n",
       "<g id=\"node2\" class=\"node\">\r\n",
       "<title>1</title>\r\n",
       "<path fill=\"#fae7d9\" stroke=\"black\" d=\"M985,-452C985,-452 847,-452 847,-452 841,-452 835,-446 835,-440 835,-440 835,-396 835,-396 835,-390 841,-384 847,-384 847,-384 985,-384 985,-384 991,-384 997,-390 997,-396 997,-396 997,-440 997,-440 997,-446 991,-452 985,-452\"/>\r\n",
       "<text text-anchor=\"middle\" x=\"916\" y=\"-436.8\" font-family=\"Helvetica,sans-Serif\" font-size=\"14.00\">education&#45;num &lt;= 11.5</text>\r\n",
       "<text text-anchor=\"middle\" x=\"916\" y=\"-421.8\" font-family=\"Helvetica,sans-Serif\" font-size=\"14.00\">gini = 0.494</text>\r\n",
       "<text text-anchor=\"middle\" x=\"916\" y=\"-406.8\" font-family=\"Helvetica,sans-Serif\" font-size=\"14.00\">samples = 9208</text>\r\n",
       "<text text-anchor=\"middle\" x=\"916\" y=\"-391.8\" font-family=\"Helvetica,sans-Serif\" font-size=\"14.00\">value = [5091, 4117]</text>\r\n",
       "</g>\r\n",
       "<!-- 0&#45;&gt;1 -->\r\n",
       "<g id=\"edge1\" class=\"edge\">\r\n",
       "<title>0&#45;&gt;1</title>\r\n",
       "<path fill=\"none\" stroke=\"black\" d=\"M1220.24,-500.24C1158.51,-483.75 1072.08,-460.68 1007.11,-443.33\"/>\r\n",
       "<polygon fill=\"black\" stroke=\"black\" points=\"1007.84,-439.9 997.28,-440.7 1006.04,-446.66 1007.84,-439.9\"/>\r\n",
       "<text text-anchor=\"middle\" x=\"1009.8\" y=\"-458.64\" font-family=\"Helvetica,sans-Serif\" font-size=\"14.00\">True</text>\r\n",
       "</g>\r\n",
       "<!-- 254 -->\r\n",
       "<g id=\"node31\" class=\"node\">\r\n",
       "<title>254</title>\r\n",
       "<path fill=\"#e88f4f\" stroke=\"black\" d=\"M1583.5,-452C1583.5,-452 1452.5,-452 1452.5,-452 1446.5,-452 1440.5,-446 1440.5,-440 1440.5,-440 1440.5,-396 1440.5,-396 1440.5,-390 1446.5,-384 1452.5,-384 1452.5,-384 1583.5,-384 1583.5,-384 1589.5,-384 1595.5,-390 1595.5,-396 1595.5,-396 1595.5,-440 1595.5,-440 1595.5,-446 1589.5,-452 1583.5,-452\"/>\r\n",
       "<text text-anchor=\"middle\" x=\"1518\" y=\"-436.8\" font-family=\"Helvetica,sans-Serif\" font-size=\"14.00\">capital&#45;gain &lt;= 90.5</text>\r\n",
       "<text text-anchor=\"middle\" x=\"1518\" y=\"-421.8\" font-family=\"Helvetica,sans-Serif\" font-size=\"14.00\">gini = 0.179</text>\r\n",
       "<text text-anchor=\"middle\" x=\"1518\" y=\"-406.8\" font-family=\"Helvetica,sans-Serif\" font-size=\"14.00\">samples = 13584</text>\r\n",
       "<text text-anchor=\"middle\" x=\"1518\" y=\"-391.8\" font-family=\"Helvetica,sans-Serif\" font-size=\"14.00\">value = [12234, 1350]</text>\r\n",
       "</g>\r\n",
       "<!-- 0&#45;&gt;254 -->\r\n",
       "<g id=\"edge30\" class=\"edge\">\r\n",
       "<title>0&#45;&gt;254</title>\r\n",
       "<path fill=\"none\" stroke=\"black\" d=\"M1369.43,-487.88C1391.15,-477.81 1415.17,-466.67 1437.45,-456.34\"/>\r\n",
       "<polygon fill=\"black\" stroke=\"black\" points=\"1438.95,-459.51 1446.55,-452.12 1436.01,-453.16 1438.95,-459.51\"/>\r\n",
       "<text text-anchor=\"middle\" x=\"1437.95\" y=\"-471.9\" font-family=\"Helvetica,sans-Serif\" font-size=\"14.00\">False</text>\r\n",
       "</g>\r\n",
       "<!-- 2 -->\r\n",
       "<g id=\"node3\" class=\"node\">\r\n",
       "<title>2</title>\r\n",
       "<path fill=\"#f2bf9a\" stroke=\"black\" d=\"M512,-348C512,-348 390,-348 390,-348 384,-348 378,-342 378,-336 378,-336 378,-292 378,-292 378,-286 384,-280 390,-280 390,-280 512,-280 512,-280 518,-280 524,-286 524,-292 524,-292 524,-336 524,-336 524,-342 518,-348 512,-348\"/>\r\n",
       "<text text-anchor=\"middle\" x=\"451\" y=\"-332.8\" font-family=\"Helvetica,sans-Serif\" font-size=\"14.00\">capital&#45;gain &lt;= 78.0</text>\r\n",
       "<text text-anchor=\"middle\" x=\"451\" y=\"-317.8\" font-family=\"Helvetica,sans-Serif\" font-size=\"14.00\">gini = 0.441</text>\r\n",
       "<text text-anchor=\"middle\" x=\"451\" y=\"-302.8\" font-family=\"Helvetica,sans-Serif\" font-size=\"14.00\">samples = 6424</text>\r\n",
       "<text text-anchor=\"middle\" x=\"451\" y=\"-287.8\" font-family=\"Helvetica,sans-Serif\" font-size=\"14.00\">value = [4312, 2112]</text>\r\n",
       "</g>\r\n",
       "<!-- 1&#45;&gt;2 -->\r\n",
       "<g id=\"edge2\" class=\"edge\">\r\n",
       "<title>1&#45;&gt;2</title>\r\n",
       "<path fill=\"none\" stroke=\"black\" d=\"M834.74,-399.17C750.34,-380.66 618.99,-351.85 533.97,-333.2\"/>\r\n",
       "<polygon fill=\"black\" stroke=\"black\" points=\"534.61,-329.76 524.1,-331.03 533.11,-336.6 534.61,-329.76\"/>\r\n",
       "</g>\r\n",
       "<!-- 153 -->\r\n",
       "<g id=\"node18\" class=\"node\">\r\n",
       "<title>153</title>\r\n",
       "<path fill=\"#86c3ef\" stroke=\"black\" d=\"M974,-348C974,-348 858,-348 858,-348 852,-348 846,-342 846,-336 846,-336 846,-292 846,-292 846,-286 852,-280 858,-280 858,-280 974,-280 974,-280 980,-280 986,-286 986,-292 986,-292 986,-336 986,-336 986,-342 980,-348 974,-348\"/>\r\n",
       "<text text-anchor=\"middle\" x=\"916\" y=\"-332.8\" font-family=\"Helvetica,sans-Serif\" font-size=\"14.00\">capital&#45;gain &lt;= 78.0</text>\r\n",
       "<text text-anchor=\"middle\" x=\"916\" y=\"-317.8\" font-family=\"Helvetica,sans-Serif\" font-size=\"14.00\">gini = 0.403</text>\r\n",
       "<text text-anchor=\"middle\" x=\"916\" y=\"-302.8\" font-family=\"Helvetica,sans-Serif\" font-size=\"14.00\">samples = 2784</text>\r\n",
       "<text text-anchor=\"middle\" x=\"916\" y=\"-287.8\" font-family=\"Helvetica,sans-Serif\" font-size=\"14.00\">value = [779, 2005]</text>\r\n",
       "</g>\r\n",
       "<!-- 1&#45;&gt;153 -->\r\n",
       "<g id=\"edge17\" class=\"edge\">\r\n",
       "<title>1&#45;&gt;153</title>\r\n",
       "<path fill=\"none\" stroke=\"black\" d=\"M916,-383.88C916,-375.78 916,-366.98 916,-358.47\"/>\r\n",
       "<polygon fill=\"black\" stroke=\"black\" points=\"919.5,-358.3 916,-348.3 912.5,-358.3 919.5,-358.3\"/>\r\n",
       "</g>\r\n",
       "<!-- 3 -->\r\n",
       "<g id=\"node4\" class=\"node\">\r\n",
       "<title>3</title>\r\n",
       "<path fill=\"#f0b68c\" stroke=\"black\" d=\"M296,-244C296,-244 166,-244 166,-244 160,-244 154,-238 154,-232 154,-232 154,-188 154,-188 154,-182 160,-176 166,-176 166,-176 296,-176 296,-176 302,-176 308,-182 308,-188 308,-188 308,-232 308,-232 308,-238 302,-244 296,-244\"/>\r\n",
       "<text text-anchor=\"middle\" x=\"231\" y=\"-228.8\" font-family=\"Helvetica,sans-Serif\" font-size=\"14.00\">education&#45;num &lt;= 7.5</text>\r\n",
       "<text text-anchor=\"middle\" x=\"231\" y=\"-213.8\" font-family=\"Helvetica,sans-Serif\" font-size=\"14.00\">gini = 0.416</text>\r\n",
       "<text text-anchor=\"middle\" x=\"231\" y=\"-198.8\" font-family=\"Helvetica,sans-Serif\" font-size=\"14.00\">samples = 6106</text>\r\n",
       "<text text-anchor=\"middle\" x=\"231\" y=\"-183.8\" font-family=\"Helvetica,sans-Serif\" font-size=\"14.00\">value = [4307, 1799]</text>\r\n",
       "</g>\r\n",
       "<!-- 2&#45;&gt;3 -->\r\n",
       "<g id=\"edge3\" class=\"edge\">\r\n",
       "<title>2&#45;&gt;3</title>\r\n",
       "<path fill=\"none\" stroke=\"black\" d=\"M379.57,-279.88C357.85,-269.81 333.83,-258.67 311.55,-248.34\"/>\r\n",
       "<polygon fill=\"black\" stroke=\"black\" points=\"312.99,-245.16 302.45,-244.12 310.05,-251.51 312.99,-245.16\"/>\r\n",
       "</g>\r\n",
       "<!-- 140 -->\r\n",
       "<g id=\"node11\" class=\"node\">\r\n",
       "<title>140</title>\r\n",
       "<path fill=\"#3c9fe5\" stroke=\"black\" d=\"M495.5,-244C495.5,-244 406.5,-244 406.5,-244 400.5,-244 394.5,-238 394.5,-232 394.5,-232 394.5,-188 394.5,-188 394.5,-182 400.5,-176 406.5,-176 406.5,-176 495.5,-176 495.5,-176 501.5,-176 507.5,-182 507.5,-188 507.5,-188 507.5,-232 507.5,-232 507.5,-238 501.5,-244 495.5,-244\"/>\r\n",
       "<text text-anchor=\"middle\" x=\"451\" y=\"-228.8\" font-family=\"Helvetica,sans-Serif\" font-size=\"14.00\">age &lt;= 52.5</text>\r\n",
       "<text text-anchor=\"middle\" x=\"451\" y=\"-213.8\" font-family=\"Helvetica,sans-Serif\" font-size=\"14.00\">gini = 0.031</text>\r\n",
       "<text text-anchor=\"middle\" x=\"451\" y=\"-198.8\" font-family=\"Helvetica,sans-Serif\" font-size=\"14.00\">samples = 318</text>\r\n",
       "<text text-anchor=\"middle\" x=\"451\" y=\"-183.8\" font-family=\"Helvetica,sans-Serif\" font-size=\"14.00\">value = [5, 313]</text>\r\n",
       "</g>\r\n",
       "<!-- 2&#45;&gt;140 -->\r\n",
       "<g id=\"edge10\" class=\"edge\">\r\n",
       "<title>2&#45;&gt;140</title>\r\n",
       "<path fill=\"none\" stroke=\"black\" d=\"M451,-279.88C451,-271.78 451,-262.98 451,-254.47\"/>\r\n",
       "<polygon fill=\"black\" stroke=\"black\" points=\"454.5,-254.3 451,-244.3 447.5,-254.3 454.5,-254.3\"/>\r\n",
       "</g>\r\n",
       "<!-- 4 -->\r\n",
       "<g id=\"node5\" class=\"node\">\r\n",
       "<title>4</title>\r\n",
       "<path fill=\"#e88e4e\" stroke=\"black\" d=\"M128,-140C128,-140 12,-140 12,-140 6,-140 0,-134 0,-128 0,-128 0,-84 0,-84 0,-78 6,-72 12,-72 12,-72 128,-72 128,-72 134,-72 140,-78 140,-84 140,-84 140,-128 140,-128 140,-134 134,-140 128,-140\"/>\r\n",
       "<text text-anchor=\"middle\" x=\"70\" y=\"-124.8\" font-family=\"Helvetica,sans-Serif\" font-size=\"14.00\">capital&#45;loss &lt;= 40.0</text>\r\n",
       "<text text-anchor=\"middle\" x=\"70\" y=\"-109.8\" font-family=\"Helvetica,sans-Serif\" font-size=\"14.00\">gini = 0.174</text>\r\n",
       "<text text-anchor=\"middle\" x=\"70\" y=\"-94.8\" font-family=\"Helvetica,sans-Serif\" font-size=\"14.00\">samples = 1037</text>\r\n",
       "<text text-anchor=\"middle\" x=\"70\" y=\"-79.8\" font-family=\"Helvetica,sans-Serif\" font-size=\"14.00\">value = [937, 100]</text>\r\n",
       "</g>\r\n",
       "<!-- 3&#45;&gt;4 -->\r\n",
       "<g id=\"edge4\" class=\"edge\">\r\n",
       "<title>3&#45;&gt;4</title>\r\n",
       "<path fill=\"none\" stroke=\"black\" d=\"M178.73,-175.88C163.47,-166.21 146.65,-155.56 130.91,-145.59\"/>\r\n",
       "<polygon fill=\"black\" stroke=\"black\" points=\"132.61,-142.52 122.29,-140.12 128.86,-148.43 132.61,-142.52\"/>\r\n",
       "</g>\r\n",
       "<!-- 55 -->\r\n",
       "<g id=\"node8\" class=\"node\">\r\n",
       "<title>55</title>\r\n",
       "<path fill=\"#f2c19d\" stroke=\"black\" d=\"M292,-140C292,-140 170,-140 170,-140 164,-140 158,-134 158,-128 158,-128 158,-84 158,-84 158,-78 164,-72 170,-72 170,-72 292,-72 292,-72 298,-72 304,-78 304,-84 304,-84 304,-128 304,-128 304,-134 298,-140 292,-140\"/>\r\n",
       "<text text-anchor=\"middle\" x=\"231\" y=\"-124.8\" font-family=\"Helvetica,sans-Serif\" font-size=\"14.00\">capital&#45;loss &lt;= 39.5</text>\r\n",
       "<text text-anchor=\"middle\" x=\"231\" y=\"-109.8\" font-family=\"Helvetica,sans-Serif\" font-size=\"14.00\">gini = 0.446</text>\r\n",
       "<text text-anchor=\"middle\" x=\"231\" y=\"-94.8\" font-family=\"Helvetica,sans-Serif\" font-size=\"14.00\">samples = 5069</text>\r\n",
       "<text text-anchor=\"middle\" x=\"231\" y=\"-79.8\" font-family=\"Helvetica,sans-Serif\" font-size=\"14.00\">value = [3370, 1699]</text>\r\n",
       "</g>\r\n",
       "<!-- 3&#45;&gt;55 -->\r\n",
       "<g id=\"edge7\" class=\"edge\">\r\n",
       "<title>3&#45;&gt;55</title>\r\n",
       "<path fill=\"none\" stroke=\"black\" d=\"M231,-175.88C231,-167.78 231,-158.98 231,-150.47\"/>\r\n",
       "<polygon fill=\"black\" stroke=\"black\" points=\"234.5,-150.3 231,-140.3 227.5,-150.3 234.5,-150.3\"/>\r\n",
       "</g>\r\n",
       "<!-- 5 -->\r\n",
       "<g id=\"node6\" class=\"node\">\r\n",
       "<title>5</title>\r\n",
       "<path fill=\"#c0c0c0\" stroke=\"black\" d=\"M49,-36C49,-36 19,-36 19,-36 13,-36 7,-30 7,-24 7,-24 7,-12 7,-12 7,-6 13,0 19,0 19,0 49,0 49,0 55,0 61,-6 61,-12 61,-12 61,-24 61,-24 61,-30 55,-36 49,-36\"/>\r\n",
       "<text text-anchor=\"middle\" x=\"34\" y=\"-14.3\" font-family=\"Helvetica,sans-Serif\" font-size=\"14.00\">(...)</text>\r\n",
       "</g>\r\n",
       "<!-- 4&#45;&gt;5 -->\r\n",
       "<g id=\"edge5\" class=\"edge\">\r\n",
       "<title>4&#45;&gt;5</title>\r\n",
       "<path fill=\"none\" stroke=\"black\" d=\"M56.18,-72C52.54,-63.28 48.64,-53.98 45.16,-45.65\"/>\r\n",
       "<polygon fill=\"black\" stroke=\"black\" points=\"48.38,-44.28 41.29,-36.4 41.92,-46.98 48.38,-44.28\"/>\r\n",
       "</g>\r\n",
       "<!-- 50 -->\r\n",
       "<g id=\"node7\" class=\"node\">\r\n",
       "<title>50</title>\r\n",
       "<path fill=\"#c0c0c0\" stroke=\"black\" d=\"M121,-36C121,-36 91,-36 91,-36 85,-36 79,-30 79,-24 79,-24 79,-12 79,-12 79,-6 85,0 91,0 91,0 121,0 121,0 127,0 133,-6 133,-12 133,-12 133,-24 133,-24 133,-30 127,-36 121,-36\"/>\r\n",
       "<text text-anchor=\"middle\" x=\"106\" y=\"-14.3\" font-family=\"Helvetica,sans-Serif\" font-size=\"14.00\">(...)</text>\r\n",
       "</g>\r\n",
       "<!-- 4&#45;&gt;50 -->\r\n",
       "<g id=\"edge6\" class=\"edge\">\r\n",
       "<title>4&#45;&gt;50</title>\r\n",
       "<path fill=\"none\" stroke=\"black\" d=\"M83.82,-72C87.46,-63.28 91.36,-53.98 94.84,-45.65\"/>\r\n",
       "<polygon fill=\"black\" stroke=\"black\" points=\"98.08,-46.98 98.71,-36.4 91.62,-44.28 98.08,-46.98\"/>\r\n",
       "</g>\r\n",
       "<!-- 56 -->\r\n",
       "<g id=\"node9\" class=\"node\">\r\n",
       "<title>56</title>\r\n",
       "<path fill=\"#c0c0c0\" stroke=\"black\" d=\"M220,-36C220,-36 190,-36 190,-36 184,-36 178,-30 178,-24 178,-24 178,-12 178,-12 178,-6 184,0 190,0 190,0 220,0 220,0 226,0 232,-6 232,-12 232,-12 232,-24 232,-24 232,-30 226,-36 220,-36\"/>\r\n",
       "<text text-anchor=\"middle\" x=\"205\" y=\"-14.3\" font-family=\"Helvetica,sans-Serif\" font-size=\"14.00\">(...)</text>\r\n",
       "</g>\r\n",
       "<!-- 55&#45;&gt;56 -->\r\n",
       "<g id=\"edge8\" class=\"edge\">\r\n",
       "<title>55&#45;&gt;56</title>\r\n",
       "<path fill=\"none\" stroke=\"black\" d=\"M221.02,-72C218.44,-63.47 215.7,-54.39 213.22,-46.2\"/>\r\n",
       "<polygon fill=\"black\" stroke=\"black\" points=\"216.51,-44.96 210.26,-36.4 209.81,-46.99 216.51,-44.96\"/>\r\n",
       "</g>\r\n",
       "<!-- 117 -->\r\n",
       "<g id=\"node10\" class=\"node\">\r\n",
       "<title>117</title>\r\n",
       "<path fill=\"#c0c0c0\" stroke=\"black\" d=\"M292,-36C292,-36 262,-36 262,-36 256,-36 250,-30 250,-24 250,-24 250,-12 250,-12 250,-6 256,0 262,0 262,0 292,0 292,0 298,0 304,-6 304,-12 304,-12 304,-24 304,-24 304,-30 298,-36 292,-36\"/>\r\n",
       "<text text-anchor=\"middle\" x=\"277\" y=\"-14.3\" font-family=\"Helvetica,sans-Serif\" font-size=\"14.00\">(...)</text>\r\n",
       "</g>\r\n",
       "<!-- 55&#45;&gt;117 -->\r\n",
       "<g id=\"edge9\" class=\"edge\">\r\n",
       "<title>55&#45;&gt;117</title>\r\n",
       "<path fill=\"none\" stroke=\"black\" d=\"M248.65,-72C253.37,-63.19 258.4,-53.78 262.89,-45.38\"/>\r\n",
       "<polygon fill=\"black\" stroke=\"black\" points=\"266.06,-46.87 267.69,-36.4 259.89,-43.57 266.06,-46.87\"/>\r\n",
       "</g>\r\n",
       "<!-- 141 -->\r\n",
       "<g id=\"node12\" class=\"node\">\r\n",
       "<title>141</title>\r\n",
       "<path fill=\"#3a9ee5\" stroke=\"black\" d=\"M423.5,-140C423.5,-140 334.5,-140 334.5,-140 328.5,-140 322.5,-134 322.5,-128 322.5,-128 322.5,-84 322.5,-84 322.5,-78 328.5,-72 334.5,-72 334.5,-72 423.5,-72 423.5,-72 429.5,-72 435.5,-78 435.5,-84 435.5,-84 435.5,-128 435.5,-128 435.5,-134 429.5,-140 423.5,-140\"/>\r\n",
       "<text text-anchor=\"middle\" x=\"379\" y=\"-124.8\" font-family=\"Helvetica,sans-Serif\" font-size=\"14.00\">age &lt;= 45.5</text>\r\n",
       "<text text-anchor=\"middle\" x=\"379\" y=\"-109.8\" font-family=\"Helvetica,sans-Serif\" font-size=\"14.00\">gini = 0.013</text>\r\n",
       "<text text-anchor=\"middle\" x=\"379\" y=\"-94.8\" font-family=\"Helvetica,sans-Serif\" font-size=\"14.00\">samples = 309</text>\r\n",
       "<text text-anchor=\"middle\" x=\"379\" y=\"-79.8\" font-family=\"Helvetica,sans-Serif\" font-size=\"14.00\">value = [2, 307]</text>\r\n",
       "</g>\r\n",
       "<!-- 140&#45;&gt;141 -->\r\n",
       "<g id=\"edge11\" class=\"edge\">\r\n",
       "<title>140&#45;&gt;141</title>\r\n",
       "<path fill=\"none\" stroke=\"black\" d=\"M427.62,-175.88C421.46,-167.15 414.74,-157.62 408.3,-148.51\"/>\r\n",
       "<polygon fill=\"black\" stroke=\"black\" points=\"411.13,-146.45 402.51,-140.3 405.41,-150.49 411.13,-146.45\"/>\r\n",
       "</g>\r\n",
       "<!-- 148 -->\r\n",
       "<g id=\"node15\" class=\"node\">\r\n",
       "<title>148</title>\r\n",
       "<path fill=\"#9ccef2\" stroke=\"black\" d=\"M572,-140C572,-140 466,-140 466,-140 460,-140 454,-134 454,-128 454,-128 454,-84 454,-84 454,-78 460,-72 466,-72 466,-72 572,-72 572,-72 578,-72 584,-78 584,-84 584,-84 584,-128 584,-128 584,-134 578,-140 572,-140\"/>\r\n",
       "<text text-anchor=\"middle\" x=\"519\" y=\"-124.8\" font-family=\"Helvetica,sans-Serif\" font-size=\"14.00\">occupation &lt;= 6.5</text>\r\n",
       "<text text-anchor=\"middle\" x=\"519\" y=\"-109.8\" font-family=\"Helvetica,sans-Serif\" font-size=\"14.00\">gini = 0.444</text>\r\n",
       "<text text-anchor=\"middle\" x=\"519\" y=\"-94.8\" font-family=\"Helvetica,sans-Serif\" font-size=\"14.00\">samples = 9</text>\r\n",
       "<text text-anchor=\"middle\" x=\"519\" y=\"-79.8\" font-family=\"Helvetica,sans-Serif\" font-size=\"14.00\">value = [3, 6]</text>\r\n",
       "</g>\r\n",
       "<!-- 140&#45;&gt;148 -->\r\n",
       "<g id=\"edge14\" class=\"edge\">\r\n",
       "<title>140&#45;&gt;148</title>\r\n",
       "<path fill=\"none\" stroke=\"black\" d=\"M473.08,-175.88C478.84,-167.24 485.12,-157.82 491.14,-148.79\"/>\r\n",
       "<polygon fill=\"black\" stroke=\"black\" points=\"494.17,-150.56 496.8,-140.3 488.34,-146.68 494.17,-150.56\"/>\r\n",
       "</g>\r\n",
       "<!-- 142 -->\r\n",
       "<g id=\"node13\" class=\"node\">\r\n",
       "<title>142</title>\r\n",
       "<path fill=\"#c0c0c0\" stroke=\"black\" d=\"M377,-36C377,-36 347,-36 347,-36 341,-36 335,-30 335,-24 335,-24 335,-12 335,-12 335,-6 341,0 347,0 347,0 377,0 377,0 383,0 389,-6 389,-12 389,-12 389,-24 389,-24 389,-30 383,-36 377,-36\"/>\r\n",
       "<text text-anchor=\"middle\" x=\"362\" y=\"-14.3\" font-family=\"Helvetica,sans-Serif\" font-size=\"14.00\">(...)</text>\r\n",
       "</g>\r\n",
       "<!-- 141&#45;&gt;142 -->\r\n",
       "<g id=\"edge12\" class=\"edge\">\r\n",
       "<title>141&#45;&gt;142</title>\r\n",
       "<path fill=\"none\" stroke=\"black\" d=\"M372.48,-72C370.81,-63.56 369.04,-54.59 367.43,-46.47\"/>\r\n",
       "<polygon fill=\"black\" stroke=\"black\" points=\"370.81,-45.53 365.44,-36.4 363.95,-46.89 370.81,-45.53\"/>\r\n",
       "</g>\r\n",
       "<!-- 143 -->\r\n",
       "<g id=\"node14\" class=\"node\">\r\n",
       "<title>143</title>\r\n",
       "<path fill=\"#c0c0c0\" stroke=\"black\" d=\"M449,-36C449,-36 419,-36 419,-36 413,-36 407,-30 407,-24 407,-24 407,-12 407,-12 407,-6 413,0 419,0 419,0 449,0 449,0 455,0 461,-6 461,-12 461,-12 461,-24 461,-24 461,-30 455,-36 449,-36\"/>\r\n",
       "<text text-anchor=\"middle\" x=\"434\" y=\"-14.3\" font-family=\"Helvetica,sans-Serif\" font-size=\"14.00\">(...)</text>\r\n",
       "</g>\r\n",
       "<!-- 141&#45;&gt;143 -->\r\n",
       "<g id=\"edge13\" class=\"edge\">\r\n",
       "<title>141&#45;&gt;143</title>\r\n",
       "<path fill=\"none\" stroke=\"black\" d=\"M400.11,-72C405.86,-63 412.01,-53.38 417.47,-44.84\"/>\r\n",
       "<polygon fill=\"black\" stroke=\"black\" points=\"420.43,-46.71 422.87,-36.4 414.53,-42.94 420.43,-46.71\"/>\r\n",
       "</g>\r\n",
       "<!-- 149 -->\r\n",
       "<g id=\"node16\" class=\"node\">\r\n",
       "<title>149</title>\r\n",
       "<path fill=\"#c0c0c0\" stroke=\"black\" d=\"M527,-36C527,-36 497,-36 497,-36 491,-36 485,-30 485,-24 485,-24 485,-12 485,-12 485,-6 491,0 497,0 497,0 527,0 527,0 533,0 539,-6 539,-12 539,-12 539,-24 539,-24 539,-30 533,-36 527,-36\"/>\r\n",
       "<text text-anchor=\"middle\" x=\"512\" y=\"-14.3\" font-family=\"Helvetica,sans-Serif\" font-size=\"14.00\">(...)</text>\r\n",
       "</g>\r\n",
       "<!-- 148&#45;&gt;149 -->\r\n",
       "<g id=\"edge15\" class=\"edge\">\r\n",
       "<title>148&#45;&gt;149</title>\r\n",
       "<path fill=\"none\" stroke=\"black\" d=\"M516.31,-72C515.63,-63.56 514.9,-54.59 514.24,-46.47\"/>\r\n",
       "<polygon fill=\"black\" stroke=\"black\" points=\"517.72,-46.09 513.42,-36.4 510.74,-46.65 517.72,-46.09\"/>\r\n",
       "</g>\r\n",
       "<!-- 152 -->\r\n",
       "<g id=\"node17\" class=\"node\">\r\n",
       "<title>152</title>\r\n",
       "<path fill=\"#c0c0c0\" stroke=\"black\" d=\"M599,-36C599,-36 569,-36 569,-36 563,-36 557,-30 557,-24 557,-24 557,-12 557,-12 557,-6 563,0 569,0 569,0 599,0 599,0 605,0 611,-6 611,-12 611,-12 611,-24 611,-24 611,-30 605,-36 599,-36\"/>\r\n",
       "<text text-anchor=\"middle\" x=\"584\" y=\"-14.3\" font-family=\"Helvetica,sans-Serif\" font-size=\"14.00\">(...)</text>\r\n",
       "</g>\r\n",
       "<!-- 148&#45;&gt;152 -->\r\n",
       "<g id=\"edge16\" class=\"edge\">\r\n",
       "<title>148&#45;&gt;152</title>\r\n",
       "<path fill=\"none\" stroke=\"black\" d=\"M543.94,-72C550.82,-62.9 558.17,-53.18 564.67,-44.57\"/>\r\n",
       "<polygon fill=\"black\" stroke=\"black\" points=\"567.61,-46.49 570.85,-36.4 562.02,-42.27 567.61,-46.49\"/>\r\n",
       "</g>\r\n",
       "<!-- 154 -->\r\n",
       "<g id=\"node19\" class=\"node\">\r\n",
       "<title>154</title>\r\n",
       "<path fill=\"#9acdf2\" stroke=\"black\" d=\"M901.5,-244C901.5,-244 758.5,-244 758.5,-244 752.5,-244 746.5,-238 746.5,-232 746.5,-232 746.5,-188 746.5,-188 746.5,-182 752.5,-176 758.5,-176 758.5,-176 901.5,-176 901.5,-176 907.5,-176 913.5,-182 913.5,-188 913.5,-188 913.5,-232 913.5,-232 913.5,-238 907.5,-244 901.5,-244\"/>\r\n",
       "<text text-anchor=\"middle\" x=\"830\" y=\"-228.8\" font-family=\"Helvetica,sans-Serif\" font-size=\"14.00\">hours&#45;per&#45;week &lt;= 30.0</text>\r\n",
       "<text text-anchor=\"middle\" x=\"830\" y=\"-213.8\" font-family=\"Helvetica,sans-Serif\" font-size=\"14.00\">gini = 0.441</text>\r\n",
       "<text text-anchor=\"middle\" x=\"830\" y=\"-198.8\" font-family=\"Helvetica,sans-Serif\" font-size=\"14.00\">samples = 2367</text>\r\n",
       "<text text-anchor=\"middle\" x=\"830\" y=\"-183.8\" font-family=\"Helvetica,sans-Serif\" font-size=\"14.00\">value = [776, 1591]</text>\r\n",
       "</g>\r\n",
       "<!-- 153&#45;&gt;154 -->\r\n",
       "<g id=\"edge18\" class=\"edge\">\r\n",
       "<title>153&#45;&gt;154</title>\r\n",
       "<path fill=\"none\" stroke=\"black\" d=\"M888.08,-279.88C880.57,-270.98 872.36,-261.24 864.53,-251.96\"/>\r\n",
       "<polygon fill=\"black\" stroke=\"black\" points=\"867.2,-249.69 858.08,-244.3 861.85,-254.2 867.2,-249.69\"/>\r\n",
       "</g>\r\n",
       "<!-- 241 -->\r\n",
       "<g id=\"node26\" class=\"node\">\r\n",
       "<title>241</title>\r\n",
       "<path fill=\"#3a9ee5\" stroke=\"black\" d=\"M1046.5,-244C1046.5,-244 957.5,-244 957.5,-244 951.5,-244 945.5,-238 945.5,-232 945.5,-232 945.5,-188 945.5,-188 945.5,-182 951.5,-176 957.5,-176 957.5,-176 1046.5,-176 1046.5,-176 1052.5,-176 1058.5,-182 1058.5,-188 1058.5,-188 1058.5,-232 1058.5,-232 1058.5,-238 1052.5,-244 1046.5,-244\"/>\r\n",
       "<text text-anchor=\"middle\" x=\"1002\" y=\"-228.8\" font-family=\"Helvetica,sans-Serif\" font-size=\"14.00\">age &lt;= 67.5</text>\r\n",
       "<text text-anchor=\"middle\" x=\"1002\" y=\"-213.8\" font-family=\"Helvetica,sans-Serif\" font-size=\"14.00\">gini = 0.014</text>\r\n",
       "<text text-anchor=\"middle\" x=\"1002\" y=\"-198.8\" font-family=\"Helvetica,sans-Serif\" font-size=\"14.00\">samples = 417</text>\r\n",
       "<text text-anchor=\"middle\" x=\"1002\" y=\"-183.8\" font-family=\"Helvetica,sans-Serif\" font-size=\"14.00\">value = [3, 414]</text>\r\n",
       "</g>\r\n",
       "<!-- 153&#45;&gt;241 -->\r\n",
       "<g id=\"edge25\" class=\"edge\">\r\n",
       "<title>153&#45;&gt;241</title>\r\n",
       "<path fill=\"none\" stroke=\"black\" d=\"M943.92,-279.88C951.43,-270.98 959.64,-261.24 967.47,-251.96\"/>\r\n",
       "<polygon fill=\"black\" stroke=\"black\" points=\"970.15,-254.2 973.92,-244.3 964.8,-249.69 970.15,-254.2\"/>\r\n",
       "</g>\r\n",
       "<!-- 155 -->\r\n",
       "<g id=\"node20\" class=\"node\">\r\n",
       "<title>155</title>\r\n",
       "<path fill=\"#f0b48a\" stroke=\"black\" d=\"M730,-140C730,-140 614,-140 614,-140 608,-140 602,-134 602,-128 602,-128 602,-84 602,-84 602,-78 608,-72 614,-72 614,-72 730,-72 730,-72 736,-72 742,-78 742,-84 742,-84 742,-128 742,-128 742,-134 736,-140 730,-140\"/>\r\n",
       "<text text-anchor=\"middle\" x=\"672\" y=\"-124.8\" font-family=\"Helvetica,sans-Serif\" font-size=\"14.00\">capital&#45;loss &lt;= 64.0</text>\r\n",
       "<text text-anchor=\"middle\" x=\"672\" y=\"-109.8\" font-family=\"Helvetica,sans-Serif\" font-size=\"14.00\">gini = 0.412</text>\r\n",
       "<text text-anchor=\"middle\" x=\"672\" y=\"-94.8\" font-family=\"Helvetica,sans-Serif\" font-size=\"14.00\">samples = 169</text>\r\n",
       "<text text-anchor=\"middle\" x=\"672\" y=\"-79.8\" font-family=\"Helvetica,sans-Serif\" font-size=\"14.00\">value = [120, 49]</text>\r\n",
       "</g>\r\n",
       "<!-- 154&#45;&gt;155 -->\r\n",
       "<g id=\"edge19\" class=\"edge\">\r\n",
       "<title>154&#45;&gt;155</title>\r\n",
       "<path fill=\"none\" stroke=\"black\" d=\"M778.7,-175.88C763.72,-166.21 747.23,-155.56 731.77,-145.59\"/>\r\n",
       "<polygon fill=\"black\" stroke=\"black\" points=\"733.61,-142.61 723.31,-140.12 729.81,-148.49 733.61,-142.61\"/>\r\n",
       "</g>\r\n",
       "<!-- 190 -->\r\n",
       "<g id=\"node23\" class=\"node\">\r\n",
       "<title>190</title>\r\n",
       "<path fill=\"#8dc7f0\" stroke=\"black\" d=\"M888,-140C888,-140 772,-140 772,-140 766,-140 760,-134 760,-128 760,-128 760,-84 760,-84 760,-78 766,-72 772,-72 772,-72 888,-72 888,-72 894,-72 900,-78 900,-84 900,-84 900,-128 900,-128 900,-134 894,-140 888,-140\"/>\r\n",
       "<text text-anchor=\"middle\" x=\"830\" y=\"-124.8\" font-family=\"Helvetica,sans-Serif\" font-size=\"14.00\">capital&#45;loss &lt;= 40.5</text>\r\n",
       "<text text-anchor=\"middle\" x=\"830\" y=\"-109.8\" font-family=\"Helvetica,sans-Serif\" font-size=\"14.00\">gini = 0.419</text>\r\n",
       "<text text-anchor=\"middle\" x=\"830\" y=\"-94.8\" font-family=\"Helvetica,sans-Serif\" font-size=\"14.00\">samples = 2198</text>\r\n",
       "<text text-anchor=\"middle\" x=\"830\" y=\"-79.8\" font-family=\"Helvetica,sans-Serif\" font-size=\"14.00\">value = [656, 1542]</text>\r\n",
       "</g>\r\n",
       "<!-- 154&#45;&gt;190 -->\r\n",
       "<g id=\"edge22\" class=\"edge\">\r\n",
       "<title>154&#45;&gt;190</title>\r\n",
       "<path fill=\"none\" stroke=\"black\" d=\"M830,-175.88C830,-167.78 830,-158.98 830,-150.47\"/>\r\n",
       "<polygon fill=\"black\" stroke=\"black\" points=\"833.5,-150.3 830,-140.3 826.5,-150.3 833.5,-150.3\"/>\r\n",
       "</g>\r\n",
       "<!-- 156 -->\r\n",
       "<g id=\"node21\" class=\"node\">\r\n",
       "<title>156</title>\r\n",
       "<path fill=\"#c0c0c0\" stroke=\"black\" d=\"M679,-36C679,-36 649,-36 649,-36 643,-36 637,-30 637,-24 637,-24 637,-12 637,-12 637,-6 643,0 649,0 649,0 679,0 679,0 685,0 691,-6 691,-12 691,-12 691,-24 691,-24 691,-30 685,-36 679,-36\"/>\r\n",
       "<text text-anchor=\"middle\" x=\"664\" y=\"-14.3\" font-family=\"Helvetica,sans-Serif\" font-size=\"14.00\">(...)</text>\r\n",
       "</g>\r\n",
       "<!-- 155&#45;&gt;156 -->\r\n",
       "<g id=\"edge20\" class=\"edge\">\r\n",
       "<title>155&#45;&gt;156</title>\r\n",
       "<path fill=\"none\" stroke=\"black\" d=\"M668.93,-72C668.15,-63.56 667.31,-54.59 666.56,-46.47\"/>\r\n",
       "<polygon fill=\"black\" stroke=\"black\" points=\"670.03,-46.04 665.62,-36.4 663.06,-46.68 670.03,-46.04\"/>\r\n",
       "</g>\r\n",
       "<!-- 189 -->\r\n",
       "<g id=\"node22\" class=\"node\">\r\n",
       "<title>189</title>\r\n",
       "<path fill=\"#c0c0c0\" stroke=\"black\" d=\"M751,-36C751,-36 721,-36 721,-36 715,-36 709,-30 709,-24 709,-24 709,-12 709,-12 709,-6 715,0 721,0 721,0 751,0 751,0 757,0 763,-6 763,-12 763,-12 763,-24 763,-24 763,-30 757,-36 751,-36\"/>\r\n",
       "<text text-anchor=\"middle\" x=\"736\" y=\"-14.3\" font-family=\"Helvetica,sans-Serif\" font-size=\"14.00\">(...)</text>\r\n",
       "</g>\r\n",
       "<!-- 155&#45;&gt;189 -->\r\n",
       "<g id=\"edge21\" class=\"edge\">\r\n",
       "<title>155&#45;&gt;189</title>\r\n",
       "<path fill=\"none\" stroke=\"black\" d=\"M696.56,-72C703.33,-62.9 710.57,-53.18 716.97,-44.57\"/>\r\n",
       "<polygon fill=\"black\" stroke=\"black\" points=\"719.89,-46.52 723.05,-36.4 714.27,-42.34 719.89,-46.52\"/>\r\n",
       "</g>\r\n",
       "<!-- 191 -->\r\n",
       "<g id=\"node24\" class=\"node\">\r\n",
       "<title>191</title>\r\n",
       "<path fill=\"#c0c0c0\" stroke=\"black\" d=\"M834,-36C834,-36 804,-36 804,-36 798,-36 792,-30 792,-24 792,-24 792,-12 792,-12 792,-6 798,0 804,0 804,0 834,0 834,0 840,0 846,-6 846,-12 846,-12 846,-24 846,-24 846,-30 840,-36 834,-36\"/>\r\n",
       "<text text-anchor=\"middle\" x=\"819\" y=\"-14.3\" font-family=\"Helvetica,sans-Serif\" font-size=\"14.00\">(...)</text>\r\n",
       "</g>\r\n",
       "<!-- 190&#45;&gt;191 -->\r\n",
       "<g id=\"edge23\" class=\"edge\">\r\n",
       "<title>190&#45;&gt;191</title>\r\n",
       "<path fill=\"none\" stroke=\"black\" d=\"M825.78,-72C824.7,-63.56 823.55,-54.59 822.51,-46.47\"/>\r\n",
       "<polygon fill=\"black\" stroke=\"black\" points=\"825.97,-45.88 821.23,-36.4 819.02,-46.77 825.97,-45.88\"/>\r\n",
       "</g>\r\n",
       "<!-- 228 -->\r\n",
       "<g id=\"node25\" class=\"node\">\r\n",
       "<title>228</title>\r\n",
       "<path fill=\"#c0c0c0\" stroke=\"black\" d=\"M906,-36C906,-36 876,-36 876,-36 870,-36 864,-30 864,-24 864,-24 864,-12 864,-12 864,-6 870,0 876,0 876,0 906,0 906,0 912,0 918,-6 918,-12 918,-12 918,-24 918,-24 918,-30 912,-36 906,-36\"/>\r\n",
       "<text text-anchor=\"middle\" x=\"891\" y=\"-14.3\" font-family=\"Helvetica,sans-Serif\" font-size=\"14.00\">(...)</text>\r\n",
       "</g>\r\n",
       "<!-- 190&#45;&gt;228 -->\r\n",
       "<g id=\"edge24\" class=\"edge\">\r\n",
       "<title>190&#45;&gt;228</title>\r\n",
       "<path fill=\"none\" stroke=\"black\" d=\"M853.41,-72C859.86,-62.9 866.76,-53.18 872.86,-44.57\"/>\r\n",
       "<polygon fill=\"black\" stroke=\"black\" points=\"875.73,-46.58 878.66,-36.4 870.02,-42.53 875.73,-46.58\"/>\r\n",
       "</g>\r\n",
       "<!-- 242 -->\r\n",
       "<g id=\"node27\" class=\"node\">\r\n",
       "<title>242</title>\r\n",
       "<path fill=\"#3a9de5\" stroke=\"black\" d=\"M1073.5,-140C1073.5,-140 930.5,-140 930.5,-140 924.5,-140 918.5,-134 918.5,-128 918.5,-128 918.5,-84 918.5,-84 918.5,-78 924.5,-72 930.5,-72 930.5,-72 1073.5,-72 1073.5,-72 1079.5,-72 1085.5,-78 1085.5,-84 1085.5,-84 1085.5,-128 1085.5,-128 1085.5,-134 1079.5,-140 1073.5,-140\"/>\r\n",
       "<text text-anchor=\"middle\" x=\"1002\" y=\"-124.8\" font-family=\"Helvetica,sans-Serif\" font-size=\"14.00\">hours&#45;per&#45;week &lt;= 21.5</text>\r\n",
       "<text text-anchor=\"middle\" x=\"1002\" y=\"-109.8\" font-family=\"Helvetica,sans-Serif\" font-size=\"14.00\">gini = 0.01</text>\r\n",
       "<text text-anchor=\"middle\" x=\"1002\" y=\"-94.8\" font-family=\"Helvetica,sans-Serif\" font-size=\"14.00\">samples = 414</text>\r\n",
       "<text text-anchor=\"middle\" x=\"1002\" y=\"-79.8\" font-family=\"Helvetica,sans-Serif\" font-size=\"14.00\">value = [2, 412]</text>\r\n",
       "</g>\r\n",
       "<!-- 241&#45;&gt;242 -->\r\n",
       "<g id=\"edge26\" class=\"edge\">\r\n",
       "<title>241&#45;&gt;242</title>\r\n",
       "<path fill=\"none\" stroke=\"black\" d=\"M1002,-175.88C1002,-167.78 1002,-158.98 1002,-150.47\"/>\r\n",
       "<polygon fill=\"black\" stroke=\"black\" points=\"1005.5,-150.3 1002,-140.3 998.5,-150.3 1005.5,-150.3\"/>\r\n",
       "</g>\r\n",
       "<!-- 253 -->\r\n",
       "<g id=\"node30\" class=\"node\">\r\n",
       "<title>253</title>\r\n",
       "<path fill=\"#9ccef2\" stroke=\"black\" d=\"M1188.5,-132.5C1188.5,-132.5 1115.5,-132.5 1115.5,-132.5 1109.5,-132.5 1103.5,-126.5 1103.5,-120.5 1103.5,-120.5 1103.5,-91.5 1103.5,-91.5 1103.5,-85.5 1109.5,-79.5 1115.5,-79.5 1115.5,-79.5 1188.5,-79.5 1188.5,-79.5 1194.5,-79.5 1200.5,-85.5 1200.5,-91.5 1200.5,-91.5 1200.5,-120.5 1200.5,-120.5 1200.5,-126.5 1194.5,-132.5 1188.5,-132.5\"/>\r\n",
       "<text text-anchor=\"middle\" x=\"1152\" y=\"-117.3\" font-family=\"Helvetica,sans-Serif\" font-size=\"14.00\">gini = 0.444</text>\r\n",
       "<text text-anchor=\"middle\" x=\"1152\" y=\"-102.3\" font-family=\"Helvetica,sans-Serif\" font-size=\"14.00\">samples = 3</text>\r\n",
       "<text text-anchor=\"middle\" x=\"1152\" y=\"-87.3\" font-family=\"Helvetica,sans-Serif\" font-size=\"14.00\">value = [1, 2]</text>\r\n",
       "</g>\r\n",
       "<!-- 241&#45;&gt;253 -->\r\n",
       "<g id=\"edge29\" class=\"edge\">\r\n",
       "<title>241&#45;&gt;253</title>\r\n",
       "<path fill=\"none\" stroke=\"black\" d=\"M1050.7,-175.88C1068.49,-163.79 1088.54,-150.15 1106.08,-138.22\"/>\r\n",
       "<polygon fill=\"black\" stroke=\"black\" points=\"1108.17,-141.04 1114.47,-132.52 1104.23,-135.25 1108.17,-141.04\"/>\r\n",
       "</g>\r\n",
       "<!-- 243 -->\r\n",
       "<g id=\"node28\" class=\"node\">\r\n",
       "<title>243</title>\r\n",
       "<path fill=\"#c0c0c0\" stroke=\"black\" d=\"M998,-36C998,-36 968,-36 968,-36 962,-36 956,-30 956,-24 956,-24 956,-12 956,-12 956,-6 962,0 968,0 968,0 998,0 998,0 1004,0 1010,-6 1010,-12 1010,-12 1010,-24 1010,-24 1010,-30 1004,-36 998,-36\"/>\r\n",
       "<text text-anchor=\"middle\" x=\"983\" y=\"-14.3\" font-family=\"Helvetica,sans-Serif\" font-size=\"14.00\">(...)</text>\r\n",
       "</g>\r\n",
       "<!-- 242&#45;&gt;243 -->\r\n",
       "<g id=\"edge27\" class=\"edge\">\r\n",
       "<title>242&#45;&gt;243</title>\r\n",
       "<path fill=\"none\" stroke=\"black\" d=\"M994.71,-72C992.82,-63.47 990.82,-54.39 989.01,-46.2\"/>\r\n",
       "<polygon fill=\"black\" stroke=\"black\" points=\"992.42,-45.41 986.84,-36.4 985.58,-46.92 992.42,-45.41\"/>\r\n",
       "</g>\r\n",
       "<!-- 246 -->\r\n",
       "<g id=\"node29\" class=\"node\">\r\n",
       "<title>246</title>\r\n",
       "<path fill=\"#c0c0c0\" stroke=\"black\" d=\"M1070,-36C1070,-36 1040,-36 1040,-36 1034,-36 1028,-30 1028,-24 1028,-24 1028,-12 1028,-12 1028,-6 1034,0 1040,0 1040,0 1070,0 1070,0 1076,0 1082,-6 1082,-12 1082,-12 1082,-24 1082,-24 1082,-30 1076,-36 1070,-36\"/>\r\n",
       "<text text-anchor=\"middle\" x=\"1055\" y=\"-14.3\" font-family=\"Helvetica,sans-Serif\" font-size=\"14.00\">(...)</text>\r\n",
       "</g>\r\n",
       "<!-- 242&#45;&gt;246 -->\r\n",
       "<g id=\"edge28\" class=\"edge\">\r\n",
       "<title>242&#45;&gt;246</title>\r\n",
       "<path fill=\"none\" stroke=\"black\" d=\"M1022.34,-72C1027.83,-63.09 1033.69,-53.58 1038.91,-45.11\"/>\r\n",
       "<polygon fill=\"black\" stroke=\"black\" points=\"1042.01,-46.75 1044.27,-36.4 1036.05,-43.08 1042.01,-46.75\"/>\r\n",
       "</g>\r\n",
       "<!-- 255 -->\r\n",
       "<g id=\"node32\" class=\"node\">\r\n",
       "<title>255</title>\r\n",
       "<path fill=\"#e78c4a\" stroke=\"black\" d=\"M1583.5,-348C1583.5,-348 1452.5,-348 1452.5,-348 1446.5,-348 1440.5,-342 1440.5,-336 1440.5,-336 1440.5,-292 1440.5,-292 1440.5,-286 1446.5,-280 1452.5,-280 1452.5,-280 1583.5,-280 1583.5,-280 1589.5,-280 1595.5,-286 1595.5,-292 1595.5,-292 1595.5,-336 1595.5,-336 1595.5,-342 1589.5,-348 1583.5,-348\"/>\r\n",
       "<text text-anchor=\"middle\" x=\"1518\" y=\"-332.8\" font-family=\"Helvetica,sans-Serif\" font-size=\"14.00\">relationship &lt;= 4.5</text>\r\n",
       "<text text-anchor=\"middle\" x=\"1518\" y=\"-317.8\" font-family=\"Helvetica,sans-Serif\" font-size=\"14.00\">gini = 0.148</text>\r\n",
       "<text text-anchor=\"middle\" x=\"1518\" y=\"-302.8\" font-family=\"Helvetica,sans-Serif\" font-size=\"14.00\">samples = 13296</text>\r\n",
       "<text text-anchor=\"middle\" x=\"1518\" y=\"-287.8\" font-family=\"Helvetica,sans-Serif\" font-size=\"14.00\">value = [12224, 1072]</text>\r\n",
       "</g>\r\n",
       "<!-- 254&#45;&gt;255 -->\r\n",
       "<g id=\"edge31\" class=\"edge\">\r\n",
       "<title>254&#45;&gt;255</title>\r\n",
       "<path fill=\"none\" stroke=\"black\" d=\"M1518,-383.88C1518,-375.78 1518,-366.98 1518,-358.47\"/>\r\n",
       "<polygon fill=\"black\" stroke=\"black\" points=\"1521.5,-358.3 1518,-348.3 1514.5,-358.3 1521.5,-358.3\"/>\r\n",
       "</g>\r\n",
       "<!-- 490 -->\r\n",
       "<g id=\"node47\" class=\"node\">\r\n",
       "<title>490</title>\r\n",
       "<path fill=\"#40a1e6\" stroke=\"black\" d=\"M1809,-348C1809,-348 1711,-348 1711,-348 1705,-348 1699,-342 1699,-336 1699,-336 1699,-292 1699,-292 1699,-286 1705,-280 1711,-280 1711,-280 1809,-280 1809,-280 1815,-280 1821,-286 1821,-292 1821,-292 1821,-336 1821,-336 1821,-342 1815,-348 1809,-348\"/>\r\n",
       "<text text-anchor=\"middle\" x=\"1760\" y=\"-332.8\" font-family=\"Helvetica,sans-Serif\" font-size=\"14.00\">age &lt;= 3.0</text>\r\n",
       "<text text-anchor=\"middle\" x=\"1760\" y=\"-317.8\" font-family=\"Helvetica,sans-Serif\" font-size=\"14.00\">gini = 0.067</text>\r\n",
       "<text text-anchor=\"middle\" x=\"1760\" y=\"-302.8\" font-family=\"Helvetica,sans-Serif\" font-size=\"14.00\">samples = 288</text>\r\n",
       "<text text-anchor=\"middle\" x=\"1760\" y=\"-287.8\" font-family=\"Helvetica,sans-Serif\" font-size=\"14.00\">value = [10, 278]</text>\r\n",
       "</g>\r\n",
       "<!-- 254&#45;&gt;490 -->\r\n",
       "<g id=\"edge46\" class=\"edge\">\r\n",
       "<title>254&#45;&gt;490</title>\r\n",
       "<path fill=\"none\" stroke=\"black\" d=\"M1595.57,-384.31C1625.76,-371.58 1660.11,-357.1 1689.57,-344.68\"/>\r\n",
       "<polygon fill=\"black\" stroke=\"black\" points=\"1691.1,-347.84 1698.96,-340.73 1688.38,-341.39 1691.1,-347.84\"/>\r\n",
       "</g>\r\n",
       "<!-- 256 -->\r\n",
       "<g id=\"node33\" class=\"node\">\r\n",
       "<title>256</title>\r\n",
       "<path fill=\"#e68844\" stroke=\"black\" d=\"M1495,-244C1495,-244 1357,-244 1357,-244 1351,-244 1345,-238 1345,-232 1345,-232 1345,-188 1345,-188 1345,-182 1351,-176 1357,-176 1357,-176 1495,-176 1495,-176 1501,-176 1507,-182 1507,-188 1507,-188 1507,-232 1507,-232 1507,-238 1501,-244 1495,-244\"/>\r\n",
       "<text text-anchor=\"middle\" x=\"1426\" y=\"-228.8\" font-family=\"Helvetica,sans-Serif\" font-size=\"14.00\">education&#45;num &lt;= 11.5</text>\r\n",
       "<text text-anchor=\"middle\" x=\"1426\" y=\"-213.8\" font-family=\"Helvetica,sans-Serif\" font-size=\"14.00\">gini = 0.097</text>\r\n",
       "<text text-anchor=\"middle\" x=\"1426\" y=\"-198.8\" font-family=\"Helvetica,sans-Serif\" font-size=\"14.00\">samples = 12285</text>\r\n",
       "<text text-anchor=\"middle\" x=\"1426\" y=\"-183.8\" font-family=\"Helvetica,sans-Serif\" font-size=\"14.00\">value = [11656, 629]</text>\r\n",
       "</g>\r\n",
       "<!-- 255&#45;&gt;256 -->\r\n",
       "<g id=\"edge32\" class=\"edge\">\r\n",
       "<title>255&#45;&gt;256</title>\r\n",
       "<path fill=\"none\" stroke=\"black\" d=\"M1488.13,-279.88C1480.1,-270.98 1471.31,-261.24 1462.94,-251.96\"/>\r\n",
       "<polygon fill=\"black\" stroke=\"black\" points=\"1465.33,-249.38 1456.03,-244.3 1460.13,-254.07 1465.33,-249.38\"/>\r\n",
       "</g>\r\n",
       "<!-- 415 -->\r\n",
       "<g id=\"node40\" class=\"node\">\r\n",
       "<title>415</title>\r\n",
       "<path fill=\"#f9e3d3\" stroke=\"black\" d=\"M1675,-244C1675,-244 1537,-244 1537,-244 1531,-244 1525,-238 1525,-232 1525,-232 1525,-188 1525,-188 1525,-182 1531,-176 1537,-176 1537,-176 1675,-176 1675,-176 1681,-176 1687,-182 1687,-188 1687,-188 1687,-232 1687,-232 1687,-238 1681,-244 1675,-244\"/>\r\n",
       "<text text-anchor=\"middle\" x=\"1606\" y=\"-228.8\" font-family=\"Helvetica,sans-Serif\" font-size=\"14.00\">education&#45;num &lt;= 11.5</text>\r\n",
       "<text text-anchor=\"middle\" x=\"1606\" y=\"-213.8\" font-family=\"Helvetica,sans-Serif\" font-size=\"14.00\">gini = 0.492</text>\r\n",
       "<text text-anchor=\"middle\" x=\"1606\" y=\"-198.8\" font-family=\"Helvetica,sans-Serif\" font-size=\"14.00\">samples = 1011</text>\r\n",
       "<text text-anchor=\"middle\" x=\"1606\" y=\"-183.8\" font-family=\"Helvetica,sans-Serif\" font-size=\"14.00\">value = [568, 443]</text>\r\n",
       "</g>\r\n",
       "<!-- 255&#45;&gt;415 -->\r\n",
       "<g id=\"edge39\" class=\"edge\">\r\n",
       "<title>255&#45;&gt;415</title>\r\n",
       "<path fill=\"none\" stroke=\"black\" d=\"M1546.57,-279.88C1554.26,-270.98 1562.66,-261.24 1570.66,-251.96\"/>\r\n",
       "<polygon fill=\"black\" stroke=\"black\" points=\"1573.39,-254.16 1577.27,-244.3 1568.09,-249.58 1573.39,-254.16\"/>\r\n",
       "</g>\r\n",
       "<!-- 257 -->\r\n",
       "<g id=\"node34\" class=\"node\">\r\n",
       "<title>257</title>\r\n",
       "<path fill=\"#e6843e\" stroke=\"black\" d=\"M1347,-140C1347,-140 1231,-140 1231,-140 1225,-140 1219,-134 1219,-128 1219,-128 1219,-84 1219,-84 1219,-78 1225,-72 1231,-72 1231,-72 1347,-72 1347,-72 1353,-72 1359,-78 1359,-84 1359,-84 1359,-128 1359,-128 1359,-134 1353,-140 1347,-140\"/>\r\n",
       "<text text-anchor=\"middle\" x=\"1289\" y=\"-124.8\" font-family=\"Helvetica,sans-Serif\" font-size=\"14.00\">capital&#45;loss &lt;= 65.5</text>\r\n",
       "<text text-anchor=\"middle\" x=\"1289\" y=\"-109.8\" font-family=\"Helvetica,sans-Serif\" font-size=\"14.00\">gini = 0.051</text>\r\n",
       "<text text-anchor=\"middle\" x=\"1289\" y=\"-94.8\" font-family=\"Helvetica,sans-Serif\" font-size=\"14.00\">samples = 9851</text>\r\n",
       "<text text-anchor=\"middle\" x=\"1289\" y=\"-79.8\" font-family=\"Helvetica,sans-Serif\" font-size=\"14.00\">value = [9595, 256]</text>\r\n",
       "</g>\r\n",
       "<!-- 256&#45;&gt;257 -->\r\n",
       "<g id=\"edge33\" class=\"edge\">\r\n",
       "<title>256&#45;&gt;257</title>\r\n",
       "<path fill=\"none\" stroke=\"black\" d=\"M1381.52,-175.88C1368.84,-166.44 1354.9,-156.06 1341.77,-146.29\"/>\r\n",
       "<polygon fill=\"black\" stroke=\"black\" points=\"1343.84,-143.46 1333.73,-140.3 1339.66,-149.08 1343.84,-143.46\"/>\r\n",
       "</g>\r\n",
       "<!-- 338 -->\r\n",
       "<g id=\"node37\" class=\"node\">\r\n",
       "<title>338</title>\r\n",
       "<path fill=\"#ea985d\" stroke=\"black\" d=\"M1503,-140C1503,-140 1389,-140 1389,-140 1383,-140 1377,-134 1377,-128 1377,-128 1377,-84 1377,-84 1377,-78 1383,-72 1389,-72 1389,-72 1503,-72 1503,-72 1509,-72 1515,-78 1515,-84 1515,-84 1515,-128 1515,-128 1515,-134 1509,-140 1503,-140\"/>\r\n",
       "<text text-anchor=\"middle\" x=\"1446\" y=\"-124.8\" font-family=\"Helvetica,sans-Serif\" font-size=\"14.00\">age &lt;= 14.5</text>\r\n",
       "<text text-anchor=\"middle\" x=\"1446\" y=\"-109.8\" font-family=\"Helvetica,sans-Serif\" font-size=\"14.00\">gini = 0.26</text>\r\n",
       "<text text-anchor=\"middle\" x=\"1446\" y=\"-94.8\" font-family=\"Helvetica,sans-Serif\" font-size=\"14.00\">samples = 2434</text>\r\n",
       "<text text-anchor=\"middle\" x=\"1446\" y=\"-79.8\" font-family=\"Helvetica,sans-Serif\" font-size=\"14.00\">value = [2061, 373]</text>\r\n",
       "</g>\r\n",
       "<!-- 256&#45;&gt;338 -->\r\n",
       "<g id=\"edge36\" class=\"edge\">\r\n",
       "<title>256&#45;&gt;338</title>\r\n",
       "<path fill=\"none\" stroke=\"black\" d=\"M1432.49,-175.88C1434.1,-167.69 1435.85,-158.79 1437.53,-150.19\"/>\r\n",
       "<polygon fill=\"black\" stroke=\"black\" points=\"1440.98,-150.79 1439.47,-140.3 1434.11,-149.44 1440.98,-150.79\"/>\r\n",
       "</g>\r\n",
       "<!-- 258 -->\r\n",
       "<g id=\"node35\" class=\"node\">\r\n",
       "<title>258</title>\r\n",
       "<path fill=\"#c0c0c0\" stroke=\"black\" d=\"M1238,-36C1238,-36 1208,-36 1208,-36 1202,-36 1196,-30 1196,-24 1196,-24 1196,-12 1196,-12 1196,-6 1202,0 1208,0 1208,0 1238,0 1238,0 1244,0 1250,-6 1250,-12 1250,-12 1250,-24 1250,-24 1250,-30 1244,-36 1238,-36\"/>\r\n",
       "<text text-anchor=\"middle\" x=\"1223\" y=\"-14.3\" font-family=\"Helvetica,sans-Serif\" font-size=\"14.00\">(...)</text>\r\n",
       "</g>\r\n",
       "<!-- 257&#45;&gt;258 -->\r\n",
       "<g id=\"edge34\" class=\"edge\">\r\n",
       "<title>257&#45;&gt;258</title>\r\n",
       "<path fill=\"none\" stroke=\"black\" d=\"M1263.67,-72C1256.69,-62.9 1249.23,-53.18 1242.62,-44.57\"/>\r\n",
       "<polygon fill=\"black\" stroke=\"black\" points=\"1245.22,-42.21 1236.36,-36.4 1239.67,-46.47 1245.22,-42.21\"/>\r\n",
       "</g>\r\n",
       "<!-- 321 -->\r\n",
       "<g id=\"node36\" class=\"node\">\r\n",
       "<title>321</title>\r\n",
       "<path fill=\"#c0c0c0\" stroke=\"black\" d=\"M1310,-36C1310,-36 1280,-36 1280,-36 1274,-36 1268,-30 1268,-24 1268,-24 1268,-12 1268,-12 1268,-6 1274,0 1280,0 1280,0 1310,0 1310,0 1316,0 1322,-6 1322,-12 1322,-12 1322,-24 1322,-24 1322,-30 1316,-36 1310,-36\"/>\r\n",
       "<text text-anchor=\"middle\" x=\"1295\" y=\"-14.3\" font-family=\"Helvetica,sans-Serif\" font-size=\"14.00\">(...)</text>\r\n",
       "</g>\r\n",
       "<!-- 257&#45;&gt;321 -->\r\n",
       "<g id=\"edge35\" class=\"edge\">\r\n",
       "<title>257&#45;&gt;321</title>\r\n",
       "<path fill=\"none\" stroke=\"black\" d=\"M1291.3,-72C1291.89,-63.56 1292.52,-54.59 1293.08,-46.47\"/>\r\n",
       "<polygon fill=\"black\" stroke=\"black\" points=\"1296.58,-46.62 1293.79,-36.4 1289.6,-46.14 1296.58,-46.62\"/>\r\n",
       "</g>\r\n",
       "<!-- 339 -->\r\n",
       "<g id=\"node38\" class=\"node\">\r\n",
       "<title>339</title>\r\n",
       "<path fill=\"#c0c0c0\" stroke=\"black\" d=\"M1395,-36C1395,-36 1365,-36 1365,-36 1359,-36 1353,-30 1353,-24 1353,-24 1353,-12 1353,-12 1353,-6 1359,0 1365,0 1365,0 1395,0 1395,0 1401,0 1407,-6 1407,-12 1407,-12 1407,-24 1407,-24 1407,-30 1401,-36 1395,-36\"/>\r\n",
       "<text text-anchor=\"middle\" x=\"1380\" y=\"-14.3\" font-family=\"Helvetica,sans-Serif\" font-size=\"14.00\">(...)</text>\r\n",
       "</g>\r\n",
       "<!-- 338&#45;&gt;339 -->\r\n",
       "<g id=\"edge37\" class=\"edge\">\r\n",
       "<title>338&#45;&gt;339</title>\r\n",
       "<path fill=\"none\" stroke=\"black\" d=\"M1420.67,-72C1413.69,-62.9 1406.23,-53.18 1399.62,-44.57\"/>\r\n",
       "<polygon fill=\"black\" stroke=\"black\" points=\"1402.22,-42.21 1393.36,-36.4 1396.67,-46.47 1402.22,-42.21\"/>\r\n",
       "</g>\r\n",
       "<!-- 378 -->\r\n",
       "<g id=\"node39\" class=\"node\">\r\n",
       "<title>378</title>\r\n",
       "<path fill=\"#c0c0c0\" stroke=\"black\" d=\"M1467,-36C1467,-36 1437,-36 1437,-36 1431,-36 1425,-30 1425,-24 1425,-24 1425,-12 1425,-12 1425,-6 1431,0 1437,0 1437,0 1467,0 1467,0 1473,0 1479,-6 1479,-12 1479,-12 1479,-24 1479,-24 1479,-30 1473,-36 1467,-36\"/>\r\n",
       "<text text-anchor=\"middle\" x=\"1452\" y=\"-14.3\" font-family=\"Helvetica,sans-Serif\" font-size=\"14.00\">(...)</text>\r\n",
       "</g>\r\n",
       "<!-- 338&#45;&gt;378 -->\r\n",
       "<g id=\"edge38\" class=\"edge\">\r\n",
       "<title>338&#45;&gt;378</title>\r\n",
       "<path fill=\"none\" stroke=\"black\" d=\"M1448.3,-72C1448.89,-63.56 1449.52,-54.59 1450.08,-46.47\"/>\r\n",
       "<polygon fill=\"black\" stroke=\"black\" points=\"1453.58,-46.62 1450.79,-36.4 1446.6,-46.14 1453.58,-46.62\"/>\r\n",
       "</g>\r\n",
       "<!-- 416 -->\r\n",
       "<g id=\"node41\" class=\"node\">\r\n",
       "<title>416</title>\r\n",
       "<path fill=\"#f3c4a2\" stroke=\"black\" d=\"M1661,-140C1661,-140 1545,-140 1545,-140 1539,-140 1533,-134 1533,-128 1533,-128 1533,-84 1533,-84 1533,-78 1539,-72 1545,-72 1545,-72 1661,-72 1661,-72 1667,-72 1673,-78 1673,-84 1673,-84 1673,-128 1673,-128 1673,-134 1667,-140 1661,-140\"/>\r\n",
       "<text text-anchor=\"middle\" x=\"1603\" y=\"-124.8\" font-family=\"Helvetica,sans-Serif\" font-size=\"14.00\">capital&#45;loss &lt;= 41.5</text>\r\n",
       "<text text-anchor=\"middle\" x=\"1603\" y=\"-109.8\" font-family=\"Helvetica,sans-Serif\" font-size=\"14.00\">gini = 0.452</text>\r\n",
       "<text text-anchor=\"middle\" x=\"1603\" y=\"-94.8\" font-family=\"Helvetica,sans-Serif\" font-size=\"14.00\">samples = 741</text>\r\n",
       "<text text-anchor=\"middle\" x=\"1603\" y=\"-79.8\" font-family=\"Helvetica,sans-Serif\" font-size=\"14.00\">value = [485, 256]</text>\r\n",
       "</g>\r\n",
       "<!-- 415&#45;&gt;416 -->\r\n",
       "<g id=\"edge40\" class=\"edge\">\r\n",
       "<title>415&#45;&gt;416</title>\r\n",
       "<path fill=\"none\" stroke=\"black\" d=\"M1605.03,-175.88C1604.79,-167.78 1604.53,-158.98 1604.28,-150.47\"/>\r\n",
       "<polygon fill=\"black\" stroke=\"black\" points=\"1607.77,-150.19 1603.98,-140.3 1600.77,-150.4 1607.77,-150.19\"/>\r\n",
       "</g>\r\n",
       "<!-- 459 -->\r\n",
       "<g id=\"node44\" class=\"node\">\r\n",
       "<title>459</title>\r\n",
       "<path fill=\"#91c8f1\" stroke=\"black\" d=\"M1801,-140C1801,-140 1703,-140 1703,-140 1697,-140 1691,-134 1691,-128 1691,-128 1691,-84 1691,-84 1691,-78 1697,-72 1703,-72 1703,-72 1801,-72 1801,-72 1807,-72 1813,-78 1813,-84 1813,-84 1813,-128 1813,-128 1813,-134 1807,-140 1801,-140\"/>\r\n",
       "<text text-anchor=\"middle\" x=\"1752\" y=\"-124.8\" font-family=\"Helvetica,sans-Serif\" font-size=\"14.00\">age &lt;= 8.5</text>\r\n",
       "<text text-anchor=\"middle\" x=\"1752\" y=\"-109.8\" font-family=\"Helvetica,sans-Serif\" font-size=\"14.00\">gini = 0.426</text>\r\n",
       "<text text-anchor=\"middle\" x=\"1752\" y=\"-94.8\" font-family=\"Helvetica,sans-Serif\" font-size=\"14.00\">samples = 270</text>\r\n",
       "<text text-anchor=\"middle\" x=\"1752\" y=\"-79.8\" font-family=\"Helvetica,sans-Serif\" font-size=\"14.00\">value = [83, 187]</text>\r\n",
       "</g>\r\n",
       "<!-- 415&#45;&gt;459 -->\r\n",
       "<g id=\"edge43\" class=\"edge\">\r\n",
       "<title>415&#45;&gt;459</title>\r\n",
       "<path fill=\"none\" stroke=\"black\" d=\"M1653.4,-175.88C1666.92,-166.44 1681.77,-156.06 1695.76,-146.29\"/>\r\n",
       "<polygon fill=\"black\" stroke=\"black\" points=\"1698.14,-148.9 1704.34,-140.3 1694.13,-143.16 1698.14,-148.9\"/>\r\n",
       "</g>\r\n",
       "<!-- 417 -->\r\n",
       "<g id=\"node42\" class=\"node\">\r\n",
       "<title>417</title>\r\n",
       "<path fill=\"#c0c0c0\" stroke=\"black\" d=\"M1548,-36C1548,-36 1518,-36 1518,-36 1512,-36 1506,-30 1506,-24 1506,-24 1506,-12 1506,-12 1506,-6 1512,0 1518,0 1518,0 1548,0 1548,0 1554,0 1560,-6 1560,-12 1560,-12 1560,-24 1560,-24 1560,-30 1554,-36 1548,-36\"/>\r\n",
       "<text text-anchor=\"middle\" x=\"1533\" y=\"-14.3\" font-family=\"Helvetica,sans-Serif\" font-size=\"14.00\">(...)</text>\r\n",
       "</g>\r\n",
       "<!-- 416&#45;&gt;417 -->\r\n",
       "<g id=\"edge41\" class=\"edge\">\r\n",
       "<title>416&#45;&gt;417</title>\r\n",
       "<path fill=\"none\" stroke=\"black\" d=\"M1576.14,-72C1568.66,-62.81 1560.65,-52.97 1553.59,-44.3\"/>\r\n",
       "<polygon fill=\"black\" stroke=\"black\" points=\"1556.19,-41.95 1547.17,-36.4 1550.76,-46.37 1556.19,-41.95\"/>\r\n",
       "</g>\r\n",
       "<!-- 454 -->\r\n",
       "<g id=\"node43\" class=\"node\">\r\n",
       "<title>454</title>\r\n",
       "<path fill=\"#c0c0c0\" stroke=\"black\" d=\"M1620,-36C1620,-36 1590,-36 1590,-36 1584,-36 1578,-30 1578,-24 1578,-24 1578,-12 1578,-12 1578,-6 1584,0 1590,0 1590,0 1620,0 1620,0 1626,0 1632,-6 1632,-12 1632,-12 1632,-24 1632,-24 1632,-30 1626,-36 1620,-36\"/>\r\n",
       "<text text-anchor=\"middle\" x=\"1605\" y=\"-14.3\" font-family=\"Helvetica,sans-Serif\" font-size=\"14.00\">(...)</text>\r\n",
       "</g>\r\n",
       "<!-- 416&#45;&gt;454 -->\r\n",
       "<g id=\"edge42\" class=\"edge\">\r\n",
       "<title>416&#45;&gt;454</title>\r\n",
       "<path fill=\"none\" stroke=\"black\" d=\"M1603.77,-72C1603.96,-63.56 1604.17,-54.59 1604.36,-46.47\"/>\r\n",
       "<polygon fill=\"black\" stroke=\"black\" points=\"1607.86,-46.48 1604.6,-36.4 1600.86,-46.32 1607.86,-46.48\"/>\r\n",
       "</g>\r\n",
       "<!-- 460 -->\r\n",
       "<g id=\"node45\" class=\"node\">\r\n",
       "<title>460</title>\r\n",
       "<path fill=\"#c0c0c0\" stroke=\"black\" d=\"M1697,-36C1697,-36 1667,-36 1667,-36 1661,-36 1655,-30 1655,-24 1655,-24 1655,-12 1655,-12 1655,-6 1661,0 1667,0 1667,0 1697,0 1697,0 1703,0 1709,-6 1709,-12 1709,-12 1709,-24 1709,-24 1709,-30 1703,-36 1697,-36\"/>\r\n",
       "<text text-anchor=\"middle\" x=\"1682\" y=\"-14.3\" font-family=\"Helvetica,sans-Serif\" font-size=\"14.00\">(...)</text>\r\n",
       "</g>\r\n",
       "<!-- 459&#45;&gt;460 -->\r\n",
       "<g id=\"edge44\" class=\"edge\">\r\n",
       "<title>459&#45;&gt;460</title>\r\n",
       "<path fill=\"none\" stroke=\"black\" d=\"M1725.14,-72C1717.66,-62.81 1709.65,-52.97 1702.59,-44.3\"/>\r\n",
       "<polygon fill=\"black\" stroke=\"black\" points=\"1705.19,-41.95 1696.17,-36.4 1699.76,-46.37 1705.19,-41.95\"/>\r\n",
       "</g>\r\n",
       "<!-- 465 -->\r\n",
       "<g id=\"node46\" class=\"node\">\r\n",
       "<title>465</title>\r\n",
       "<path fill=\"#c0c0c0\" stroke=\"black\" d=\"M1769,-36C1769,-36 1739,-36 1739,-36 1733,-36 1727,-30 1727,-24 1727,-24 1727,-12 1727,-12 1727,-6 1733,0 1739,0 1739,0 1769,0 1769,0 1775,0 1781,-6 1781,-12 1781,-12 1781,-24 1781,-24 1781,-30 1775,-36 1769,-36\"/>\r\n",
       "<text text-anchor=\"middle\" x=\"1754\" y=\"-14.3\" font-family=\"Helvetica,sans-Serif\" font-size=\"14.00\">(...)</text>\r\n",
       "</g>\r\n",
       "<!-- 459&#45;&gt;465 -->\r\n",
       "<g id=\"edge45\" class=\"edge\">\r\n",
       "<title>459&#45;&gt;465</title>\r\n",
       "<path fill=\"none\" stroke=\"black\" d=\"M1752.77,-72C1752.96,-63.56 1753.17,-54.59 1753.36,-46.47\"/>\r\n",
       "<polygon fill=\"black\" stroke=\"black\" points=\"1756.86,-46.48 1753.6,-36.4 1749.86,-46.32 1756.86,-46.48\"/>\r\n",
       "</g>\r\n",
       "<!-- 491 -->\r\n",
       "<g id=\"node48\" class=\"node\">\r\n",
       "<title>491</title>\r\n",
       "<path fill=\"#e58139\" stroke=\"black\" d=\"M1796.5,-236.5C1796.5,-236.5 1723.5,-236.5 1723.5,-236.5 1717.5,-236.5 1711.5,-230.5 1711.5,-224.5 1711.5,-224.5 1711.5,-195.5 1711.5,-195.5 1711.5,-189.5 1717.5,-183.5 1723.5,-183.5 1723.5,-183.5 1796.5,-183.5 1796.5,-183.5 1802.5,-183.5 1808.5,-189.5 1808.5,-195.5 1808.5,-195.5 1808.5,-224.5 1808.5,-224.5 1808.5,-230.5 1802.5,-236.5 1796.5,-236.5\"/>\r\n",
       "<text text-anchor=\"middle\" x=\"1760\" y=\"-221.3\" font-family=\"Helvetica,sans-Serif\" font-size=\"14.00\">gini = 0.0</text>\r\n",
       "<text text-anchor=\"middle\" x=\"1760\" y=\"-206.3\" font-family=\"Helvetica,sans-Serif\" font-size=\"14.00\">samples = 2</text>\r\n",
       "<text text-anchor=\"middle\" x=\"1760\" y=\"-191.3\" font-family=\"Helvetica,sans-Serif\" font-size=\"14.00\">value = [2, 0]</text>\r\n",
       "</g>\r\n",
       "<!-- 490&#45;&gt;491 -->\r\n",
       "<g id=\"edge47\" class=\"edge\">\r\n",
       "<title>490&#45;&gt;491</title>\r\n",
       "<path fill=\"none\" stroke=\"black\" d=\"M1760,-279.88C1760,-269.33 1760,-257.6 1760,-246.85\"/>\r\n",
       "<polygon fill=\"black\" stroke=\"black\" points=\"1763.5,-246.52 1760,-236.52 1756.5,-246.52 1763.5,-246.52\"/>\r\n",
       "</g>\r\n",
       "<!-- 492 -->\r\n",
       "<g id=\"node49\" class=\"node\">\r\n",
       "<title>492</title>\r\n",
       "<path fill=\"#3fa0e6\" stroke=\"black\" d=\"M1959,-244C1959,-244 1843,-244 1843,-244 1837,-244 1831,-238 1831,-232 1831,-232 1831,-188 1831,-188 1831,-182 1837,-176 1843,-176 1843,-176 1959,-176 1959,-176 1965,-176 1971,-182 1971,-188 1971,-188 1971,-232 1971,-232 1971,-238 1965,-244 1959,-244\"/>\r\n",
       "<text text-anchor=\"middle\" x=\"1901\" y=\"-228.8\" font-family=\"Helvetica,sans-Serif\" font-size=\"14.00\">capital&#45;gain &lt;= 93.5</text>\r\n",
       "<text text-anchor=\"middle\" x=\"1901\" y=\"-213.8\" font-family=\"Helvetica,sans-Serif\" font-size=\"14.00\">gini = 0.054</text>\r\n",
       "<text text-anchor=\"middle\" x=\"1901\" y=\"-198.8\" font-family=\"Helvetica,sans-Serif\" font-size=\"14.00\">samples = 286</text>\r\n",
       "<text text-anchor=\"middle\" x=\"1901\" y=\"-183.8\" font-family=\"Helvetica,sans-Serif\" font-size=\"14.00\">value = [8, 278]</text>\r\n",
       "</g>\r\n",
       "<!-- 490&#45;&gt;492 -->\r\n",
       "<g id=\"edge48\" class=\"edge\">\r\n",
       "<title>490&#45;&gt;492</title>\r\n",
       "<path fill=\"none\" stroke=\"black\" d=\"M1805.78,-279.88C1818.83,-270.44 1833.18,-260.06 1846.69,-250.29\"/>\r\n",
       "<polygon fill=\"black\" stroke=\"black\" points=\"1848.92,-253 1854.97,-244.3 1844.81,-247.32 1848.92,-253\"/>\r\n",
       "</g>\r\n",
       "<!-- 493 -->\r\n",
       "<g id=\"node50\" class=\"node\">\r\n",
       "<title>493</title>\r\n",
       "<path fill=\"#73baed\" stroke=\"black\" d=\"M1959,-140C1959,-140 1843,-140 1843,-140 1837,-140 1831,-134 1831,-128 1831,-128 1831,-84 1831,-84 1831,-78 1837,-72 1843,-72 1843,-72 1959,-72 1959,-72 1965,-72 1971,-78 1971,-84 1971,-84 1971,-128 1971,-128 1971,-134 1965,-140 1959,-140\"/>\r\n",
       "<text text-anchor=\"middle\" x=\"1901\" y=\"-124.8\" font-family=\"Helvetica,sans-Serif\" font-size=\"14.00\">capital&#45;gain &lt;= 92.5</text>\r\n",
       "<text text-anchor=\"middle\" x=\"1901\" y=\"-109.8\" font-family=\"Helvetica,sans-Serif\" font-size=\"14.00\">gini = 0.351</text>\r\n",
       "<text text-anchor=\"middle\" x=\"1901\" y=\"-94.8\" font-family=\"Helvetica,sans-Serif\" font-size=\"14.00\">samples = 22</text>\r\n",
       "<text text-anchor=\"middle\" x=\"1901\" y=\"-79.8\" font-family=\"Helvetica,sans-Serif\" font-size=\"14.00\">value = [5, 17]</text>\r\n",
       "</g>\r\n",
       "<!-- 492&#45;&gt;493 -->\r\n",
       "<g id=\"edge49\" class=\"edge\">\r\n",
       "<title>492&#45;&gt;493</title>\r\n",
       "<path fill=\"none\" stroke=\"black\" d=\"M1901,-175.88C1901,-167.78 1901,-158.98 1901,-150.47\"/>\r\n",
       "<polygon fill=\"black\" stroke=\"black\" points=\"1904.5,-150.3 1901,-140.3 1897.5,-150.3 1904.5,-150.3\"/>\r\n",
       "</g>\r\n",
       "<!-- 496 -->\r\n",
       "<g id=\"node53\" class=\"node\">\r\n",
       "<title>496</title>\r\n",
       "<path fill=\"#3b9ee5\" stroke=\"black\" d=\"M2131,-140C2131,-140 2001,-140 2001,-140 1995,-140 1989,-134 1989,-128 1989,-128 1989,-84 1989,-84 1989,-78 1995,-72 2001,-72 2001,-72 2131,-72 2131,-72 2137,-72 2143,-78 2143,-84 2143,-84 2143,-128 2143,-128 2143,-134 2137,-140 2131,-140\"/>\r\n",
       "<text text-anchor=\"middle\" x=\"2066\" y=\"-124.8\" font-family=\"Helvetica,sans-Serif\" font-size=\"14.00\">education&#45;num &lt;= 4.5</text>\r\n",
       "<text text-anchor=\"middle\" x=\"2066\" y=\"-109.8\" font-family=\"Helvetica,sans-Serif\" font-size=\"14.00\">gini = 0.022</text>\r\n",
       "<text text-anchor=\"middle\" x=\"2066\" y=\"-94.8\" font-family=\"Helvetica,sans-Serif\" font-size=\"14.00\">samples = 264</text>\r\n",
       "<text text-anchor=\"middle\" x=\"2066\" y=\"-79.8\" font-family=\"Helvetica,sans-Serif\" font-size=\"14.00\">value = [3, 261]</text>\r\n",
       "</g>\r\n",
       "<!-- 492&#45;&gt;496 -->\r\n",
       "<g id=\"edge52\" class=\"edge\">\r\n",
       "<title>492&#45;&gt;496</title>\r\n",
       "<path fill=\"none\" stroke=\"black\" d=\"M1954.57,-175.88C1970.21,-166.21 1987.44,-155.56 2003.58,-145.59\"/>\r\n",
       "<polygon fill=\"black\" stroke=\"black\" points=\"2005.75,-148.36 2012.42,-140.12 2002.07,-142.41 2005.75,-148.36\"/>\r\n",
       "</g>\r\n",
       "<!-- 494 -->\r\n",
       "<g id=\"node51\" class=\"node\">\r\n",
       "<title>494</title>\r\n",
       "<path fill=\"#c0c0c0\" stroke=\"black\" d=\"M1872,-36C1872,-36 1842,-36 1842,-36 1836,-36 1830,-30 1830,-24 1830,-24 1830,-12 1830,-12 1830,-6 1836,0 1842,0 1842,0 1872,0 1872,0 1878,0 1884,-6 1884,-12 1884,-12 1884,-24 1884,-24 1884,-30 1878,-36 1872,-36\"/>\r\n",
       "<text text-anchor=\"middle\" x=\"1857\" y=\"-14.3\" font-family=\"Helvetica,sans-Serif\" font-size=\"14.00\">(...)</text>\r\n",
       "</g>\r\n",
       "<!-- 493&#45;&gt;494 -->\r\n",
       "<g id=\"edge50\" class=\"edge\">\r\n",
       "<title>493&#45;&gt;494</title>\r\n",
       "<path fill=\"none\" stroke=\"black\" d=\"M1884.11,-72C1879.61,-63.19 1874.8,-53.78 1870.5,-45.38\"/>\r\n",
       "<polygon fill=\"black\" stroke=\"black\" points=\"1873.57,-43.71 1865.9,-36.4 1867.34,-46.9 1873.57,-43.71\"/>\r\n",
       "</g>\r\n",
       "<!-- 495 -->\r\n",
       "<g id=\"node52\" class=\"node\">\r\n",
       "<title>495</title>\r\n",
       "<path fill=\"#c0c0c0\" stroke=\"black\" d=\"M1944,-36C1944,-36 1914,-36 1914,-36 1908,-36 1902,-30 1902,-24 1902,-24 1902,-12 1902,-12 1902,-6 1908,0 1914,0 1914,0 1944,0 1944,0 1950,0 1956,-6 1956,-12 1956,-12 1956,-24 1956,-24 1956,-30 1950,-36 1944,-36\"/>\r\n",
       "<text text-anchor=\"middle\" x=\"1929\" y=\"-14.3\" font-family=\"Helvetica,sans-Serif\" font-size=\"14.00\">(...)</text>\r\n",
       "</g>\r\n",
       "<!-- 493&#45;&gt;495 -->\r\n",
       "<g id=\"edge51\" class=\"edge\">\r\n",
       "<title>493&#45;&gt;495</title>\r\n",
       "<path fill=\"none\" stroke=\"black\" d=\"M1911.75,-72C1914.55,-63.38 1917.54,-54.19 1920.23,-45.92\"/>\r\n",
       "<polygon fill=\"black\" stroke=\"black\" points=\"1923.57,-47 1923.33,-36.4 1916.91,-44.83 1923.57,-47\"/>\r\n",
       "</g>\r\n",
       "<!-- 497 -->\r\n",
       "<g id=\"node54\" class=\"node\">\r\n",
       "<title>497</title>\r\n",
       "<path fill=\"#c0c0c0\" stroke=\"black\" d=\"M2045,-36C2045,-36 2015,-36 2015,-36 2009,-36 2003,-30 2003,-24 2003,-24 2003,-12 2003,-12 2003,-6 2009,0 2015,0 2015,0 2045,0 2045,0 2051,0 2057,-6 2057,-12 2057,-12 2057,-24 2057,-24 2057,-30 2051,-36 2045,-36\"/>\r\n",
       "<text text-anchor=\"middle\" x=\"2030\" y=\"-14.3\" font-family=\"Helvetica,sans-Serif\" font-size=\"14.00\">(...)</text>\r\n",
       "</g>\r\n",
       "<!-- 496&#45;&gt;497 -->\r\n",
       "<g id=\"edge53\" class=\"edge\">\r\n",
       "<title>496&#45;&gt;497</title>\r\n",
       "<path fill=\"none\" stroke=\"black\" d=\"M2052.18,-72C2048.54,-63.28 2044.64,-53.98 2041.16,-45.65\"/>\r\n",
       "<polygon fill=\"black\" stroke=\"black\" points=\"2044.38,-44.28 2037.29,-36.4 2037.92,-46.98 2044.38,-44.28\"/>\r\n",
       "</g>\r\n",
       "<!-- 498 -->\r\n",
       "<g id=\"node55\" class=\"node\">\r\n",
       "<title>498</title>\r\n",
       "<path fill=\"#c0c0c0\" stroke=\"black\" d=\"M2117,-36C2117,-36 2087,-36 2087,-36 2081,-36 2075,-30 2075,-24 2075,-24 2075,-12 2075,-12 2075,-6 2081,0 2087,0 2087,0 2117,0 2117,0 2123,0 2129,-6 2129,-12 2129,-12 2129,-24 2129,-24 2129,-30 2123,-36 2117,-36\"/>\r\n",
       "<text text-anchor=\"middle\" x=\"2102\" y=\"-14.3\" font-family=\"Helvetica,sans-Serif\" font-size=\"14.00\">(...)</text>\r\n",
       "</g>\r\n",
       "<!-- 496&#45;&gt;498 -->\r\n",
       "<g id=\"edge54\" class=\"edge\">\r\n",
       "<title>496&#45;&gt;498</title>\r\n",
       "<path fill=\"none\" stroke=\"black\" d=\"M2079.82,-72C2083.46,-63.28 2087.36,-53.98 2090.84,-45.65\"/>\r\n",
       "<polygon fill=\"black\" stroke=\"black\" points=\"2094.08,-46.98 2094.71,-36.4 2087.62,-44.28 2094.08,-46.98\"/>\r\n",
       "</g>\r\n",
       "</g>\r\n",
       "</svg>\r\n"
      ],
      "text/plain": [
       "<graphviz.files.Source at 0x1ba6e453a60>"
      ]
     },
     "execution_count": 127,
     "metadata": {},
     "output_type": "execute_result"
    }
   ],
   "source": [
    "# 위에서 생성된 tree.dot 파일을 Graphviz 읽어서 Jupyter Notebook상에서 시각화 \n",
    "with open(\"tree.dot\") as f:\n",
    "    dot_graph = f.read()\n",
    "graphviz.Source(dot_graph)"
   ]
  },
  {
   "cell_type": "markdown",
   "id": "e914d4c8",
   "metadata": {},
   "source": [
    "### <li>각 파라미터의 정밀도 재현율 그래프"
   ]
  },
  {
   "cell_type": "code",
   "execution_count": 128,
   "id": "abf6c84b",
   "metadata": {},
   "outputs": [
    {
     "data": {
      "image/png": "[encoded data removed]",
      "text/plain": [
       "<Figure size 576x432 with 1 Axes>"
      ]
     },
     "metadata": {
      "needs_background": "light"
     },
     "output_type": "display_data"
    }
   ],
   "source": [
    "pred_proba_c1 = grid_dclf.predict_proba(X_test)[:, 1]\n",
    "precision_recall_curve_plot(y_test, pred_proba_c1)"
   ]
  },
  {
   "cell_type": "markdown",
   "id": "3b4d5cd2",
   "metadata": {},
   "source": [
    "### <li>최적 파라미터 예측 결과"
   ]
  },
  {
   "cell_type": "code",
   "execution_count": 129,
   "id": "1c4e49cd",
   "metadata": {},
   "outputs": [
    {
     "name": "stdout",
     "output_type": "stream",
     "text": [
      "오차 행렬\n",
      "[[6997  398]\n",
      " [1022 1352]]\n",
      "정확도        : 0.8546\n",
      "정밀도        : 0.7726\n",
      "재현율        : 0.5695\n",
      "F1스코어      : 0.6557\n",
      "roc_auc_스코어: 0.7578\n"
     ]
    }
   ],
   "source": [
    "# GridSearchCV의 refit으로 이미 학습이 된 estimator 반환\n",
    "estimator = grid_dclf.best_estimator_\n",
    "\n",
    "# GridSearchCV의 best_estimator_는 이미 최적 하이퍼 파라미터로 학습이 됨\n",
    "pred = estimator.predict(X_test)\n",
    "get_clf_eval(y_test , pred)"
   ]
  },
  {
   "cell_type": "markdown",
   "id": "a9c9c2c0",
   "metadata": {},
   "source": [
    "### <li>최적 파라미터 특징 중요도"
   ]
  },
  {
   "cell_type": "code",
   "execution_count": 130,
   "id": "78eb9523",
   "metadata": {},
   "outputs": [
    {
     "data": {
      "image/png": "[encoded data removed]",
      "text/plain": [
       "<Figure size 720x432 with 1 Axes>"
      ]
     },
     "metadata": {
      "needs_background": "light"
     },
     "output_type": "display_data"
    }
   ],
   "source": [
    "ftr_importances_values = estimator.feature_importances_\n",
    "# Top 중요도로 정렬을 쉽게 하고, 시본(Seaborn)의 막대그래프로 쉽게 표현하기 위해 Series변환\n",
    "ftr_importances = pd.Series(ftr_importances_values, index=X_train.columns  )\n",
    "# 중요도값 순으로 Series를 정렬\n",
    "ftr_top = ftr_importances.sort_values(ascending=False)\n",
    "plt.figure(figsize=(10,6))\n",
    "plt.title('Decision Tree Feature importances')\n",
    "sns.barplot(x=ftr_top , y = ftr_top.index)\n",
    "plt.show()"
   ]
  },
  {
   "cell_type": "markdown",
   "id": "f9c46521",
   "metadata": {},
   "source": [
    "## Random Forest"
   ]
  },
  {
   "cell_type": "markdown",
   "id": "c513cbca",
   "metadata": {},
   "source": [
    "### <li>최적 파라미터 탐색"
   ]
  },
  {
   "cell_type": "code",
   "execution_count": 131,
   "id": "df172d8a",
   "metadata": {},
   "outputs": [
    {
     "name": "stdout",
     "output_type": "stream",
     "text": [
      "최적 하이퍼 파라미터:\n",
      " {'max_depth': 12, 'min_samples_leaf': 8, 'min_samples_split': 20, 'n_estimators': 100}\n",
      "최고 예측 정확도: 0.8597\n"
     ]
    }
   ],
   "source": [
    "params = {\n",
    "    'n_estimators':[100],\n",
    "    'max_depth' : [6, 8, 10, 12], \n",
    "    'min_samples_leaf' : [8, 12, 18 ],\n",
    "    'min_samples_split' : [8, 16, 20]\n",
    "}\n",
    "# RandomForestClassifier 객체 생성 후 GridSearchCV 수행\n",
    "rf_clf = RandomForestClassifier(random_state=0, n_jobs=-1)\n",
    "grid_cv = GridSearchCV(rf_clf , param_grid=params , cv=2, n_jobs=-1 )\n",
    "grid_cv.fit(X_train , y_train)\n",
    "\n",
    "print('최적 하이퍼 파라미터:\\n', grid_cv.best_params_)\n",
    "print('최고 예측 정확도: {0:.4f}'.format(grid_cv.best_score_))\n",
    "estimator = grid_cv.best_estimator_"
   ]
  },
  {
   "cell_type": "markdown",
   "id": "c1994917",
   "metadata": {},
   "source": [
    "### <li>수형도 그리기"
   ]
  },
  {
   "cell_type": "code",
   "execution_count": 132,
   "id": "ae94563f",
   "metadata": {},
   "outputs": [],
   "source": [
    "# export_graphviz()의 호출 결과로 out_file로 지정된 tree.dot 파일을 생성함. \n",
    "export_graphviz(estimator[0], out_file='tree2.dot', \n",
    "                feature_names = X_test_df.columns,\n",
    "                max_depth = 3, # 표현하고 싶은 최대 depth\n",
    "                precision = 3, # 소수점 표기 자릿수\n",
    "                filled = True, # class별 color 채우기\n",
    "                rounded=True, # 박스의 모양을 둥글게\n",
    "               )"
   ]
  },
  {
   "cell_type": "code",
   "execution_count": 133,
   "id": "41d37286",
   "metadata": {
    "scrolled": false
   },
   "outputs": [
    {
     "data": {
      "image/svg+xml": [
       "<?xml version=\"1.0\" encoding=\"UTF-8\" standalone=\"no\"?>\r\n",
       "<!DOCTYPE svg PUBLIC \"-//W3C//DTD SVG 1.1//EN\"\r\n",
       " \"http://www.w3.org/Graphics/SVG/1.1/DTD/svg11.dtd\">\r\n",
       "<!-- Generated by graphviz version 2.47.1 (20210417.1919)\r\n",
       " -->\r\n",
       "<!-- Title: Tree Pages: 1 -->\r\n",
       "<svg width=\"1268pt\" height=\"460pt\"\r\n",
       " viewBox=\"0.00 0.00 1268.00 460.00\" xmlns=\"http://www.w3.org/2000/svg\" xmlns:xlink=\"http://www.w3.org/1999/xlink\">\r\n",
       "<g id=\"graph0\" class=\"graph\" transform=\"scale(1 1) rotate(0) translate(4 456)\">\r\n",
       "<title>Tree</title>\r\n",
       "<polygon fill=\"white\" stroke=\"transparent\" points=\"-4,4 -4,-456 1264,-456 1264,4 -4,4\"/>\r\n",
       "<!-- 0 -->\r\n",
       "<g id=\"node1\" class=\"node\">\r\n",
       "<title>0</title>\r\n",
       "<path fill=\"#eda979\" stroke=\"black\" d=\"M774.5,-452C774.5,-452 643.5,-452 643.5,-452 637.5,-452 631.5,-446 631.5,-440 631.5,-440 631.5,-396 631.5,-396 631.5,-390 637.5,-384 643.5,-384 643.5,-384 774.5,-384 774.5,-384 780.5,-384 786.5,-390 786.5,-396 786.5,-396 786.5,-440 786.5,-440 786.5,-446 780.5,-452 774.5,-452\"/>\r\n",
       "<text text-anchor=\"middle\" x=\"709\" y=\"-436.8\" font-family=\"Helvetica,sans-Serif\" font-size=\"14.00\">relationship &lt;= 0.5</text>\r\n",
       "<text text-anchor=\"middle\" x=\"709\" y=\"-421.8\" font-family=\"Helvetica,sans-Serif\" font-size=\"14.00\">gini = 0.368</text>\r\n",
       "<text text-anchor=\"middle\" x=\"709\" y=\"-406.8\" font-family=\"Helvetica,sans-Serif\" font-size=\"14.00\">samples = 14385</text>\r\n",
       "<text text-anchor=\"middle\" x=\"709\" y=\"-391.8\" font-family=\"Helvetica,sans-Serif\" font-size=\"14.00\">value = [17253, 5539]</text>\r\n",
       "</g>\r\n",
       "<!-- 1 -->\r\n",
       "<g id=\"node2\" class=\"node\">\r\n",
       "<title>1</title>\r\n",
       "<path fill=\"#fae7d9\" stroke=\"black\" d=\"M547.5,-348C547.5,-348 404.5,-348 404.5,-348 398.5,-348 392.5,-342 392.5,-336 392.5,-336 392.5,-292 392.5,-292 392.5,-286 398.5,-280 404.5,-280 404.5,-280 547.5,-280 547.5,-280 553.5,-280 559.5,-286 559.5,-292 559.5,-292 559.5,-336 559.5,-336 559.5,-342 553.5,-348 547.5,-348\"/>\r\n",
       "<text text-anchor=\"middle\" x=\"476\" y=\"-332.8\" font-family=\"Helvetica,sans-Serif\" font-size=\"14.00\">hours&#45;per&#45;week &lt;= 40.5</text>\r\n",
       "<text text-anchor=\"middle\" x=\"476\" y=\"-317.8\" font-family=\"Helvetica,sans-Serif\" font-size=\"14.00\">gini = 0.494</text>\r\n",
       "<text text-anchor=\"middle\" x=\"476\" y=\"-302.8\" font-family=\"Helvetica,sans-Serif\" font-size=\"14.00\">samples = 5861</text>\r\n",
       "<text text-anchor=\"middle\" x=\"476\" y=\"-287.8\" font-family=\"Helvetica,sans-Serif\" font-size=\"14.00\">value = [5078, 4102]</text>\r\n",
       "</g>\r\n",
       "<!-- 0&#45;&gt;1 -->\r\n",
       "<g id=\"edge1\" class=\"edge\">\r\n",
       "<title>0&#45;&gt;1</title>\r\n",
       "<path fill=\"none\" stroke=\"black\" d=\"M633.35,-383.88C610.24,-373.77 584.68,-362.58 560.99,-352.21\"/>\r\n",
       "<polygon fill=\"black\" stroke=\"black\" points=\"562.23,-348.93 551.67,-348.12 559.42,-355.34 562.23,-348.93\"/>\r\n",
       "<text text-anchor=\"middle\" x=\"560.77\" y=\"-367.71\" font-family=\"Helvetica,sans-Serif\" font-size=\"14.00\">True</text>\r\n",
       "</g>\r\n",
       "<!-- 322 -->\r\n",
       "<g id=\"node17\" class=\"node\">\r\n",
       "<title>322</title>\r\n",
       "<path fill=\"#e89050\" stroke=\"black\" d=\"M859.5,-348C859.5,-348 728.5,-348 728.5,-348 722.5,-348 716.5,-342 716.5,-336 716.5,-336 716.5,-292 716.5,-292 716.5,-286 722.5,-280 728.5,-280 728.5,-280 859.5,-280 859.5,-280 865.5,-280 871.5,-286 871.5,-292 871.5,-292 871.5,-336 871.5,-336 871.5,-342 865.5,-348 859.5,-348\"/>\r\n",
       "<text text-anchor=\"middle\" x=\"794\" y=\"-332.8\" font-family=\"Helvetica,sans-Serif\" font-size=\"14.00\">relationship &lt;= 4.5</text>\r\n",
       "<text text-anchor=\"middle\" x=\"794\" y=\"-317.8\" font-family=\"Helvetica,sans-Serif\" font-size=\"14.00\">gini = 0.189</text>\r\n",
       "<text text-anchor=\"middle\" x=\"794\" y=\"-302.8\" font-family=\"Helvetica,sans-Serif\" font-size=\"14.00\">samples = 8524</text>\r\n",
       "<text text-anchor=\"middle\" x=\"794\" y=\"-287.8\" font-family=\"Helvetica,sans-Serif\" font-size=\"14.00\">value = [12175, 1437]</text>\r\n",
       "</g>\r\n",
       "<!-- 0&#45;&gt;322 -->\r\n",
       "<g id=\"edge16\" class=\"edge\">\r\n",
       "<title>0&#45;&gt;322</title>\r\n",
       "<path fill=\"none\" stroke=\"black\" d=\"M736.6,-383.88C743.95,-375.07 751.97,-365.43 759.64,-356.24\"/>\r\n",
       "<polygon fill=\"black\" stroke=\"black\" points=\"762.54,-358.22 766.25,-348.3 757.16,-353.74 762.54,-358.22\"/>\r\n",
       "<text text-anchor=\"middle\" x=\"768.51\" y=\"-369.5\" font-family=\"Helvetica,sans-Serif\" font-size=\"14.00\">False</text>\r\n",
       "</g>\r\n",
       "<!-- 2 -->\r\n",
       "<g id=\"node3\" class=\"node\">\r\n",
       "<title>2</title>\r\n",
       "<path fill=\"#f4cbae\" stroke=\"black\" d=\"M298,-244C298,-244 160,-244 160,-244 154,-244 148,-238 148,-232 148,-232 148,-188 148,-188 148,-182 154,-176 160,-176 160,-176 298,-176 298,-176 304,-176 310,-182 310,-188 310,-188 310,-232 310,-232 310,-238 304,-244 298,-244\"/>\r\n",
       "<text text-anchor=\"middle\" x=\"229\" y=\"-228.8\" font-family=\"Helvetica,sans-Serif\" font-size=\"14.00\">education&#45;num &lt;= 11.5</text>\r\n",
       "<text text-anchor=\"middle\" x=\"229\" y=\"-213.8\" font-family=\"Helvetica,sans-Serif\" font-size=\"14.00\">gini = 0.467</text>\r\n",
       "<text text-anchor=\"middle\" x=\"229\" y=\"-198.8\" font-family=\"Helvetica,sans-Serif\" font-size=\"14.00\">samples = 3468</text>\r\n",
       "<text text-anchor=\"middle\" x=\"229\" y=\"-183.8\" font-family=\"Helvetica,sans-Serif\" font-size=\"14.00\">value = [3429, 2026]</text>\r\n",
       "</g>\r\n",
       "<!-- 1&#45;&gt;2 -->\r\n",
       "<g id=\"edge2\" class=\"edge\">\r\n",
       "<title>1&#45;&gt;2</title>\r\n",
       "<path fill=\"none\" stroke=\"black\" d=\"M395.81,-279.88C371.2,-269.72 343.97,-258.48 318.76,-248.07\"/>\r\n",
       "<polygon fill=\"black\" stroke=\"black\" points=\"319.79,-244.71 309.21,-244.12 317.12,-251.18 319.79,-244.71\"/>\r\n",
       "</g>\r\n",
       "<!-- 157 -->\r\n",
       "<g id=\"node10\" class=\"node\">\r\n",
       "<title>157</title>\r\n",
       "<path fill=\"#d6ebfa\" stroke=\"black\" d=\"M537,-244C537,-244 415,-244 415,-244 409,-244 403,-238 403,-232 403,-232 403,-188 403,-188 403,-182 409,-176 415,-176 415,-176 537,-176 537,-176 543,-176 549,-182 549,-188 549,-188 549,-232 549,-232 549,-238 543,-244 537,-244\"/>\r\n",
       "<text text-anchor=\"middle\" x=\"476\" y=\"-228.8\" font-family=\"Helvetica,sans-Serif\" font-size=\"14.00\">age &lt;= 12.5</text>\r\n",
       "<text text-anchor=\"middle\" x=\"476\" y=\"-213.8\" font-family=\"Helvetica,sans-Serif\" font-size=\"14.00\">gini = 0.493</text>\r\n",
       "<text text-anchor=\"middle\" x=\"476\" y=\"-198.8\" font-family=\"Helvetica,sans-Serif\" font-size=\"14.00\">samples = 2393</text>\r\n",
       "<text text-anchor=\"middle\" x=\"476\" y=\"-183.8\" font-family=\"Helvetica,sans-Serif\" font-size=\"14.00\">value = [1649, 2076]</text>\r\n",
       "</g>\r\n",
       "<!-- 1&#45;&gt;157 -->\r\n",
       "<g id=\"edge9\" class=\"edge\">\r\n",
       "<title>1&#45;&gt;157</title>\r\n",
       "<path fill=\"none\" stroke=\"black\" d=\"M476,-279.88C476,-271.78 476,-262.98 476,-254.47\"/>\r\n",
       "<polygon fill=\"black\" stroke=\"black\" points=\"479.5,-254.3 476,-244.3 472.5,-254.3 479.5,-254.3\"/>\r\n",
       "</g>\r\n",
       "<!-- 3 -->\r\n",
       "<g id=\"node4\" class=\"node\">\r\n",
       "<title>3</title>\r\n",
       "<path fill=\"#efb388\" stroke=\"black\" d=\"M134,-140C134,-140 12,-140 12,-140 6,-140 0,-134 0,-128 0,-128 0,-84 0,-84 0,-78 6,-72 12,-72 12,-72 134,-72 134,-72 140,-72 146,-78 146,-84 146,-84 146,-128 146,-128 146,-134 140,-140 134,-140\"/>\r\n",
       "<text text-anchor=\"middle\" x=\"73\" y=\"-124.8\" font-family=\"Helvetica,sans-Serif\" font-size=\"14.00\">capital&#45;gain &lt;= 78.0</text>\r\n",
       "<text text-anchor=\"middle\" x=\"73\" y=\"-109.8\" font-family=\"Helvetica,sans-Serif\" font-size=\"14.00\">gini = 0.408</text>\r\n",
       "<text text-anchor=\"middle\" x=\"73\" y=\"-94.8\" font-family=\"Helvetica,sans-Serif\" font-size=\"14.00\">samples = 2596</text>\r\n",
       "<text text-anchor=\"middle\" x=\"73\" y=\"-79.8\" font-family=\"Helvetica,sans-Serif\" font-size=\"14.00\">value = [2931, 1174]</text>\r\n",
       "</g>\r\n",
       "<!-- 2&#45;&gt;3 -->\r\n",
       "<g id=\"edge3\" class=\"edge\">\r\n",
       "<title>2&#45;&gt;3</title>\r\n",
       "<path fill=\"none\" stroke=\"black\" d=\"M178.35,-175.88C163.7,-166.3 147.58,-155.76 132.44,-145.86\"/>\r\n",
       "<polygon fill=\"black\" stroke=\"black\" points=\"133.95,-142.67 123.66,-140.12 130.12,-148.53 133.95,-142.67\"/>\r\n",
       "</g>\r\n",
       "<!-- 102 -->\r\n",
       "<g id=\"node7\" class=\"node\">\r\n",
       "<title>102</title>\r\n",
       "<path fill=\"#add6f4\" stroke=\"black\" d=\"M282,-140C282,-140 176,-140 176,-140 170,-140 164,-134 164,-128 164,-128 164,-84 164,-84 164,-78 170,-72 176,-72 176,-72 282,-72 282,-72 288,-72 294,-78 294,-84 294,-84 294,-128 294,-128 294,-134 288,-140 282,-140\"/>\r\n",
       "<text text-anchor=\"middle\" x=\"229\" y=\"-124.8\" font-family=\"Helvetica,sans-Serif\" font-size=\"14.00\">occupation &lt;= 3.5</text>\r\n",
       "<text text-anchor=\"middle\" x=\"229\" y=\"-109.8\" font-family=\"Helvetica,sans-Serif\" font-size=\"14.00\">gini = 0.466</text>\r\n",
       "<text text-anchor=\"middle\" x=\"229\" y=\"-94.8\" font-family=\"Helvetica,sans-Serif\" font-size=\"14.00\">samples = 872</text>\r\n",
       "<text text-anchor=\"middle\" x=\"229\" y=\"-79.8\" font-family=\"Helvetica,sans-Serif\" font-size=\"14.00\">value = [498, 852]</text>\r\n",
       "</g>\r\n",
       "<!-- 2&#45;&gt;102 -->\r\n",
       "<g id=\"edge6\" class=\"edge\">\r\n",
       "<title>2&#45;&gt;102</title>\r\n",
       "<path fill=\"none\" stroke=\"black\" d=\"M229,-175.88C229,-167.78 229,-158.98 229,-150.47\"/>\r\n",
       "<polygon fill=\"black\" stroke=\"black\" points=\"232.5,-150.3 229,-140.3 225.5,-150.3 232.5,-150.3\"/>\r\n",
       "</g>\r\n",
       "<!-- 4 -->\r\n",
       "<g id=\"node5\" class=\"node\">\r\n",
       "<title>4</title>\r\n",
       "<path fill=\"#c0c0c0\" stroke=\"black\" d=\"M83,-36C83,-36 53,-36 53,-36 47,-36 41,-30 41,-24 41,-24 41,-12 41,-12 41,-6 47,0 53,0 53,0 83,0 83,0 89,0 95,-6 95,-12 95,-12 95,-24 95,-24 95,-30 89,-36 83,-36\"/>\r\n",
       "<text text-anchor=\"middle\" x=\"68\" y=\"-14.3\" font-family=\"Helvetica,sans-Serif\" font-size=\"14.00\">(...)</text>\r\n",
       "</g>\r\n",
       "<!-- 3&#45;&gt;4 -->\r\n",
       "<g id=\"edge4\" class=\"edge\">\r\n",
       "<title>3&#45;&gt;4</title>\r\n",
       "<path fill=\"none\" stroke=\"black\" d=\"M71.08,-72C70.59,-63.56 70.07,-54.59 69.6,-46.47\"/>\r\n",
       "<polygon fill=\"black\" stroke=\"black\" points=\"73.09,-46.18 69.01,-36.4 66.1,-46.59 73.09,-46.18\"/>\r\n",
       "</g>\r\n",
       "<!-- 99 -->\r\n",
       "<g id=\"node6\" class=\"node\">\r\n",
       "<title>99</title>\r\n",
       "<path fill=\"#c0c0c0\" stroke=\"black\" d=\"M155,-36C155,-36 125,-36 125,-36 119,-36 113,-30 113,-24 113,-24 113,-12 113,-12 113,-6 119,0 125,0 125,0 155,0 155,0 161,0 167,-6 167,-12 167,-12 167,-24 167,-24 167,-30 161,-36 155,-36\"/>\r\n",
       "<text text-anchor=\"middle\" x=\"140\" y=\"-14.3\" font-family=\"Helvetica,sans-Serif\" font-size=\"14.00\">(...)</text>\r\n",
       "</g>\r\n",
       "<!-- 3&#45;&gt;99 -->\r\n",
       "<g id=\"edge5\" class=\"edge\">\r\n",
       "<title>3&#45;&gt;99</title>\r\n",
       "<path fill=\"none\" stroke=\"black\" d=\"M98.71,-72C105.87,-62.81 113.53,-52.97 120.29,-44.3\"/>\r\n",
       "<polygon fill=\"black\" stroke=\"black\" points=\"123.06,-46.44 126.44,-36.4 117.53,-42.14 123.06,-46.44\"/>\r\n",
       "</g>\r\n",
       "<!-- 103 -->\r\n",
       "<g id=\"node8\" class=\"node\">\r\n",
       "<title>103</title>\r\n",
       "<path fill=\"#c0c0c0\" stroke=\"black\" d=\"M228,-36C228,-36 198,-36 198,-36 192,-36 186,-30 186,-24 186,-24 186,-12 186,-12 186,-6 192,0 198,0 198,0 228,0 228,0 234,0 240,-6 240,-12 240,-12 240,-24 240,-24 240,-30 234,-36 228,-36\"/>\r\n",
       "<text text-anchor=\"middle\" x=\"213\" y=\"-14.3\" font-family=\"Helvetica,sans-Serif\" font-size=\"14.00\">(...)</text>\r\n",
       "</g>\r\n",
       "<!-- 102&#45;&gt;103 -->\r\n",
       "<g id=\"edge7\" class=\"edge\">\r\n",
       "<title>102&#45;&gt;103</title>\r\n",
       "<path fill=\"none\" stroke=\"black\" d=\"M222.86,-72C221.29,-63.56 219.62,-54.59 218.11,-46.47\"/>\r\n",
       "<polygon fill=\"black\" stroke=\"black\" points=\"221.51,-45.59 216.24,-36.4 214.63,-46.87 221.51,-45.59\"/>\r\n",
       "</g>\r\n",
       "<!-- 116 -->\r\n",
       "<g id=\"node9\" class=\"node\">\r\n",
       "<title>116</title>\r\n",
       "<path fill=\"#c0c0c0\" stroke=\"black\" d=\"M300,-36C300,-36 270,-36 270,-36 264,-36 258,-30 258,-24 258,-24 258,-12 258,-12 258,-6 264,0 270,0 270,0 300,0 300,0 306,0 312,-6 312,-12 312,-12 312,-24 312,-24 312,-30 306,-36 300,-36\"/>\r\n",
       "<text text-anchor=\"middle\" x=\"285\" y=\"-14.3\" font-family=\"Helvetica,sans-Serif\" font-size=\"14.00\">(...)</text>\r\n",
       "</g>\r\n",
       "<!-- 102&#45;&gt;116 -->\r\n",
       "<g id=\"edge8\" class=\"edge\">\r\n",
       "<title>102&#45;&gt;116</title>\r\n",
       "<path fill=\"none\" stroke=\"black\" d=\"M250.49,-72C256.35,-63 262.61,-53.38 268.17,-44.84\"/>\r\n",
       "<polygon fill=\"black\" stroke=\"black\" points=\"271.14,-46.69 273.67,-36.4 265.28,-42.87 271.14,-46.69\"/>\r\n",
       "</g>\r\n",
       "<!-- 158 -->\r\n",
       "<g id=\"node11\" class=\"node\">\r\n",
       "<title>158</title>\r\n",
       "<path fill=\"#f0b58b\" stroke=\"black\" d=\"M440,-140C440,-140 324,-140 324,-140 318,-140 312,-134 312,-128 312,-128 312,-84 312,-84 312,-78 318,-72 324,-72 324,-72 440,-72 440,-72 446,-72 452,-78 452,-84 452,-84 452,-128 452,-128 452,-134 446,-140 440,-140\"/>\r\n",
       "<text text-anchor=\"middle\" x=\"382\" y=\"-124.8\" font-family=\"Helvetica,sans-Serif\" font-size=\"14.00\">capital&#45;loss &lt;= 40.5</text>\r\n",
       "<text text-anchor=\"middle\" x=\"382\" y=\"-109.8\" font-family=\"Helvetica,sans-Serif\" font-size=\"14.00\">gini = 0.415</text>\r\n",
       "<text text-anchor=\"middle\" x=\"382\" y=\"-94.8\" font-family=\"Helvetica,sans-Serif\" font-size=\"14.00\">samples = 244</text>\r\n",
       "<text text-anchor=\"middle\" x=\"382\" y=\"-79.8\" font-family=\"Helvetica,sans-Serif\" font-size=\"14.00\">value = [279, 116]</text>\r\n",
       "</g>\r\n",
       "<!-- 157&#45;&gt;158 -->\r\n",
       "<g id=\"edge10\" class=\"edge\">\r\n",
       "<title>157&#45;&gt;158</title>\r\n",
       "<path fill=\"none\" stroke=\"black\" d=\"M445.48,-175.88C437.19,-166.89 428.12,-157.04 419.49,-147.68\"/>\r\n",
       "<polygon fill=\"black\" stroke=\"black\" points=\"422.04,-145.28 412.69,-140.3 416.89,-150.02 422.04,-145.28\"/>\r\n",
       "</g>\r\n",
       "<!-- 195 -->\r\n",
       "<g id=\"node14\" class=\"node\">\r\n",
       "<title>195</title>\r\n",
       "<path fill=\"#c3e2f7\" stroke=\"black\" d=\"M620,-140C620,-140 482,-140 482,-140 476,-140 470,-134 470,-128 470,-128 470,-84 470,-84 470,-78 476,-72 482,-72 482,-72 620,-72 620,-72 626,-72 632,-78 632,-84 632,-84 632,-128 632,-128 632,-134 626,-140 620,-140\"/>\r\n",
       "<text text-anchor=\"middle\" x=\"551\" y=\"-124.8\" font-family=\"Helvetica,sans-Serif\" font-size=\"14.00\">education&#45;num &lt;= 10.5</text>\r\n",
       "<text text-anchor=\"middle\" x=\"551\" y=\"-109.8\" font-family=\"Helvetica,sans-Serif\" font-size=\"14.00\">gini = 0.484</text>\r\n",
       "<text text-anchor=\"middle\" x=\"551\" y=\"-94.8\" font-family=\"Helvetica,sans-Serif\" font-size=\"14.00\">samples = 2149</text>\r\n",
       "<text text-anchor=\"middle\" x=\"551\" y=\"-79.8\" font-family=\"Helvetica,sans-Serif\" font-size=\"14.00\">value = [1370, 1960]</text>\r\n",
       "</g>\r\n",
       "<!-- 157&#45;&gt;195 -->\r\n",
       "<g id=\"edge13\" class=\"edge\">\r\n",
       "<title>157&#45;&gt;195</title>\r\n",
       "<path fill=\"none\" stroke=\"black\" d=\"M500.35,-175.88C506.77,-167.15 513.78,-157.62 520.48,-148.51\"/>\r\n",
       "<polygon fill=\"black\" stroke=\"black\" points=\"523.41,-150.43 526.52,-140.3 517.77,-146.28 523.41,-150.43\"/>\r\n",
       "</g>\r\n",
       "<!-- 159 -->\r\n",
       "<g id=\"node12\" class=\"node\">\r\n",
       "<title>159</title>\r\n",
       "<path fill=\"#c0c0c0\" stroke=\"black\" d=\"M373,-36C373,-36 343,-36 343,-36 337,-36 331,-30 331,-24 331,-24 331,-12 331,-12 331,-6 337,0 343,0 343,0 373,0 373,0 379,0 385,-6 385,-12 385,-12 385,-24 385,-24 385,-30 379,-36 373,-36\"/>\r\n",
       "<text text-anchor=\"middle\" x=\"358\" y=\"-14.3\" font-family=\"Helvetica,sans-Serif\" font-size=\"14.00\">(...)</text>\r\n",
       "</g>\r\n",
       "<!-- 158&#45;&gt;159 -->\r\n",
       "<g id=\"edge11\" class=\"edge\">\r\n",
       "<title>158&#45;&gt;159</title>\r\n",
       "<path fill=\"none\" stroke=\"black\" d=\"M372.79,-72C370.41,-63.47 367.88,-54.39 365.59,-46.2\"/>\r\n",
       "<polygon fill=\"black\" stroke=\"black\" points=\"368.92,-45.09 362.86,-36.4 362.17,-46.98 368.92,-45.09\"/>\r\n",
       "</g>\r\n",
       "<!-- 194 -->\r\n",
       "<g id=\"node13\" class=\"node\">\r\n",
       "<title>194</title>\r\n",
       "<path fill=\"#c0c0c0\" stroke=\"black\" d=\"M445,-36C445,-36 415,-36 415,-36 409,-36 403,-30 403,-24 403,-24 403,-12 403,-12 403,-6 409,0 415,0 415,0 445,0 445,0 451,0 457,-6 457,-12 457,-12 457,-24 457,-24 457,-30 451,-36 445,-36\"/>\r\n",
       "<text text-anchor=\"middle\" x=\"430\" y=\"-14.3\" font-family=\"Helvetica,sans-Serif\" font-size=\"14.00\">(...)</text>\r\n",
       "</g>\r\n",
       "<!-- 158&#45;&gt;194 -->\r\n",
       "<g id=\"edge12\" class=\"edge\">\r\n",
       "<title>158&#45;&gt;194</title>\r\n",
       "<path fill=\"none\" stroke=\"black\" d=\"M400.42,-72C405.34,-63.19 410.59,-53.78 415.28,-45.38\"/>\r\n",
       "<polygon fill=\"black\" stroke=\"black\" points=\"418.47,-46.84 420.29,-36.4 412.36,-43.43 418.47,-46.84\"/>\r\n",
       "</g>\r\n",
       "<!-- 196 -->\r\n",
       "<g id=\"node15\" class=\"node\">\r\n",
       "<title>196</title>\r\n",
       "<path fill=\"#c0c0c0\" stroke=\"black\" d=\"M519,-36C519,-36 489,-36 489,-36 483,-36 477,-30 477,-24 477,-24 477,-12 477,-12 477,-6 483,0 489,0 489,0 519,0 519,0 525,0 531,-6 531,-12 531,-12 531,-24 531,-24 531,-30 525,-36 519,-36\"/>\r\n",
       "<text text-anchor=\"middle\" x=\"504\" y=\"-14.3\" font-family=\"Helvetica,sans-Serif\" font-size=\"14.00\">(...)</text>\r\n",
       "</g>\r\n",
       "<!-- 195&#45;&gt;196 -->\r\n",
       "<g id=\"edge14\" class=\"edge\">\r\n",
       "<title>195&#45;&gt;196</title>\r\n",
       "<path fill=\"none\" stroke=\"black\" d=\"M532.96,-72C528.15,-63.19 523.01,-53.78 518.42,-45.38\"/>\r\n",
       "<polygon fill=\"black\" stroke=\"black\" points=\"521.38,-43.5 513.51,-36.4 515.24,-46.86 521.38,-43.5\"/>\r\n",
       "</g>\r\n",
       "<!-- 281 -->\r\n",
       "<g id=\"node16\" class=\"node\">\r\n",
       "<title>281</title>\r\n",
       "<path fill=\"#c0c0c0\" stroke=\"black\" d=\"M591,-36C591,-36 561,-36 561,-36 555,-36 549,-30 549,-24 549,-24 549,-12 549,-12 549,-6 555,0 561,0 561,0 591,0 591,0 597,0 603,-6 603,-12 603,-12 603,-24 603,-24 603,-30 597,-36 591,-36\"/>\r\n",
       "<text text-anchor=\"middle\" x=\"576\" y=\"-14.3\" font-family=\"Helvetica,sans-Serif\" font-size=\"14.00\">(...)</text>\r\n",
       "</g>\r\n",
       "<!-- 195&#45;&gt;281 -->\r\n",
       "<g id=\"edge15\" class=\"edge\">\r\n",
       "<title>195&#45;&gt;281</title>\r\n",
       "<path fill=\"none\" stroke=\"black\" d=\"M560.59,-72C563.07,-63.47 565.71,-54.39 568.09,-46.2\"/>\r\n",
       "<polygon fill=\"black\" stroke=\"black\" points=\"571.51,-46.98 570.94,-36.4 564.79,-45.03 571.51,-46.98\"/>\r\n",
       "</g>\r\n",
       "<!-- 323 -->\r\n",
       "<g id=\"node18\" class=\"node\">\r\n",
       "<title>323</title>\r\n",
       "<path fill=\"#e78a48\" stroke=\"black\" d=\"M863,-244C863,-244 725,-244 725,-244 719,-244 713,-238 713,-232 713,-232 713,-188 713,-188 713,-182 719,-176 725,-176 725,-176 863,-176 863,-176 869,-176 875,-182 875,-188 875,-188 875,-232 875,-232 875,-238 869,-244 863,-244\"/>\r\n",
       "<text text-anchor=\"middle\" x=\"794\" y=\"-228.8\" font-family=\"Helvetica,sans-Serif\" font-size=\"14.00\">education&#45;num &lt;= 11.5</text>\r\n",
       "<text text-anchor=\"middle\" x=\"794\" y=\"-213.8\" font-family=\"Helvetica,sans-Serif\" font-size=\"14.00\">gini = 0.13</text>\r\n",
       "<text text-anchor=\"middle\" x=\"794\" y=\"-198.8\" font-family=\"Helvetica,sans-Serif\" font-size=\"14.00\">samples = 7814</text>\r\n",
       "<text text-anchor=\"middle\" x=\"794\" y=\"-183.8\" font-family=\"Helvetica,sans-Serif\" font-size=\"14.00\">value = [11556, 870]</text>\r\n",
       "</g>\r\n",
       "<!-- 322&#45;&gt;323 -->\r\n",
       "<g id=\"edge17\" class=\"edge\">\r\n",
       "<title>322&#45;&gt;323</title>\r\n",
       "<path fill=\"none\" stroke=\"black\" d=\"M794,-279.88C794,-271.78 794,-262.98 794,-254.47\"/>\r\n",
       "<polygon fill=\"black\" stroke=\"black\" points=\"797.5,-254.3 794,-244.3 790.5,-254.3 797.5,-254.3\"/>\r\n",
       "</g>\r\n",
       "<!-- 616 -->\r\n",
       "<g id=\"node25\" class=\"node\">\r\n",
       "<title>616</title>\r\n",
       "<path fill=\"#fdf4ee\" stroke=\"black\" d=\"M1085,-244C1085,-244 979,-244 979,-244 973,-244 967,-238 967,-232 967,-232 967,-188 967,-188 967,-182 973,-176 979,-176 979,-176 1085,-176 1085,-176 1091,-176 1097,-182 1097,-188 1097,-188 1097,-232 1097,-232 1097,-238 1091,-244 1085,-244\"/>\r\n",
       "<text text-anchor=\"middle\" x=\"1032\" y=\"-228.8\" font-family=\"Helvetica,sans-Serif\" font-size=\"14.00\">occupation &lt;= 9.5</text>\r\n",
       "<text text-anchor=\"middle\" x=\"1032\" y=\"-213.8\" font-family=\"Helvetica,sans-Serif\" font-size=\"14.00\">gini = 0.499</text>\r\n",
       "<text text-anchor=\"middle\" x=\"1032\" y=\"-198.8\" font-family=\"Helvetica,sans-Serif\" font-size=\"14.00\">samples = 710</text>\r\n",
       "<text text-anchor=\"middle\" x=\"1032\" y=\"-183.8\" font-family=\"Helvetica,sans-Serif\" font-size=\"14.00\">value = [619, 567]</text>\r\n",
       "</g>\r\n",
       "<!-- 322&#45;&gt;616 -->\r\n",
       "<g id=\"edge24\" class=\"edge\">\r\n",
       "<title>322&#45;&gt;616</title>\r\n",
       "<path fill=\"none\" stroke=\"black\" d=\"M871.27,-279.88C898.83,-268.07 929.81,-254.79 957.17,-243.07\"/>\r\n",
       "<polygon fill=\"black\" stroke=\"black\" points=\"958.87,-246.15 966.68,-238.99 956.11,-239.72 958.87,-246.15\"/>\r\n",
       "</g>\r\n",
       "<!-- 324 -->\r\n",
       "<g id=\"node19\" class=\"node\">\r\n",
       "<title>324</title>\r\n",
       "<path fill=\"#e68640\" stroke=\"black\" d=\"M776,-140C776,-140 662,-140 662,-140 656,-140 650,-134 650,-128 650,-128 650,-84 650,-84 650,-78 656,-72 662,-72 662,-72 776,-72 776,-72 782,-72 788,-78 788,-84 788,-84 788,-128 788,-128 788,-134 782,-140 776,-140\"/>\r\n",
       "<text text-anchor=\"middle\" x=\"719\" y=\"-124.8\" font-family=\"Helvetica,sans-Serif\" font-size=\"14.00\">relationship &lt;= 1.5</text>\r\n",
       "<text text-anchor=\"middle\" x=\"719\" y=\"-109.8\" font-family=\"Helvetica,sans-Serif\" font-size=\"14.00\">gini = 0.07</text>\r\n",
       "<text text-anchor=\"middle\" x=\"719\" y=\"-94.8\" font-family=\"Helvetica,sans-Serif\" font-size=\"14.00\">samples = 6197</text>\r\n",
       "<text text-anchor=\"middle\" x=\"719\" y=\"-79.8\" font-family=\"Helvetica,sans-Serif\" font-size=\"14.00\">value = [9509, 356]</text>\r\n",
       "</g>\r\n",
       "<!-- 323&#45;&gt;324 -->\r\n",
       "<g id=\"edge18\" class=\"edge\">\r\n",
       "<title>323&#45;&gt;324</title>\r\n",
       "<path fill=\"none\" stroke=\"black\" d=\"M769.65,-175.88C763.23,-167.15 756.22,-157.62 749.52,-148.51\"/>\r\n",
       "<polygon fill=\"black\" stroke=\"black\" points=\"752.23,-146.28 743.48,-140.3 746.59,-150.43 752.23,-146.28\"/>\r\n",
       "</g>\r\n",
       "<!-- 521 -->\r\n",
       "<g id=\"node22\" class=\"node\">\r\n",
       "<title>521</title>\r\n",
       "<path fill=\"#eca16b\" stroke=\"black\" d=\"M932,-140C932,-140 818,-140 818,-140 812,-140 806,-134 806,-128 806,-128 806,-84 806,-84 806,-78 812,-72 818,-72 818,-72 932,-72 932,-72 938,-72 944,-78 944,-84 944,-84 944,-128 944,-128 944,-134 938,-140 932,-140\"/>\r\n",
       "<text text-anchor=\"middle\" x=\"875\" y=\"-124.8\" font-family=\"Helvetica,sans-Serif\" font-size=\"14.00\">age &lt;= 14.5</text>\r\n",
       "<text text-anchor=\"middle\" x=\"875\" y=\"-109.8\" font-family=\"Helvetica,sans-Serif\" font-size=\"14.00\">gini = 0.321</text>\r\n",
       "<text text-anchor=\"middle\" x=\"875\" y=\"-94.8\" font-family=\"Helvetica,sans-Serif\" font-size=\"14.00\">samples = 1617</text>\r\n",
       "<text text-anchor=\"middle\" x=\"875\" y=\"-79.8\" font-family=\"Helvetica,sans-Serif\" font-size=\"14.00\">value = [2047, 514]</text>\r\n",
       "</g>\r\n",
       "<!-- 323&#45;&gt;521 -->\r\n",
       "<g id=\"edge21\" class=\"edge\">\r\n",
       "<title>323&#45;&gt;521</title>\r\n",
       "<path fill=\"none\" stroke=\"black\" d=\"M820.3,-175.88C827.3,-167.07 834.95,-157.43 842.25,-148.24\"/>\r\n",
       "<polygon fill=\"black\" stroke=\"black\" points=\"845.08,-150.31 848.56,-140.3 839.6,-145.95 845.08,-150.31\"/>\r\n",
       "</g>\r\n",
       "<!-- 325 -->\r\n",
       "<g id=\"node20\" class=\"node\">\r\n",
       "<title>325</title>\r\n",
       "<path fill=\"#c0c0c0\" stroke=\"black\" d=\"M668,-36C668,-36 638,-36 638,-36 632,-36 626,-30 626,-24 626,-24 626,-12 626,-12 626,-6 632,0 638,0 638,0 668,0 668,0 674,0 680,-6 680,-12 680,-12 680,-24 680,-24 680,-30 674,-36 668,-36\"/>\r\n",
       "<text text-anchor=\"middle\" x=\"653\" y=\"-14.3\" font-family=\"Helvetica,sans-Serif\" font-size=\"14.00\">(...)</text>\r\n",
       "</g>\r\n",
       "<!-- 324&#45;&gt;325 -->\r\n",
       "<g id=\"edge19\" class=\"edge\">\r\n",
       "<title>324&#45;&gt;325</title>\r\n",
       "<path fill=\"none\" stroke=\"black\" d=\"M693.67,-72C686.69,-62.9 679.23,-53.18 672.62,-44.57\"/>\r\n",
       "<polygon fill=\"black\" stroke=\"black\" points=\"675.22,-42.21 666.36,-36.4 669.67,-46.47 675.22,-42.21\"/>\r\n",
       "</g>\r\n",
       "<!-- 436 -->\r\n",
       "<g id=\"node21\" class=\"node\">\r\n",
       "<title>436</title>\r\n",
       "<path fill=\"#c0c0c0\" stroke=\"black\" d=\"M740,-36C740,-36 710,-36 710,-36 704,-36 698,-30 698,-24 698,-24 698,-12 698,-12 698,-6 704,0 710,0 710,0 740,0 740,0 746,0 752,-6 752,-12 752,-12 752,-24 752,-24 752,-30 746,-36 740,-36\"/>\r\n",
       "<text text-anchor=\"middle\" x=\"725\" y=\"-14.3\" font-family=\"Helvetica,sans-Serif\" font-size=\"14.00\">(...)</text>\r\n",
       "</g>\r\n",
       "<!-- 324&#45;&gt;436 -->\r\n",
       "<g id=\"edge20\" class=\"edge\">\r\n",
       "<title>324&#45;&gt;436</title>\r\n",
       "<path fill=\"none\" stroke=\"black\" d=\"M721.3,-72C721.89,-63.56 722.52,-54.59 723.08,-46.47\"/>\r\n",
       "<polygon fill=\"black\" stroke=\"black\" points=\"726.58,-46.62 723.79,-36.4 719.6,-46.14 726.58,-46.62\"/>\r\n",
       "</g>\r\n",
       "<!-- 522 -->\r\n",
       "<g id=\"node23\" class=\"node\">\r\n",
       "<title>522</title>\r\n",
       "<path fill=\"#c0c0c0\" stroke=\"black\" d=\"M824,-36C824,-36 794,-36 794,-36 788,-36 782,-30 782,-24 782,-24 782,-12 782,-12 782,-6 788,0 794,0 794,0 824,0 824,0 830,0 836,-6 836,-12 836,-12 836,-24 836,-24 836,-30 830,-36 824,-36\"/>\r\n",
       "<text text-anchor=\"middle\" x=\"809\" y=\"-14.3\" font-family=\"Helvetica,sans-Serif\" font-size=\"14.00\">(...)</text>\r\n",
       "</g>\r\n",
       "<!-- 521&#45;&gt;522 -->\r\n",
       "<g id=\"edge22\" class=\"edge\">\r\n",
       "<title>521&#45;&gt;522</title>\r\n",
       "<path fill=\"none\" stroke=\"black\" d=\"M849.67,-72C842.69,-62.9 835.23,-53.18 828.62,-44.57\"/>\r\n",
       "<polygon fill=\"black\" stroke=\"black\" points=\"831.22,-42.21 822.36,-36.4 825.67,-46.47 831.22,-42.21\"/>\r\n",
       "</g>\r\n",
       "<!-- 561 -->\r\n",
       "<g id=\"node24\" class=\"node\">\r\n",
       "<title>561</title>\r\n",
       "<path fill=\"#c0c0c0\" stroke=\"black\" d=\"M896,-36C896,-36 866,-36 866,-36 860,-36 854,-30 854,-24 854,-24 854,-12 854,-12 854,-6 860,0 866,0 866,0 896,0 896,0 902,0 908,-6 908,-12 908,-12 908,-24 908,-24 908,-30 902,-36 896,-36\"/>\r\n",
       "<text text-anchor=\"middle\" x=\"881\" y=\"-14.3\" font-family=\"Helvetica,sans-Serif\" font-size=\"14.00\">(...)</text>\r\n",
       "</g>\r\n",
       "<!-- 521&#45;&gt;561 -->\r\n",
       "<g id=\"edge23\" class=\"edge\">\r\n",
       "<title>521&#45;&gt;561</title>\r\n",
       "<path fill=\"none\" stroke=\"black\" d=\"M877.3,-72C877.89,-63.56 878.52,-54.59 879.08,-46.47\"/>\r\n",
       "<polygon fill=\"black\" stroke=\"black\" points=\"882.58,-46.62 879.79,-36.4 875.6,-46.14 882.58,-46.62\"/>\r\n",
       "</g>\r\n",
       "<!-- 617 -->\r\n",
       "<g id=\"node26\" class=\"node\">\r\n",
       "<title>617</title>\r\n",
       "<path fill=\"#f7d7c0\" stroke=\"black\" d=\"M1090,-140C1090,-140 974,-140 974,-140 968,-140 962,-134 962,-128 962,-128 962,-84 962,-84 962,-78 968,-72 974,-72 974,-72 1090,-72 1090,-72 1096,-72 1102,-78 1102,-84 1102,-84 1102,-128 1102,-128 1102,-134 1096,-140 1090,-140\"/>\r\n",
       "<text text-anchor=\"middle\" x=\"1032\" y=\"-124.8\" font-family=\"Helvetica,sans-Serif\" font-size=\"14.00\">capital&#45;gain &lt;= 78.0</text>\r\n",
       "<text text-anchor=\"middle\" x=\"1032\" y=\"-109.8\" font-family=\"Helvetica,sans-Serif\" font-size=\"14.00\">gini = 0.482</text>\r\n",
       "<text text-anchor=\"middle\" x=\"1032\" y=\"-94.8\" font-family=\"Helvetica,sans-Serif\" font-size=\"14.00\">samples = 500</text>\r\n",
       "<text text-anchor=\"middle\" x=\"1032\" y=\"-79.8\" font-family=\"Helvetica,sans-Serif\" font-size=\"14.00\">value = [496, 339]</text>\r\n",
       "</g>\r\n",
       "<!-- 616&#45;&gt;617 -->\r\n",
       "<g id=\"edge25\" class=\"edge\">\r\n",
       "<title>616&#45;&gt;617</title>\r\n",
       "<path fill=\"none\" stroke=\"black\" d=\"M1032,-175.88C1032,-167.78 1032,-158.98 1032,-150.47\"/>\r\n",
       "<polygon fill=\"black\" stroke=\"black\" points=\"1035.5,-150.3 1032,-140.3 1028.5,-150.3 1035.5,-150.3\"/>\r\n",
       "</g>\r\n",
       "<!-- 638 -->\r\n",
       "<g id=\"node29\" class=\"node\">\r\n",
       "<title>638</title>\r\n",
       "<path fill=\"#a4d2f3\" stroke=\"black\" d=\"M1248,-140C1248,-140 1132,-140 1132,-140 1126,-140 1120,-134 1120,-128 1120,-128 1120,-84 1120,-84 1120,-78 1126,-72 1132,-72 1132,-72 1248,-72 1248,-72 1254,-72 1260,-78 1260,-84 1260,-84 1260,-128 1260,-128 1260,-134 1254,-140 1248,-140\"/>\r\n",
       "<text text-anchor=\"middle\" x=\"1190\" y=\"-124.8\" font-family=\"Helvetica,sans-Serif\" font-size=\"14.00\">capital&#45;gain &lt;= 78.0</text>\r\n",
       "<text text-anchor=\"middle\" x=\"1190\" y=\"-109.8\" font-family=\"Helvetica,sans-Serif\" font-size=\"14.00\">gini = 0.455</text>\r\n",
       "<text text-anchor=\"middle\" x=\"1190\" y=\"-94.8\" font-family=\"Helvetica,sans-Serif\" font-size=\"14.00\">samples = 210</text>\r\n",
       "<text text-anchor=\"middle\" x=\"1190\" y=\"-79.8\" font-family=\"Helvetica,sans-Serif\" font-size=\"14.00\">value = [123, 228]</text>\r\n",
       "</g>\r\n",
       "<!-- 616&#45;&gt;638 -->\r\n",
       "<g id=\"edge28\" class=\"edge\">\r\n",
       "<title>616&#45;&gt;638</title>\r\n",
       "<path fill=\"none\" stroke=\"black\" d=\"M1083.3,-175.88C1098.28,-166.21 1114.77,-155.56 1130.23,-145.59\"/>\r\n",
       "<polygon fill=\"black\" stroke=\"black\" points=\"1132.19,-148.49 1138.69,-140.12 1128.39,-142.61 1132.19,-148.49\"/>\r\n",
       "</g>\r\n",
       "<!-- 618 -->\r\n",
       "<g id=\"node27\" class=\"node\">\r\n",
       "<title>618</title>\r\n",
       "<path fill=\"#c0c0c0\" stroke=\"black\" d=\"M1000,-36C1000,-36 970,-36 970,-36 964,-36 958,-30 958,-24 958,-24 958,-12 958,-12 958,-6 964,0 970,0 970,0 1000,0 1000,0 1006,0 1012,-6 1012,-12 1012,-12 1012,-24 1012,-24 1012,-30 1006,-36 1000,-36\"/>\r\n",
       "<text text-anchor=\"middle\" x=\"985\" y=\"-14.3\" font-family=\"Helvetica,sans-Serif\" font-size=\"14.00\">(...)</text>\r\n",
       "</g>\r\n",
       "<!-- 617&#45;&gt;618 -->\r\n",
       "<g id=\"edge26\" class=\"edge\">\r\n",
       "<title>617&#45;&gt;618</title>\r\n",
       "<path fill=\"none\" stroke=\"black\" d=\"M1013.96,-72C1009.15,-63.19 1004.01,-53.78 999.42,-45.38\"/>\r\n",
       "<polygon fill=\"black\" stroke=\"black\" points=\"1002.38,-43.5 994.51,-36.4 996.24,-46.86 1002.38,-43.5\"/>\r\n",
       "</g>\r\n",
       "<!-- 637 -->\r\n",
       "<g id=\"node28\" class=\"node\">\r\n",
       "<title>637</title>\r\n",
       "<path fill=\"#c0c0c0\" stroke=\"black\" d=\"M1072,-36C1072,-36 1042,-36 1042,-36 1036,-36 1030,-30 1030,-24 1030,-24 1030,-12 1030,-12 1030,-6 1036,0 1042,0 1042,0 1072,0 1072,0 1078,0 1084,-6 1084,-12 1084,-12 1084,-24 1084,-24 1084,-30 1078,-36 1072,-36\"/>\r\n",
       "<text text-anchor=\"middle\" x=\"1057\" y=\"-14.3\" font-family=\"Helvetica,sans-Serif\" font-size=\"14.00\">(...)</text>\r\n",
       "</g>\r\n",
       "<!-- 617&#45;&gt;637 -->\r\n",
       "<g id=\"edge27\" class=\"edge\">\r\n",
       "<title>617&#45;&gt;637</title>\r\n",
       "<path fill=\"none\" stroke=\"black\" d=\"M1041.59,-72C1044.07,-63.47 1046.71,-54.39 1049.09,-46.2\"/>\r\n",
       "<polygon fill=\"black\" stroke=\"black\" points=\"1052.51,-46.98 1051.94,-36.4 1045.79,-45.03 1052.51,-46.98\"/>\r\n",
       "</g>\r\n",
       "<!-- 639 -->\r\n",
       "<g id=\"node30\" class=\"node\">\r\n",
       "<title>639</title>\r\n",
       "<path fill=\"#c0c0c0\" stroke=\"black\" d=\"M1169,-36C1169,-36 1139,-36 1139,-36 1133,-36 1127,-30 1127,-24 1127,-24 1127,-12 1127,-12 1127,-6 1133,0 1139,0 1139,0 1169,0 1169,0 1175,0 1181,-6 1181,-12 1181,-12 1181,-24 1181,-24 1181,-30 1175,-36 1169,-36\"/>\r\n",
       "<text text-anchor=\"middle\" x=\"1154\" y=\"-14.3\" font-family=\"Helvetica,sans-Serif\" font-size=\"14.00\">(...)</text>\r\n",
       "</g>\r\n",
       "<!-- 638&#45;&gt;639 -->\r\n",
       "<g id=\"edge29\" class=\"edge\">\r\n",
       "<title>638&#45;&gt;639</title>\r\n",
       "<path fill=\"none\" stroke=\"black\" d=\"M1176.18,-72C1172.54,-63.28 1168.64,-53.98 1165.16,-45.65\"/>\r\n",
       "<polygon fill=\"black\" stroke=\"black\" points=\"1168.38,-44.28 1161.29,-36.4 1161.92,-46.98 1168.38,-44.28\"/>\r\n",
       "</g>\r\n",
       "<!-- 664 -->\r\n",
       "<g id=\"node31\" class=\"node\">\r\n",
       "<title>664</title>\r\n",
       "<path fill=\"#c0c0c0\" stroke=\"black\" d=\"M1241,-36C1241,-36 1211,-36 1211,-36 1205,-36 1199,-30 1199,-24 1199,-24 1199,-12 1199,-12 1199,-6 1205,0 1211,0 1211,0 1241,0 1241,0 1247,0 1253,-6 1253,-12 1253,-12 1253,-24 1253,-24 1253,-30 1247,-36 1241,-36\"/>\r\n",
       "<text text-anchor=\"middle\" x=\"1226\" y=\"-14.3\" font-family=\"Helvetica,sans-Serif\" font-size=\"14.00\">(...)</text>\r\n",
       "</g>\r\n",
       "<!-- 638&#45;&gt;664 -->\r\n",
       "<g id=\"edge30\" class=\"edge\">\r\n",
       "<title>638&#45;&gt;664</title>\r\n",
       "<path fill=\"none\" stroke=\"black\" d=\"M1203.82,-72C1207.46,-63.28 1211.36,-53.98 1214.84,-45.65\"/>\r\n",
       "<polygon fill=\"black\" stroke=\"black\" points=\"1218.08,-46.98 1218.71,-36.4 1211.62,-44.28 1218.08,-46.98\"/>\r\n",
       "</g>\r\n",
       "</g>\r\n",
       "</svg>\r\n"
      ],
      "text/plain": [
       "<graphviz.files.Source at 0x1ba6e521f10>"
      ]
     },
     "execution_count": 133,
     "metadata": {},
     "output_type": "execute_result"
    }
   ],
   "source": [
    "# 위에서 생성된 tree.dot 파일을 Graphviz 읽어서 Jupyter Notebook상에서 시각화 \n",
    "with open(\"tree2.dot\") as f:\n",
    "    dot_graph = f.read()\n",
    "graphviz.Source(dot_graph)"
   ]
  },
  {
   "cell_type": "markdown",
   "id": "c8e74781",
   "metadata": {},
   "source": [
    "### <li>각 파라미터의 정밀도 재현율 그래프"
   ]
  },
  {
   "cell_type": "code",
   "execution_count": 134,
   "id": "801f774b",
   "metadata": {
    "scrolled": false
   },
   "outputs": [
    {
     "data": {
      "image/png": "[encoded data removed]",
      "text/plain": [
       "<Figure size 576x432 with 1 Axes>"
      ]
     },
     "metadata": {
      "needs_background": "light"
     },
     "output_type": "display_data"
    }
   ],
   "source": [
    "pred_proba_c1 = grid_cv.predict_proba(X_test)[:, 1]\n",
    "precision_recall_curve_plot(y_test, pred_proba_c1)"
   ]
  },
  {
   "cell_type": "markdown",
   "id": "6dd965c6",
   "metadata": {},
   "source": [
    "### <li>최적 파라미터 예측 점수"
   ]
  },
  {
   "cell_type": "code",
   "execution_count": 135,
   "id": "a357799d",
   "metadata": {},
   "outputs": [
    {
     "name": "stdout",
     "output_type": "stream",
     "text": [
      "오차 행렬\n",
      "[[7052  343]\n",
      " [1029 1345]]\n",
      "정확도        : 0.8596\n",
      "정밀도        : 0.7968\n",
      "재현율        : 0.5666\n",
      "F1스코어      : 0.6622\n",
      "roc_auc_스코어: 0.7601\n"
     ]
    }
   ],
   "source": [
    "### <li>최적 파라미터 예측 점수# GridSearchCV의 best_estimator_는 이미 최적 하이퍼 파라미터로 학습이 됨\n",
    "pred = estimator.predict(X_test)\n",
    "get_clf_eval(y_test , pred)"
   ]
  },
  {
   "cell_type": "markdown",
   "id": "a1af5cc7",
   "metadata": {},
   "source": [
    "### <li>최적 파라미터 특징 중요도"
   ]
  },
  {
   "cell_type": "code",
   "execution_count": 136,
   "id": "98163ebd",
   "metadata": {},
   "outputs": [
    {
     "data": {
      "image/png": "[encoded data removed]",
      "text/plain": [
       "<Figure size 720x432 with 1 Axes>"
      ]
     },
     "metadata": {
      "needs_background": "light"
     },
     "output_type": "display_data"
    }
   ],
   "source": [
    "ftr_importances_values = estimator.feature_importances_\n",
    "ftr_importances = pd.Series(ftr_importances_values,index=X_train.columns)\n",
    "ftr_top = ftr_importances.sort_values(ascending=False)\n",
    "\n",
    "plt.figure(figsize=(10,6))\n",
    "plt.title('Random Forest Feature importances')\n",
    "sns.barplot(x=ftr_top , y = ftr_top.index)\n",
    "plt.show()"
   ]
  },
  {
   "cell_type": "markdown",
   "id": "b3ceaddd",
   "metadata": {},
   "source": [
    "## Gradient Boost"
   ]
  },
  {
   "cell_type": "markdown",
   "id": "9f39dcf5",
   "metadata": {},
   "source": [
    "### <li>최적 파라미터 탐색"
   ]
  },
  {
   "cell_type": "code",
   "execution_count": 137,
   "id": "6b42d149",
   "metadata": {},
   "outputs": [
    {
     "name": "stdout",
     "output_type": "stream",
     "text": [
      "예측 정확도: 0.8662\n",
      "수행시간: 1.0779s\n"
     ]
    }
   ],
   "source": [
    "warnings.filterwarnings('ignore')\n",
    "start_time = time.time()\n",
    "gb_clf = GradientBoostingClassifier(random_state = 0)\n",
    "gb_clf.fit(X_train, y_train)\n",
    "gb_pred = gb_clf.predict(X_test)\n",
    "gb_accuracy = accuracy_score(y_test,gb_pred)\n",
    "\n",
    "print('예측 정확도: {0:.4f}'.format(gb_accuracy))\n",
    "print('수행시간: {0:.4f}s'.format(time.time() - start_time))"
   ]
  },
  {
   "cell_type": "markdown",
   "id": "0f7de676",
   "metadata": {},
   "source": [
    "### <li>최적 파라미터 예측 점수"
   ]
  },
  {
   "cell_type": "code",
   "execution_count": 138,
   "id": "c3b92e02",
   "metadata": {},
   "outputs": [
    {
     "name": "stdout",
     "output_type": "stream",
     "text": [
      "Fitting 2 folds for each of 12 candidates, totalling 24 fits\n",
      "최적 하이퍼 파라미터:\n",
      " {'learning_rate': 0.2, 'n_estimators': 200}\n",
      "최고 예측 정확도: 0.8682\n",
      "수행시간: 38.6594s\n"
     ]
    }
   ],
   "source": [
    "params = {\n",
    "    'n_estimators':[100,200,300,500],\n",
    "    'learning_rate':[0.05,0.1,0.2]\n",
    "}\n",
    "start_time = time.time()\n",
    "grid_cv = GridSearchCV(gb_clf , param_grid=params , cv=2, verbose=1 )\n",
    "grid_cv.fit(X_train , y_train)\n",
    "\n",
    "print('최적 하이퍼 파라미터:\\n', grid_cv.best_params_)\n",
    "print('최고 예측 정확도: {0:.4f}'.format(grid_cv.best_score_))\n",
    "print('수행시간: {0:.4f}s'.format(time.time() - start_time))"
   ]
  },
  {
   "cell_type": "markdown",
   "id": "4bcb4bfa",
   "metadata": {},
   "source": [
    "### <li>각 파라미터의 정밀도 재현율 그래프"
   ]
  },
  {
   "cell_type": "code",
   "execution_count": 139,
   "id": "e72dea15",
   "metadata": {},
   "outputs": [
    {
     "data": {
      "image/png": "[encoded data removed]",
      "text/plain": [
       "<Figure size 576x432 with 1 Axes>"
      ]
     },
     "metadata": {
      "needs_background": "light"
     },
     "output_type": "display_data"
    }
   ],
   "source": [
    "pred_proba_c1 = grid_cv.predict_proba(X_test)[:, 1]\n",
    "precision_recall_curve_plot(y_test, pred_proba_c1)"
   ]
  },
  {
   "cell_type": "code",
   "execution_count": 140,
   "id": "7df2d3ab",
   "metadata": {},
   "outputs": [
    {
     "name": "stdout",
     "output_type": "stream",
     "text": [
      "오차 행렬\n",
      "[[6960  435]\n",
      " [ 816 1558]]\n",
      "정확도        : 0.8719\n",
      "정밀도        : 0.7817\n",
      "재현율        : 0.6563\n",
      "F1스코어      : 0.7135\n",
      "roc_auc_스코어: 0.7987\n"
     ]
    }
   ],
   "source": [
    "estimator = grid_cv.best_estimator_\n",
    "\n",
    "# GridSearchCV의 best_estimator_는 이미 최적 하이퍼 파라미터로 학습이 됨\n",
    "pred = estimator.predict(X_test)\n",
    "get_clf_eval(y_test , pred)"
   ]
  },
  {
   "cell_type": "markdown",
   "id": "6a667571",
   "metadata": {},
   "source": [
    "### <li>최적 파라미터 특징 중요도"
   ]
  },
  {
   "cell_type": "code",
   "execution_count": 141,
   "id": "b75ce62e",
   "metadata": {},
   "outputs": [
    {
     "data": {
      "image/png": "[encoded data removed]",
      "text/plain": [
       "<Figure size 720x432 with 1 Axes>"
      ]
     },
     "metadata": {
      "needs_background": "light"
     },
     "output_type": "display_data"
    }
   ],
   "source": [
    "ftr_importances_values = estimator.feature_importances_\n",
    "ftr_importances = pd.Series(ftr_importances_values,index=X_train.columns)\n",
    "ftr_top = ftr_importances.sort_values(ascending=False)\n",
    "\n",
    "plt.figure(figsize=(10,6))\n",
    "plt.title('Gradient Boost Feature importances')\n",
    "sns.barplot(x=ftr_top , y = ftr_top.index)\n",
    "plt.show()"
   ]
  },
  {
   "cell_type": "markdown",
   "id": "4371531d",
   "metadata": {},
   "source": [
    "## Logistic Regression"
   ]
  },
  {
   "cell_type": "code",
   "execution_count": 142,
   "id": "6adf43da",
   "metadata": {},
   "outputs": [
    {
     "name": "stdout",
     "output_type": "stream",
     "text": [
      "accuracy: 0.820\n",
      "roc_auc: 0.693\n"
     ]
    }
   ],
   "source": [
    "lr_clf = LogisticRegression()\n",
    "lr_clf.fit(X_train, y_train)\n",
    "lr_preds = lr_clf.predict(X_test)\n",
    "\n",
    "# accuracy와 roc_auc 측정\n",
    "print('accuracy: {:0.3f}'.format(accuracy_score(y_test, lr_preds)))\n",
    "print('roc_auc: {:0.3f}'.format(roc_auc_score(y_test , lr_preds)))"
   ]
  },
  {
   "cell_type": "markdown",
   "id": "ad71ec82",
   "metadata": {},
   "source": [
    "### <li>최적 파라미터 탐색"
   ]
  },
  {
   "cell_type": "code",
   "execution_count": 143,
   "id": "32a95dae",
   "metadata": {},
   "outputs": [
    {
     "name": "stdout",
     "output_type": "stream",
     "text": [
      "최적 하이퍼 파라미터:{'C': 1, 'penalty': 'l2'}, 최적 평균 정확도:0.821\n"
     ]
    }
   ],
   "source": [
    "params={'penalty':['l2', 'l1'],\n",
    "        'C':[0.01, 0.1, 1, 1, 5, 10]}\n",
    "\n",
    "grid_clf = GridSearchCV(lr_clf, param_grid=params, scoring='accuracy', cv=3 )\n",
    "grid_clf.fit(X_train , y_train)\n",
    "print('최적 하이퍼 파라미터:{0}, 최적 평균 정확도:{1:.3f}'.format(grid_clf.best_params_, \n",
    "                                                  grid_clf.best_score_))\n",
    "estimator = grid_clf.best_estimator_"
   ]
  },
  {
   "cell_type": "markdown",
   "id": "59df9342",
   "metadata": {},
   "source": [
    "### <li>각 파라미터의 정밀도 재현율 그래프"
   ]
  },
  {
   "cell_type": "code",
   "execution_count": 144,
   "id": "3e0ad86c",
   "metadata": {},
   "outputs": [
    {
     "data": {
      "image/png": "[encoded data removed]",
      "text/plain": [
       "<Figure size 576x432 with 1 Axes>"
      ]
     },
     "metadata": {
      "needs_background": "light"
     },
     "output_type": "display_data"
    }
   ],
   "source": [
    "pred_proba_c1 = grid_clf.predict_proba(X_test)[:, 1]\n",
    "precision_recall_curve_plot(y_test, pred_proba_c1)"
   ]
  },
  {
   "cell_type": "markdown",
   "id": "4d1c7b70",
   "metadata": {},
   "source": [
    "### <li>최적 파라미터 예측 점수"
   ]
  },
  {
   "cell_type": "code",
   "execution_count": 145,
   "id": "57bc1cff",
   "metadata": {},
   "outputs": [
    {
     "name": "stdout",
     "output_type": "stream",
     "text": [
      "오차 행렬\n",
      "[[6949  446]\n",
      " [1313 1061]]\n",
      "정확도        : 0.8199\n",
      "정밀도        : 0.7040\n",
      "재현율        : 0.4469\n",
      "F1스코어      : 0.5468\n",
      "roc_auc_스코어: 0.6933\n"
     ]
    }
   ],
   "source": [
    "# GridSearchCV의 best_estimator_는 이미 최적 하이퍼 파라미터로 학습이 됨\n",
    "pred = estimator.predict(X_test)\n",
    "get_clf_eval(y_test , pred)"
   ]
  },
  {
   "cell_type": "code",
   "execution_count": null,
   "id": "6ef52447",
   "metadata": {},
   "outputs": [],
   "source": []
  }
 ],
 "metadata": {
  "kernelspec": {
   "display_name": "Python 3",
   "language": "python",
   "name": "python3"
  },
  "language_info": {
   "codemirror_mode": {
    "name": "ipython",
    "version": 3
   },
   "file_extension": ".py",
   "mimetype": "text/x-python",
   "name": "python",
   "nbconvert_exporter": "python",
   "pygments_lexer": "ipython3",
   "version": "3.8.9"
  }
 },
 "nbformat": 4,
 "nbformat_minor": 5
}
