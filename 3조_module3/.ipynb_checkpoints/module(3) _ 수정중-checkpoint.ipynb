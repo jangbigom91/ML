{
 "cells": [
  {
   "cell_type": "code",
   "execution_count": 1,
   "id": "6220faa8",
   "metadata": {},
   "outputs": [
    {
     "data": {
      "text/html": [
       "<div>\n",
       "<style scoped>\n",
       "    .dataframe tbody tr th:only-of-type {\n",
       "        vertical-align: middle;\n",
       "    }\n",
       "\n",
       "    .dataframe tbody tr th {\n",
       "        vertical-align: top;\n",
       "    }\n",
       "\n",
       "    .dataframe thead th {\n",
       "        text-align: right;\n",
       "    }\n",
       "</style>\n",
       "<table border=\"1\" class=\"dataframe\">\n",
       "  <thead>\n",
       "    <tr style=\"text-align: right;\">\n",
       "      <th></th>\n",
       "      <th>age</th>\n",
       "      <th>workclass</th>\n",
       "      <th>fnlwgt</th>\n",
       "      <th>education</th>\n",
       "      <th>education-num</th>\n",
       "      <th>marital-status</th>\n",
       "      <th>occupation</th>\n",
       "      <th>relationship</th>\n",
       "      <th>race</th>\n",
       "      <th>sex</th>\n",
       "      <th>capital-gain</th>\n",
       "      <th>capital-loss</th>\n",
       "      <th>hours-per-week</th>\n",
       "      <th>native-country</th>\n",
       "      <th>income</th>\n",
       "    </tr>\n",
       "  </thead>\n",
       "  <tbody>\n",
       "    <tr>\n",
       "      <th>0</th>\n",
       "      <td>39</td>\n",
       "      <td>State-gov</td>\n",
       "      <td>77516</td>\n",
       "      <td>Bachelors</td>\n",
       "      <td>13</td>\n",
       "      <td>Never-married</td>\n",
       "      <td>Adm-clerical</td>\n",
       "      <td>Not-in-family</td>\n",
       "      <td>White</td>\n",
       "      <td>Male</td>\n",
       "      <td>2174</td>\n",
       "      <td>0</td>\n",
       "      <td>40</td>\n",
       "      <td>United-States</td>\n",
       "      <td>&lt;=50K</td>\n",
       "    </tr>\n",
       "    <tr>\n",
       "      <th>1</th>\n",
       "      <td>50</td>\n",
       "      <td>Self-emp-not-inc</td>\n",
       "      <td>83311</td>\n",
       "      <td>Bachelors</td>\n",
       "      <td>13</td>\n",
       "      <td>Married-civ-spouse</td>\n",
       "      <td>Exec-managerial</td>\n",
       "      <td>Husband</td>\n",
       "      <td>White</td>\n",
       "      <td>Male</td>\n",
       "      <td>0</td>\n",
       "      <td>0</td>\n",
       "      <td>13</td>\n",
       "      <td>United-States</td>\n",
       "      <td>&lt;=50K</td>\n",
       "    </tr>\n",
       "    <tr>\n",
       "      <th>2</th>\n",
       "      <td>38</td>\n",
       "      <td>Private</td>\n",
       "      <td>215646</td>\n",
       "      <td>HS-grad</td>\n",
       "      <td>9</td>\n",
       "      <td>Divorced</td>\n",
       "      <td>Handlers-cleaners</td>\n",
       "      <td>Not-in-family</td>\n",
       "      <td>White</td>\n",
       "      <td>Male</td>\n",
       "      <td>0</td>\n",
       "      <td>0</td>\n",
       "      <td>40</td>\n",
       "      <td>United-States</td>\n",
       "      <td>&lt;=50K</td>\n",
       "    </tr>\n",
       "    <tr>\n",
       "      <th>3</th>\n",
       "      <td>53</td>\n",
       "      <td>Private</td>\n",
       "      <td>234721</td>\n",
       "      <td>11th</td>\n",
       "      <td>7</td>\n",
       "      <td>Married-civ-spouse</td>\n",
       "      <td>Handlers-cleaners</td>\n",
       "      <td>Husband</td>\n",
       "      <td>Black</td>\n",
       "      <td>Male</td>\n",
       "      <td>0</td>\n",
       "      <td>0</td>\n",
       "      <td>40</td>\n",
       "      <td>United-States</td>\n",
       "      <td>&lt;=50K</td>\n",
       "    </tr>\n",
       "    <tr>\n",
       "      <th>4</th>\n",
       "      <td>28</td>\n",
       "      <td>Private</td>\n",
       "      <td>338409</td>\n",
       "      <td>Bachelors</td>\n",
       "      <td>13</td>\n",
       "      <td>Married-civ-spouse</td>\n",
       "      <td>Prof-specialty</td>\n",
       "      <td>Wife</td>\n",
       "      <td>Black</td>\n",
       "      <td>Female</td>\n",
       "      <td>0</td>\n",
       "      <td>0</td>\n",
       "      <td>40</td>\n",
       "      <td>Cuba</td>\n",
       "      <td>&lt;=50K</td>\n",
       "    </tr>\n",
       "  </tbody>\n",
       "</table>\n",
       "</div>"
      ],
      "text/plain": [
       "   age          workclass  fnlwgt   education  education-num  \\\n",
       "0   39          State-gov   77516   Bachelors             13   \n",
       "1   50   Self-emp-not-inc   83311   Bachelors             13   \n",
       "2   38            Private  215646     HS-grad              9   \n",
       "3   53            Private  234721        11th              7   \n",
       "4   28            Private  338409   Bachelors             13   \n",
       "\n",
       "        marital-status          occupation    relationship    race      sex  \\\n",
       "0        Never-married        Adm-clerical   Not-in-family   White     Male   \n",
       "1   Married-civ-spouse     Exec-managerial         Husband   White     Male   \n",
       "2             Divorced   Handlers-cleaners   Not-in-family   White     Male   \n",
       "3   Married-civ-spouse   Handlers-cleaners         Husband   Black     Male   \n",
       "4   Married-civ-spouse      Prof-specialty            Wife   Black   Female   \n",
       "\n",
       "   capital-gain  capital-loss  hours-per-week  native-country  income  \n",
       "0          2174             0              40   United-States   <=50K  \n",
       "1             0             0              13   United-States   <=50K  \n",
       "2             0             0              40   United-States   <=50K  \n",
       "3             0             0              40   United-States   <=50K  \n",
       "4             0             0              40            Cuba   <=50K  "
      ]
     },
     "execution_count": 1,
     "metadata": {},
     "output_type": "execute_result"
    }
   ],
   "source": [
    "import numpy as np\n",
    "import pandas as pd\n",
    "import matplotlib.pyplot as plt\n",
    "import seaborn as sns\n",
    "%matplotlib inline\n",
    "names=['age','workclass', 'fnlwgt', 'education', 'education-num', 'marital-status', 'occupation', 'relationship', 'race', 'sex', 'capital-gain', 'capital-loss', 'hours-per-week', 'native-country','income']\n",
    "\n",
    "adult_df = pd.read_csv('adult.csv',names = names)\n",
    "adult_df.head(5)"
   ]
  },
  {
   "cell_type": "code",
   "execution_count": 2,
   "id": "83c961a6",
   "metadata": {},
   "outputs": [
    {
     "name": "stdout",
     "output_type": "stream",
     "text": [
      "** adult 정보 ** \n",
      "\n",
      "<class 'pandas.core.frame.DataFrame'>\n",
      "RangeIndex: 32561 entries, 0 to 32560\n",
      "Data columns (total 15 columns):\n",
      " #   Column          Non-Null Count  Dtype \n",
      "---  ------          --------------  ----- \n",
      " 0   age             32561 non-null  int64 \n",
      " 1   workclass       32561 non-null  object\n",
      " 2   fnlwgt          32561 non-null  int64 \n",
      " 3   education       32561 non-null  object\n",
      " 4   education-num   32561 non-null  int64 \n",
      " 5   marital-status  32561 non-null  object\n",
      " 6   occupation      32561 non-null  object\n",
      " 7   relationship    32561 non-null  object\n",
      " 8   race            32561 non-null  object\n",
      " 9   sex             32561 non-null  object\n",
      " 10  capital-gain    32561 non-null  int64 \n",
      " 11  capital-loss    32561 non-null  int64 \n",
      " 12  hours-per-week  32561 non-null  int64 \n",
      " 13  native-country  32561 non-null  object\n",
      " 14  income          32561 non-null  object\n",
      "dtypes: int64(6), object(9)\n",
      "memory usage: 3.7+ MB\n",
      "None\n"
     ]
    }
   ],
   "source": [
    "print('** adult 정보 ** \\n')\n",
    "print(adult_df.info())"
   ]
  },
  {
   "cell_type": "code",
   "execution_count": 3,
   "id": "d8361e82",
   "metadata": {},
   "outputs": [
    {
     "name": "stdout",
     "output_type": "stream",
     "text": [
      "**성별** \n",
      "  Male      21790\n",
      " Female    10771\n",
      "Name: sex, dtype: int64\n",
      "\n",
      "**인종** \n",
      "  White                 27816\n",
      " Black                  3124\n",
      " Asian-Pac-Islander     1039\n",
      " Amer-Indian-Eskimo      311\n",
      " Other                   271\n",
      "Name: race, dtype: int64\n",
      "\n",
      "**수입** \n",
      "  <=50K    24720\n",
      " >50K      7841\n",
      "Name: income, dtype: int64\n",
      "\n",
      "**나라** \n",
      "  United-States                 29170\n",
      " Mexico                          643\n",
      " ?                               583\n",
      " Philippines                     198\n",
      " Germany                         137\n",
      " Canada                          121\n",
      " Puerto-Rico                     114\n",
      " El-Salvador                     106\n",
      " India                           100\n",
      " Cuba                             95\n",
      " England                          90\n",
      " Jamaica                          81\n",
      " South                            80\n",
      " China                            75\n",
      " Italy                            73\n",
      " Dominican-Republic               70\n",
      " Vietnam                          67\n",
      " Guatemala                        64\n",
      " Japan                            62\n",
      " Poland                           60\n",
      " Columbia                         59\n",
      " Taiwan                           51\n",
      " Haiti                            44\n",
      " Iran                             43\n",
      " Portugal                         37\n",
      " Nicaragua                        34\n",
      " Peru                             31\n",
      " France                           29\n",
      " Greece                           29\n",
      " Ecuador                          28\n",
      " Ireland                          24\n",
      " Hong                             20\n",
      " Cambodia                         19\n",
      " Trinadad&Tobago                  19\n",
      " Thailand                         18\n",
      " Laos                             18\n",
      " Yugoslavia                       16\n",
      " Outlying-US(Guam-USVI-etc)       14\n",
      " Hungary                          13\n",
      " Honduras                         13\n",
      " Scotland                         12\n",
      " Holand-Netherlands                1\n",
      "Name: native-country, dtype: int64\n"
     ]
    }
   ],
   "source": [
    "print('**성별** \\n',adult_df['sex'].value_counts())\n",
    "print('\\n**인종** \\n',adult_df['race'].value_counts())\n",
    "print('\\n**수입** \\n',adult_df['income'].value_counts())\n",
    "print('\\n**나라** \\n',adult_df['native-country'].value_counts())"
   ]
  },
  {
   "cell_type": "code",
   "execution_count": 4,
   "id": "94be30f2",
   "metadata": {},
   "outputs": [
    {
     "name": "stdout",
     "output_type": "stream",
     "text": [
      "0    U\n",
      "1    U\n",
      "2    U\n",
      "3    U\n",
      "4    C\n",
      "5    U\n",
      "Name: native-country, dtype: object\n"
     ]
    }
   ],
   "source": [
    "adult_df['native-country'] = adult_df['native-country'].str[1:2]\n",
    "print(adult_df['native-country'].head(6))"
   ]
  },
  {
   "cell_type": "code",
   "execution_count": 5,
   "id": "81b7b6dd",
   "metadata": {},
   "outputs": [
    {
     "data": {
      "text/plain": [
       "sex      income\n",
       " Female   <=50K     9592\n",
       "          >50K      1179\n",
       " Male     <=50K    15128\n",
       "          >50K      6662\n",
       "Name: income, dtype: int64"
      ]
     },
     "execution_count": 5,
     "metadata": {},
     "output_type": "execute_result"
    }
   ],
   "source": [
    "adult_df.groupby(['sex','income'])['income'].count()"
   ]
  },
  {
   "cell_type": "code",
   "execution_count": 6,
   "id": "1bac139e",
   "metadata": {},
   "outputs": [
    {
     "data": {
      "text/plain": [
       "race                 income\n",
       " Amer-Indian-Eskimo   <=50K      275\n",
       "                      >50K        36\n",
       " Asian-Pac-Islander   <=50K      763\n",
       "                      >50K       276\n",
       " Black                <=50K     2737\n",
       "                      >50K       387\n",
       " Other                <=50K      246\n",
       "                      >50K        25\n",
       " White                <=50K    20699\n",
       "                      >50K      7117\n",
       "Name: income, dtype: int64"
      ]
     },
     "execution_count": 6,
     "metadata": {},
     "output_type": "execute_result"
    }
   ],
   "source": [
    "adult_df.groupby(['race','income'])['income'].count()"
   ]
  },
  {
   "cell_type": "code",
   "execution_count": 7,
   "id": "a866b8aa",
   "metadata": {},
   "outputs": [],
   "source": [
    "adult_df.drop(['workclass','education','fnlwgt','marital-status','relationship'],axis=1,inplace=True)"
   ]
  },
  {
   "cell_type": "code",
   "execution_count": 8,
   "id": "873221bf",
   "metadata": {},
   "outputs": [
    {
     "data": {
      "text/html": [
       "<div>\n",
       "<style scoped>\n",
       "    .dataframe tbody tr th:only-of-type {\n",
       "        vertical-align: middle;\n",
       "    }\n",
       "\n",
       "    .dataframe tbody tr th {\n",
       "        vertical-align: top;\n",
       "    }\n",
       "\n",
       "    .dataframe thead th {\n",
       "        text-align: right;\n",
       "    }\n",
       "</style>\n",
       "<table border=\"1\" class=\"dataframe\">\n",
       "  <thead>\n",
       "    <tr style=\"text-align: right;\">\n",
       "      <th></th>\n",
       "      <th>age</th>\n",
       "      <th>education-num</th>\n",
       "      <th>occupation</th>\n",
       "      <th>race</th>\n",
       "      <th>sex</th>\n",
       "      <th>capital-gain</th>\n",
       "      <th>capital-loss</th>\n",
       "      <th>hours-per-week</th>\n",
       "      <th>native-country</th>\n",
       "      <th>income</th>\n",
       "    </tr>\n",
       "  </thead>\n",
       "  <tbody>\n",
       "    <tr>\n",
       "      <th>0</th>\n",
       "      <td>39</td>\n",
       "      <td>13</td>\n",
       "      <td>1</td>\n",
       "      <td>4</td>\n",
       "      <td>1</td>\n",
       "      <td>2174</td>\n",
       "      <td>0</td>\n",
       "      <td>40</td>\n",
       "      <td>16</td>\n",
       "      <td>0</td>\n",
       "    </tr>\n",
       "    <tr>\n",
       "      <th>1</th>\n",
       "      <td>50</td>\n",
       "      <td>13</td>\n",
       "      <td>4</td>\n",
       "      <td>4</td>\n",
       "      <td>1</td>\n",
       "      <td>0</td>\n",
       "      <td>0</td>\n",
       "      <td>13</td>\n",
       "      <td>16</td>\n",
       "      <td>0</td>\n",
       "    </tr>\n",
       "    <tr>\n",
       "      <th>2</th>\n",
       "      <td>38</td>\n",
       "      <td>9</td>\n",
       "      <td>6</td>\n",
       "      <td>4</td>\n",
       "      <td>1</td>\n",
       "      <td>0</td>\n",
       "      <td>0</td>\n",
       "      <td>40</td>\n",
       "      <td>16</td>\n",
       "      <td>0</td>\n",
       "    </tr>\n",
       "    <tr>\n",
       "      <th>3</th>\n",
       "      <td>53</td>\n",
       "      <td>7</td>\n",
       "      <td>6</td>\n",
       "      <td>2</td>\n",
       "      <td>1</td>\n",
       "      <td>0</td>\n",
       "      <td>0</td>\n",
       "      <td>40</td>\n",
       "      <td>16</td>\n",
       "      <td>0</td>\n",
       "    </tr>\n",
       "    <tr>\n",
       "      <th>4</th>\n",
       "      <td>28</td>\n",
       "      <td>13</td>\n",
       "      <td>10</td>\n",
       "      <td>2</td>\n",
       "      <td>0</td>\n",
       "      <td>0</td>\n",
       "      <td>0</td>\n",
       "      <td>40</td>\n",
       "      <td>1</td>\n",
       "      <td>0</td>\n",
       "    </tr>\n",
       "  </tbody>\n",
       "</table>\n",
       "</div>"
      ],
      "text/plain": [
       "   age  education-num  occupation  race  sex  capital-gain  capital-loss  \\\n",
       "0   39             13           1     4    1          2174             0   \n",
       "1   50             13           4     4    1             0             0   \n",
       "2   38              9           6     4    1             0             0   \n",
       "3   53              7           6     2    1             0             0   \n",
       "4   28             13          10     2    0             0             0   \n",
       "\n",
       "   hours-per-week  native-country  income  \n",
       "0              40              16       0  \n",
       "1              13              16       0  \n",
       "2              40              16       0  \n",
       "3              40              16       0  \n",
       "4              40               1       0  "
      ]
     },
     "execution_count": 8,
     "metadata": {},
     "output_type": "execute_result"
    }
   ],
   "source": [
    "from sklearn.preprocessing import LabelEncoder\n",
    "# 레이블 인코딩 수행. \n",
    "    \n",
    "names = ['race','sex','occupation','native-country','income']\n",
    "for n in names:\n",
    "    le = LabelEncoder()\n",
    "    le = le.fit(adult_df[n])\n",
    "    adult_df[n] = le.transform(adult_df[n])\n",
    "\n",
    "adult_df.head()"
   ]
  },
  {
   "cell_type": "code",
   "execution_count": 9,
   "id": "3d3fc3f9",
   "metadata": {
    "scrolled": false
   },
   "outputs": [
    {
     "name": "stdout",
     "output_type": "stream",
     "text": [
      "<class 'pandas.core.frame.DataFrame'>\n",
      "RangeIndex: 32561 entries, 0 to 32560\n",
      "Data columns (total 10 columns):\n",
      " #   Column          Non-Null Count  Dtype\n",
      "---  ------          --------------  -----\n",
      " 0   age             32561 non-null  int64\n",
      " 1   education-num   32561 non-null  int64\n",
      " 2   occupation      32561 non-null  int32\n",
      " 3   race            32561 non-null  int32\n",
      " 4   sex             32561 non-null  int32\n",
      " 5   capital-gain    32561 non-null  int64\n",
      " 6   capital-loss    32561 non-null  int64\n",
      " 7   hours-per-week  32561 non-null  int64\n",
      " 8   native-country  32561 non-null  int32\n",
      " 9   income          32561 non-null  int32\n",
      "dtypes: int32(5), int64(5)\n",
      "memory usage: 1.9 MB\n",
      "None\n"
     ]
    }
   ],
   "source": [
    "print(adult_df.info())"
   ]
  },
  {
   "cell_type": "code",
   "execution_count": 10,
   "id": "cc044291",
   "metadata": {},
   "outputs": [
    {
     "data": {
      "image/png": "[encoded data removed]",
      "text/plain": [
       "<Figure size 720x432 with 1 Axes>"
      ]
     },
     "metadata": {
      "needs_background": "light"
     },
     "output_type": "display_data"
    }
   ],
   "source": [
    "def get_category(age):\n",
    "    cat = ''\n",
    "    if age <= 18: cat = 'Teenager'\n",
    "    elif age <= 25: cat = 'Student'\n",
    "    elif age <= 35: cat = 'Young Adult'\n",
    "    elif age <= 60: cat = 'Adult'\n",
    "    else : cat = 'Elderly'\n",
    "    \n",
    "    return cat\n",
    "\n",
    "# 막대그래프의 크기 figure를 더 크게 설정 \n",
    "plt.figure(figsize=(10,6))\n",
    "\n",
    "#X축의 값을 순차적으로 표시하기 위한 설정 \n",
    "group_names = ['Teenager', 'Student', 'Young Adult', 'Adult', 'Elderly']\n",
    "\n",
    "# lambda 식에 위에서 생성한 get_category( ) 함수를 반환값으로 지정. \n",
    "# get_category(X)는 입력값으로 'Age' 컬럼값을 받아서 해당하는 cat 반환\n",
    "adult_df['age_cat'] = adult_df['age'].apply(lambda x : get_category(x))\n",
    "sns.barplot(x='age_cat', y = 'income', hue='sex', data=adult_df, order=group_names)\n",
    "adult_df.drop('age_cat', axis=1, inplace=True)"
   ]
  },
  {
   "cell_type": "code",
   "execution_count": 11,
   "id": "772b8d38",
   "metadata": {
    "scrolled": true
   },
   "outputs": [
    {
     "data": {
      "image/png": "[encoded data removed]",
      "text/plain": [
       "<Figure size 720x432 with 1 Axes>"
      ]
     },
     "metadata": {
      "needs_background": "light"
     },
     "output_type": "display_data"
    }
   ],
   "source": [
    "def hour_category(hours_per_week):\n",
    "    cat = ''\n",
    "    if hours_per_week<=35: cat = 'low'\n",
    "    elif hours_per_week<= 70: cat = 'mid'\n",
    "    else : cat= 'high'\n",
    "    \n",
    "    return cat\n",
    "\n",
    "# 막대그래프의 크기 figure를 더 크게 설정 \n",
    "plt.figure(figsize=(10,6))\n",
    "\n",
    "#X축의 값을 순차적으로 표시하기 위한 설정 \n",
    "group_names = ['low','mid','high']\n",
    "\n",
    "# lambda 식에 위에서 생성한 get_category( ) 함수를 반환값으로 지정. \n",
    "# get_category(X)는 입력값으로 'Age' 컬럼값을 받아서 해당하는 cat 반환\n",
    "adult_df['hour_cat'] = adult_df['hours-per-week'].apply(lambda x : hour_category(x))\n",
    "sns.barplot(x='hour_cat', y = 'income', data=adult_df, order=group_names)\n",
    "adult_df.drop('hour_cat', axis=1, inplace=True)"
   ]
  },
  {
   "cell_type": "code",
   "execution_count": 12,
   "id": "038e7d5e",
   "metadata": {},
   "outputs": [
    {
     "data": {
      "text/plain": [
       "(array([3.1053e+04, 2.5000e+01, 2.8900e+02, 9.6400e+02, 2.0700e+02,\n",
       "        1.4000e+01, 4.0000e+00, 5.0000e+00]),\n",
       " array([   0. ,  544.5, 1089. , 1633.5, 2178. , 2722.5, 3267. , 3811.5,\n",
       "        4356. ]),\n",
       " <BarContainer object of 8 artists>)"
      ]
     },
     "execution_count": 12,
     "metadata": {},
     "output_type": "execute_result"
    },
    {
     "data": {
      "image/png": "[encoded data removed]",
      "text/plain": [
       "<Figure size 576x288 with 2 Axes>"
      ]
     },
     "metadata": {
      "needs_background": "light"
     },
     "output_type": "display_data"
    }
   ],
   "source": [
    "plt.figure(figsize=[8,4])\n",
    "plt.subplot(121)\n",
    "plt.hist(adult_df['capital-gain'], bins=8)\n",
    "plt.subplot(122)\n",
    "plt.hist(adult_df['capital-loss'], bins=8)"
   ]
  },
  {
   "cell_type": "code",
   "execution_count": 13,
   "id": "88b4a136",
   "metadata": {},
   "outputs": [
    {
     "name": "stdout",
     "output_type": "stream",
     "text": [
      "capital-gain 0 건수는 29849, 퍼센트는 91.67 %\n",
      "capital-loss 0 건수는 31042, 퍼센트는 95.33 %\n"
     ]
    }
   ],
   "source": [
    "zero_features = ['capital-gain','capital-loss']\n",
    "\n",
    "# 전체 데이터 건수\n",
    "total_count = adult_df['capital-gain'].count()\n",
    "\n",
    "# 피처별로 반복 하면서 데이터 값이 0 인 데이터 건수 추출하고, 퍼센트 계산\n",
    "for feature in zero_features:\n",
    "    zero_count =adult_df[adult_df[feature] == 0][feature].count()\n",
    "    print('{0} 0 건수는 {1}, 퍼센트는 {2:.2f} %'.format(feature, zero_count, 100*zero_count/total_count))"
   ]
  },
  {
   "cell_type": "code",
   "execution_count": 14,
   "id": "3cd83e32",
   "metadata": {},
   "outputs": [],
   "source": [
    "# 인덱싱으로 age 컬럼부터 연속해서 native-country 까지의 열을 가져올 수 있음.\n",
    "X=adult_df.loc[:,'age':'native-country']\n",
    "y=adult_df.loc[:,'income']"
   ]
  },
  {
   "cell_type": "markdown",
   "id": "b441f1e7",
   "metadata": {},
   "source": [
    "## 평가지표"
   ]
  },
  {
   "cell_type": "markdown",
   "id": "4be2f864",
   "metadata": {},
   "source": [
    "#### 오차행렬, 정확도, 정밀도, 재현율"
   ]
  },
  {
   "cell_type": "code",
   "execution_count": 15,
   "id": "530619f7",
   "metadata": {},
   "outputs": [],
   "source": [
    "from sklearn.model_selection import train_test_split\n",
    "X_train, X_test, y_train, y_test = train_test_split(X, y, random_state=0)"
   ]
  },
  {
   "cell_type": "code",
   "execution_count": 16,
   "id": "8ad1b16c",
   "metadata": {},
   "outputs": [],
   "source": [
    "from sklearn.metrics import confusion_matrix, accuracy_score\n",
    "from sklearn.metrics import precision_score, recall_score\n",
    "from sklearn.metrics import f1_score, roc_auc_score\n",
    "\n",
    "# 배웠던 평가지표를 구현하는 함수\n",
    "def get_clf_eval(y_test , pred):\n",
    "    confusion = confusion_matrix( y_test, pred)\n",
    "    accuracy = accuracy_score(y_test , pred)\n",
    "    precision = precision_score(y_test , pred)\n",
    "    recall = recall_score(y_test , pred)\n",
    "    f1 = f1_score(y_test,pred)\n",
    "    roc_auc = roc_auc_score(y_test, pred)\n",
    "    print('오차 행렬')\n",
    "    print(confusion)\n",
    "    print('정확도: {0:.4f}, 정밀도: {1:.4f}, 재현율: {2:.4f},\\\n",
    "    F1: {3:.4f}, AUC:{4:.4f}'.format(accuracy, precision, recall, f1, roc_auc))"
   ]
  },
  {
   "cell_type": "code",
   "execution_count": 17,
   "id": "1322046f",
   "metadata": {},
   "outputs": [
    {
     "name": "stdout",
     "output_type": "stream",
     "text": [
      "훈련 세트 정확도: 0.859\n",
      "테스트 세트 정확도: 0.835\n",
      "\n",
      "오차 행렬\n",
      "[[5768  391]\n",
      " [ 955 1027]]\n",
      "정확도: 0.8347, 정밀도: 0.7243, 재현율: 0.5182,    F1: 0.6041, AUC:0.7273\n"
     ]
    }
   ],
   "source": [
    "# KNN\n",
    "from sklearn.neighbors import KNeighborsClassifier\n",
    "clf = KNeighborsClassifier(n_neighbors=13)\n",
    "clf.fit(X_train, y_train)\n",
    "print(\"훈련 세트 정확도: {:.3f}\".format(clf.score(X_train, y_train)))\n",
    "print(\"테스트 세트 정확도: {:.3f}\".format(clf.score(X_test, y_test)))\n",
    "print()\n",
    "pred=clf.predict(X_test)\n",
    "get_clf_eval(y_test , pred)"
   ]
  },
  {
   "cell_type": "code",
   "execution_count": 18,
   "id": "3790852d",
   "metadata": {},
   "outputs": [],
   "source": [
    "from sklearn.model_selection import train_test_split\n",
    "from sklearn.metrics import accuracy_score, precision_score, recall_score, roc_auc_score\n",
    "from sklearn.metrics import f1_score, confusion_matrix, precision_recall_curve, roc_curve\n",
    "from sklearn.preprocessing import StandardScaler\n",
    "from sklearn.linear_model import LogisticRegression\n",
    "\n",
    "def precision_recall_curve_plot(y_test=None, pred_proba_c1=None):\n",
    "    # threshold ndarray와 이 threshold에 따른 정밀도, 재현율 ndarray 추출. \n",
    "    precisions, recalls, thresholds = precision_recall_curve( y_test, pred_proba_c1)\n",
    "    \n",
    "    # X축을 threshold값으로, Y축은 정밀도, 재현율 값으로 각각 Plot 수행. 정밀도는 점선으로 표시\n",
    "    plt.figure(figsize=(8,6))\n",
    "    threshold_boundary = thresholds.shape[0]\n",
    "    plt.plot(thresholds, precisions[0:threshold_boundary], linestyle='--', label='precision')\n",
    "    plt.plot(thresholds, recalls[0:threshold_boundary],label='recall')\n",
    "    \n",
    "    # threshold 값 X 축의 Scale을 0.1 단위로 변경\n",
    "    start, end = plt.xlim()\n",
    "    plt.xticks(np.round(np.arange(start, end, 0.1),2))\n",
    "    \n",
    "    # x축, y축 label과 legend, 그리고 grid 설정\n",
    "    plt.xlabel('Threshold value'); plt.ylabel('Precision and Recall value')\n",
    "    plt.legend(); plt.grid()\n",
    "    plt.show()"
   ]
  },
  {
   "cell_type": "code",
   "execution_count": 19,
   "id": "a4602d4e",
   "metadata": {},
   "outputs": [
    {
     "name": "stdout",
     "output_type": "stream",
     "text": [
      "오차 행렬\n",
      "[[4614  331]\n",
      " [1086  482]]\n",
      "정확도: 0.7824, 정밀도: 0.5929, 재현율: 0.3074,    F1: 0.4049, AUC:0.6202\n"
     ]
    },
    {
     "name": "stderr",
     "output_type": "stream",
     "text": [
      "c:\\users\\ad\\appdata\\local\\programs\\python\\python38\\lib\\site-packages\\sklearn\\linear_model\\_logistic.py:763: ConvergenceWarning: lbfgs failed to converge (status=1):\n",
      "STOP: TOTAL NO. of ITERATIONS REACHED LIMIT.\n",
      "\n",
      "Increase the number of iterations (max_iter) or scale the data as shown in:\n",
      "    https://scikit-learn.org/stable/modules/preprocessing.html\n",
      "Please also refer to the documentation for alternative solver options:\n",
      "    https://scikit-learn.org/stable/modules/linear_model.html#logistic-regression\n",
      "  n_iter_i = _check_optimize_result(\n"
     ]
    }
   ],
   "source": [
    "# 피처 데이터 세트 X, 레이블 데이터 세트 y를 추출. \n",
    "# 맨 끝이 Outcome 컬럼으로 레이블 값임. 컬럼 위치 -1을 이용해 추출 \n",
    "X = adult_df.iloc[:, :-1]\n",
    "y = adult_df.iloc[:, -1]\n",
    "\n",
    "X_train, X_test, y_train, y_test = train_test_split(X, y, test_size = 0.2, random_state = 156, stratify=y)\n",
    "\n",
    "# 로지스틱 회귀로 학습,예측 및 평가 수행. \n",
    "lr_clf = LogisticRegression()\n",
    "lr_clf.fit(X_train , y_train)\n",
    "pred = lr_clf.predict(X_test)\n",
    "\n",
    "get_clf_eval(y_test, pred)"
   ]
  },
  {
   "cell_type": "markdown",
   "id": "28f1c9ec",
   "metadata": {},
   "source": [
    "#### 임계값의 변경에 따른 정밀도-재현율 변화 곡선을 그림"
   ]
  },
  {
   "cell_type": "code",
   "execution_count": 20,
   "id": "d5e4a865",
   "metadata": {},
   "outputs": [
    {
     "data": {
      "image/png": "[encoded data removed]",
      "text/plain": [
       "<Figure size 576x432 with 1 Axes>"
      ]
     },
     "metadata": {
      "needs_background": "light"
     },
     "output_type": "display_data"
    }
   ],
   "source": [
    "pred_proba_c1 = lr_clf.predict_proba(X_test)[:, 1]\n",
    "precision_recall_curve_plot(y_test, pred_proba_c1)"
   ]
  },
  {
   "cell_type": "markdown",
   "id": "b5c9b5e9",
   "metadata": {},
   "source": [
    "#### 임계값에 따른 정확도, 정밀도, 재현율, F1, AUC "
   ]
  },
  {
   "cell_type": "code",
   "execution_count": 21,
   "id": "992d6b96",
   "metadata": {},
   "outputs": [
    {
     "name": "stdout",
     "output_type": "stream",
     "text": [
      "임계값: 0.2\n",
      "오차 행렬\n",
      "[[3068 1877]\n",
      " [ 424 1144]]\n",
      "정확도: 0.6467, 정밀도: 0.3787, 재현율: 0.7296,    F1: 0.4986, AUC:0.6750\n",
      "임계값: 0.25\n",
      "오차 행렬\n",
      "[[3909 1036]\n",
      " [ 738  830]]\n",
      "정확도: 0.7276, 정밀도: 0.4448, 재현율: 0.5293,    F1: 0.4834, AUC:0.6599\n",
      "임계값: 0.3\n",
      "오차 행렬\n",
      "[[4215  730]\n",
      " [ 940  628]]\n",
      "정확도: 0.7436, 정밀도: 0.4624, 재현율: 0.4005,    F1: 0.4293, AUC:0.6264\n",
      "임계값: 0.35\n",
      "오차 행렬\n",
      "[[4354  591]\n",
      " [ 987  581]]\n",
      "정확도: 0.7577, 정밀도: 0.4957, 재현율: 0.3705,    F1: 0.4241, AUC:0.6255\n"
     ]
    }
   ],
   "source": [
    "from sklearn.preprocessing import Binarizer\n",
    "\n",
    "def get_eval_by_threshold(y_test , pred_proba_c1, thresholds):\n",
    "    # thresholds 리스트 객체내의 값을 차례로 iteration하면서 Evaluation 수행.\n",
    "    for custom_threshold in thresholds:\n",
    "        binarizer = Binarizer(threshold=custom_threshold).fit(pred_proba_c1) \n",
    "        custom_predict = binarizer.transform(pred_proba_c1)\n",
    "        print('임계값:',custom_threshold)\n",
    "        get_clf_eval(y_test , custom_predict)\n",
    "        \n",
    "thresholds = [0.2 , 0.25 , 0.30, 0.35]\n",
    "pred_proba = lr_clf.predict_proba(X_test)\n",
    "get_eval_by_threshold(y_test, pred_proba[:,1].reshape(-1,1), thresholds )"
   ]
  },
  {
   "cell_type": "markdown",
   "id": "6aeae5ff",
   "metadata": {},
   "source": [
    "#### ROC AUC"
   ]
  },
  {
   "cell_type": "code",
   "execution_count": 22,
   "id": "9d2aa7e9",
   "metadata": {},
   "outputs": [
    {
     "data": {
      "image/png": "[encoded data removed]",
      "text/plain": [
       "<Figure size 432x288 with 1 Axes>"
      ]
     },
     "metadata": {
      "needs_background": "light"
     },
     "output_type": "display_data"
    }
   ],
   "source": [
    "def roc_curve_plot(y_test , pred_proba_c1):\n",
    "    # 임곗값에 따른 FPR, TPR 값을 반환 받음. \n",
    "    fprs , tprs , thresholds = roc_curve(y_test ,pred_proba_c1)\n",
    "\n",
    "    # ROC Curve를 plot 곡선으로 그림. \n",
    "    plt.plot(fprs , tprs, label='ROC')\n",
    "    # 가운데 대각선 직선을 그림. \n",
    "    plt.plot([0, 1], [0, 1], 'k--', label='Random')\n",
    "    \n",
    "    # FPR X 축의 Scale을 0.1 단위로 변경, X,Y 축명 설정등   \n",
    "    start, end = plt.xlim()\n",
    "    plt.xticks(np.round(np.arange(start, end, 0.1),2))\n",
    "    plt.xlim(0,1); plt.ylim(0,1)\n",
    "    plt.xlabel('FPR( 1 - Sensitivity )'); plt.ylabel('TPR( Recall )')\n",
    "    plt.legend()\n",
    "    plt.show()\n",
    "    \n",
    "roc_curve_plot(y_test,lr_clf.predict_proba(X_test)[:, 1] )"
   ]
  },
  {
   "cell_type": "code",
   "execution_count": 23,
   "id": "b27dc39a",
   "metadata": {},
   "outputs": [
    {
     "name": "stdout",
     "output_type": "stream",
     "text": [
      "ROC AUC 값: 0.7394\n"
     ]
    }
   ],
   "source": [
    "from sklearn.metrics import roc_auc_score\n",
    "\n",
    "#pred = lr_clf.predict(X_test)\n",
    "#roc_score = roc_auc_score(y_test, pred)\n",
    "\n",
    "pred_proba = lr_clf.predict_proba(X_test)[:, 1]\n",
    "roc_score = roc_auc_score(y_test, pred_proba)\n",
    "print('ROC AUC 값: {0:.4f}'.format(roc_score))"
   ]
  },
  {
   "cell_type": "markdown",
   "id": "5f9e41bc",
   "metadata": {},
   "source": [
    "## 분류기"
   ]
  },
  {
   "cell_type": "markdown",
   "id": "1c420305",
   "metadata": {},
   "source": [
    "#### Random Forest"
   ]
  },
  {
   "cell_type": "code",
   "execution_count": 24,
   "id": "0b043ee2",
   "metadata": {},
   "outputs": [
    {
     "name": "stdout",
     "output_type": "stream",
     "text": [
      "랜덤 포레스트 정확도: 0.8263\n"
     ]
    }
   ],
   "source": [
    "import pandas as pd\n",
    "\n",
    "from sklearn.ensemble import RandomForestClassifier\n",
    "from sklearn.metrics import accuracy_score\n",
    "import pandas as pd\n",
    "import warnings\n",
    "warnings.filterwarnings('ignore')\n",
    "\n",
    "# 랜덤 포레스트 학습 및 별도의 테스트 셋으로 예측 성능 평가\n",
    "rf_clf = RandomForestClassifier(random_state=0)\n",
    "rf_clf.fit(X_train , y_train)\n",
    "pred = rf_clf.predict(X_test)\n",
    "accuracy = accuracy_score(y_test , pred)\n",
    "print('랜덤 포레스트 정확도: {0:.4f}'.format(accuracy))"
   ]
  },
  {
   "cell_type": "code",
   "execution_count": 25,
   "id": "38aba762",
   "metadata": {},
   "outputs": [
    {
     "name": "stdout",
     "output_type": "stream",
     "text": [
      "최적 하이퍼 파라미터:\n",
      " {'max_depth': 12, 'min_samples_leaf': 8, 'min_samples_split': 20, 'n_estimators': 100}\n",
      "최고 예측 정확도: 0.8467\n"
     ]
    }
   ],
   "source": [
    "from sklearn.model_selection import GridSearchCV\n",
    "\n",
    "params = {\n",
    "    'n_estimators':[100],\n",
    "    'max_depth' : [6, 8, 10, 12], \n",
    "    'min_samples_leaf' : [8, 12, 18 ],\n",
    "    'min_samples_split' : [8, 16, 20]\n",
    "}\n",
    "# RandomForestClassifier 객체 생성 후 GridSearchCV 수행\n",
    "rf_clf = RandomForestClassifier(random_state=0, n_jobs=-1)\n",
    "grid_cv = GridSearchCV(rf_clf , param_grid=params , cv=2, n_jobs=-1 )\n",
    "grid_cv.fit(X_train , y_train)\n",
    "\n",
    "print('최적 하이퍼 파라미터:\\n', grid_cv.best_params_)\n",
    "print('최고 예측 정확도: {0:.4f}'.format(grid_cv.best_score_))"
   ]
  },
  {
   "cell_type": "code",
   "execution_count": 26,
   "id": "a8e1636f",
   "metadata": {},
   "outputs": [
    {
     "name": "stdout",
     "output_type": "stream",
     "text": [
      "예측 정확도: 0.8409\n"
     ]
    }
   ],
   "source": [
    "rf_clf1 = RandomForestClassifier(n_estimators=100, max_depth=12, min_samples_leaf=8, \\\n",
    "                                 min_samples_split=20, random_state=0)\n",
    "rf_clf1.fit(X_train , y_train)\n",
    "pred = rf_clf1.predict(X_test)\n",
    "print('예측 정확도: {0:.4f}'.format(accuracy_score(y_test , pred)))"
   ]
  },
  {
   "cell_type": "code",
   "execution_count": 27,
   "id": "c8cfc5d2",
   "metadata": {},
   "outputs": [
    {
     "data": {
      "image/png": "[encoded data removed]",
      "text/plain": [
       "<Figure size 576x432 with 1 Axes>"
      ]
     },
     "metadata": {
      "needs_background": "light"
     },
     "output_type": "display_data"
    }
   ],
   "source": [
    "import matplotlib.pyplot as plt\n",
    "import seaborn as sns\n",
    "%matplotlib inline\n",
    "\n",
    "ftr_importances_values = rf_clf1.feature_importances_\n",
    "ftr_importances = pd.Series(ftr_importances_values,index=X_train.columns  )\n",
    "ftr_top20 = ftr_importances.sort_values(ascending=False)[:20]\n",
    "\n",
    "plt.figure(figsize=(8,6))\n",
    "plt.title('Feature importances Top 9')\n",
    "sns.barplot(x=ftr_top20 , y = ftr_top20.index)\n",
    "plt.show()"
   ]
  },
  {
   "cell_type": "markdown",
   "id": "4e43f697",
   "metadata": {},
   "source": [
    "#### SVM"
   ]
  },
  {
   "cell_type": "code",
   "execution_count": 28,
   "id": "b7866e4a",
   "metadata": {},
   "outputs": [],
   "source": [
    "X_train, X_test, y_train, y_test = train_test_split(X, y, test_size = 0.2)"
   ]
  },
  {
   "cell_type": "code",
   "execution_count": 29,
   "id": "02c58d52",
   "metadata": {},
   "outputs": [
    {
     "name": "stdout",
     "output_type": "stream",
     "text": [
      "0.8472286196837095\n"
     ]
    }
   ],
   "source": [
    "from sklearn import svm\n",
    "\n",
    "clf = svm.SVC(gamma=0.001, C=100)\n",
    "clf.fit(X_train, y_train)\n",
    "predictions = clf.predict(X_test)\n",
    "from sklearn.metrics import accuracy_score\n",
    "print(accuracy_score(y_test, predictions))"
   ]
  },
  {
   "cell_type": "markdown",
   "id": "23276898",
   "metadata": {},
   "source": [
    "#### 로지스틱 회귀"
   ]
  },
  {
   "cell_type": "code",
   "execution_count": 30,
   "id": "b7435fde",
   "metadata": {},
   "outputs": [
    {
     "name": "stdout",
     "output_type": "stream",
     "text": [
      "학습용 데이터셋 정확도 : 0.76\n",
      "검증용 데이터셋 정확도 : 0.75\n"
     ]
    }
   ],
   "source": [
    "import pandas as pd\n",
    "import matplotlib.pyplot as plt\n",
    "%matplotlib inline\n",
    "\n",
    "from sklearn.datasets import load_breast_cancer\n",
    "from sklearn.linear_model import LogisticRegression\n",
    "from sklearn.preprocessing import StandardScaler\n",
    "from sklearn.model_selection import train_test_split\n",
    "\n",
    "x = adult_df[['sex', 'age','hours-per-week']]  #변수 지정\n",
    "y = adult_df[['income']]\n",
    "x_train, x_test, y_train, y_test = train_test_split(x, y, test_size=0.2)\n",
    "\n",
    "log = LogisticRegression() #로지스틱 회귀분석 시행\n",
    "\n",
    "log.fit(x_train, y_train) #모델의 정확도 확인\n",
    "print('학습용 데이터셋 정확도 : %.2f' % log.score(x_train, y_train))\n",
    "print('검증용 데이터셋 정확도 : %.2f' % log.score(x_test, y_test))"
   ]
  },
  {
   "cell_type": "code",
   "execution_count": 31,
   "id": "d5236bad",
   "metadata": {},
   "outputs": [
    {
     "name": "stdout",
     "output_type": "stream",
     "text": [
      "              precision    recall  f1-score   support\n",
      "\n",
      "           0       0.78      0.95      0.85      4935\n",
      "           1       0.47      0.14      0.22      1578\n",
      "\n",
      "    accuracy                           0.75      6513\n",
      "   macro avg       0.62      0.55      0.54      6513\n",
      "weighted avg       0.70      0.75      0.70      6513\n",
      "\n"
     ]
    }
   ],
   "source": [
    "# 모형 성능평가\n",
    "from sklearn.metrics import classification_report\n",
    "y_pred=log.predict(x_test)\n",
    "print(classification_report(y_test, y_pred))"
   ]
  },
  {
   "cell_type": "code",
   "execution_count": 32,
   "id": "14df9296",
   "metadata": {},
   "outputs": [
    {
     "name": "stdout",
     "output_type": "stream",
     "text": [
      "Optimization terminated successfully.\n",
      "         Current function value: 0.586374\n",
      "         Iterations 5\n"
     ]
    }
   ],
   "source": [
    "import statsmodels.api as sm\n",
    "logit = sm.Logit(adult_df[['income']],x) #로지스틱 회귀분석 시행\n",
    "result = logit.fit()"
   ]
  },
  {
   "cell_type": "code",
   "execution_count": 33,
   "id": "21e47952",
   "metadata": {},
   "outputs": [
    {
     "data": {
      "text/html": [
       "<table class=\"simpletable\">\n",
       "<tr>\n",
       "        <td>Model:</td>              <td>Logit</td>      <td>Pseudo R-squared:</td>   <td>-0.062</td>  \n",
       "</tr>\n",
       "<tr>\n",
       "  <td>Dependent Variable:</td>      <td>income</td>            <td>AIC:</td>        <td>38191.8706</td>\n",
       "</tr>\n",
       "<tr>\n",
       "         <td>Date:</td>        <td>2021-04-30 00:09</td>       <td>BIC:</td>        <td>38217.0432</td>\n",
       "</tr>\n",
       "<tr>\n",
       "   <td>No. Observations:</td>        <td>32561</td>       <td>Log-Likelihood:</td>    <td>-19093.</td> \n",
       "</tr>\n",
       "<tr>\n",
       "       <td>Df Model:</td>              <td>2</td>            <td>LL-Null:</td>        <td>-17974.</td> \n",
       "</tr>\n",
       "<tr>\n",
       "     <td>Df Residuals:</td>          <td>32558</td>        <td>LLR p-value:</td>      <td>1.0000</td>  \n",
       "</tr>\n",
       "<tr>\n",
       "      <td>Converged:</td>           <td>1.0000</td>           <td>Scale:</td>         <td>1.0000</td>  \n",
       "</tr>\n",
       "<tr>\n",
       "    <td>No. Iterations:</td>        <td>5.0000</td>              <td></td>               <td></td>     \n",
       "</tr>\n",
       "</table>\n",
       "<table class=\"simpletable\">\n",
       "<tr>\n",
       "         <td></td>         <th>Coef.</th>  <th>Std.Err.</th>     <th>z</th>     <th>P>|z|</th> <th>[0.025</th>  <th>0.975]</th> \n",
       "</tr>\n",
       "<tr>\n",
       "  <th>sex</th>            <td>0.4824</td>   <td>0.0278</td>   <td>17.3342</td> <td>0.0000</td> <td>0.4279</td>  <td>0.5370</td> \n",
       "</tr>\n",
       "<tr>\n",
       "  <th>age</th>            <td>-0.0091</td>  <td>0.0007</td>  <td>-12.1884</td> <td>0.0000</td> <td>-0.0105</td> <td>-0.0076</td>\n",
       "</tr>\n",
       "<tr>\n",
       "  <th>hours-per-week</th> <td>-0.0227</td>  <td>0.0008</td>  <td>-28.4917</td> <td>0.0000</td> <td>-0.0242</td> <td>-0.0211</td>\n",
       "</tr>\n",
       "</table>"
      ],
      "text/plain": [
       "<class 'statsmodels.iolib.summary2.Summary'>\n",
       "\"\"\"\n",
       "                         Results: Logit\n",
       "=================================================================\n",
       "Model:              Logit            Pseudo R-squared: -0.062    \n",
       "Dependent Variable: income           AIC:              38191.8706\n",
       "Date:               2021-04-30 00:09 BIC:              38217.0432\n",
       "No. Observations:   32561            Log-Likelihood:   -19093.   \n",
       "Df Model:           2                LL-Null:          -17974.   \n",
       "Df Residuals:       32558            LLR p-value:      1.0000    \n",
       "Converged:          1.0000           Scale:            1.0000    \n",
       "No. Iterations:     5.0000                                       \n",
       "-----------------------------------------------------------------\n",
       "                  Coef.  Std.Err.    z     P>|z|   [0.025  0.975]\n",
       "-----------------------------------------------------------------\n",
       "sex               0.4824   0.0278  17.3342 0.0000  0.4279  0.5370\n",
       "age              -0.0091   0.0007 -12.1884 0.0000 -0.0105 -0.0076\n",
       "hours-per-week   -0.0227   0.0008 -28.4917 0.0000 -0.0242 -0.0211\n",
       "=================================================================\n",
       "\n",
       "\"\"\""
      ]
     },
     "execution_count": 33,
     "metadata": {},
     "output_type": "execute_result"
    }
   ],
   "source": [
    "result.summary2()"
   ]
  },
  {
   "cell_type": "code",
   "execution_count": 34,
   "id": "db224546",
   "metadata": {},
   "outputs": [
    {
     "data": {
      "text/plain": [
       "sex               1.620037\n",
       "age               0.990972\n",
       "hours-per-week    0.977572\n",
       "dtype: float64"
      ]
     },
     "execution_count": 34,
     "metadata": {},
     "output_type": "execute_result"
    }
   ],
   "source": [
    "np.exp(result.params)"
   ]
  },
  {
   "cell_type": "markdown",
   "id": "4da5563d",
   "metadata": {},
   "source": [
    "#### 결정트리"
   ]
  },
  {
   "cell_type": "code",
   "execution_count": 30,
   "id": "c5691500",
   "metadata": {},
   "outputs": [
    {
     "data": {
      "text/plain": [
       "DecisionTreeClassifier(max_depth=4)"
      ]
     },
     "execution_count": 30,
     "metadata": {},
     "output_type": "execute_result"
    }
   ],
   "source": [
    "from sklearn.tree import DecisionTreeClassifier\n",
    "from sklearn.model_selection import train_test_split\n",
    "import warnings\n",
    "warnings.filterwarnings('ignore')\n",
    "\n",
    "# DecisionTree Classifier 생성\n",
    "dt_clf = DecisionTreeClassifier(max_depth = 4)\n",
    "\n",
    "X=adult_df.loc[:,'age':'native-country']\n",
    "y=adult_df.loc[:,'income']\n",
    "\n",
    "X_train , X_test , y_train , y_test = train_test_split(X, y,\n",
    "                                                       test_size=0.2, random_state=11)\n",
    "\n",
    "# DecisionTreeClassifer 학습. \n",
    "dt_clf.fit(X_train , y_train)"
   ]
  },
  {
   "cell_type": "code",
   "execution_count": 31,
   "id": "8a783ef7",
   "metadata": {},
   "outputs": [],
   "source": [
    "from sklearn.tree import export_graphviz\n",
    "\n",
    "# export_graphviz()의 호출 결과로 out_file로 지정된 tree.dot 파일을 생성함. \n",
    "export_graphviz(dt_clf, out_file=\"tree.dot\", class_names='income' , \\\n",
    "feature_names = ['age', 'education-num', 'occupation', 'race', 'sex', 'capital-gain',\n",
    "                 'capital-loss', 'hours-per-week', 'native-country'], impurity=True, filled=True)"
   ]
  },
  {
   "cell_type": "code",
   "execution_count": 32,
   "id": "db034962",
   "metadata": {
    "scrolled": false
   },
   "outputs": [
    {
     "data": {
      "image/svg+xml": [
       "<?xml version=\"1.0\" encoding=\"UTF-8\" standalone=\"no\"?>\r\n",
       "<!DOCTYPE svg PUBLIC \"-//W3C//DTD SVG 1.1//EN\"\r\n",
       " \"http://www.w3.org/Graphics/SVG/1.1/DTD/svg11.dtd\">\r\n",
       "<!-- Generated by graphviz version 2.47.1 (20210417.1919)\r\n",
       " -->\r\n",
       "<!-- Title: Tree Pages: 1 -->\r\n",
       "<svg width=\"1598pt\" height=\"552pt\"\r\n",
       " viewBox=\"0.00 0.00 1598.00 552.00\" xmlns=\"http://www.w3.org/2000/svg\" xmlns:xlink=\"http://www.w3.org/1999/xlink\">\r\n",
       "<g id=\"graph0\" class=\"graph\" transform=\"scale(1 1) rotate(0) translate(4 548)\">\r\n",
       "<title>Tree</title>\r\n",
       "<polygon fill=\"white\" stroke=\"transparent\" points=\"-4,4 -4,-548 1594,-548 1594,4 -4,4\"/>\r\n",
       "<!-- 0 -->\r\n",
       "<g id=\"node1\" class=\"node\">\r\n",
       "<title>0</title>\r\n",
       "<polygon fill=\"#edaa79\" stroke=\"black\" points=\"1040.5,-544 899.5,-544 899.5,-461 1040.5,-461 1040.5,-544\"/>\r\n",
       "<text text-anchor=\"middle\" x=\"970\" y=\"-528.8\" font-family=\"Times New Roman,serif\" font-size=\"14.00\">capital&#45;gain &lt;= 5119.0</text>\r\n",
       "<text text-anchor=\"middle\" x=\"970\" y=\"-513.8\" font-family=\"Times New Roman,serif\" font-size=\"14.00\">gini = 0.368</text>\r\n",
       "<text text-anchor=\"middle\" x=\"970\" y=\"-498.8\" font-family=\"Times New Roman,serif\" font-size=\"14.00\">samples = 26048</text>\r\n",
       "<text text-anchor=\"middle\" x=\"970\" y=\"-483.8\" font-family=\"Times New Roman,serif\" font-size=\"14.00\">value = [19705, 6343]</text>\r\n",
       "<text text-anchor=\"middle\" x=\"970\" y=\"-468.8\" font-family=\"Times New Roman,serif\" font-size=\"14.00\">class = i</text>\r\n",
       "</g>\r\n",
       "<!-- 1 -->\r\n",
       "<g id=\"node2\" class=\"node\">\r\n",
       "<title>1</title>\r\n",
       "<polygon fill=\"#eca26d\" stroke=\"black\" points=\"892.5,-425 745.5,-425 745.5,-342 892.5,-342 892.5,-425\"/>\r\n",
       "<text text-anchor=\"middle\" x=\"819\" y=\"-409.8\" font-family=\"Times New Roman,serif\" font-size=\"14.00\">education&#45;num &lt;= 12.5</text>\r\n",
       "<text text-anchor=\"middle\" x=\"819\" y=\"-394.8\" font-family=\"Times New Roman,serif\" font-size=\"14.00\">gini = 0.328</text>\r\n",
       "<text text-anchor=\"middle\" x=\"819\" y=\"-379.8\" font-family=\"Times New Roman,serif\" font-size=\"14.00\">samples = 24764</text>\r\n",
       "<text text-anchor=\"middle\" x=\"819\" y=\"-364.8\" font-family=\"Times New Roman,serif\" font-size=\"14.00\">value = [19637, 5127]</text>\r\n",
       "<text text-anchor=\"middle\" x=\"819\" y=\"-349.8\" font-family=\"Times New Roman,serif\" font-size=\"14.00\">class = i</text>\r\n",
       "</g>\r\n",
       "<!-- 0&#45;&gt;1 -->\r\n",
       "<g id=\"edge1\" class=\"edge\">\r\n",
       "<title>0&#45;&gt;1</title>\r\n",
       "<path fill=\"none\" stroke=\"black\" d=\"M917.61,-460.91C905.31,-451.38 892.11,-441.15 879.49,-431.37\"/>\r\n",
       "<polygon fill=\"black\" stroke=\"black\" points=\"881.34,-428.38 871.3,-425.02 877.06,-433.91 881.34,-428.38\"/>\r\n",
       "<text text-anchor=\"middle\" x=\"874.44\" y=\"-446.12\" font-family=\"Times New Roman,serif\" font-size=\"14.00\">True</text>\r\n",
       "</g>\r\n",
       "<!-- 16 -->\r\n",
       "<g id=\"node17\" class=\"node\">\r\n",
       "<title>16</title>\r\n",
       "<polygon fill=\"#44a2e6\" stroke=\"black\" points=\"1159.5,-425 1018.5,-425 1018.5,-342 1159.5,-342 1159.5,-425\"/>\r\n",
       "<text text-anchor=\"middle\" x=\"1089\" y=\"-409.8\" font-family=\"Times New Roman,serif\" font-size=\"14.00\">capital&#45;gain &lt;= 7073.5</text>\r\n",
       "<text text-anchor=\"middle\" x=\"1089\" y=\"-394.8\" font-family=\"Times New Roman,serif\" font-size=\"14.00\">gini = 0.1</text>\r\n",
       "<text text-anchor=\"middle\" x=\"1089\" y=\"-379.8\" font-family=\"Times New Roman,serif\" font-size=\"14.00\">samples = 1284</text>\r\n",
       "<text text-anchor=\"middle\" x=\"1089\" y=\"-364.8\" font-family=\"Times New Roman,serif\" font-size=\"14.00\">value = [68, 1216]</text>\r\n",
       "<text text-anchor=\"middle\" x=\"1089\" y=\"-349.8\" font-family=\"Times New Roman,serif\" font-size=\"14.00\">class = n</text>\r\n",
       "</g>\r\n",
       "<!-- 0&#45;&gt;16 -->\r\n",
       "<g id=\"edge16\" class=\"edge\">\r\n",
       "<title>0&#45;&gt;16</title>\r\n",
       "<path fill=\"none\" stroke=\"black\" d=\"M1011.29,-460.91C1020.7,-451.65 1030.79,-441.73 1040.48,-432.21\"/>\r\n",
       "<polygon fill=\"black\" stroke=\"black\" points=\"1043.11,-434.53 1047.79,-425.02 1038.2,-429.54 1043.11,-434.53\"/>\r\n",
       "<text text-anchor=\"middle\" x=\"1047.57\" y=\"-446.32\" font-family=\"Times New Roman,serif\" font-size=\"14.00\">False</text>\r\n",
       "</g>\r\n",
       "<!-- 2 -->\r\n",
       "<g id=\"node3\" class=\"node\">\r\n",
       "<title>2</title>\r\n",
       "<polygon fill=\"#e99659\" stroke=\"black\" points=\"486,-306 348,-306 348,-223 486,-223 486,-306\"/>\r\n",
       "<text text-anchor=\"middle\" x=\"417\" y=\"-290.8\" font-family=\"Times New Roman,serif\" font-size=\"14.00\">age &lt;= 33.5</text>\r\n",
       "<text text-anchor=\"middle\" x=\"417\" y=\"-275.8\" font-family=\"Times New Roman,serif\" font-size=\"14.00\">gini = 0.241</text>\r\n",
       "<text text-anchor=\"middle\" x=\"417\" y=\"-260.8\" font-family=\"Times New Roman,serif\" font-size=\"14.00\">samples = 18965</text>\r\n",
       "<text text-anchor=\"middle\" x=\"417\" y=\"-245.8\" font-family=\"Times New Roman,serif\" font-size=\"14.00\">value = [16301, 2664]</text>\r\n",
       "<text text-anchor=\"middle\" x=\"417\" y=\"-230.8\" font-family=\"Times New Roman,serif\" font-size=\"14.00\">class = i</text>\r\n",
       "</g>\r\n",
       "<!-- 1&#45;&gt;2 -->\r\n",
       "<g id=\"edge2\" class=\"edge\">\r\n",
       "<title>1&#45;&gt;2</title>\r\n",
       "<path fill=\"none\" stroke=\"black\" d=\"M745.27,-361.04C674.69,-340.5 568.56,-309.61 496.21,-288.55\"/>\r\n",
       "<polygon fill=\"black\" stroke=\"black\" points=\"496.81,-285.08 486.23,-285.65 494.86,-291.81 496.81,-285.08\"/>\r\n",
       "</g>\r\n",
       "<!-- 9 -->\r\n",
       "<g id=\"node10\" class=\"node\">\r\n",
       "<title>9</title>\r\n",
       "<polygon fill=\"#f8decb\" stroke=\"black\" points=\"884.5,-306 753.5,-306 753.5,-223 884.5,-223 884.5,-306\"/>\r\n",
       "<text text-anchor=\"middle\" x=\"819\" y=\"-290.8\" font-family=\"Times New Roman,serif\" font-size=\"14.00\">age &lt;= 29.5</text>\r\n",
       "<text text-anchor=\"middle\" x=\"819\" y=\"-275.8\" font-family=\"Times New Roman,serif\" font-size=\"14.00\">gini = 0.489</text>\r\n",
       "<text text-anchor=\"middle\" x=\"819\" y=\"-260.8\" font-family=\"Times New Roman,serif\" font-size=\"14.00\">samples = 5799</text>\r\n",
       "<text text-anchor=\"middle\" x=\"819\" y=\"-245.8\" font-family=\"Times New Roman,serif\" font-size=\"14.00\">value = [3336, 2463]</text>\r\n",
       "<text text-anchor=\"middle\" x=\"819\" y=\"-230.8\" font-family=\"Times New Roman,serif\" font-size=\"14.00\">class = i</text>\r\n",
       "</g>\r\n",
       "<!-- 1&#45;&gt;9 -->\r\n",
       "<g id=\"edge9\" class=\"edge\">\r\n",
       "<title>1&#45;&gt;9</title>\r\n",
       "<path fill=\"none\" stroke=\"black\" d=\"M819,-341.91C819,-333.65 819,-324.86 819,-316.3\"/>\r\n",
       "<polygon fill=\"black\" stroke=\"black\" points=\"822.5,-316.02 819,-306.02 815.5,-316.02 822.5,-316.02\"/>\r\n",
       "</g>\r\n",
       "<!-- 3 -->\r\n",
       "<g id=\"node4\" class=\"node\">\r\n",
       "<title>3</title>\r\n",
       "<polygon fill=\"#e68843\" stroke=\"black\" points=\"261.5,-187 136.5,-187 136.5,-104 261.5,-104 261.5,-187\"/>\r\n",
       "<text text-anchor=\"middle\" x=\"199\" y=\"-171.8\" font-family=\"Times New Roman,serif\" font-size=\"14.00\">age &lt;= 25.5</text>\r\n",
       "<text text-anchor=\"middle\" x=\"199\" y=\"-156.8\" font-family=\"Times New Roman,serif\" font-size=\"14.00\">gini = 0.095</text>\r\n",
       "<text text-anchor=\"middle\" x=\"199\" y=\"-141.8\" font-family=\"Times New Roman,serif\" font-size=\"14.00\">samples = 8413</text>\r\n",
       "<text text-anchor=\"middle\" x=\"199\" y=\"-126.8\" font-family=\"Times New Roman,serif\" font-size=\"14.00\">value = [7991, 422]</text>\r\n",
       "<text text-anchor=\"middle\" x=\"199\" y=\"-111.8\" font-family=\"Times New Roman,serif\" font-size=\"14.00\">class = i</text>\r\n",
       "</g>\r\n",
       "<!-- 2&#45;&gt;3 -->\r\n",
       "<g id=\"edge3\" class=\"edge\">\r\n",
       "<title>2&#45;&gt;3</title>\r\n",
       "<path fill=\"none\" stroke=\"black\" d=\"M347.72,-226.32C323.18,-213.15 295.53,-198.31 270.79,-185.03\"/>\r\n",
       "<polygon fill=\"black\" stroke=\"black\" points=\"272.28,-181.86 261.82,-180.21 268.97,-188.03 272.28,-181.86\"/>\r\n",
       "</g>\r\n",
       "<!-- 6 -->\r\n",
       "<g id=\"node7\" class=\"node\">\r\n",
       "<title>6</title>\r\n",
       "<polygon fill=\"#eca36e\" stroke=\"black\" points=\"482.5,-187 351.5,-187 351.5,-104 482.5,-104 482.5,-187\"/>\r\n",
       "<text text-anchor=\"middle\" x=\"417\" y=\"-171.8\" font-family=\"Times New Roman,serif\" font-size=\"14.00\">sex &lt;= 0.5</text>\r\n",
       "<text text-anchor=\"middle\" x=\"417\" y=\"-156.8\" font-family=\"Times New Roman,serif\" font-size=\"14.00\">gini = 0.335</text>\r\n",
       "<text text-anchor=\"middle\" x=\"417\" y=\"-141.8\" font-family=\"Times New Roman,serif\" font-size=\"14.00\">samples = 10552</text>\r\n",
       "<text text-anchor=\"middle\" x=\"417\" y=\"-126.8\" font-family=\"Times New Roman,serif\" font-size=\"14.00\">value = [8310, 2242]</text>\r\n",
       "<text text-anchor=\"middle\" x=\"417\" y=\"-111.8\" font-family=\"Times New Roman,serif\" font-size=\"14.00\">class = i</text>\r\n",
       "</g>\r\n",
       "<!-- 2&#45;&gt;6 -->\r\n",
       "<g id=\"edge6\" class=\"edge\">\r\n",
       "<title>2&#45;&gt;6</title>\r\n",
       "<path fill=\"none\" stroke=\"black\" d=\"M417,-222.91C417,-214.65 417,-205.86 417,-197.3\"/>\r\n",
       "<polygon fill=\"black\" stroke=\"black\" points=\"420.5,-197.02 417,-187.02 413.5,-197.02 420.5,-197.02\"/>\r\n",
       "</g>\r\n",
       "<!-- 4 -->\r\n",
       "<g id=\"node5\" class=\"node\">\r\n",
       "<title>4</title>\r\n",
       "<polygon fill=\"#e5823b\" stroke=\"black\" points=\"118,-68 0,-68 0,0 118,0 118,-68\"/>\r\n",
       "<text text-anchor=\"middle\" x=\"59\" y=\"-52.8\" font-family=\"Times New Roman,serif\" font-size=\"14.00\">gini = 0.022</text>\r\n",
       "<text text-anchor=\"middle\" x=\"59\" y=\"-37.8\" font-family=\"Times New Roman,serif\" font-size=\"14.00\">samples = 4518</text>\r\n",
       "<text text-anchor=\"middle\" x=\"59\" y=\"-22.8\" font-family=\"Times New Roman,serif\" font-size=\"14.00\">value = [4468, 50]</text>\r\n",
       "<text text-anchor=\"middle\" x=\"59\" y=\"-7.8\" font-family=\"Times New Roman,serif\" font-size=\"14.00\">class = i</text>\r\n",
       "</g>\r\n",
       "<!-- 3&#45;&gt;4 -->\r\n",
       "<g id=\"edge4\" class=\"edge\">\r\n",
       "<title>3&#45;&gt;4</title>\r\n",
       "<path fill=\"none\" stroke=\"black\" d=\"M146.87,-103.73C134.74,-94.24 121.85,-84.16 109.78,-74.72\"/>\r\n",
       "<polygon fill=\"black\" stroke=\"black\" points=\"111.61,-71.7 101.57,-68.3 107.3,-77.22 111.61,-71.7\"/>\r\n",
       "</g>\r\n",
       "<!-- 5 -->\r\n",
       "<g id=\"node6\" class=\"node\">\r\n",
       "<title>5</title>\r\n",
       "<polygon fill=\"#e88e4e\" stroke=\"black\" points=\"261.5,-68 136.5,-68 136.5,0 261.5,0 261.5,-68\"/>\r\n",
       "<text text-anchor=\"middle\" x=\"199\" y=\"-52.8\" font-family=\"Times New Roman,serif\" font-size=\"14.00\">gini = 0.173</text>\r\n",
       "<text text-anchor=\"middle\" x=\"199\" y=\"-37.8\" font-family=\"Times New Roman,serif\" font-size=\"14.00\">samples = 3895</text>\r\n",
       "<text text-anchor=\"middle\" x=\"199\" y=\"-22.8\" font-family=\"Times New Roman,serif\" font-size=\"14.00\">value = [3523, 372]</text>\r\n",
       "<text text-anchor=\"middle\" x=\"199\" y=\"-7.8\" font-family=\"Times New Roman,serif\" font-size=\"14.00\">class = i</text>\r\n",
       "</g>\r\n",
       "<!-- 3&#45;&gt;5 -->\r\n",
       "<g id=\"edge5\" class=\"edge\">\r\n",
       "<title>3&#45;&gt;5</title>\r\n",
       "<path fill=\"none\" stroke=\"black\" d=\"M199,-103.73C199,-95.52 199,-86.86 199,-78.56\"/>\r\n",
       "<polygon fill=\"black\" stroke=\"black\" points=\"202.5,-78.3 199,-68.3 195.5,-78.3 202.5,-78.3\"/>\r\n",
       "</g>\r\n",
       "<!-- 7 -->\r\n",
       "<g id=\"node8\" class=\"node\">\r\n",
       "<title>7</title>\r\n",
       "<polygon fill=\"#e88e4d\" stroke=\"black\" points=\"404.5,-68 279.5,-68 279.5,0 404.5,0 404.5,-68\"/>\r\n",
       "<text text-anchor=\"middle\" x=\"342\" y=\"-52.8\" font-family=\"Times New Roman,serif\" font-size=\"14.00\">gini = 0.166</text>\r\n",
       "<text text-anchor=\"middle\" x=\"342\" y=\"-37.8\" font-family=\"Times New Roman,serif\" font-size=\"14.00\">samples = 3380</text>\r\n",
       "<text text-anchor=\"middle\" x=\"342\" y=\"-22.8\" font-family=\"Times New Roman,serif\" font-size=\"14.00\">value = [3071, 309]</text>\r\n",
       "<text text-anchor=\"middle\" x=\"342\" y=\"-7.8\" font-family=\"Times New Roman,serif\" font-size=\"14.00\">class = i</text>\r\n",
       "</g>\r\n",
       "<!-- 6&#45;&gt;7 -->\r\n",
       "<g id=\"edge7\" class=\"edge\">\r\n",
       "<title>6&#45;&gt;7</title>\r\n",
       "<path fill=\"none\" stroke=\"black\" d=\"M389.07,-103.73C383.01,-94.88 376.6,-85.51 370.51,-76.63\"/>\r\n",
       "<polygon fill=\"black\" stroke=\"black\" points=\"373.35,-74.57 364.81,-68.3 367.57,-78.53 373.35,-74.57\"/>\r\n",
       "</g>\r\n",
       "<!-- 8 -->\r\n",
       "<g id=\"node9\" class=\"node\">\r\n",
       "<title>8</title>\r\n",
       "<polygon fill=\"#efaf82\" stroke=\"black\" points=\"553.5,-68 422.5,-68 422.5,0 553.5,0 553.5,-68\"/>\r\n",
       "<text text-anchor=\"middle\" x=\"488\" y=\"-52.8\" font-family=\"Times New Roman,serif\" font-size=\"14.00\">gini = 0.394</text>\r\n",
       "<text text-anchor=\"middle\" x=\"488\" y=\"-37.8\" font-family=\"Times New Roman,serif\" font-size=\"14.00\">samples = 7172</text>\r\n",
       "<text text-anchor=\"middle\" x=\"488\" y=\"-22.8\" font-family=\"Times New Roman,serif\" font-size=\"14.00\">value = [5239, 1933]</text>\r\n",
       "<text text-anchor=\"middle\" x=\"488\" y=\"-7.8\" font-family=\"Times New Roman,serif\" font-size=\"14.00\">class = i</text>\r\n",
       "</g>\r\n",
       "<!-- 6&#45;&gt;8 -->\r\n",
       "<g id=\"edge8\" class=\"edge\">\r\n",
       "<title>6&#45;&gt;8</title>\r\n",
       "<path fill=\"none\" stroke=\"black\" d=\"M443.44,-103.73C449.12,-94.97 455.12,-85.7 460.83,-76.91\"/>\r\n",
       "<polygon fill=\"black\" stroke=\"black\" points=\"463.9,-78.59 466.41,-68.3 458.03,-74.79 463.9,-78.59\"/>\r\n",
       "</g>\r\n",
       "<!-- 10 -->\r\n",
       "<g id=\"node11\" class=\"node\">\r\n",
       "<title>10</title>\r\n",
       "<polygon fill=\"#e99254\" stroke=\"black\" points=\"811.5,-187 686.5,-187 686.5,-104 811.5,-104 811.5,-187\"/>\r\n",
       "<text text-anchor=\"middle\" x=\"749\" y=\"-171.8\" font-family=\"Times New Roman,serif\" font-size=\"14.00\">age &lt;= 27.5</text>\r\n",
       "<text text-anchor=\"middle\" x=\"749\" y=\"-156.8\" font-family=\"Times New Roman,serif\" font-size=\"14.00\">gini = 0.21</text>\r\n",
       "<text text-anchor=\"middle\" x=\"749\" y=\"-141.8\" font-family=\"Times New Roman,serif\" font-size=\"14.00\">samples = 1244</text>\r\n",
       "<text text-anchor=\"middle\" x=\"749\" y=\"-126.8\" font-family=\"Times New Roman,serif\" font-size=\"14.00\">value = [1096, 148]</text>\r\n",
       "<text text-anchor=\"middle\" x=\"749\" y=\"-111.8\" font-family=\"Times New Roman,serif\" font-size=\"14.00\">class = i</text>\r\n",
       "</g>\r\n",
       "<!-- 9&#45;&gt;10 -->\r\n",
       "<g id=\"edge10\" class=\"edge\">\r\n",
       "<title>9&#45;&gt;10</title>\r\n",
       "<path fill=\"none\" stroke=\"black\" d=\"M794.71,-222.91C789.45,-214.1 783.82,-204.7 778.38,-195.61\"/>\r\n",
       "<polygon fill=\"black\" stroke=\"black\" points=\"781.38,-193.81 773.24,-187.02 775.37,-197.4 781.38,-193.81\"/>\r\n",
       "</g>\r\n",
       "<!-- 13 -->\r\n",
       "<g id=\"node14\" class=\"node\">\r\n",
       "<title>13</title>\r\n",
       "<polygon fill=\"#f9fcfe\" stroke=\"black\" points=\"960.5,-187 829.5,-187 829.5,-104 960.5,-104 960.5,-187\"/>\r\n",
       "<text text-anchor=\"middle\" x=\"895\" y=\"-171.8\" font-family=\"Times New Roman,serif\" font-size=\"14.00\">sex &lt;= 0.5</text>\r\n",
       "<text text-anchor=\"middle\" x=\"895\" y=\"-156.8\" font-family=\"Times New Roman,serif\" font-size=\"14.00\">gini = 0.5</text>\r\n",
       "<text text-anchor=\"middle\" x=\"895\" y=\"-141.8\" font-family=\"Times New Roman,serif\" font-size=\"14.00\">samples = 4555</text>\r\n",
       "<text text-anchor=\"middle\" x=\"895\" y=\"-126.8\" font-family=\"Times New Roman,serif\" font-size=\"14.00\">value = [2240, 2315]</text>\r\n",
       "<text text-anchor=\"middle\" x=\"895\" y=\"-111.8\" font-family=\"Times New Roman,serif\" font-size=\"14.00\">class = n</text>\r\n",
       "</g>\r\n",
       "<!-- 9&#45;&gt;13 -->\r\n",
       "<g id=\"edge13\" class=\"edge\">\r\n",
       "<title>9&#45;&gt;13</title>\r\n",
       "<path fill=\"none\" stroke=\"black\" d=\"M845.37,-222.91C851.09,-214.1 857.19,-204.7 863.1,-195.61\"/>\r\n",
       "<polygon fill=\"black\" stroke=\"black\" points=\"866.17,-197.31 868.68,-187.02 860.3,-193.5 866.17,-197.31\"/>\r\n",
       "</g>\r\n",
       "<!-- 11 -->\r\n",
       "<g id=\"node12\" class=\"node\">\r\n",
       "<title>11</title>\r\n",
       "<polygon fill=\"#e78b48\" stroke=\"black\" points=\"682.5,-68 571.5,-68 571.5,0 682.5,0 682.5,-68\"/>\r\n",
       "<text text-anchor=\"middle\" x=\"627\" y=\"-52.8\" font-family=\"Times New Roman,serif\" font-size=\"14.00\">gini = 0.131</text>\r\n",
       "<text text-anchor=\"middle\" x=\"627\" y=\"-37.8\" font-family=\"Times New Roman,serif\" font-size=\"14.00\">samples = 925</text>\r\n",
       "<text text-anchor=\"middle\" x=\"627\" y=\"-22.8\" font-family=\"Times New Roman,serif\" font-size=\"14.00\">value = [860, 65]</text>\r\n",
       "<text text-anchor=\"middle\" x=\"627\" y=\"-7.8\" font-family=\"Times New Roman,serif\" font-size=\"14.00\">class = i</text>\r\n",
       "</g>\r\n",
       "<!-- 10&#45;&gt;11 -->\r\n",
       "<g id=\"edge11\" class=\"edge\">\r\n",
       "<title>10&#45;&gt;11</title>\r\n",
       "<path fill=\"none\" stroke=\"black\" d=\"M703.57,-103.73C693.1,-94.33 681.98,-84.35 671.55,-74.99\"/>\r\n",
       "<polygon fill=\"black\" stroke=\"black\" points=\"673.88,-72.37 664.1,-68.3 669.21,-77.58 673.88,-72.37\"/>\r\n",
       "</g>\r\n",
       "<!-- 12 -->\r\n",
       "<g id=\"node13\" class=\"node\">\r\n",
       "<title>12</title>\r\n",
       "<polygon fill=\"#eead7f\" stroke=\"black\" points=\"811.5,-68 700.5,-68 700.5,0 811.5,0 811.5,-68\"/>\r\n",
       "<text text-anchor=\"middle\" x=\"756\" y=\"-52.8\" font-family=\"Times New Roman,serif\" font-size=\"14.00\">gini = 0.385</text>\r\n",
       "<text text-anchor=\"middle\" x=\"756\" y=\"-37.8\" font-family=\"Times New Roman,serif\" font-size=\"14.00\">samples = 319</text>\r\n",
       "<text text-anchor=\"middle\" x=\"756\" y=\"-22.8\" font-family=\"Times New Roman,serif\" font-size=\"14.00\">value = [236, 83]</text>\r\n",
       "<text text-anchor=\"middle\" x=\"756\" y=\"-7.8\" font-family=\"Times New Roman,serif\" font-size=\"14.00\">class = i</text>\r\n",
       "</g>\r\n",
       "<!-- 10&#45;&gt;12 -->\r\n",
       "<g id=\"edge12\" class=\"edge\">\r\n",
       "<title>10&#45;&gt;12</title>\r\n",
       "<path fill=\"none\" stroke=\"black\" d=\"M751.61,-103.73C752.14,-95.43 752.7,-86.67 753.23,-78.28\"/>\r\n",
       "<polygon fill=\"black\" stroke=\"black\" points=\"756.73,-78.5 753.87,-68.3 749.74,-78.06 756.73,-78.5\"/>\r\n",
       "</g>\r\n",
       "<!-- 14 -->\r\n",
       "<g id=\"node15\" class=\"node\">\r\n",
       "<title>14</title>\r\n",
       "<polygon fill=\"#efb286\" stroke=\"black\" points=\"948,-68 830,-68 830,0 948,0 948,-68\"/>\r\n",
       "<text text-anchor=\"middle\" x=\"889\" y=\"-52.8\" font-family=\"Times New Roman,serif\" font-size=\"14.00\">gini = 0.404</text>\r\n",
       "<text text-anchor=\"middle\" x=\"889\" y=\"-37.8\" font-family=\"Times New Roman,serif\" font-size=\"14.00\">samples = 1230</text>\r\n",
       "<text text-anchor=\"middle\" x=\"889\" y=\"-22.8\" font-family=\"Times New Roman,serif\" font-size=\"14.00\">value = [885, 345]</text>\r\n",
       "<text text-anchor=\"middle\" x=\"889\" y=\"-7.8\" font-family=\"Times New Roman,serif\" font-size=\"14.00\">class = i</text>\r\n",
       "</g>\r\n",
       "<!-- 13&#45;&gt;14 -->\r\n",
       "<g id=\"edge14\" class=\"edge\">\r\n",
       "<title>13&#45;&gt;14</title>\r\n",
       "<path fill=\"none\" stroke=\"black\" d=\"M892.77,-103.73C892.32,-95.52 891.84,-86.86 891.39,-78.56\"/>\r\n",
       "<polygon fill=\"black\" stroke=\"black\" points=\"894.87,-78.09 890.82,-68.3 887.88,-78.48 894.87,-78.09\"/>\r\n",
       "</g>\r\n",
       "<!-- 15 -->\r\n",
       "<g id=\"node16\" class=\"node\">\r\n",
       "<title>15</title>\r\n",
       "<polygon fill=\"#c1e0f7\" stroke=\"black\" points=\"1097.5,-68 966.5,-68 966.5,0 1097.5,0 1097.5,-68\"/>\r\n",
       "<text text-anchor=\"middle\" x=\"1032\" y=\"-52.8\" font-family=\"Times New Roman,serif\" font-size=\"14.00\">gini = 0.483</text>\r\n",
       "<text text-anchor=\"middle\" x=\"1032\" y=\"-37.8\" font-family=\"Times New Roman,serif\" font-size=\"14.00\">samples = 3325</text>\r\n",
       "<text text-anchor=\"middle\" x=\"1032\" y=\"-22.8\" font-family=\"Times New Roman,serif\" font-size=\"14.00\">value = [1355, 1970]</text>\r\n",
       "<text text-anchor=\"middle\" x=\"1032\" y=\"-7.8\" font-family=\"Times New Roman,serif\" font-size=\"14.00\">class = n</text>\r\n",
       "</g>\r\n",
       "<!-- 13&#45;&gt;15 -->\r\n",
       "<g id=\"edge15\" class=\"edge\">\r\n",
       "<title>13&#45;&gt;15</title>\r\n",
       "<path fill=\"none\" stroke=\"black\" d=\"M946.01,-103.73C957.88,-94.24 970.5,-84.16 982.31,-74.72\"/>\r\n",
       "<polygon fill=\"black\" stroke=\"black\" points=\"984.71,-77.28 990.34,-68.3 980.34,-71.81 984.71,-77.28\"/>\r\n",
       "</g>\r\n",
       "<!-- 17 -->\r\n",
       "<g id=\"node18\" class=\"node\">\r\n",
       "<title>17</title>\r\n",
       "<polygon fill=\"#9ecff2\" stroke=\"black\" points=\"1159.5,-306 1018.5,-306 1018.5,-223 1159.5,-223 1159.5,-306\"/>\r\n",
       "<text text-anchor=\"middle\" x=\"1089\" y=\"-290.8\" font-family=\"Times New Roman,serif\" font-size=\"14.00\">capital&#45;gain &lt;= 5316.5</text>\r\n",
       "<text text-anchor=\"middle\" x=\"1089\" y=\"-275.8\" font-family=\"Times New Roman,serif\" font-size=\"14.00\">gini = 0.447</text>\r\n",
       "<text text-anchor=\"middle\" x=\"1089\" y=\"-260.8\" font-family=\"Times New Roman,serif\" font-size=\"14.00\">samples = 148</text>\r\n",
       "<text text-anchor=\"middle\" x=\"1089\" y=\"-245.8\" font-family=\"Times New Roman,serif\" font-size=\"14.00\">value = [50, 98]</text>\r\n",
       "<text text-anchor=\"middle\" x=\"1089\" y=\"-230.8\" font-family=\"Times New Roman,serif\" font-size=\"14.00\">class = n</text>\r\n",
       "</g>\r\n",
       "<!-- 16&#45;&gt;17 -->\r\n",
       "<g id=\"edge17\" class=\"edge\">\r\n",
       "<title>16&#45;&gt;17</title>\r\n",
       "<path fill=\"none\" stroke=\"black\" d=\"M1089,-341.91C1089,-333.65 1089,-324.86 1089,-316.3\"/>\r\n",
       "<polygon fill=\"black\" stroke=\"black\" points=\"1092.5,-316.02 1089,-306.02 1085.5,-316.02 1092.5,-316.02\"/>\r\n",
       "</g>\r\n",
       "<!-- 22 -->\r\n",
       "<g id=\"node23\" class=\"node\">\r\n",
       "<title>22</title>\r\n",
       "<polygon fill=\"#3c9fe5\" stroke=\"black\" points=\"1340,-306 1222,-306 1222,-223 1340,-223 1340,-306\"/>\r\n",
       "<text text-anchor=\"middle\" x=\"1281\" y=\"-290.8\" font-family=\"Times New Roman,serif\" font-size=\"14.00\">age &lt;= 21.0</text>\r\n",
       "<text text-anchor=\"middle\" x=\"1281\" y=\"-275.8\" font-family=\"Times New Roman,serif\" font-size=\"14.00\">gini = 0.031</text>\r\n",
       "<text text-anchor=\"middle\" x=\"1281\" y=\"-260.8\" font-family=\"Times New Roman,serif\" font-size=\"14.00\">samples = 1136</text>\r\n",
       "<text text-anchor=\"middle\" x=\"1281\" y=\"-245.8\" font-family=\"Times New Roman,serif\" font-size=\"14.00\">value = [18, 1118]</text>\r\n",
       "<text text-anchor=\"middle\" x=\"1281\" y=\"-230.8\" font-family=\"Times New Roman,serif\" font-size=\"14.00\">class = n</text>\r\n",
       "</g>\r\n",
       "<!-- 16&#45;&gt;22 -->\r\n",
       "<g id=\"edge22\" class=\"edge\">\r\n",
       "<title>16&#45;&gt;22</title>\r\n",
       "<path fill=\"none\" stroke=\"black\" d=\"M1155.61,-341.91C1174.22,-330.57 1194.46,-318.24 1213.13,-306.86\"/>\r\n",
       "<polygon fill=\"black\" stroke=\"black\" points=\"1215.16,-309.72 1221.88,-301.53 1211.52,-303.74 1215.16,-309.72\"/>\r\n",
       "</g>\r\n",
       "<!-- 18 -->\r\n",
       "<g id=\"node19\" class=\"node\">\r\n",
       "<title>18</title>\r\n",
       "<polygon fill=\"#399de5\" stroke=\"black\" points=\"1095,-179.5 997,-179.5 997,-111.5 1095,-111.5 1095,-179.5\"/>\r\n",
       "<text text-anchor=\"middle\" x=\"1046\" y=\"-164.3\" font-family=\"Times New Roman,serif\" font-size=\"14.00\">gini = 0.0</text>\r\n",
       "<text text-anchor=\"middle\" x=\"1046\" y=\"-149.3\" font-family=\"Times New Roman,serif\" font-size=\"14.00\">samples = 81</text>\r\n",
       "<text text-anchor=\"middle\" x=\"1046\" y=\"-134.3\" font-family=\"Times New Roman,serif\" font-size=\"14.00\">value = [0, 81]</text>\r\n",
       "<text text-anchor=\"middle\" x=\"1046\" y=\"-119.3\" font-family=\"Times New Roman,serif\" font-size=\"14.00\">class = n</text>\r\n",
       "</g>\r\n",
       "<!-- 17&#45;&gt;18 -->\r\n",
       "<g id=\"edge18\" class=\"edge\">\r\n",
       "<title>17&#45;&gt;18</title>\r\n",
       "<path fill=\"none\" stroke=\"black\" d=\"M1074.08,-222.91C1070.07,-211.98 1065.71,-200.14 1061.66,-189.11\"/>\r\n",
       "<polygon fill=\"black\" stroke=\"black\" points=\"1064.92,-187.85 1058.19,-179.67 1058.35,-190.26 1064.92,-187.85\"/>\r\n",
       "</g>\r\n",
       "<!-- 19 -->\r\n",
       "<g id=\"node20\" class=\"node\">\r\n",
       "<title>19</title>\r\n",
       "<polygon fill=\"#eeac7c\" stroke=\"black\" points=\"1217,-187 1113,-187 1113,-104 1217,-104 1217,-187\"/>\r\n",
       "<text text-anchor=\"middle\" x=\"1165\" y=\"-171.8\" font-family=\"Times New Roman,serif\" font-size=\"14.00\">age &lt;= 53.5</text>\r\n",
       "<text text-anchor=\"middle\" x=\"1165\" y=\"-156.8\" font-family=\"Times New Roman,serif\" font-size=\"14.00\">gini = 0.379</text>\r\n",
       "<text text-anchor=\"middle\" x=\"1165\" y=\"-141.8\" font-family=\"Times New Roman,serif\" font-size=\"14.00\">samples = 67</text>\r\n",
       "<text text-anchor=\"middle\" x=\"1165\" y=\"-126.8\" font-family=\"Times New Roman,serif\" font-size=\"14.00\">value = [50, 17]</text>\r\n",
       "<text text-anchor=\"middle\" x=\"1165\" y=\"-111.8\" font-family=\"Times New Roman,serif\" font-size=\"14.00\">class = i</text>\r\n",
       "</g>\r\n",
       "<!-- 17&#45;&gt;19 -->\r\n",
       "<g id=\"edge19\" class=\"edge\">\r\n",
       "<title>17&#45;&gt;19</title>\r\n",
       "<path fill=\"none\" stroke=\"black\" d=\"M1115.37,-222.91C1121.09,-214.1 1127.19,-204.7 1133.1,-195.61\"/>\r\n",
       "<polygon fill=\"black\" stroke=\"black\" points=\"1136.17,-197.31 1138.68,-187.02 1130.3,-193.5 1136.17,-197.31\"/>\r\n",
       "</g>\r\n",
       "<!-- 20 -->\r\n",
       "<g id=\"node21\" class=\"node\">\r\n",
       "<title>20</title>\r\n",
       "<polygon fill=\"#e58139\" stroke=\"black\" points=\"1214,-68 1116,-68 1116,0 1214,0 1214,-68\"/>\r\n",
       "<text text-anchor=\"middle\" x=\"1165\" y=\"-52.8\" font-family=\"Times New Roman,serif\" font-size=\"14.00\">gini = 0.0</text>\r\n",
       "<text text-anchor=\"middle\" x=\"1165\" y=\"-37.8\" font-family=\"Times New Roman,serif\" font-size=\"14.00\">samples = 39</text>\r\n",
       "<text text-anchor=\"middle\" x=\"1165\" y=\"-22.8\" font-family=\"Times New Roman,serif\" font-size=\"14.00\">value = [39, 0]</text>\r\n",
       "<text text-anchor=\"middle\" x=\"1165\" y=\"-7.8\" font-family=\"Times New Roman,serif\" font-size=\"14.00\">class = i</text>\r\n",
       "</g>\r\n",
       "<!-- 19&#45;&gt;20 -->\r\n",
       "<g id=\"edge20\" class=\"edge\">\r\n",
       "<title>19&#45;&gt;20</title>\r\n",
       "<path fill=\"none\" stroke=\"black\" d=\"M1165,-103.73C1165,-95.52 1165,-86.86 1165,-78.56\"/>\r\n",
       "<polygon fill=\"black\" stroke=\"black\" points=\"1168.5,-78.3 1165,-68.3 1161.5,-78.3 1168.5,-78.3\"/>\r\n",
       "</g>\r\n",
       "<!-- 21 -->\r\n",
       "<g id=\"node22\" class=\"node\">\r\n",
       "<title>21</title>\r\n",
       "<polygon fill=\"#b9dcf6\" stroke=\"black\" points=\"1336,-68 1232,-68 1232,0 1336,0 1336,-68\"/>\r\n",
       "<text text-anchor=\"middle\" x=\"1284\" y=\"-52.8\" font-family=\"Times New Roman,serif\" font-size=\"14.00\">gini = 0.477</text>\r\n",
       "<text text-anchor=\"middle\" x=\"1284\" y=\"-37.8\" font-family=\"Times New Roman,serif\" font-size=\"14.00\">samples = 28</text>\r\n",
       "<text text-anchor=\"middle\" x=\"1284\" y=\"-22.8\" font-family=\"Times New Roman,serif\" font-size=\"14.00\">value = [11, 17]</text>\r\n",
       "<text text-anchor=\"middle\" x=\"1284\" y=\"-7.8\" font-family=\"Times New Roman,serif\" font-size=\"14.00\">class = n</text>\r\n",
       "</g>\r\n",
       "<!-- 19&#45;&gt;21 -->\r\n",
       "<g id=\"edge21\" class=\"edge\">\r\n",
       "<title>19&#45;&gt;21</title>\r\n",
       "<path fill=\"none\" stroke=\"black\" d=\"M1209.31,-103.73C1219.42,-94.42 1230.16,-84.54 1240.25,-75.26\"/>\r\n",
       "<polygon fill=\"black\" stroke=\"black\" points=\"1242.82,-77.65 1247.81,-68.3 1238.08,-72.5 1242.82,-77.65\"/>\r\n",
       "</g>\r\n",
       "<!-- 23 -->\r\n",
       "<g id=\"node24\" class=\"node\">\r\n",
       "<title>23</title>\r\n",
       "<polygon fill=\"#e58139\" stroke=\"black\" points=\"1326.5,-179.5 1235.5,-179.5 1235.5,-111.5 1326.5,-111.5 1326.5,-179.5\"/>\r\n",
       "<text text-anchor=\"middle\" x=\"1281\" y=\"-164.3\" font-family=\"Times New Roman,serif\" font-size=\"14.00\">gini = 0.0</text>\r\n",
       "<text text-anchor=\"middle\" x=\"1281\" y=\"-149.3\" font-family=\"Times New Roman,serif\" font-size=\"14.00\">samples = 3</text>\r\n",
       "<text text-anchor=\"middle\" x=\"1281\" y=\"-134.3\" font-family=\"Times New Roman,serif\" font-size=\"14.00\">value = [3, 0]</text>\r\n",
       "<text text-anchor=\"middle\" x=\"1281\" y=\"-119.3\" font-family=\"Times New Roman,serif\" font-size=\"14.00\">class = i</text>\r\n",
       "</g>\r\n",
       "<!-- 22&#45;&gt;23 -->\r\n",
       "<g id=\"edge23\" class=\"edge\">\r\n",
       "<title>22&#45;&gt;23</title>\r\n",
       "<path fill=\"none\" stroke=\"black\" d=\"M1281,-222.91C1281,-212.2 1281,-200.62 1281,-189.78\"/>\r\n",
       "<polygon fill=\"black\" stroke=\"black\" points=\"1284.5,-189.67 1281,-179.67 1277.5,-189.67 1284.5,-189.67\"/>\r\n",
       "</g>\r\n",
       "<!-- 24 -->\r\n",
       "<g id=\"node25\" class=\"node\">\r\n",
       "<title>24</title>\r\n",
       "<polygon fill=\"#3c9ee5\" stroke=\"black\" points=\"1485,-187 1345,-187 1345,-104 1485,-104 1485,-187\"/>\r\n",
       "<text text-anchor=\"middle\" x=\"1415\" y=\"-171.8\" font-family=\"Times New Roman,serif\" font-size=\"14.00\">education&#45;num &lt;= 2.0</text>\r\n",
       "<text text-anchor=\"middle\" x=\"1415\" y=\"-156.8\" font-family=\"Times New Roman,serif\" font-size=\"14.00\">gini = 0.026</text>\r\n",
       "<text text-anchor=\"middle\" x=\"1415\" y=\"-141.8\" font-family=\"Times New Roman,serif\" font-size=\"14.00\">samples = 1133</text>\r\n",
       "<text text-anchor=\"middle\" x=\"1415\" y=\"-126.8\" font-family=\"Times New Roman,serif\" font-size=\"14.00\">value = [15, 1118]</text>\r\n",
       "<text text-anchor=\"middle\" x=\"1415\" y=\"-111.8\" font-family=\"Times New Roman,serif\" font-size=\"14.00\">class = n</text>\r\n",
       "</g>\r\n",
       "<!-- 22&#45;&gt;24 -->\r\n",
       "<g id=\"edge24\" class=\"edge\">\r\n",
       "<title>22&#45;&gt;24</title>\r\n",
       "<path fill=\"none\" stroke=\"black\" d=\"M1327.49,-222.91C1338.3,-213.47 1349.9,-203.34 1361,-193.65\"/>\r\n",
       "<polygon fill=\"black\" stroke=\"black\" points=\"1363.36,-196.23 1368.59,-187.02 1358.76,-190.96 1363.36,-196.23\"/>\r\n",
       "</g>\r\n",
       "<!-- 25 -->\r\n",
       "<g id=\"node26\" class=\"node\">\r\n",
       "<title>25</title>\r\n",
       "<polygon fill=\"#e58139\" stroke=\"black\" points=\"1453.5,-68 1362.5,-68 1362.5,0 1453.5,0 1453.5,-68\"/>\r\n",
       "<text text-anchor=\"middle\" x=\"1408\" y=\"-52.8\" font-family=\"Times New Roman,serif\" font-size=\"14.00\">gini = 0.0</text>\r\n",
       "<text text-anchor=\"middle\" x=\"1408\" y=\"-37.8\" font-family=\"Times New Roman,serif\" font-size=\"14.00\">samples = 1</text>\r\n",
       "<text text-anchor=\"middle\" x=\"1408\" y=\"-22.8\" font-family=\"Times New Roman,serif\" font-size=\"14.00\">value = [1, 0]</text>\r\n",
       "<text text-anchor=\"middle\" x=\"1408\" y=\"-7.8\" font-family=\"Times New Roman,serif\" font-size=\"14.00\">class = i</text>\r\n",
       "</g>\r\n",
       "<!-- 24&#45;&gt;25 -->\r\n",
       "<g id=\"edge25\" class=\"edge\">\r\n",
       "<title>24&#45;&gt;25</title>\r\n",
       "<path fill=\"none\" stroke=\"black\" d=\"M1412.39,-103.73C1411.86,-95.43 1411.3,-86.67 1410.77,-78.28\"/>\r\n",
       "<polygon fill=\"black\" stroke=\"black\" points=\"1414.26,-78.06 1410.13,-68.3 1407.27,-78.5 1414.26,-78.06\"/>\r\n",
       "</g>\r\n",
       "<!-- 26 -->\r\n",
       "<g id=\"node27\" class=\"node\">\r\n",
       "<title>26</title>\r\n",
       "<polygon fill=\"#3b9ee5\" stroke=\"black\" points=\"1590,-68 1472,-68 1472,0 1590,0 1590,-68\"/>\r\n",
       "<text text-anchor=\"middle\" x=\"1531\" y=\"-52.8\" font-family=\"Times New Roman,serif\" font-size=\"14.00\">gini = 0.024</text>\r\n",
       "<text text-anchor=\"middle\" x=\"1531\" y=\"-37.8\" font-family=\"Times New Roman,serif\" font-size=\"14.00\">samples = 1132</text>\r\n",
       "<text text-anchor=\"middle\" x=\"1531\" y=\"-22.8\" font-family=\"Times New Roman,serif\" font-size=\"14.00\">value = [14, 1118]</text>\r\n",
       "<text text-anchor=\"middle\" x=\"1531\" y=\"-7.8\" font-family=\"Times New Roman,serif\" font-size=\"14.00\">class = n</text>\r\n",
       "</g>\r\n",
       "<!-- 24&#45;&gt;26 -->\r\n",
       "<g id=\"edge26\" class=\"edge\">\r\n",
       "<title>24&#45;&gt;26</title>\r\n",
       "<path fill=\"none\" stroke=\"black\" d=\"M1458.19,-103.73C1468.05,-94.42 1478.52,-84.54 1488.35,-75.26\"/>\r\n",
       "<polygon fill=\"black\" stroke=\"black\" points=\"1490.85,-77.71 1495.72,-68.3 1486.05,-72.62 1490.85,-77.71\"/>\r\n",
       "</g>\r\n",
       "</g>\r\n",
       "</svg>\r\n"
      ],
      "text/plain": [
       "<graphviz.files.Source at 0x26264e58d30>"
      ]
     },
     "execution_count": 32,
     "metadata": {},
     "output_type": "execute_result"
    }
   ],
   "source": [
    "import graphviz\n",
    "\n",
    "# 위에서 생성된 tree.dot 파일을 Graphviz 읽어서 Jupyter Notebook상에서 시각화 \n",
    "with open(\"tree.dot\") as f:\n",
    "    dot_graph = f.read()\n",
    "graphviz.Source(dot_graph)"
   ]
  },
  {
   "cell_type": "code",
   "execution_count": 33,
   "id": "3948a5dc",
   "metadata": {},
   "outputs": [
    {
     "data": {
      "text/html": [
       "<div>\n",
       "<style scoped>\n",
       "    .dataframe tbody tr th:only-of-type {\n",
       "        vertical-align: middle;\n",
       "    }\n",
       "\n",
       "    .dataframe tbody tr th {\n",
       "        vertical-align: top;\n",
       "    }\n",
       "\n",
       "    .dataframe thead th {\n",
       "        text-align: right;\n",
       "    }\n",
       "</style>\n",
       "<table border=\"1\" class=\"dataframe\">\n",
       "  <thead>\n",
       "    <tr style=\"text-align: right;\">\n",
       "      <th></th>\n",
       "      <th>column_index</th>\n",
       "      <th>column_name</th>\n",
       "    </tr>\n",
       "  </thead>\n",
       "  <tbody>\n",
       "    <tr>\n",
       "      <th>0</th>\n",
       "      <td>1</td>\n",
       "      <td>tBodyAcc-mean()-X</td>\n",
       "    </tr>\n",
       "    <tr>\n",
       "      <th>1</th>\n",
       "      <td>2</td>\n",
       "      <td>tBodyAcc-mean()-Y</td>\n",
       "    </tr>\n",
       "    <tr>\n",
       "      <th>2</th>\n",
       "      <td>3</td>\n",
       "      <td>tBodyAcc-mean()-Z</td>\n",
       "    </tr>\n",
       "    <tr>\n",
       "      <th>3</th>\n",
       "      <td>4</td>\n",
       "      <td>tBodyAcc-std()-X</td>\n",
       "    </tr>\n",
       "    <tr>\n",
       "      <th>4</th>\n",
       "      <td>5</td>\n",
       "      <td>tBodyAcc-std()-Y</td>\n",
       "    </tr>\n",
       "    <tr>\n",
       "      <th>...</th>\n",
       "      <td>...</td>\n",
       "      <td>...</td>\n",
       "    </tr>\n",
       "    <tr>\n",
       "      <th>556</th>\n",
       "      <td>557</td>\n",
       "      <td>angle(tBodyGyroMean,gravityMean)</td>\n",
       "    </tr>\n",
       "    <tr>\n",
       "      <th>557</th>\n",
       "      <td>558</td>\n",
       "      <td>angle(tBodyGyroJerkMean,gravityMean)</td>\n",
       "    </tr>\n",
       "    <tr>\n",
       "      <th>558</th>\n",
       "      <td>559</td>\n",
       "      <td>angle(X,gravityMean)</td>\n",
       "    </tr>\n",
       "    <tr>\n",
       "      <th>559</th>\n",
       "      <td>560</td>\n",
       "      <td>angle(Y,gravityMean)</td>\n",
       "    </tr>\n",
       "    <tr>\n",
       "      <th>560</th>\n",
       "      <td>561</td>\n",
       "      <td>angle(Z,gravityMean)</td>\n",
       "    </tr>\n",
       "  </tbody>\n",
       "</table>\n",
       "<p>561 rows × 2 columns</p>\n",
       "</div>"
      ],
      "text/plain": [
       "     column_index                           column_name\n",
       "0               1                     tBodyAcc-mean()-X\n",
       "1               2                     tBodyAcc-mean()-Y\n",
       "2               3                     tBodyAcc-mean()-Z\n",
       "3               4                      tBodyAcc-std()-X\n",
       "4               5                      tBodyAcc-std()-Y\n",
       "..            ...                                   ...\n",
       "556           557      angle(tBodyGyroMean,gravityMean)\n",
       "557           558  angle(tBodyGyroJerkMean,gravityMean)\n",
       "558           559                  angle(X,gravityMean)\n",
       "559           560                  angle(Y,gravityMean)\n",
       "560           561                  angle(Z,gravityMean)\n",
       "\n",
       "[561 rows x 2 columns]"
      ]
     },
     "execution_count": 33,
     "metadata": {},
     "output_type": "execute_result"
    }
   ],
   "source": [
    "import pandas as pd\n",
    "import matplotlib.pyplot as plt\n",
    "%matplotlib inline\n",
    "\n",
    "#features.txt 파일에는 피처 이름 index와 피처 명이 공백으로 분리되어 있음. 이를 DataFrame으로 로드 \n",
    "feature_name_df = pd.read_csv('features.txt', sep = '\\s+', header = None, names = ['column_index', 'column_name'])\n",
    "\n",
    "feature_name_df"
   ]
  },
  {
   "cell_type": "code",
   "execution_count": 34,
   "id": "d836dee0",
   "metadata": {},
   "outputs": [
    {
     "data": {
      "text/html": [
       "<div>\n",
       "<style scoped>\n",
       "    .dataframe tbody tr th:only-of-type {\n",
       "        vertical-align: middle;\n",
       "    }\n",
       "\n",
       "    .dataframe tbody tr th {\n",
       "        vertical-align: top;\n",
       "    }\n",
       "\n",
       "    .dataframe thead th {\n",
       "        text-align: right;\n",
       "    }\n",
       "</style>\n",
       "<table border=\"1\" class=\"dataframe\">\n",
       "  <thead>\n",
       "    <tr style=\"text-align: right;\">\n",
       "      <th></th>\n",
       "      <th>column_index</th>\n",
       "    </tr>\n",
       "    <tr>\n",
       "      <th>column_name</th>\n",
       "      <th></th>\n",
       "    </tr>\n",
       "  </thead>\n",
       "  <tbody>\n",
       "    <tr>\n",
       "      <th>angle(X,gravityMean)</th>\n",
       "      <td>1</td>\n",
       "    </tr>\n",
       "    <tr>\n",
       "      <th>angle(Y,gravityMean)</th>\n",
       "      <td>1</td>\n",
       "    </tr>\n",
       "    <tr>\n",
       "      <th>angle(Z,gravityMean)</th>\n",
       "      <td>1</td>\n",
       "    </tr>\n",
       "    <tr>\n",
       "      <th>angle(tBodyAccJerkMean),gravityMean)</th>\n",
       "      <td>1</td>\n",
       "    </tr>\n",
       "    <tr>\n",
       "      <th>angle(tBodyAccMean,gravity)</th>\n",
       "      <td>1</td>\n",
       "    </tr>\n",
       "    <tr>\n",
       "      <th>...</th>\n",
       "      <td>...</td>\n",
       "    </tr>\n",
       "    <tr>\n",
       "      <th>tGravityAccMag-max()</th>\n",
       "      <td>1</td>\n",
       "    </tr>\n",
       "    <tr>\n",
       "      <th>tGravityAccMag-mean()</th>\n",
       "      <td>1</td>\n",
       "    </tr>\n",
       "    <tr>\n",
       "      <th>tGravityAccMag-min()</th>\n",
       "      <td>1</td>\n",
       "    </tr>\n",
       "    <tr>\n",
       "      <th>tGravityAccMag-sma()</th>\n",
       "      <td>1</td>\n",
       "    </tr>\n",
       "    <tr>\n",
       "      <th>tGravityAccMag-std()</th>\n",
       "      <td>1</td>\n",
       "    </tr>\n",
       "  </tbody>\n",
       "</table>\n",
       "<p>477 rows × 1 columns</p>\n",
       "</div>"
      ],
      "text/plain": [
       "                                      column_index\n",
       "column_name                                       \n",
       "angle(X,gravityMean)                             1\n",
       "angle(Y,gravityMean)                             1\n",
       "angle(Z,gravityMean)                             1\n",
       "angle(tBodyAccJerkMean),gravityMean)             1\n",
       "angle(tBodyAccMean,gravity)                      1\n",
       "...                                            ...\n",
       "tGravityAccMag-max()                             1\n",
       "tGravityAccMag-mean()                            1\n",
       "tGravityAccMag-min()                             1\n",
       "tGravityAccMag-sma()                             1\n",
       "tGravityAccMag-std()                             1\n",
       "\n",
       "[477 rows x 1 columns]"
      ]
     },
     "execution_count": 34,
     "metadata": {},
     "output_type": "execute_result"
    }
   ],
   "source": [
    "feature_dup_df = feature_name_df.groupby('column_name').count()\n",
    "\n",
    "feature_dup_df"
   ]
  },
  {
   "cell_type": "code",
   "execution_count": 35,
   "id": "53c48b07",
   "metadata": {},
   "outputs": [
    {
     "name": "stdout",
     "output_type": "stream",
     "text": [
      "column_index    42\n",
      "dtype: int64\n"
     ]
    },
    {
     "data": {
      "text/html": [
       "<div>\n",
       "<style scoped>\n",
       "    .dataframe tbody tr th:only-of-type {\n",
       "        vertical-align: middle;\n",
       "    }\n",
       "\n",
       "    .dataframe tbody tr th {\n",
       "        vertical-align: top;\n",
       "    }\n",
       "\n",
       "    .dataframe thead th {\n",
       "        text-align: right;\n",
       "    }\n",
       "</style>\n",
       "<table border=\"1\" class=\"dataframe\">\n",
       "  <thead>\n",
       "    <tr style=\"text-align: right;\">\n",
       "      <th></th>\n",
       "      <th>column_index</th>\n",
       "    </tr>\n",
       "    <tr>\n",
       "      <th>column_name</th>\n",
       "      <th></th>\n",
       "    </tr>\n",
       "  </thead>\n",
       "  <tbody>\n",
       "    <tr>\n",
       "      <th>fBodyAcc-bandsEnergy()-1,16</th>\n",
       "      <td>3</td>\n",
       "    </tr>\n",
       "    <tr>\n",
       "      <th>fBodyAcc-bandsEnergy()-1,24</th>\n",
       "      <td>3</td>\n",
       "    </tr>\n",
       "    <tr>\n",
       "      <th>fBodyAcc-bandsEnergy()-1,8</th>\n",
       "      <td>3</td>\n",
       "    </tr>\n",
       "    <tr>\n",
       "      <th>fBodyAcc-bandsEnergy()-17,24</th>\n",
       "      <td>3</td>\n",
       "    </tr>\n",
       "    <tr>\n",
       "      <th>fBodyAcc-bandsEnergy()-17,32</th>\n",
       "      <td>3</td>\n",
       "    </tr>\n",
       "  </tbody>\n",
       "</table>\n",
       "</div>"
      ],
      "text/plain": [
       "                              column_index\n",
       "column_name                               \n",
       "fBodyAcc-bandsEnergy()-1,16              3\n",
       "fBodyAcc-bandsEnergy()-1,24              3\n",
       "fBodyAcc-bandsEnergy()-1,8               3\n",
       "fBodyAcc-bandsEnergy()-17,24             3\n",
       "fBodyAcc-bandsEnergy()-17,32             3"
      ]
     },
     "execution_count": 35,
     "metadata": {},
     "output_type": "execute_result"
    }
   ],
   "source": [
    "feature_dup_df = feature_name_df.groupby('column_name').count()\n",
    "print(feature_dup_df[feature_dup_df['column_index'] > 1].count())\n",
    "feature_dup_df[feature_dup_df['column_index'] > 1].head()"
   ]
  },
  {
   "cell_type": "code",
   "execution_count": 36,
   "id": "2319e5b5",
   "metadata": {},
   "outputs": [],
   "source": [
    "def get_new_feature_name_df(old_feature_name_df):\n",
    "    feature_dup_df = pd.DataFrame(data = old_feature_name_df.groupby('column_name').cumcount(), columns = ['dup_cnt'])\n",
    "    feature_dup_df = feature_dup_df.reset_index()\n",
    "    new_feature_name_df = pd.merge(old_feature_name_df.reset_index(), feature_dup_df, how= 'outer')\n",
    "    new_feature_name_df['column_name'] = new_feature_name_df[['column_name', 'dup_cnt']].apply(lambda x: x[0]+'_'+str(x[1])\n",
    "                                                                                              if x[1]>0 else x[0], axis = 1)\n",
    "    new_feature_name_df = new_feature_name_df.drop(['index'], axis = 1)\n",
    "    return new_feature_name_df"
   ]
  },
  {
   "cell_type": "code",
   "execution_count": 37,
   "id": "034768a8",
   "metadata": {},
   "outputs": [],
   "source": [
    "import pandas as pd \n",
    "\n",
    "def get_human_dataset():\n",
    "    \n",
    "    #각 데이터 파일은 공백으로 분리되어 있으므로 read_csv에서 공백 문자를 sep로 할당\n",
    "    feature_name_df = pd.read_csv('features.txt', sep = '\\s+', header = None, names = ['column_index', 'column_name'])\n",
    "    \n",
    "    #중복된 피처명을 수정하는 get_new_feature_names_df()를 이용, 신규 피처명 DataFrame 생성.\n",
    "    new_feature_name_df = get_new_feature_name_df(feature_name_df)\n",
    "    \n",
    "    #DataFrame에 피처명을 칼럼으로 부여하기 위해 리스트 객체로 다시 변환 \n",
    "    feature_name = new_feature_name_df.iloc[:, 1].values.tolist()\n",
    "    \n",
    "    #학습 피처 데이터세트와 테스트 피처 데이터를 DataFrame으로 로딩. 칼럼명은 feature_name 적용 \n",
    "    X_train = pd.read_csv('./train/X_train.txt', sep = '\\s+', names = feature_name)\n",
    "    X_test = pd.read_csv('./test/X_test.txt', sep = '\\s+', names = feature_name)\n",
    "    \n",
    "    #학습 레이블과 테스트 레이블 데이터를 DataFrame으로 로딩하고 칼럼명은 action으로 부여 \n",
    "    y_train = pd.read_csv('./train/y_train.txt', sep = '\\s+', names = ['action'])\n",
    "    y_test = pd.read_csv('./test/y_test.txt', sep = '\\s+', names = ['action'])\n",
    "    \n",
    "    #로드된 학습/테스트용 DataFrame을 모두 변환 \n",
    "    return X_train, X_test, y_train, y_test\n",
    "\n",
    "X_train, X_test, y_train, y_test = get_human_dataset()"
   ]
  },
  {
   "cell_type": "code",
   "execution_count": 38,
   "id": "4cbc202d",
   "metadata": {},
   "outputs": [
    {
     "name": "stdout",
     "output_type": "stream",
     "text": [
      "### 학습 피처 데이터셋 info()\n",
      "<class 'pandas.core.frame.DataFrame'>\n",
      "RangeIndex: 7352 entries, 0 to 7351\n",
      "Columns: 561 entries, tBodyAcc-mean()-X to angle(Z,gravityMean)\n",
      "dtypes: float64(561)\n",
      "memory usage: 31.5 MB\n",
      "None\n"
     ]
    }
   ],
   "source": [
    "print('### 학습 피처 데이터셋 info()')\n",
    "\n",
    "print(X_train.info())"
   ]
  },
  {
   "cell_type": "code",
   "execution_count": 39,
   "id": "8b9a6cee",
   "metadata": {},
   "outputs": [
    {
     "name": "stdout",
     "output_type": "stream",
     "text": [
      "6    1407\n",
      "5    1374\n",
      "4    1286\n",
      "1    1226\n",
      "2    1073\n",
      "3     986\n",
      "Name: action, dtype: int64\n"
     ]
    }
   ],
   "source": [
    "print(y_train['action'].value_counts())"
   ]
  },
  {
   "cell_type": "code",
   "execution_count": 40,
   "id": "722a9dd8",
   "metadata": {},
   "outputs": [
    {
     "name": "stdout",
     "output_type": "stream",
     "text": [
      "결정 트리 예측 정확도 : 0.8548\n",
      "DecisionTreeClassifier 기본 하이퍼 파라미터 : \n",
      " {'ccp_alpha': 0.0, 'class_weight': None, 'criterion': 'gini', 'max_depth': None, 'max_features': None, 'max_leaf_nodes': None, 'min_impurity_decrease': 0.0, 'min_impurity_split': None, 'min_samples_leaf': 1, 'min_samples_split': 2, 'min_weight_fraction_leaf': 0.0, 'random_state': 156, 'splitter': 'best'}\n"
     ]
    }
   ],
   "source": [
    "from sklearn.tree import DecisionTreeClassifier\n",
    "from sklearn.metrics import accuracy_score\n",
    "\n",
    "#예제 반복시마다 동일한 예측 결과 도출을 위해 random_state설정 \n",
    "dt_clf = DecisionTreeClassifier(random_state = 156)\n",
    "dt_clf.fit(X_train, y_train)\n",
    "pred = dt_clf.predict(X_test)\n",
    "accuracy = accuracy_score(y_test, pred)\n",
    "print('결정 트리 예측 정확도 : {0:.4f}'.format(accuracy))\n",
    "\n",
    "#DecisionTreeClassifier의 하이퍼 파라미터 추출 \n",
    "print('DecisionTreeClassifier 기본 하이퍼 파라미터 : \\n', dt_clf.get_params())"
   ]
  },
  {
   "cell_type": "code",
   "execution_count": 41,
   "id": "0152d242",
   "metadata": {},
   "outputs": [
    {
     "name": "stdout",
     "output_type": "stream",
     "text": [
      "Fitting 5 folds for each of 7 candidates, totalling 35 fits\n",
      "GridSearchCV 최고 평균 정확도 수치: 0.8513\n",
      "GridSearchCV 최적 하이퍼 파라미터 : {'max_depth': 16}\n"
     ]
    }
   ],
   "source": [
    "from sklearn.model_selection import GridSearchCV\n",
    "\n",
    "params = {\n",
    "    'max_depth' : [6,8,10,12,16,20,24]\n",
    "}\n",
    "\n",
    "grid_cv = GridSearchCV(dt_clf, param_grid=params, scoring= 'accuracy', cv = 5, verbose = 1)\n",
    "grid_cv.fit(X_train, y_train)\n",
    "print('GridSearchCV 최고 평균 정확도 수치: {0:.4f}'.format(grid_cv.best_score_))\n",
    "print('GridSearchCV 최적 하이퍼 파라미터 :', grid_cv.best_params_)"
   ]
  },
  {
   "cell_type": "code",
   "execution_count": 42,
   "id": "bee4640e",
   "metadata": {},
   "outputs": [
    {
     "data": {
      "text/html": [
       "<div>\n",
       "<style scoped>\n",
       "    .dataframe tbody tr th:only-of-type {\n",
       "        vertical-align: middle;\n",
       "    }\n",
       "\n",
       "    .dataframe tbody tr th {\n",
       "        vertical-align: top;\n",
       "    }\n",
       "\n",
       "    .dataframe thead th {\n",
       "        text-align: right;\n",
       "    }\n",
       "</style>\n",
       "<table border=\"1\" class=\"dataframe\">\n",
       "  <thead>\n",
       "    <tr style=\"text-align: right;\">\n",
       "      <th></th>\n",
       "      <th>param_max_depth</th>\n",
       "      <th>mean_test_score</th>\n",
       "    </tr>\n",
       "  </thead>\n",
       "  <tbody>\n",
       "    <tr>\n",
       "      <th>0</th>\n",
       "      <td>6</td>\n",
       "      <td>0.850791</td>\n",
       "    </tr>\n",
       "    <tr>\n",
       "      <th>1</th>\n",
       "      <td>8</td>\n",
       "      <td>0.851069</td>\n",
       "    </tr>\n",
       "    <tr>\n",
       "      <th>2</th>\n",
       "      <td>10</td>\n",
       "      <td>0.851209</td>\n",
       "    </tr>\n",
       "    <tr>\n",
       "      <th>3</th>\n",
       "      <td>12</td>\n",
       "      <td>0.844135</td>\n",
       "    </tr>\n",
       "    <tr>\n",
       "      <th>4</th>\n",
       "      <td>16</td>\n",
       "      <td>0.851344</td>\n",
       "    </tr>\n",
       "    <tr>\n",
       "      <th>5</th>\n",
       "      <td>20</td>\n",
       "      <td>0.850800</td>\n",
       "    </tr>\n",
       "    <tr>\n",
       "      <th>6</th>\n",
       "      <td>24</td>\n",
       "      <td>0.849440</td>\n",
       "    </tr>\n",
       "  </tbody>\n",
       "</table>\n",
       "</div>"
      ],
      "text/plain": [
       "  param_max_depth  mean_test_score\n",
       "0               6         0.850791\n",
       "1               8         0.851069\n",
       "2              10         0.851209\n",
       "3              12         0.844135\n",
       "4              16         0.851344\n",
       "5              20         0.850800\n",
       "6              24         0.849440"
      ]
     },
     "execution_count": 42,
     "metadata": {},
     "output_type": "execute_result"
    }
   ],
   "source": [
    "#GridSearchCV 객체의 cv_results_ 속성을 DataFrame으로 생성.\n",
    "cv_results_df = pd.DataFrame(grid_cv.cv_results_)\n",
    "\n",
    "#max_depth 파라미터 값과 그때의 테스트 세트, 학습 데이터 세트의 정확도 수치 추출 \n",
    "cv_results_df[['param_max_depth', 'mean_test_score']]"
   ]
  },
  {
   "cell_type": "code",
   "execution_count": 43,
   "id": "46dcb24d",
   "metadata": {},
   "outputs": [
    {
     "name": "stdout",
     "output_type": "stream",
     "text": [
      "max_depth = 6 정확도 : 0.8558\n",
      "max_depth = 8 정확도 : 0.8707\n",
      "max_depth = 10 정확도 : 0.8673\n",
      "max_depth = 12 정확도 : 0.8646\n",
      "max_depth = 16 정확도 : 0.8575\n",
      "max_depth = 20 정확도 : 0.8548\n",
      "max_depth = 24 정확도 : 0.8548\n"
     ]
    }
   ],
   "source": [
    "max_depths = [6,8,10,12,16,20,24]\n",
    "#max_depths값을 변화시키면서 그때마다 학습과 테스트 세트에서의 예측 성능 측정 \n",
    "for depth in max_depths:\n",
    "    dt_clf = DecisionTreeClassifier(max_depth = depth, random_state =156)\n",
    "    dt_clf.fit(X_train, y_train)\n",
    "    pred = dt_clf.predict(X_test)\n",
    "    accuracy = accuracy_score(y_test, pred)\n",
    "    print('max_depth = {0} 정확도 : {1:.4f}'.format(depth, accuracy))"
   ]
  },
  {
   "cell_type": "code",
   "execution_count": 44,
   "id": "02ac1d0f",
   "metadata": {},
   "outputs": [
    {
     "name": "stdout",
     "output_type": "stream",
     "text": [
      "Fitting 5 folds for each of 14 candidates, totalling 70 fits\n",
      "GridSearchCV 최고 평균 정확도 수치: 0.8549\n",
      "GridSearchCV 최적 하이퍼 파라미터 : {'max_depth': 8, 'min_samples_split': 16}\n"
     ]
    }
   ],
   "source": [
    "from sklearn.model_selection import GridSearchCV\n",
    "\n",
    "params = {\n",
    "    'max_depth' : [6,8,10,12,16,20,24],\n",
    "    'min_samples_split' : [16,24]\n",
    "}\n",
    "\n",
    "grid_cv = GridSearchCV(dt_clf, param_grid=params, scoring= 'accuracy', cv = 5, verbose = 1)\n",
    "grid_cv.fit(X_train, y_train)\n",
    "print('GridSearchCV 최고 평균 정확도 수치: {0:.4f}'.format(grid_cv.best_score_))\n",
    "print('GridSearchCV 최적 하이퍼 파라미터 :', grid_cv.best_params_)"
   ]
  },
  {
   "cell_type": "code",
   "execution_count": 60,
   "id": "64f8ad04",
   "metadata": {},
   "outputs": [
    {
     "data": {
      "image/png": "[encoded data removed]",
      "text/plain": [
       "<Figure size 576x432 with 1 Axes>"
      ]
     },
     "metadata": {
      "needs_background": "light"
     },
     "output_type": "display_data"
    }
   ],
   "source": [
    "import seaborn as sns \n",
    "\n",
    "ftr_importances_values = dt_clf.feature_importances_\n",
    "#Top 중요도로 정렬을 쉽게 하고, 시본(Seaborn)의 막대 그래프로 쉽게 표현하기 위해 Series 변환 \n",
    "ftr_importances = pd.Series(ftr_importances_values, index = X_train.columns)\n",
    "#중요도값 순으로 Series 정렬 \n",
    "ftr_top20 = ftr_importances.sort_values(ascending=False)[:20]\n",
    "plt.figure(figsize = (8,6))\n",
    "plt.title('Feature importances Top 20')\n",
    "sns.barplot(x = ftr_top20, y = ftr_top20.index)\n",
    "plt.show()"
   ]
  }
 ],
 "metadata": {
  "kernelspec": {
   "display_name": "Python 3",
   "language": "python",
   "name": "python3"
  },
  "language_info": {
   "codemirror_mode": {
    "name": "ipython",
    "version": 3
   },
   "file_extension": ".py",
   "mimetype": "text/x-python",
   "name": "python",
   "nbconvert_exporter": "python",
   "pygments_lexer": "ipython3",
   "version": "3.8.9"
  }
 },
 "nbformat": 4,
 "nbformat_minor": 5
}
