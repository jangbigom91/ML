{
 "cells": [
  {
   "cell_type": "code",
   "execution_count": 1,
   "id": "6220faa8",
   "metadata": {},
   "outputs": [
    {
     "data": {
      "text/html": [
       "<div>\n",
       "<style scoped>\n",
       "    .dataframe tbody tr th:only-of-type {\n",
       "        vertical-align: middle;\n",
       "    }\n",
       "\n",
       "    .dataframe tbody tr th {\n",
       "        vertical-align: top;\n",
       "    }\n",
       "\n",
       "    .dataframe thead th {\n",
       "        text-align: right;\n",
       "    }\n",
       "</style>\n",
       "<table border=\"1\" class=\"dataframe\">\n",
       "  <thead>\n",
       "    <tr style=\"text-align: right;\">\n",
       "      <th></th>\n",
       "      <th>age</th>\n",
       "      <th>workclass</th>\n",
       "      <th>fnlwgt</th>\n",
       "      <th>education</th>\n",
       "      <th>education-num</th>\n",
       "      <th>marital-status</th>\n",
       "      <th>occupation</th>\n",
       "      <th>relationship</th>\n",
       "      <th>race</th>\n",
       "      <th>sex</th>\n",
       "      <th>capital-gain</th>\n",
       "      <th>capital-loss</th>\n",
       "      <th>hours-per-week</th>\n",
       "      <th>native-country</th>\n",
       "      <th>income</th>\n",
       "    </tr>\n",
       "  </thead>\n",
       "  <tbody>\n",
       "    <tr>\n",
       "      <th>0</th>\n",
       "      <td>39</td>\n",
       "      <td>State-gov</td>\n",
       "      <td>77516</td>\n",
       "      <td>Bachelors</td>\n",
       "      <td>13</td>\n",
       "      <td>Never-married</td>\n",
       "      <td>Adm-clerical</td>\n",
       "      <td>Not-in-family</td>\n",
       "      <td>White</td>\n",
       "      <td>Male</td>\n",
       "      <td>2174</td>\n",
       "      <td>0</td>\n",
       "      <td>40</td>\n",
       "      <td>United-States</td>\n",
       "      <td>&lt;=50K</td>\n",
       "    </tr>\n",
       "    <tr>\n",
       "      <th>1</th>\n",
       "      <td>50</td>\n",
       "      <td>Self-emp-not-inc</td>\n",
       "      <td>83311</td>\n",
       "      <td>Bachelors</td>\n",
       "      <td>13</td>\n",
       "      <td>Married-civ-spouse</td>\n",
       "      <td>Exec-managerial</td>\n",
       "      <td>Husband</td>\n",
       "      <td>White</td>\n",
       "      <td>Male</td>\n",
       "      <td>0</td>\n",
       "      <td>0</td>\n",
       "      <td>13</td>\n",
       "      <td>United-States</td>\n",
       "      <td>&lt;=50K</td>\n",
       "    </tr>\n",
       "    <tr>\n",
       "      <th>2</th>\n",
       "      <td>38</td>\n",
       "      <td>Private</td>\n",
       "      <td>215646</td>\n",
       "      <td>HS-grad</td>\n",
       "      <td>9</td>\n",
       "      <td>Divorced</td>\n",
       "      <td>Handlers-cleaners</td>\n",
       "      <td>Not-in-family</td>\n",
       "      <td>White</td>\n",
       "      <td>Male</td>\n",
       "      <td>0</td>\n",
       "      <td>0</td>\n",
       "      <td>40</td>\n",
       "      <td>United-States</td>\n",
       "      <td>&lt;=50K</td>\n",
       "    </tr>\n",
       "    <tr>\n",
       "      <th>3</th>\n",
       "      <td>53</td>\n",
       "      <td>Private</td>\n",
       "      <td>234721</td>\n",
       "      <td>11th</td>\n",
       "      <td>7</td>\n",
       "      <td>Married-civ-spouse</td>\n",
       "      <td>Handlers-cleaners</td>\n",
       "      <td>Husband</td>\n",
       "      <td>Black</td>\n",
       "      <td>Male</td>\n",
       "      <td>0</td>\n",
       "      <td>0</td>\n",
       "      <td>40</td>\n",
       "      <td>United-States</td>\n",
       "      <td>&lt;=50K</td>\n",
       "    </tr>\n",
       "    <tr>\n",
       "      <th>4</th>\n",
       "      <td>28</td>\n",
       "      <td>Private</td>\n",
       "      <td>338409</td>\n",
       "      <td>Bachelors</td>\n",
       "      <td>13</td>\n",
       "      <td>Married-civ-spouse</td>\n",
       "      <td>Prof-specialty</td>\n",
       "      <td>Wife</td>\n",
       "      <td>Black</td>\n",
       "      <td>Female</td>\n",
       "      <td>0</td>\n",
       "      <td>0</td>\n",
       "      <td>40</td>\n",
       "      <td>Cuba</td>\n",
       "      <td>&lt;=50K</td>\n",
       "    </tr>\n",
       "  </tbody>\n",
       "</table>\n",
       "</div>"
      ],
      "text/plain": [
       "   age          workclass  fnlwgt   education  education-num  \\\n",
       "0   39          State-gov   77516   Bachelors             13   \n",
       "1   50   Self-emp-not-inc   83311   Bachelors             13   \n",
       "2   38            Private  215646     HS-grad              9   \n",
       "3   53            Private  234721        11th              7   \n",
       "4   28            Private  338409   Bachelors             13   \n",
       "\n",
       "        marital-status          occupation    relationship    race      sex  \\\n",
       "0        Never-married        Adm-clerical   Not-in-family   White     Male   \n",
       "1   Married-civ-spouse     Exec-managerial         Husband   White     Male   \n",
       "2             Divorced   Handlers-cleaners   Not-in-family   White     Male   \n",
       "3   Married-civ-spouse   Handlers-cleaners         Husband   Black     Male   \n",
       "4   Married-civ-spouse      Prof-specialty            Wife   Black   Female   \n",
       "\n",
       "   capital-gain  capital-loss  hours-per-week  native-country  income  \n",
       "0          2174             0              40   United-States   <=50K  \n",
       "1             0             0              13   United-States   <=50K  \n",
       "2             0             0              40   United-States   <=50K  \n",
       "3             0             0              40   United-States   <=50K  \n",
       "4             0             0              40            Cuba   <=50K  "
      ]
     },
     "execution_count": 1,
     "metadata": {},
     "output_type": "execute_result"
    }
   ],
   "source": [
    "import numpy as np\n",
    "import pandas as pd\n",
    "import matplotlib.pyplot as plt\n",
    "import seaborn as sns\n",
    "%matplotlib inline\n",
    "names=['age','workclass', 'fnlwgt', 'education', 'education-num', 'marital-status', 'occupation', 'relationship', 'race', 'sex', 'capital-gain', 'capital-loss', 'hours-per-week', 'native-country','income']\n",
    "\n",
    "adult_df = pd.read_csv('adult.csv',names = names)\n",
    "adult_df.head(5)"
   ]
  },
  {
   "cell_type": "code",
   "execution_count": 2,
   "id": "83c961a6",
   "metadata": {},
   "outputs": [
    {
     "name": "stdout",
     "output_type": "stream",
     "text": [
      "** adult 정보 ** \n",
      "\n",
      "<class 'pandas.core.frame.DataFrame'>\n",
      "RangeIndex: 32561 entries, 0 to 32560\n",
      "Data columns (total 15 columns):\n",
      " #   Column          Non-Null Count  Dtype \n",
      "---  ------          --------------  ----- \n",
      " 0   age             32561 non-null  int64 \n",
      " 1   workclass       32561 non-null  object\n",
      " 2   fnlwgt          32561 non-null  int64 \n",
      " 3   education       32561 non-null  object\n",
      " 4   education-num   32561 non-null  int64 \n",
      " 5   marital-status  32561 non-null  object\n",
      " 6   occupation      32561 non-null  object\n",
      " 7   relationship    32561 non-null  object\n",
      " 8   race            32561 non-null  object\n",
      " 9   sex             32561 non-null  object\n",
      " 10  capital-gain    32561 non-null  int64 \n",
      " 11  capital-loss    32561 non-null  int64 \n",
      " 12  hours-per-week  32561 non-null  int64 \n",
      " 13  native-country  32561 non-null  object\n",
      " 14  income          32561 non-null  object\n",
      "dtypes: int64(6), object(9)\n",
      "memory usage: 3.7+ MB\n",
      "None\n"
     ]
    }
   ],
   "source": [
    "### 데이터 null값 파악 ###\n",
    "print('** adult 정보 ** \\n')\n",
    "print(adult_df.info())"
   ]
  },
  {
   "cell_type": "code",
   "execution_count": 3,
   "id": "d8361e82",
   "metadata": {
    "scrolled": true
   },
   "outputs": [
    {
     "name": "stdout",
     "output_type": "stream",
     "text": [
      "**성별** \n",
      "  Male      21790\n",
      " Female    10771\n",
      "Name: sex, dtype: int64\n",
      "\n",
      "**인종** \n",
      "  White                 27816\n",
      " Black                  3124\n",
      " Asian-Pac-Islander     1039\n",
      " Amer-Indian-Eskimo      311\n",
      " Other                   271\n",
      "Name: race, dtype: int64\n",
      "\n",
      "**수입** \n",
      "  <=50K    24720\n",
      " >50K      7841\n",
      "Name: income, dtype: int64\n",
      "\n",
      "**나라** \n",
      "  United-States                 29170\n",
      " Mexico                          643\n",
      " ?                               583\n",
      " Philippines                     198\n",
      " Germany                         137\n",
      " Canada                          121\n",
      " Puerto-Rico                     114\n",
      " El-Salvador                     106\n",
      " India                           100\n",
      " Cuba                             95\n",
      " England                          90\n",
      " Jamaica                          81\n",
      " South                            80\n",
      " China                            75\n",
      " Italy                            73\n",
      " Dominican-Republic               70\n",
      " Vietnam                          67\n",
      " Guatemala                        64\n",
      " Japan                            62\n",
      " Poland                           60\n",
      " Columbia                         59\n",
      " Taiwan                           51\n",
      " Haiti                            44\n",
      " Iran                             43\n",
      " Portugal                         37\n",
      " Nicaragua                        34\n",
      " Peru                             31\n",
      " Greece                           29\n",
      " France                           29\n",
      " Ecuador                          28\n",
      " Ireland                          24\n",
      " Hong                             20\n",
      " Cambodia                         19\n",
      " Trinadad&Tobago                  19\n",
      " Thailand                         18\n",
      " Laos                             18\n",
      " Yugoslavia                       16\n",
      " Outlying-US(Guam-USVI-etc)       14\n",
      " Honduras                         13\n",
      " Hungary                          13\n",
      " Scotland                         12\n",
      " Holand-Netherlands                1\n",
      "Name: native-country, dtype: int64\n"
     ]
    }
   ],
   "source": [
    "print('**성별** \\n',adult_df['sex'].value_counts())\n",
    "print('\\n**인종** \\n',adult_df['race'].value_counts())\n",
    "print('\\n**수입** \\n',adult_df['income'].value_counts())\n",
    "print('\\n**나라** \\n',adult_df['native-country'].value_counts())"
   ]
  },
  {
   "cell_type": "code",
   "execution_count": 4,
   "id": "94be30f2",
   "metadata": {},
   "outputs": [
    {
     "name": "stdout",
     "output_type": "stream",
     "text": [
      "0    U\n",
      "1    U\n",
      "2    U\n",
      "3    U\n",
      "4    C\n",
      "5    U\n",
      "Name: native-country, dtype: object\n"
     ]
    }
   ],
   "source": [
    "### 국가 앞글자만 자름 ###\n",
    "adult_df['native-country'] = adult_df['native-country'].str[1:2]\n",
    "print(adult_df['native-country'].head(6))"
   ]
  },
  {
   "cell_type": "code",
   "execution_count": 5,
   "id": "81b7b6dd",
   "metadata": {},
   "outputs": [
    {
     "data": {
      "text/plain": [
       "sex      income\n",
       " Female   <=50K     9592\n",
       "          >50K      1179\n",
       " Male     <=50K    15128\n",
       "          >50K      6662\n",
       "Name: income, dtype: int64"
      ]
     },
     "execution_count": 5,
     "metadata": {},
     "output_type": "execute_result"
    }
   ],
   "source": [
    "### 성별-수입 ###\n",
    "adult_df.groupby(['sex','income'])['income'].count()"
   ]
  },
  {
   "cell_type": "code",
   "execution_count": 6,
   "id": "1bac139e",
   "metadata": {},
   "outputs": [
    {
     "data": {
      "text/plain": [
       "race                 income\n",
       " Amer-Indian-Eskimo   <=50K      275\n",
       "                      >50K        36\n",
       " Asian-Pac-Islander   <=50K      763\n",
       "                      >50K       276\n",
       " Black                <=50K     2737\n",
       "                      >50K       387\n",
       " Other                <=50K      246\n",
       "                      >50K        25\n",
       " White                <=50K    20699\n",
       "                      >50K      7117\n",
       "Name: income, dtype: int64"
      ]
     },
     "execution_count": 6,
     "metadata": {},
     "output_type": "execute_result"
    }
   ],
   "source": [
    "### 인종-수입 ###\n",
    "adult_df.groupby(['race','income'])['income'].count()"
   ]
  },
  {
   "cell_type": "code",
   "execution_count": 7,
   "id": "a866b8aa",
   "metadata": {},
   "outputs": [],
   "source": [
    "### 필요없다고 판단되는 것 drop ###\n",
    "adult_df.drop(['workclass','education','fnlwgt','marital-status'],axis=1,inplace=True)"
   ]
  },
  {
   "cell_type": "code",
   "execution_count": 8,
   "id": "873221bf",
   "metadata": {},
   "outputs": [
    {
     "data": {
      "text/html": [
       "<div>\n",
       "<style scoped>\n",
       "    .dataframe tbody tr th:only-of-type {\n",
       "        vertical-align: middle;\n",
       "    }\n",
       "\n",
       "    .dataframe tbody tr th {\n",
       "        vertical-align: top;\n",
       "    }\n",
       "\n",
       "    .dataframe thead th {\n",
       "        text-align: right;\n",
       "    }\n",
       "</style>\n",
       "<table border=\"1\" class=\"dataframe\">\n",
       "  <thead>\n",
       "    <tr style=\"text-align: right;\">\n",
       "      <th></th>\n",
       "      <th>age</th>\n",
       "      <th>education-num</th>\n",
       "      <th>occupation</th>\n",
       "      <th>relationship</th>\n",
       "      <th>race</th>\n",
       "      <th>sex</th>\n",
       "      <th>capital-gain</th>\n",
       "      <th>capital-loss</th>\n",
       "      <th>hours-per-week</th>\n",
       "      <th>native-country</th>\n",
       "      <th>income</th>\n",
       "    </tr>\n",
       "  </thead>\n",
       "  <tbody>\n",
       "    <tr>\n",
       "      <th>0</th>\n",
       "      <td>39</td>\n",
       "      <td>13</td>\n",
       "      <td>1</td>\n",
       "      <td>1</td>\n",
       "      <td>4</td>\n",
       "      <td>1</td>\n",
       "      <td>2174</td>\n",
       "      <td>0</td>\n",
       "      <td>40</td>\n",
       "      <td>16</td>\n",
       "      <td>0</td>\n",
       "    </tr>\n",
       "    <tr>\n",
       "      <th>1</th>\n",
       "      <td>50</td>\n",
       "      <td>13</td>\n",
       "      <td>4</td>\n",
       "      <td>0</td>\n",
       "      <td>4</td>\n",
       "      <td>1</td>\n",
       "      <td>0</td>\n",
       "      <td>0</td>\n",
       "      <td>13</td>\n",
       "      <td>16</td>\n",
       "      <td>0</td>\n",
       "    </tr>\n",
       "    <tr>\n",
       "      <th>2</th>\n",
       "      <td>38</td>\n",
       "      <td>9</td>\n",
       "      <td>6</td>\n",
       "      <td>1</td>\n",
       "      <td>4</td>\n",
       "      <td>1</td>\n",
       "      <td>0</td>\n",
       "      <td>0</td>\n",
       "      <td>40</td>\n",
       "      <td>16</td>\n",
       "      <td>0</td>\n",
       "    </tr>\n",
       "    <tr>\n",
       "      <th>3</th>\n",
       "      <td>53</td>\n",
       "      <td>7</td>\n",
       "      <td>6</td>\n",
       "      <td>0</td>\n",
       "      <td>2</td>\n",
       "      <td>1</td>\n",
       "      <td>0</td>\n",
       "      <td>0</td>\n",
       "      <td>40</td>\n",
       "      <td>16</td>\n",
       "      <td>0</td>\n",
       "    </tr>\n",
       "    <tr>\n",
       "      <th>4</th>\n",
       "      <td>28</td>\n",
       "      <td>13</td>\n",
       "      <td>10</td>\n",
       "      <td>5</td>\n",
       "      <td>2</td>\n",
       "      <td>0</td>\n",
       "      <td>0</td>\n",
       "      <td>0</td>\n",
       "      <td>40</td>\n",
       "      <td>1</td>\n",
       "      <td>0</td>\n",
       "    </tr>\n",
       "  </tbody>\n",
       "</table>\n",
       "</div>"
      ],
      "text/plain": [
       "   age  education-num  occupation  relationship  race  sex  capital-gain  \\\n",
       "0   39             13           1             1     4    1          2174   \n",
       "1   50             13           4             0     4    1             0   \n",
       "2   38              9           6             1     4    1             0   \n",
       "3   53              7           6             0     2    1             0   \n",
       "4   28             13          10             5     2    0             0   \n",
       "\n",
       "   capital-loss  hours-per-week  native-country  income  \n",
       "0             0              40              16       0  \n",
       "1             0              13              16       0  \n",
       "2             0              40              16       0  \n",
       "3             0              40              16       0  \n",
       "4             0              40               1       0  "
      ]
     },
     "execution_count": 8,
     "metadata": {},
     "output_type": "execute_result"
    }
   ],
   "source": [
    "from sklearn.preprocessing import LabelEncoder\n",
    "# 레이블 인코딩 수행. \n",
    "    \n",
    "names = ['race','sex','occupation','native-country','income','relationship']\n",
    "for n in names:\n",
    "    le = LabelEncoder()\n",
    "    le = le.fit(adult_df[n])\n",
    "    adult_df[n] = le.transform(adult_df[n])\n",
    "\n",
    "adult_df.head()"
   ]
  },
  {
   "cell_type": "code",
   "execution_count": 9,
   "id": "3d3fc3f9",
   "metadata": {
    "scrolled": false
   },
   "outputs": [
    {
     "name": "stdout",
     "output_type": "stream",
     "text": [
      "<class 'pandas.core.frame.DataFrame'>\n",
      "RangeIndex: 32561 entries, 0 to 32560\n",
      "Data columns (total 11 columns):\n",
      " #   Column          Non-Null Count  Dtype\n",
      "---  ------          --------------  -----\n",
      " 0   age             32561 non-null  int64\n",
      " 1   education-num   32561 non-null  int64\n",
      " 2   occupation      32561 non-null  int32\n",
      " 3   relationship    32561 non-null  int32\n",
      " 4   race            32561 non-null  int32\n",
      " 5   sex             32561 non-null  int32\n",
      " 6   capital-gain    32561 non-null  int64\n",
      " 7   capital-loss    32561 non-null  int64\n",
      " 8   hours-per-week  32561 non-null  int64\n",
      " 9   native-country  32561 non-null  int32\n",
      " 10  income          32561 non-null  int32\n",
      "dtypes: int32(6), int64(5)\n",
      "memory usage: 2.0 MB\n",
      "None\n"
     ]
    }
   ],
   "source": [
    "### 인코딩 후 확인 ###\n",
    "print(adult_df.info())"
   ]
  },
  {
   "cell_type": "code",
   "execution_count": 10,
   "id": "cc044291",
   "metadata": {},
   "outputs": [
    {
     "data": {
      "image/png": "[encoded data removed]",
      "text/plain": [
       "<Figure size 720x432 with 1 Axes>"
      ]
     },
     "metadata": {
      "needs_background": "light"
     },
     "output_type": "display_data"
    }
   ],
   "source": [
    "def get_category(age):\n",
    "    cat = ''\n",
    "    if age <= 18: cat = 'Teenager'\n",
    "    elif age <= 25: cat = 'Student'\n",
    "    elif age <= 35: cat = 'Young Adult'\n",
    "    elif age <= 60: cat = 'Adult'\n",
    "    else : cat = 'Elderly'\n",
    "    \n",
    "    return cat\n",
    "\n",
    "# 막대그래프의 크기 figure를 더 크게 설정 \n",
    "plt.figure(figsize=(10,6))\n",
    "\n",
    "#X축의 값을 순차적으로 표시하기 위한 설정 \n",
    "group_names = ['Teenager', 'Student', 'Young Adult', 'Adult', 'Elderly']\n",
    "\n",
    "# lambda 식에 위에서 생성한 get_category( ) 함수를 반환값으로 지정. \n",
    "# get_category(X)는 입력값으로 'Age' 컬럼값을 받아서 해당하는 cat 반환\n",
    "adult_df['age_cat'] = adult_df['age'].apply(lambda x : get_category(x))\n",
    "sns.barplot(x='age_cat', y = 'income', hue='sex', data=adult_df, order=group_names)\n",
    "adult_df.drop('age_cat', axis=1, inplace=True)"
   ]
  },
  {
   "cell_type": "code",
   "execution_count": 11,
   "id": "772b8d38",
   "metadata": {
    "scrolled": true
   },
   "outputs": [
    {
     "data": {
      "image/png": "[encoded data removed]",
      "text/plain": [
       "<Figure size 720x432 with 1 Axes>"
      ]
     },
     "metadata": {
      "needs_background": "light"
     },
     "output_type": "display_data"
    }
   ],
   "source": [
    "def hour_category(hours_per_week):\n",
    "    cat = ''\n",
    "    if hours_per_week<=35: cat = 'low'\n",
    "    elif hours_per_week<= 70: cat = 'mid'\n",
    "    else : cat= 'high'\n",
    "    \n",
    "    return cat\n",
    "\n",
    "# 막대그래프의 크기 figure를 더 크게 설정 \n",
    "plt.figure(figsize=(10,6))\n",
    "\n",
    "#X축의 값을 순차적으로 표시하기 위한 설정 \n",
    "group_names = ['low','mid','high']\n",
    "\n",
    "# lambda 식에 위에서 생성한 get_category( ) 함수를 반환값으로 지정. \n",
    "# get_category(X)는 입력값으로 'Age' 컬럼값을 받아서 해당하는 cat 반환\n",
    "adult_df['hour_cat'] = adult_df['hours-per-week'].apply(lambda x : hour_category(x))\n",
    "sns.barplot(x='hour_cat', y = 'income', data=adult_df, order=group_names)\n",
    "adult_df.drop('hour_cat', axis=1, inplace=True)"
   ]
  },
  {
   "cell_type": "code",
   "execution_count": 12,
   "id": "038e7d5e",
   "metadata": {},
   "outputs": [
    {
     "data": {
      "text/plain": [
       "<AxesSubplot:xlabel='education-num', ylabel='income'>"
      ]
     },
     "execution_count": 12,
     "metadata": {},
     "output_type": "execute_result"
    },
    {
     "data": {
      "image/png": "[encoded data removed]",
      "text/plain": [
       "<Figure size 864x288 with 3 Axes>"
      ]
     },
     "metadata": {
      "needs_background": "light"
     },
     "output_type": "display_data"
    }
   ],
   "source": [
    "plt.figure(figsize=[12,4])\n",
    "plt.subplot(131)\n",
    "sns.barplot(x='occupation', y = 'income', data=adult_df)\n",
    "plt.subplot(132)\n",
    "sns.barplot(x='race', y = 'income', data=adult_df)\n",
    "plt.subplot(133)\n",
    "sns.barplot(x='education-num', y = 'income', data=adult_df)"
   ]
  },
  {
   "cell_type": "code",
   "execution_count": 13,
   "id": "efb27e90",
   "metadata": {},
   "outputs": [
    {
     "data": {
      "text/plain": [
       "<AxesSubplot:xlabel='relationship', ylabel='income'>"
      ]
     },
     "execution_count": 13,
     "metadata": {},
     "output_type": "execute_result"
    },
    {
     "data": {
      "image/png": "[encoded data removed]",
      "text/plain": [
       "<Figure size 864x288 with 3 Axes>"
      ]
     },
     "metadata": {
      "needs_background": "light"
     },
     "output_type": "display_data"
    }
   ],
   "source": [
    "plt.figure(figsize=[12,4])\n",
    "plt.subplot(131)\n",
    "plt.hist(adult_df['capital-gain'], bins=8)\n",
    "plt.subplot(132)\n",
    "plt.hist(adult_df['capital-loss'], bins=8)\n",
    "plt.subplot(133)\n",
    "sns.barplot(x='relationship', y = 'income', data=adult_df)"
   ]
  },
  {
   "cell_type": "code",
   "execution_count": 14,
   "id": "88b4a136",
   "metadata": {},
   "outputs": [
    {
     "name": "stdout",
     "output_type": "stream",
     "text": [
      "capital-gain 0 건수는 29849, 퍼센트는 91.67 %\n",
      "capital-loss 0 건수는 31042, 퍼센트는 95.33 %\n"
     ]
    }
   ],
   "source": [
    "zero_features = ['capital-gain','capital-loss']\n",
    "\n",
    "# 전체 데이터 건수\n",
    "total_count = adult_df['capital-gain'].count()\n",
    "\n",
    "# 피처별로 반복 하면서 데이터 값이 0 인 데이터 건수 추출하고, 퍼센트 계산\n",
    "for feature in zero_features:\n",
    "    zero_count =adult_df[adult_df[feature] == 0][feature].count()\n",
    "    print('{0} 0 건수는 {1}, 퍼센트는 {2:.2f} %'.format(feature, zero_count, 100*zero_count/total_count))"
   ]
  },
  {
   "cell_type": "code",
   "execution_count": 15,
   "id": "3cd83e32",
   "metadata": {},
   "outputs": [],
   "source": [
    "# 인덱싱으로 age 컬럼부터 연속해서 native-country 까지의 열을 가져올 수 있음.\n",
    "X=adult_df.loc[:,'age':'native-country']\n",
    "y=adult_df.loc[:,'income']"
   ]
  },
  {
   "cell_type": "markdown",
   "id": "b441f1e7",
   "metadata": {},
   "source": [
    "## 평가지표"
   ]
  },
  {
   "cell_type": "markdown",
   "id": "4be2f864",
   "metadata": {},
   "source": [
    "#### 오차행렬, 정확도, 정밀도, 재현율"
   ]
  },
  {
   "cell_type": "code",
   "execution_count": 16,
   "id": "530619f7",
   "metadata": {},
   "outputs": [],
   "source": [
    "from sklearn.model_selection import train_test_split\n",
    "X_train, X_test, y_train, y_test = train_test_split(X, y, random_state=0)"
   ]
  },
  {
   "cell_type": "code",
   "execution_count": 17,
   "id": "8ad1b16c",
   "metadata": {},
   "outputs": [],
   "source": [
    "from sklearn.metrics import confusion_matrix, accuracy_score\n",
    "from sklearn.metrics import precision_score, recall_score\n",
    "from sklearn.metrics import f1_score, roc_auc_score\n",
    "\n",
    "# 배웠던 평가지표를 구현하는 함수\n",
    "def get_clf_eval(y_test , pred):\n",
    "    confusion = confusion_matrix( y_test, pred)\n",
    "    accuracy = accuracy_score(y_test , pred)\n",
    "    precision = precision_score(y_test , pred)\n",
    "    recall = recall_score(y_test , pred)\n",
    "    f1 = f1_score(y_test,pred)\n",
    "    roc_auc = roc_auc_score(y_test, pred)\n",
    "    print('오차 행렬')\n",
    "    print(confusion)\n",
    "    print('정확도: {0:.4f}, 정밀도: {1:.4f}, 재현율: {2:.4f},\\\n",
    "    F1: {3:.4f}, AUC:{4:.4f}'.format(accuracy, precision, recall, f1, roc_auc))"
   ]
  },
  {
   "cell_type": "code",
   "execution_count": 18,
   "id": "1322046f",
   "metadata": {},
   "outputs": [
    {
     "name": "stdout",
     "output_type": "stream",
     "text": [
      "훈련 세트 정확도: 0.864\n",
      "테스트 세트 정확도: 0.838\n",
      "\n",
      "오차 행렬\n",
      "[[5724  435]\n",
      " [ 885 1097]]\n",
      "정확도: 0.8379, 정밀도: 0.7161, 재현율: 0.5535,    F1: 0.6244, AUC:0.7414\n"
     ]
    }
   ],
   "source": [
    "# KNN\n",
    "from sklearn.neighbors import KNeighborsClassifier\n",
    "clf = KNeighborsClassifier(n_neighbors=13)\n",
    "clf.fit(X_train, y_train)\n",
    "print(\"훈련 세트 정확도: {:.3f}\".format(clf.score(X_train, y_train)))\n",
    "print(\"테스트 세트 정확도: {:.3f}\".format(clf.score(X_test, y_test)))\n",
    "print()\n",
    "pred=clf.predict(X_test)\n",
    "get_clf_eval(y_test , pred)"
   ]
  },
  {
   "cell_type": "code",
   "execution_count": 19,
   "id": "3790852d",
   "metadata": {},
   "outputs": [],
   "source": [
    "from sklearn.model_selection import train_test_split\n",
    "from sklearn.metrics import accuracy_score, precision_score, recall_score, roc_auc_score\n",
    "from sklearn.metrics import f1_score, confusion_matrix, precision_recall_curve, roc_curve\n",
    "from sklearn.preprocessing import StandardScaler\n",
    "from sklearn.linear_model import LogisticRegression\n",
    "\n",
    "def precision_recall_curve_plot(y_test=None, pred_proba_c1=None):\n",
    "    # threshold ndarray와 이 threshold에 따른 정밀도, 재현율 ndarray 추출. \n",
    "    precisions, recalls, thresholds = precision_recall_curve( y_test, pred_proba_c1)\n",
    "    \n",
    "    # X축을 threshold값으로, Y축은 정밀도, 재현율 값으로 각각 Plot 수행. 정밀도는 점선으로 표시\n",
    "    plt.figure(figsize=(8,6))\n",
    "    threshold_boundary = thresholds.shape[0]\n",
    "    plt.plot(thresholds, precisions[0:threshold_boundary], linestyle='--', label='precision')\n",
    "    plt.plot(thresholds, recalls[0:threshold_boundary],label='recall')\n",
    "    \n",
    "    # threshold 값 X 축의 Scale을 0.1 단위로 변경\n",
    "    start, end = plt.xlim()\n",
    "    plt.xticks(np.round(np.arange(start, end, 0.1),2))\n",
    "    \n",
    "    # x축, y축 label과 legend, 그리고 grid 설정\n",
    "    plt.xlabel('Threshold value'); plt.ylabel('Precision and Recall value')\n",
    "    plt.legend(); plt.grid()\n",
    "    plt.show()"
   ]
  },
  {
   "cell_type": "code",
   "execution_count": 20,
   "id": "a4602d4e",
   "metadata": {},
   "outputs": [
    {
     "name": "stdout",
     "output_type": "stream",
     "text": [
      "오차 행렬\n",
      "[[4662  283]\n",
      " [1058  510]]\n",
      "정확도: 0.7941, 정밀도: 0.6431, 재현율: 0.3253,    F1: 0.4320, AUC:0.6340\n"
     ]
    },
    {
     "name": "stderr",
     "output_type": "stream",
     "text": [
      "c:\\users\\ad\\appdata\\local\\programs\\python\\python38\\lib\\site-packages\\sklearn\\linear_model\\_logistic.py:763: ConvergenceWarning: lbfgs failed to converge (status=1):\n",
      "STOP: TOTAL NO. of ITERATIONS REACHED LIMIT.\n",
      "\n",
      "Increase the number of iterations (max_iter) or scale the data as shown in:\n",
      "    https://scikit-learn.org/stable/modules/preprocessing.html\n",
      "Please also refer to the documentation for alternative solver options:\n",
      "    https://scikit-learn.org/stable/modules/linear_model.html#logistic-regression\n",
      "  n_iter_i = _check_optimize_result(\n"
     ]
    }
   ],
   "source": [
    "# 피처 데이터 세트 X, 레이블 데이터 세트 y를 추출. \n",
    "# 맨 끝이 Outcome 컬럼으로 레이블 값임. 컬럼 위치 -1을 이용해 추출 \n",
    "X = adult_df.iloc[:, :-1]\n",
    "y = adult_df.iloc[:, -1]\n",
    "\n",
    "X_train, X_test, y_train, y_test = train_test_split(X, y, test_size = 0.2, random_state = 156, stratify=y)\n",
    "\n",
    "# 로지스틱 회귀로 학습,예측 및 평가 수행. \n",
    "lr_clf = LogisticRegression()\n",
    "lr_clf.fit(X_train , y_train)\n",
    "pred = lr_clf.predict(X_test)\n",
    "\n",
    "get_clf_eval(y_test, pred)"
   ]
  },
  {
   "cell_type": "markdown",
   "id": "28f1c9ec",
   "metadata": {},
   "source": [
    "#### 임계값의 변경에 따른 정밀도-재현율 변화 곡선을 그림"
   ]
  },
  {
   "cell_type": "code",
   "execution_count": 21,
   "id": "d5e4a865",
   "metadata": {},
   "outputs": [
    {
     "data": {
      "image/png": "[encoded data removed]",
      "text/plain": [
       "<Figure size 576x432 with 1 Axes>"
      ]
     },
     "metadata": {
      "needs_background": "light"
     },
     "output_type": "display_data"
    }
   ],
   "source": [
    "pred_proba_c1 = lr_clf.predict_proba(X_test)[:, 1]\n",
    "precision_recall_curve_plot(y_test, pred_proba_c1)"
   ]
  },
  {
   "cell_type": "markdown",
   "id": "b5c9b5e9",
   "metadata": {},
   "source": [
    "#### 임계값에 따른 정확도, 정밀도, 재현율, F1, AUC "
   ]
  },
  {
   "cell_type": "code",
   "execution_count": 22,
   "id": "992d6b96",
   "metadata": {},
   "outputs": [
    {
     "name": "stdout",
     "output_type": "stream",
     "text": [
      "임계값: 0.25\n",
      "오차 행렬\n",
      "[[3466 1479]\n",
      " [ 392 1176]]\n",
      "정확도: 0.7127, 정밀도: 0.4429, 재현율: 0.7500,    F1: 0.5570, AUC:0.7255\n",
      "임계값: 0.3\n",
      "오차 행렬\n",
      "[[4016  929]\n",
      " [ 615  953]]\n",
      "정확도: 0.7629, 정밀도: 0.5064, 재현율: 0.6078,    F1: 0.5525, AUC:0.7100\n",
      "임계값: 0.35\n",
      "오차 행렬\n",
      "[[4287  658]\n",
      " [ 780  788]]\n",
      "정확도: 0.7792, 정밀도: 0.5450, 재현율: 0.5026,    F1: 0.5229, AUC:0.6847\n",
      "임계값: 0.4\n",
      "오차 행렬\n",
      "[[4457  488]\n",
      " [ 911  657]]\n",
      "정확도: 0.7852, 정밀도: 0.5738, 재현율: 0.4190,    F1: 0.4843, AUC:0.6602\n"
     ]
    }
   ],
   "source": [
    "from sklearn.preprocessing import Binarizer\n",
    "\n",
    "def get_eval_by_threshold(y_test , pred_proba_c1, thresholds):\n",
    "    # thresholds 리스트 객체내의 값을 차례로 iteration하면서 Evaluation 수행.\n",
    "    for custom_threshold in thresholds:\n",
    "        binarizer = Binarizer(threshold=custom_threshold).fit(pred_proba_c1) \n",
    "        custom_predict = binarizer.transform(pred_proba_c1)\n",
    "        print('임계값:',custom_threshold)\n",
    "        get_clf_eval(y_test , custom_predict)\n",
    "        \n",
    "thresholds = [0.25 , 0.3 , 0.35, 0.4]\n",
    "pred_proba = lr_clf.predict_proba(X_test)\n",
    "get_eval_by_threshold(y_test, pred_proba[:,1].reshape(-1,1), thresholds )"
   ]
  },
  {
   "cell_type": "code",
   "execution_count": 23,
   "id": "a8b6503c",
   "metadata": {},
   "outputs": [
    {
     "name": "stdout",
     "output_type": "stream",
     "text": [
      "오차 행렬\n",
      "[[4287  658]\n",
      " [ 780  788]]\n",
      "정확도: 0.7792, 정밀도: 0.5450, 재현율: 0.5026,    F1: 0.5229, AUC:0.6847\n"
     ]
    }
   ],
   "source": [
    "binarizer = Binarizer(threshold=0.35)\n",
    "\n",
    "# 위에서 구한 lr_clf의 predict_proba() 예측 확률 array에서 1에 해당하는 컬럼값을 Binarizer변환. \n",
    "pred_th_048 = binarizer.fit_transform(pred_proba[:, 1].reshape(-1,1)) \n",
    "\n",
    "get_clf_eval(y_test , pred_th_048)"
   ]
  },
  {
   "cell_type": "markdown",
   "id": "6aeae5ff",
   "metadata": {},
   "source": [
    "#### ROC AUC"
   ]
  },
  {
   "cell_type": "code",
   "execution_count": 24,
   "id": "9d2aa7e9",
   "metadata": {},
   "outputs": [
    {
     "data": {
      "image/png": "[encoded data removed]",
      "text/plain": [
       "<Figure size 432x288 with 1 Axes>"
      ]
     },
     "metadata": {
      "needs_background": "light"
     },
     "output_type": "display_data"
    }
   ],
   "source": [
    "def roc_curve_plot(y_test , pred_proba_c1):\n",
    "    # 임곗값에 따른 FPR, TPR 값을 반환 받음. \n",
    "    fprs , tprs , thresholds = roc_curve(y_test ,pred_proba_c1)\n",
    "\n",
    "    # ROC Curve를 plot 곡선으로 그림. \n",
    "    plt.plot(fprs , tprs, label='ROC')\n",
    "    # 가운데 대각선 직선을 그림. \n",
    "    plt.plot([0, 1], [0, 1], 'k--', label='Random')\n",
    "    \n",
    "    # FPR X 축의 Scale을 0.1 단위로 변경, X,Y 축명 설정등   \n",
    "    start, end = plt.xlim()\n",
    "    plt.xticks(np.round(np.arange(start, end, 0.1),2))\n",
    "    plt.xlim(0,1); plt.ylim(0,1)\n",
    "    plt.xlabel('FPR( 1 - Sensitivity )'); plt.ylabel('TPR( Recall )')\n",
    "    plt.legend()\n",
    "    plt.show()\n",
    "    \n",
    "roc_curve_plot(y_test,lr_clf.predict_proba(X_test)[:, 1] )"
   ]
  },
  {
   "cell_type": "markdown",
   "id": "5f9e41bc",
   "metadata": {},
   "source": [
    "## 분류기"
   ]
  },
  {
   "cell_type": "markdown",
   "id": "1c420305",
   "metadata": {},
   "source": [
    "#### Random Forest"
   ]
  },
  {
   "cell_type": "code",
   "execution_count": 25,
   "id": "0b043ee2",
   "metadata": {},
   "outputs": [
    {
     "name": "stdout",
     "output_type": "stream",
     "text": [
      "랜덤 포레스트 정확도: 0.8449\n"
     ]
    }
   ],
   "source": [
    "import pandas as pd\n",
    "\n",
    "from sklearn.ensemble import RandomForestClassifier\n",
    "from sklearn.metrics import accuracy_score\n",
    "import pandas as pd\n",
    "import warnings\n",
    "warnings.filterwarnings('ignore')\n",
    "\n",
    "# 랜덤 포레스트 학습 및 별도의 테스트 셋으로 예측 성능 평가\n",
    "rf_clf = RandomForestClassifier(random_state=0)\n",
    "rf_clf.fit(X_train , y_train)\n",
    "pred = rf_clf.predict(X_test)\n",
    "accuracy = accuracy_score(y_test , pred)\n",
    "print('랜덤 포레스트 정확도: {0:.4f}'.format(accuracy))"
   ]
  },
  {
   "cell_type": "code",
   "execution_count": 26,
   "id": "38aba762",
   "metadata": {},
   "outputs": [
    {
     "name": "stdout",
     "output_type": "stream",
     "text": [
      "최적 하이퍼 파라미터:\n",
      " {'max_depth': 12, 'min_samples_leaf': 8, 'min_samples_split': 20, 'n_estimators': 100}\n",
      "최고 예측 정확도: 0.8598\n"
     ]
    }
   ],
   "source": [
    "from sklearn.model_selection import GridSearchCV\n",
    "\n",
    "params = {\n",
    "    'n_estimators':[100],\n",
    "    'max_depth' : [6, 8, 10, 12], \n",
    "    'min_samples_leaf' : [8, 12, 18 ],\n",
    "    'min_samples_split' : [8, 16, 20]\n",
    "}\n",
    "# RandomForestClassifier 객체 생성 후 GridSearchCV 수행\n",
    "rf_clf = RandomForestClassifier(random_state=0, n_jobs=-1)\n",
    "grid_cv = GridSearchCV(rf_clf , param_grid=params , cv=2, n_jobs=-1 )\n",
    "grid_cv.fit(X_train , y_train)\n",
    "\n",
    "print('최적 하이퍼 파라미터:\\n', grid_cv.best_params_)\n",
    "print('최고 예측 정확도: {0:.4f}'.format(grid_cv.best_score_))"
   ]
  },
  {
   "cell_type": "code",
   "execution_count": 31,
   "id": "a8e1636f",
   "metadata": {},
   "outputs": [
    {
     "name": "stdout",
     "output_type": "stream",
     "text": [
      "예측 정확도: 0.8653\n"
     ]
    }
   ],
   "source": [
    "rf_clf1 = RandomForestClassifier(n_estimators=100, max_depth=12, min_samples_leaf=8, \\\n",
    "                                 min_samples_split=20, random_state=0)\n",
    "rf_clf1.fit(X_train , y_train)\n",
    "pred = rf_clf1.predict(X_test)\n",
    "print('예측 정확도: {0:.4f}'.format(accuracy_score(y_test , pred)))"
   ]
  },
  {
   "cell_type": "code",
   "execution_count": 32,
   "id": "c8cfc5d2",
   "metadata": {},
   "outputs": [
    {
     "data": {
      "image/png": "[encoded data removed]",
      "text/plain": [
       "<Figure size 576x432 with 1 Axes>"
      ]
     },
     "metadata": {
      "needs_background": "light"
     },
     "output_type": "display_data"
    }
   ],
   "source": [
    "import matplotlib.pyplot as plt\n",
    "import seaborn as sns\n",
    "%matplotlib inline\n",
    "\n",
    "ftr_importances_values = rf_clf1.feature_importances_\n",
    "ftr_importances = pd.Series(ftr_importances_values,index=X_train.columns  )\n",
    "ftr_top10 = ftr_importances.sort_values(ascending=False)[:20]\n",
    "\n",
    "plt.figure(figsize=(8,6))\n",
    "plt.title('Feature importances Top 10')\n",
    "sns.barplot(x=ftr_top10 , y = ftr_top10.index)\n",
    "plt.show()"
   ]
  },
  {
   "cell_type": "markdown",
   "id": "4e43f697",
   "metadata": {},
   "source": [
    "#### SVM"
   ]
  },
  {
   "cell_type": "code",
   "execution_count": 33,
   "id": "b7866e4a",
   "metadata": {},
   "outputs": [],
   "source": [
    "X_train, X_test, y_train, y_test = train_test_split(X, y, test_size = 0.2)"
   ]
  },
  {
   "cell_type": "code",
   "execution_count": 34,
   "id": "02c58d52",
   "metadata": {},
   "outputs": [
    {
     "name": "stdout",
     "output_type": "stream",
     "text": [
      "0.8599723629663749\n"
     ]
    }
   ],
   "source": [
    "from sklearn import svm\n",
    "\n",
    "clf = svm.SVC(gamma=0.001, C=100)\n",
    "clf.fit(X_train, y_train)\n",
    "predictions = clf.predict(X_test)\n",
    "from sklearn.metrics import accuracy_score\n",
    "print(accuracy_score(y_test, predictions))"
   ]
  },
  {
   "cell_type": "markdown",
   "id": "23276898",
   "metadata": {},
   "source": [
    "#### 로지스틱 회귀"
   ]
  },
  {
   "cell_type": "code",
   "execution_count": 35,
   "id": "b7435fde",
   "metadata": {},
   "outputs": [
    {
     "name": "stdout",
     "output_type": "stream",
     "text": [
      "학습용 데이터셋 정확도 : 0.80\n",
      "검증용 데이터셋 정확도 : 0.79\n"
     ]
    }
   ],
   "source": [
    "import pandas as pd\n",
    "import matplotlib.pyplot as plt\n",
    "%matplotlib inline\n",
    "\n",
    "from sklearn.datasets import load_breast_cancer\n",
    "from sklearn.linear_model import LogisticRegression\n",
    "from sklearn.preprocessing import StandardScaler\n",
    "from sklearn.model_selection import train_test_split\n",
    "\n",
    "x = adult_df[['age', 'education-num', 'occupation', 'race', 'sex', 'capital-gain',\n",
    "                 'capital-loss', 'hours-per-week', 'native-country','relationship']]  #변수 지정\n",
    "y = adult_df[['income']]\n",
    "x_train, x_test, y_train, y_test = train_test_split(x, y, test_size=0.2)\n",
    "\n",
    "log = LogisticRegression() #로지스틱 회귀분석 시행\n",
    "\n",
    "log.fit(x_train, y_train) #모델의 정확도 확인\n",
    "print('학습용 데이터셋 정확도 : %.2f' % log.score(x_train, y_train))\n",
    "print('검증용 데이터셋 정확도 : %.2f' % log.score(x_test, y_test))"
   ]
  },
  {
   "cell_type": "code",
   "execution_count": 36,
   "id": "d5236bad",
   "metadata": {},
   "outputs": [
    {
     "name": "stdout",
     "output_type": "stream",
     "text": [
      "              precision    recall  f1-score   support\n",
      "\n",
      "           0       0.81      0.95      0.88      4946\n",
      "           1       0.66      0.31      0.42      1567\n",
      "\n",
      "    accuracy                           0.79      6513\n",
      "   macro avg       0.73      0.63      0.65      6513\n",
      "weighted avg       0.77      0.79      0.77      6513\n",
      "\n"
     ]
    }
   ],
   "source": [
    "# 모형 성능평가\n",
    "from sklearn.metrics import classification_report\n",
    "y_pred=log.predict(x_test)\n",
    "print(classification_report(y_test, y_pred))"
   ]
  },
  {
   "cell_type": "code",
   "execution_count": 37,
   "id": "14df9296",
   "metadata": {},
   "outputs": [
    {
     "name": "stdout",
     "output_type": "stream",
     "text": [
      "Optimization terminated successfully.\n",
      "         Current function value: 0.445550\n",
      "         Iterations 8\n"
     ]
    }
   ],
   "source": [
    "import statsmodels.api as sm\n",
    "logit = sm.Logit(adult_df[['income']],x) #로지스틱 회귀분석 시행\n",
    "result = logit.fit()"
   ]
  },
  {
   "cell_type": "code",
   "execution_count": 38,
   "id": "db224546",
   "metadata": {},
   "outputs": [
    {
     "data": {
      "text/plain": [
       "age               1.005411\n",
       "education-num     1.156751\n",
       "occupation        0.986283\n",
       "race              0.734801\n",
       "sex               0.987446\n",
       "capital-gain      1.000328\n",
       "capital-loss      1.000710\n",
       "hours-per-week    1.002812\n",
       "native-country    0.909626\n",
       "relationship      0.605562\n",
       "dtype: float64"
      ]
     },
     "execution_count": 38,
     "metadata": {},
     "output_type": "execute_result"
    }
   ],
   "source": [
    "np.exp(result.params)"
   ]
  },
  {
   "cell_type": "markdown",
   "id": "4da5563d",
   "metadata": {},
   "source": [
    "#### 결정트리"
   ]
  },
  {
   "cell_type": "code",
   "execution_count": 42,
   "id": "c5691500",
   "metadata": {},
   "outputs": [
    {
     "data": {
      "text/plain": [
       "DecisionTreeClassifier(max_depth=4)"
      ]
     },
     "execution_count": 42,
     "metadata": {},
     "output_type": "execute_result"
    }
   ],
   "source": [
    "from sklearn.tree import DecisionTreeClassifier\n",
    "from sklearn.model_selection import train_test_split\n",
    "import warnings\n",
    "warnings.filterwarnings('ignore')\n",
    "\n",
    "# DecisionTree Classifier 생성\n",
    "dt_clf = DecisionTreeClassifier(max_depth = 4)\n",
    "\n",
    "X=adult_df.loc[:,'age':'native-country']\n",
    "y=adult_df.loc[:,'income']\n",
    "\n",
    "X_train , X_test , y_train , y_test = train_test_split(X, y,\n",
    "                                                       test_size=0.2, random_state=11)\n",
    "\n",
    "# DecisionTreeClassifer 학습. \n",
    "dt_clf.fit(X_train , y_train)"
   ]
  },
  {
   "cell_type": "code",
   "execution_count": 43,
   "id": "8a783ef7",
   "metadata": {},
   "outputs": [],
   "source": [
    "from sklearn.tree import export_graphviz\n",
    "\n",
    "# export_graphviz()의 호출 결과로 out_file로 지정된 tree.dot 파일을 생성함. \n",
    "export_graphviz(dt_clf, out_file=\"tree.dot\", class_names='income' , \\\n",
    "feature_names = ['age', 'education-num', 'occupation', 'race', 'sex', 'capital-gain',\n",
    "                 'capital-loss', 'hours-per-week', 'native-country','relationship'], impurity=True, filled=True)"
   ]
  },
  {
   "cell_type": "code",
   "execution_count": 45,
   "id": "db034962",
   "metadata": {
    "scrolled": false
   },
   "outputs": [
    {
     "data": {
      "image/svg+xml": [
       "<?xml version=\"1.0\" encoding=\"UTF-8\" standalone=\"no\"?>\r\n",
       "<!DOCTYPE svg PUBLIC \"-//W3C//DTD SVG 1.1//EN\"\r\n",
       " \"http://www.w3.org/Graphics/SVG/1.1/DTD/svg11.dtd\">\r\n",
       "<!-- Generated by graphviz version 2.47.1 (20210417.1919)\r\n",
       " -->\r\n",
       "<!-- Title: Tree Pages: 1 -->\r\n",
       "<svg width=\"1828pt\" height=\"552pt\"\r\n",
       " viewBox=\"0.00 0.00 1827.50 552.00\" xmlns=\"http://www.w3.org/2000/svg\" xmlns:xlink=\"http://www.w3.org/1999/xlink\">\r\n",
       "<g id=\"graph0\" class=\"graph\" transform=\"scale(1 1) rotate(0) translate(4 548)\">\r\n",
       "<title>Tree</title>\r\n",
       "<polygon fill=\"white\" stroke=\"transparent\" points=\"-4,4 -4,-548 1823.5,-548 1823.5,4 -4,4\"/>\r\n",
       "<!-- 0 -->\r\n",
       "<g id=\"node1\" class=\"node\">\r\n",
       "<title>0</title>\r\n",
       "<polygon fill=\"#edaa79\" stroke=\"black\" points=\"1107.5,-544 969.5,-544 969.5,-461 1107.5,-461 1107.5,-544\"/>\r\n",
       "<text text-anchor=\"middle\" x=\"1038.5\" y=\"-528.8\" font-family=\"Times New Roman,serif\" font-size=\"14.00\">race &lt;= 0.5</text>\r\n",
       "<text text-anchor=\"middle\" x=\"1038.5\" y=\"-513.8\" font-family=\"Times New Roman,serif\" font-size=\"14.00\">gini = 0.368</text>\r\n",
       "<text text-anchor=\"middle\" x=\"1038.5\" y=\"-498.8\" font-family=\"Times New Roman,serif\" font-size=\"14.00\">samples = 26048</text>\r\n",
       "<text text-anchor=\"middle\" x=\"1038.5\" y=\"-483.8\" font-family=\"Times New Roman,serif\" font-size=\"14.00\">value = [19705, 6343]</text>\r\n",
       "<text text-anchor=\"middle\" x=\"1038.5\" y=\"-468.8\" font-family=\"Times New Roman,serif\" font-size=\"14.00\">class = i</text>\r\n",
       "</g>\r\n",
       "<!-- 1 -->\r\n",
       "<g id=\"node2\" class=\"node\">\r\n",
       "<title>1</title>\r\n",
       "<polygon fill=\"#fae8db\" stroke=\"black\" points=\"866,-425 719,-425 719,-342 866,-342 866,-425\"/>\r\n",
       "<text text-anchor=\"middle\" x=\"792.5\" y=\"-409.8\" font-family=\"Times New Roman,serif\" font-size=\"14.00\">education&#45;num &lt;= 12.5</text>\r\n",
       "<text text-anchor=\"middle\" x=\"792.5\" y=\"-394.8\" font-family=\"Times New Roman,serif\" font-size=\"14.00\">gini = 0.495</text>\r\n",
       "<text text-anchor=\"middle\" x=\"792.5\" y=\"-379.8\" font-family=\"Times New Roman,serif\" font-size=\"14.00\">samples = 10564</text>\r\n",
       "<text text-anchor=\"middle\" x=\"792.5\" y=\"-364.8\" font-family=\"Times New Roman,serif\" font-size=\"14.00\">value = [5809, 4755]</text>\r\n",
       "<text text-anchor=\"middle\" x=\"792.5\" y=\"-349.8\" font-family=\"Times New Roman,serif\" font-size=\"14.00\">class = i</text>\r\n",
       "</g>\r\n",
       "<!-- 0&#45;&gt;1 -->\r\n",
       "<g id=\"edge1\" class=\"edge\">\r\n",
       "<title>0&#45;&gt;1</title>\r\n",
       "<path fill=\"none\" stroke=\"black\" d=\"M969.32,-468.6C940.21,-454.75 906.1,-438.53 875.64,-424.04\"/>\r\n",
       "<polygon fill=\"black\" stroke=\"black\" points=\"876.85,-420.74 866.32,-419.61 873.84,-427.06 876.85,-420.74\"/>\r\n",
       "<text text-anchor=\"middle\" x=\"874.69\" y=\"-439.46\" font-family=\"Times New Roman,serif\" font-size=\"14.00\">True</text>\r\n",
       "</g>\r\n",
       "<!-- 16 -->\r\n",
       "<g id=\"node17\" class=\"node\">\r\n",
       "<title>16</title>\r\n",
       "<polygon fill=\"#e88f50\" stroke=\"black\" points=\"1371,-425 1230,-425 1230,-342 1371,-342 1371,-425\"/>\r\n",
       "<text text-anchor=\"middle\" x=\"1300.5\" y=\"-409.8\" font-family=\"Times New Roman,serif\" font-size=\"14.00\">capital&#45;loss &lt;= 7073.5</text>\r\n",
       "<text text-anchor=\"middle\" x=\"1300.5\" y=\"-394.8\" font-family=\"Times New Roman,serif\" font-size=\"14.00\">gini = 0.184</text>\r\n",
       "<text text-anchor=\"middle\" x=\"1300.5\" y=\"-379.8\" font-family=\"Times New Roman,serif\" font-size=\"14.00\">samples = 15484</text>\r\n",
       "<text text-anchor=\"middle\" x=\"1300.5\" y=\"-364.8\" font-family=\"Times New Roman,serif\" font-size=\"14.00\">value = [13896, 1588]</text>\r\n",
       "<text text-anchor=\"middle\" x=\"1300.5\" y=\"-349.8\" font-family=\"Times New Roman,serif\" font-size=\"14.00\">class = i</text>\r\n",
       "</g>\r\n",
       "<!-- 0&#45;&gt;16 -->\r\n",
       "<g id=\"edge16\" class=\"edge\">\r\n",
       "<title>0&#45;&gt;16</title>\r\n",
       "<path fill=\"none\" stroke=\"black\" d=\"M1107.68,-470.61C1142.19,-455.19 1184.14,-436.46 1220.08,-420.41\"/>\r\n",
       "<polygon fill=\"black\" stroke=\"black\" points=\"1221.86,-423.45 1229.56,-416.18 1219,-417.06 1221.86,-423.45\"/>\r\n",
       "<text text-anchor=\"middle\" x=\"1220.63\" y=\"-435.83\" font-family=\"Times New Roman,serif\" font-size=\"14.00\">False</text>\r\n",
       "</g>\r\n",
       "<!-- 2 -->\r\n",
       "<g id=\"node3\" class=\"node\">\r\n",
       "<title>2</title>\r\n",
       "<polygon fill=\"#f2bf9b\" stroke=\"black\" points=\"477,-306 336,-306 336,-223 477,-223 477,-306\"/>\r\n",
       "<text text-anchor=\"middle\" x=\"406.5\" y=\"-290.8\" font-family=\"Times New Roman,serif\" font-size=\"14.00\">capital&#45;loss &lt;= 5095.5</text>\r\n",
       "<text text-anchor=\"middle\" x=\"406.5\" y=\"-275.8\" font-family=\"Times New Roman,serif\" font-size=\"14.00\">gini = 0.443</text>\r\n",
       "<text text-anchor=\"middle\" x=\"406.5\" y=\"-260.8\" font-family=\"Times New Roman,serif\" font-size=\"14.00\">samples = 7363</text>\r\n",
       "<text text-anchor=\"middle\" x=\"406.5\" y=\"-245.8\" font-family=\"Times New Roman,serif\" font-size=\"14.00\">value = [4929, 2434]</text>\r\n",
       "<text text-anchor=\"middle\" x=\"406.5\" y=\"-230.8\" font-family=\"Times New Roman,serif\" font-size=\"14.00\">class = i</text>\r\n",
       "</g>\r\n",
       "<!-- 1&#45;&gt;2 -->\r\n",
       "<g id=\"edge2\" class=\"edge\">\r\n",
       "<title>1&#45;&gt;2</title>\r\n",
       "<path fill=\"none\" stroke=\"black\" d=\"M718.99,-360.22C652.69,-340.12 555.38,-310.63 487,-289.9\"/>\r\n",
       "<polygon fill=\"black\" stroke=\"black\" points=\"487.72,-286.46 477.13,-286.91 485.69,-293.16 487.72,-286.46\"/>\r\n",
       "</g>\r\n",
       "<!-- 9 -->\r\n",
       "<g id=\"node10\" class=\"node\">\r\n",
       "<title>9</title>\r\n",
       "<polygon fill=\"#84c2ef\" stroke=\"black\" points=\"863,-306 722,-306 722,-223 863,-223 863,-306\"/>\r\n",
       "<text text-anchor=\"middle\" x=\"792.5\" y=\"-290.8\" font-family=\"Times New Roman,serif\" font-size=\"14.00\">capital&#45;loss &lt;= 5095.5</text>\r\n",
       "<text text-anchor=\"middle\" x=\"792.5\" y=\"-275.8\" font-family=\"Times New Roman,serif\" font-size=\"14.00\">gini = 0.399</text>\r\n",
       "<text text-anchor=\"middle\" x=\"792.5\" y=\"-260.8\" font-family=\"Times New Roman,serif\" font-size=\"14.00\">samples = 3201</text>\r\n",
       "<text text-anchor=\"middle\" x=\"792.5\" y=\"-245.8\" font-family=\"Times New Roman,serif\" font-size=\"14.00\">value = [880, 2321]</text>\r\n",
       "<text text-anchor=\"middle\" x=\"792.5\" y=\"-230.8\" font-family=\"Times New Roman,serif\" font-size=\"14.00\">class = n</text>\r\n",
       "</g>\r\n",
       "<!-- 1&#45;&gt;9 -->\r\n",
       "<g id=\"edge9\" class=\"edge\">\r\n",
       "<title>1&#45;&gt;9</title>\r\n",
       "<path fill=\"none\" stroke=\"black\" d=\"M792.5,-341.91C792.5,-333.65 792.5,-324.86 792.5,-316.3\"/>\r\n",
       "<polygon fill=\"black\" stroke=\"black\" points=\"796,-316.02 792.5,-306.02 789,-316.02 796,-316.02\"/>\r\n",
       "</g>\r\n",
       "<!-- 3 -->\r\n",
       "<g id=\"node4\" class=\"node\">\r\n",
       "<title>3</title>\r\n",
       "<polygon fill=\"#f0b68d\" stroke=\"black\" points=\"278.5,-187 138.5,-187 138.5,-104 278.5,-104 278.5,-187\"/>\r\n",
       "<text text-anchor=\"middle\" x=\"208.5\" y=\"-171.8\" font-family=\"Times New Roman,serif\" font-size=\"14.00\">education&#45;num &lt;= 8.5</text>\r\n",
       "<text text-anchor=\"middle\" x=\"208.5\" y=\"-156.8\" font-family=\"Times New Roman,serif\" font-size=\"14.00\">gini = 0.418</text>\r\n",
       "<text text-anchor=\"middle\" x=\"208.5\" y=\"-141.8\" font-family=\"Times New Roman,serif\" font-size=\"14.00\">samples = 7000</text>\r\n",
       "<text text-anchor=\"middle\" x=\"208.5\" y=\"-126.8\" font-family=\"Times New Roman,serif\" font-size=\"14.00\">value = [4921, 2079]</text>\r\n",
       "<text text-anchor=\"middle\" x=\"208.5\" y=\"-111.8\" font-family=\"Times New Roman,serif\" font-size=\"14.00\">class = i</text>\r\n",
       "</g>\r\n",
       "<!-- 2&#45;&gt;3 -->\r\n",
       "<g id=\"edge3\" class=\"edge\">\r\n",
       "<title>2&#45;&gt;3</title>\r\n",
       "<path fill=\"none\" stroke=\"black\" d=\"M337.8,-222.91C321.06,-213.02 303.05,-202.37 285.93,-192.25\"/>\r\n",
       "<polygon fill=\"black\" stroke=\"black\" points=\"287.46,-189.09 277.07,-187.02 283.9,-195.12 287.46,-189.09\"/>\r\n",
       "</g>\r\n",
       "<!-- 6 -->\r\n",
       "<g id=\"node7\" class=\"node\">\r\n",
       "<title>6</title>\r\n",
       "<polygon fill=\"#3d9fe6\" stroke=\"black\" points=\"458.5,-187 354.5,-187 354.5,-104 458.5,-104 458.5,-187\"/>\r\n",
       "<text text-anchor=\"middle\" x=\"406.5\" y=\"-171.8\" font-family=\"Times New Roman,serif\" font-size=\"14.00\">age &lt;= 61.5</text>\r\n",
       "<text text-anchor=\"middle\" x=\"406.5\" y=\"-156.8\" font-family=\"Times New Roman,serif\" font-size=\"14.00\">gini = 0.043</text>\r\n",
       "<text text-anchor=\"middle\" x=\"406.5\" y=\"-141.8\" font-family=\"Times New Roman,serif\" font-size=\"14.00\">samples = 363</text>\r\n",
       "<text text-anchor=\"middle\" x=\"406.5\" y=\"-126.8\" font-family=\"Times New Roman,serif\" font-size=\"14.00\">value = [8, 355]</text>\r\n",
       "<text text-anchor=\"middle\" x=\"406.5\" y=\"-111.8\" font-family=\"Times New Roman,serif\" font-size=\"14.00\">class = n</text>\r\n",
       "</g>\r\n",
       "<!-- 2&#45;&gt;6 -->\r\n",
       "<g id=\"edge6\" class=\"edge\">\r\n",
       "<title>2&#45;&gt;6</title>\r\n",
       "<path fill=\"none\" stroke=\"black\" d=\"M406.5,-222.91C406.5,-214.65 406.5,-205.86 406.5,-197.3\"/>\r\n",
       "<polygon fill=\"black\" stroke=\"black\" points=\"410,-197.02 406.5,-187.02 403,-197.02 410,-197.02\"/>\r\n",
       "</g>\r\n",
       "<!-- 4 -->\r\n",
       "<g id=\"node5\" class=\"node\">\r\n",
       "<title>4</title>\r\n",
       "<polygon fill=\"#e88f4f\" stroke=\"black\" points=\"125,-68 0,-68 0,0 125,0 125,-68\"/>\r\n",
       "<text text-anchor=\"middle\" x=\"62.5\" y=\"-52.8\" font-family=\"Times New Roman,serif\" font-size=\"14.00\">gini = 0.177</text>\r\n",
       "<text text-anchor=\"middle\" x=\"62.5\" y=\"-37.8\" font-family=\"Times New Roman,serif\" font-size=\"14.00\">samples = 1173</text>\r\n",
       "<text text-anchor=\"middle\" x=\"62.5\" y=\"-22.8\" font-family=\"Times New Roman,serif\" font-size=\"14.00\">value = [1058, 115]</text>\r\n",
       "<text text-anchor=\"middle\" x=\"62.5\" y=\"-7.8\" font-family=\"Times New Roman,serif\" font-size=\"14.00\">class = i</text>\r\n",
       "</g>\r\n",
       "<!-- 3&#45;&gt;4 -->\r\n",
       "<g id=\"edge4\" class=\"edge\">\r\n",
       "<title>3&#45;&gt;4</title>\r\n",
       "<path fill=\"none\" stroke=\"black\" d=\"M154.13,-103.73C141.37,-94.15 127.78,-83.96 115.09,-74.44\"/>\r\n",
       "<polygon fill=\"black\" stroke=\"black\" points=\"117,-71.5 106.9,-68.3 112.8,-77.1 117,-71.5\"/>\r\n",
       "</g>\r\n",
       "<!-- 5 -->\r\n",
       "<g id=\"node6\" class=\"node\">\r\n",
       "<title>5</title>\r\n",
       "<polygon fill=\"#f2c19e\" stroke=\"black\" points=\"274,-68 143,-68 143,0 274,0 274,-68\"/>\r\n",
       "<text text-anchor=\"middle\" x=\"208.5\" y=\"-52.8\" font-family=\"Times New Roman,serif\" font-size=\"14.00\">gini = 0.447</text>\r\n",
       "<text text-anchor=\"middle\" x=\"208.5\" y=\"-37.8\" font-family=\"Times New Roman,serif\" font-size=\"14.00\">samples = 5827</text>\r\n",
       "<text text-anchor=\"middle\" x=\"208.5\" y=\"-22.8\" font-family=\"Times New Roman,serif\" font-size=\"14.00\">value = [3863, 1964]</text>\r\n",
       "<text text-anchor=\"middle\" x=\"208.5\" y=\"-7.8\" font-family=\"Times New Roman,serif\" font-size=\"14.00\">class = i</text>\r\n",
       "</g>\r\n",
       "<!-- 3&#45;&gt;5 -->\r\n",
       "<g id=\"edge5\" class=\"edge\">\r\n",
       "<title>3&#45;&gt;5</title>\r\n",
       "<path fill=\"none\" stroke=\"black\" d=\"M208.5,-103.73C208.5,-95.52 208.5,-86.86 208.5,-78.56\"/>\r\n",
       "<polygon fill=\"black\" stroke=\"black\" points=\"212,-78.3 208.5,-68.3 205,-78.3 212,-78.3\"/>\r\n",
       "</g>\r\n",
       "<!-- 7 -->\r\n",
       "<g id=\"node8\" class=\"node\">\r\n",
       "<title>7</title>\r\n",
       "<polygon fill=\"#399de5\" stroke=\"black\" points=\"396.5,-68 292.5,-68 292.5,0 396.5,0 396.5,-68\"/>\r\n",
       "<text text-anchor=\"middle\" x=\"344.5\" y=\"-52.8\" font-family=\"Times New Roman,serif\" font-size=\"14.00\">gini = 0.0</text>\r\n",
       "<text text-anchor=\"middle\" x=\"344.5\" y=\"-37.8\" font-family=\"Times New Roman,serif\" font-size=\"14.00\">samples = 317</text>\r\n",
       "<text text-anchor=\"middle\" x=\"344.5\" y=\"-22.8\" font-family=\"Times New Roman,serif\" font-size=\"14.00\">value = [0, 317]</text>\r\n",
       "<text text-anchor=\"middle\" x=\"344.5\" y=\"-7.8\" font-family=\"Times New Roman,serif\" font-size=\"14.00\">class = n</text>\r\n",
       "</g>\r\n",
       "<!-- 6&#45;&gt;7 -->\r\n",
       "<g id=\"edge7\" class=\"edge\">\r\n",
       "<title>6&#45;&gt;7</title>\r\n",
       "<path fill=\"none\" stroke=\"black\" d=\"M383.41,-103.73C378.51,-95.06 373.32,-85.9 368.38,-77.18\"/>\r\n",
       "<polygon fill=\"black\" stroke=\"black\" points=\"371.33,-75.28 363.35,-68.3 365.24,-78.73 371.33,-75.28\"/>\r\n",
       "</g>\r\n",
       "<!-- 8 -->\r\n",
       "<g id=\"node9\" class=\"node\">\r\n",
       "<title>8</title>\r\n",
       "<polygon fill=\"#63b2ea\" stroke=\"black\" points=\"512.5,-68 414.5,-68 414.5,0 512.5,0 512.5,-68\"/>\r\n",
       "<text text-anchor=\"middle\" x=\"463.5\" y=\"-52.8\" font-family=\"Times New Roman,serif\" font-size=\"14.00\">gini = 0.287</text>\r\n",
       "<text text-anchor=\"middle\" x=\"463.5\" y=\"-37.8\" font-family=\"Times New Roman,serif\" font-size=\"14.00\">samples = 46</text>\r\n",
       "<text text-anchor=\"middle\" x=\"463.5\" y=\"-22.8\" font-family=\"Times New Roman,serif\" font-size=\"14.00\">value = [8, 38]</text>\r\n",
       "<text text-anchor=\"middle\" x=\"463.5\" y=\"-7.8\" font-family=\"Times New Roman,serif\" font-size=\"14.00\">class = n</text>\r\n",
       "</g>\r\n",
       "<!-- 6&#45;&gt;8 -->\r\n",
       "<g id=\"edge8\" class=\"edge\">\r\n",
       "<title>6&#45;&gt;8</title>\r\n",
       "<path fill=\"none\" stroke=\"black\" d=\"M427.72,-103.73C432.24,-95.06 437.01,-85.9 441.54,-77.18\"/>\r\n",
       "<polygon fill=\"black\" stroke=\"black\" points=\"444.65,-78.79 446.17,-68.3 438.44,-75.55 444.65,-78.79\"/>\r\n",
       "</g>\r\n",
       "<!-- 10 -->\r\n",
       "<g id=\"node11\" class=\"node\">\r\n",
       "<title>10</title>\r\n",
       "<polygon fill=\"#98ccf2\" stroke=\"black\" points=\"799,-187 634,-187 634,-104 799,-104 799,-187\"/>\r\n",
       "<text text-anchor=\"middle\" x=\"716.5\" y=\"-171.8\" font-family=\"Times New Roman,serif\" font-size=\"14.00\">hours&#45;per&#45;week &lt;= 1782.5</text>\r\n",
       "<text text-anchor=\"middle\" x=\"716.5\" y=\"-156.8\" font-family=\"Times New Roman,serif\" font-size=\"14.00\">gini = 0.439</text>\r\n",
       "<text text-anchor=\"middle\" x=\"716.5\" y=\"-141.8\" font-family=\"Times New Roman,serif\" font-size=\"14.00\">samples = 2696</text>\r\n",
       "<text text-anchor=\"middle\" x=\"716.5\" y=\"-126.8\" font-family=\"Times New Roman,serif\" font-size=\"14.00\">value = [877, 1819]</text>\r\n",
       "<text text-anchor=\"middle\" x=\"716.5\" y=\"-111.8\" font-family=\"Times New Roman,serif\" font-size=\"14.00\">class = n</text>\r\n",
       "</g>\r\n",
       "<!-- 9&#45;&gt;10 -->\r\n",
       "<g id=\"edge10\" class=\"edge\">\r\n",
       "<title>9&#45;&gt;10</title>\r\n",
       "<path fill=\"none\" stroke=\"black\" d=\"M766.13,-222.91C760.41,-214.1 754.31,-204.7 748.4,-195.61\"/>\r\n",
       "<polygon fill=\"black\" stroke=\"black\" points=\"751.2,-193.5 742.82,-187.02 745.33,-197.31 751.2,-193.5\"/>\r\n",
       "</g>\r\n",
       "<!-- 13 -->\r\n",
       "<g id=\"node14\" class=\"node\">\r\n",
       "<title>13</title>\r\n",
       "<polygon fill=\"#3a9ee5\" stroke=\"black\" points=\"921.5,-187 817.5,-187 817.5,-104 921.5,-104 921.5,-187\"/>\r\n",
       "<text text-anchor=\"middle\" x=\"869.5\" y=\"-171.8\" font-family=\"Times New Roman,serif\" font-size=\"14.00\">age &lt;= 84.5</text>\r\n",
       "<text text-anchor=\"middle\" x=\"869.5\" y=\"-156.8\" font-family=\"Times New Roman,serif\" font-size=\"14.00\">gini = 0.012</text>\r\n",
       "<text text-anchor=\"middle\" x=\"869.5\" y=\"-141.8\" font-family=\"Times New Roman,serif\" font-size=\"14.00\">samples = 505</text>\r\n",
       "<text text-anchor=\"middle\" x=\"869.5\" y=\"-126.8\" font-family=\"Times New Roman,serif\" font-size=\"14.00\">value = [3, 502]</text>\r\n",
       "<text text-anchor=\"middle\" x=\"869.5\" y=\"-111.8\" font-family=\"Times New Roman,serif\" font-size=\"14.00\">class = n</text>\r\n",
       "</g>\r\n",
       "<!-- 9&#45;&gt;13 -->\r\n",
       "<g id=\"edge13\" class=\"edge\">\r\n",
       "<title>9&#45;&gt;13</title>\r\n",
       "<path fill=\"none\" stroke=\"black\" d=\"M819.21,-222.91C825.01,-214.1 831.2,-204.7 837.18,-195.61\"/>\r\n",
       "<polygon fill=\"black\" stroke=\"black\" points=\"840.26,-197.3 842.83,-187.02 834.41,-193.45 840.26,-197.3\"/>\r\n",
       "</g>\r\n",
       "<!-- 11 -->\r\n",
       "<g id=\"node12\" class=\"node\">\r\n",
       "<title>11</title>\r\n",
       "<polygon fill=\"#a8d4f4\" stroke=\"black\" points=\"656,-68 531,-68 531,0 656,0 656,-68\"/>\r\n",
       "<text text-anchor=\"middle\" x=\"593.5\" y=\"-52.8\" font-family=\"Times New Roman,serif\" font-size=\"14.00\">gini = 0.46</text>\r\n",
       "<text text-anchor=\"middle\" x=\"593.5\" y=\"-37.8\" font-family=\"Times New Roman,serif\" font-size=\"14.00\">samples = 2412</text>\r\n",
       "<text text-anchor=\"middle\" x=\"593.5\" y=\"-22.8\" font-family=\"Times New Roman,serif\" font-size=\"14.00\">value = [866, 1546]</text>\r\n",
       "<text text-anchor=\"middle\" x=\"593.5\" y=\"-7.8\" font-family=\"Times New Roman,serif\" font-size=\"14.00\">class = n</text>\r\n",
       "</g>\r\n",
       "<!-- 10&#45;&gt;11 -->\r\n",
       "<g id=\"edge11\" class=\"edge\">\r\n",
       "<title>10&#45;&gt;11</title>\r\n",
       "<path fill=\"none\" stroke=\"black\" d=\"M670.7,-103.73C660.15,-94.33 648.93,-84.35 638.42,-74.99\"/>\r\n",
       "<polygon fill=\"black\" stroke=\"black\" points=\"640.7,-72.33 630.91,-68.3 636.05,-77.56 640.7,-72.33\"/>\r\n",
       "</g>\r\n",
       "<!-- 12 -->\r\n",
       "<g id=\"node13\" class=\"node\">\r\n",
       "<title>12</title>\r\n",
       "<polygon fill=\"#41a1e6\" stroke=\"black\" points=\"785,-68 674,-68 674,0 785,0 785,-68\"/>\r\n",
       "<text text-anchor=\"middle\" x=\"729.5\" y=\"-52.8\" font-family=\"Times New Roman,serif\" font-size=\"14.00\">gini = 0.074</text>\r\n",
       "<text text-anchor=\"middle\" x=\"729.5\" y=\"-37.8\" font-family=\"Times New Roman,serif\" font-size=\"14.00\">samples = 284</text>\r\n",
       "<text text-anchor=\"middle\" x=\"729.5\" y=\"-22.8\" font-family=\"Times New Roman,serif\" font-size=\"14.00\">value = [11, 273]</text>\r\n",
       "<text text-anchor=\"middle\" x=\"729.5\" y=\"-7.8\" font-family=\"Times New Roman,serif\" font-size=\"14.00\">class = n</text>\r\n",
       "</g>\r\n",
       "<!-- 10&#45;&gt;12 -->\r\n",
       "<g id=\"edge12\" class=\"edge\">\r\n",
       "<title>10&#45;&gt;12</title>\r\n",
       "<path fill=\"none\" stroke=\"black\" d=\"M721.34,-103.73C722.33,-95.43 723.37,-86.67 724.36,-78.28\"/>\r\n",
       "<polygon fill=\"black\" stroke=\"black\" points=\"727.84,-78.64 725.55,-68.3 720.89,-77.82 727.84,-78.64\"/>\r\n",
       "</g>\r\n",
       "<!-- 14 -->\r\n",
       "<g id=\"node15\" class=\"node\">\r\n",
       "<title>14</title>\r\n",
       "<polygon fill=\"#3a9de5\" stroke=\"black\" points=\"907.5,-68 803.5,-68 803.5,0 907.5,0 907.5,-68\"/>\r\n",
       "<text text-anchor=\"middle\" x=\"855.5\" y=\"-52.8\" font-family=\"Times New Roman,serif\" font-size=\"14.00\">gini = 0.008</text>\r\n",
       "<text text-anchor=\"middle\" x=\"855.5\" y=\"-37.8\" font-family=\"Times New Roman,serif\" font-size=\"14.00\">samples = 501</text>\r\n",
       "<text text-anchor=\"middle\" x=\"855.5\" y=\"-22.8\" font-family=\"Times New Roman,serif\" font-size=\"14.00\">value = [2, 499]</text>\r\n",
       "<text text-anchor=\"middle\" x=\"855.5\" y=\"-7.8\" font-family=\"Times New Roman,serif\" font-size=\"14.00\">class = n</text>\r\n",
       "</g>\r\n",
       "<!-- 13&#45;&gt;14 -->\r\n",
       "<g id=\"edge14\" class=\"edge\">\r\n",
       "<title>13&#45;&gt;14</title>\r\n",
       "<path fill=\"none\" stroke=\"black\" d=\"M864.29,-103.73C863.23,-95.43 862.11,-86.67 861.03,-78.28\"/>\r\n",
       "<polygon fill=\"black\" stroke=\"black\" points=\"864.5,-77.77 859.76,-68.3 857.55,-78.66 864.5,-77.77\"/>\r\n",
       "</g>\r\n",
       "<!-- 15 -->\r\n",
       "<g id=\"node16\" class=\"node\">\r\n",
       "<title>15</title>\r\n",
       "<polygon fill=\"#7bbeee\" stroke=\"black\" points=\"1017,-68 926,-68 926,0 1017,0 1017,-68\"/>\r\n",
       "<text text-anchor=\"middle\" x=\"971.5\" y=\"-52.8\" font-family=\"Times New Roman,serif\" font-size=\"14.00\">gini = 0.375</text>\r\n",
       "<text text-anchor=\"middle\" x=\"971.5\" y=\"-37.8\" font-family=\"Times New Roman,serif\" font-size=\"14.00\">samples = 4</text>\r\n",
       "<text text-anchor=\"middle\" x=\"971.5\" y=\"-22.8\" font-family=\"Times New Roman,serif\" font-size=\"14.00\">value = [1, 3]</text>\r\n",
       "<text text-anchor=\"middle\" x=\"971.5\" y=\"-7.8\" font-family=\"Times New Roman,serif\" font-size=\"14.00\">class = n</text>\r\n",
       "</g>\r\n",
       "<!-- 13&#45;&gt;15 -->\r\n",
       "<g id=\"edge15\" class=\"edge\">\r\n",
       "<title>13&#45;&gt;15</title>\r\n",
       "<path fill=\"none\" stroke=\"black\" d=\"M907.48,-103.73C915.98,-94.61 924.99,-84.93 933.49,-75.81\"/>\r\n",
       "<polygon fill=\"black\" stroke=\"black\" points=\"936.23,-78 940.48,-68.3 931.1,-73.23 936.23,-78\"/>\r\n",
       "</g>\r\n",
       "<!-- 17 -->\r\n",
       "<g id=\"node18\" class=\"node\">\r\n",
       "<title>17</title>\r\n",
       "<polygon fill=\"#e78c4b\" stroke=\"black\" points=\"1369.5,-306 1231.5,-306 1231.5,-223 1369.5,-223 1369.5,-306\"/>\r\n",
       "<text text-anchor=\"middle\" x=\"1300.5\" y=\"-290.8\" font-family=\"Times New Roman,serif\" font-size=\"14.00\">race &lt;= 4.5</text>\r\n",
       "<text text-anchor=\"middle\" x=\"1300.5\" y=\"-275.8\" font-family=\"Times New Roman,serif\" font-size=\"14.00\">gini = 0.151</text>\r\n",
       "<text text-anchor=\"middle\" x=\"1300.5\" y=\"-260.8\" font-family=\"Times New Roman,serif\" font-size=\"14.00\">samples = 15124</text>\r\n",
       "<text text-anchor=\"middle\" x=\"1300.5\" y=\"-245.8\" font-family=\"Times New Roman,serif\" font-size=\"14.00\">value = [13884, 1240]</text>\r\n",
       "<text text-anchor=\"middle\" x=\"1300.5\" y=\"-230.8\" font-family=\"Times New Roman,serif\" font-size=\"14.00\">class = i</text>\r\n",
       "</g>\r\n",
       "<!-- 16&#45;&gt;17 -->\r\n",
       "<g id=\"edge17\" class=\"edge\">\r\n",
       "<title>16&#45;&gt;17</title>\r\n",
       "<path fill=\"none\" stroke=\"black\" d=\"M1300.5,-341.91C1300.5,-333.65 1300.5,-324.86 1300.5,-316.3\"/>\r\n",
       "<polygon fill=\"black\" stroke=\"black\" points=\"1304,-316.02 1300.5,-306.02 1297,-316.02 1304,-316.02\"/>\r\n",
       "</g>\r\n",
       "<!-- 24 -->\r\n",
       "<g id=\"node25\" class=\"node\">\r\n",
       "<title>24</title>\r\n",
       "<polygon fill=\"#40a0e6\" stroke=\"black\" points=\"1579,-306 1468,-306 1468,-223 1579,-223 1579,-306\"/>\r\n",
       "<text text-anchor=\"middle\" x=\"1523.5\" y=\"-290.8\" font-family=\"Times New Roman,serif\" font-size=\"14.00\">age &lt;= 21.0</text>\r\n",
       "<text text-anchor=\"middle\" x=\"1523.5\" y=\"-275.8\" font-family=\"Times New Roman,serif\" font-size=\"14.00\">gini = 0.064</text>\r\n",
       "<text text-anchor=\"middle\" x=\"1523.5\" y=\"-260.8\" font-family=\"Times New Roman,serif\" font-size=\"14.00\">samples = 360</text>\r\n",
       "<text text-anchor=\"middle\" x=\"1523.5\" y=\"-245.8\" font-family=\"Times New Roman,serif\" font-size=\"14.00\">value = [12, 348]</text>\r\n",
       "<text text-anchor=\"middle\" x=\"1523.5\" y=\"-230.8\" font-family=\"Times New Roman,serif\" font-size=\"14.00\">class = n</text>\r\n",
       "</g>\r\n",
       "<!-- 16&#45;&gt;24 -->\r\n",
       "<g id=\"edge24\" class=\"edge\">\r\n",
       "<title>16&#45;&gt;24</title>\r\n",
       "<path fill=\"none\" stroke=\"black\" d=\"M1371.06,-345.48C1399.15,-330.74 1431.26,-313.9 1458.74,-299.48\"/>\r\n",
       "<polygon fill=\"black\" stroke=\"black\" points=\"1460.65,-302.43 1467.87,-294.68 1457.39,-296.23 1460.65,-302.43\"/>\r\n",
       "</g>\r\n",
       "<!-- 18 -->\r\n",
       "<g id=\"node19\" class=\"node\">\r\n",
       "<title>18</title>\r\n",
       "<polygon fill=\"#e68844\" stroke=\"black\" points=\"1295,-187 1148,-187 1148,-104 1295,-104 1295,-187\"/>\r\n",
       "<text text-anchor=\"middle\" x=\"1221.5\" y=\"-171.8\" font-family=\"Times New Roman,serif\" font-size=\"14.00\">education&#45;num &lt;= 12.5</text>\r\n",
       "<text text-anchor=\"middle\" x=\"1221.5\" y=\"-156.8\" font-family=\"Times New Roman,serif\" font-size=\"14.00\">gini = 0.098</text>\r\n",
       "<text text-anchor=\"middle\" x=\"1221.5\" y=\"-141.8\" font-family=\"Times New Roman,serif\" font-size=\"14.00\">samples = 13947</text>\r\n",
       "<text text-anchor=\"middle\" x=\"1221.5\" y=\"-126.8\" font-family=\"Times New Roman,serif\" font-size=\"14.00\">value = [13225, 722]</text>\r\n",
       "<text text-anchor=\"middle\" x=\"1221.5\" y=\"-111.8\" font-family=\"Times New Roman,serif\" font-size=\"14.00\">class = i</text>\r\n",
       "</g>\r\n",
       "<!-- 17&#45;&gt;18 -->\r\n",
       "<g id=\"edge18\" class=\"edge\">\r\n",
       "<title>17&#45;&gt;18</title>\r\n",
       "<path fill=\"none\" stroke=\"black\" d=\"M1273.09,-222.91C1267.09,-214.01 1260.67,-204.51 1254.47,-195.33\"/>\r\n",
       "<polygon fill=\"black\" stroke=\"black\" points=\"1257.36,-193.35 1248.86,-187.02 1251.56,-197.27 1257.36,-193.35\"/>\r\n",
       "</g>\r\n",
       "<!-- 21 -->\r\n",
       "<g id=\"node22\" class=\"node\">\r\n",
       "<title>21</title>\r\n",
       "<polygon fill=\"#f9e4d5\" stroke=\"black\" points=\"1460,-187 1313,-187 1313,-104 1460,-104 1460,-187\"/>\r\n",
       "<text text-anchor=\"middle\" x=\"1386.5\" y=\"-171.8\" font-family=\"Times New Roman,serif\" font-size=\"14.00\">education&#45;num &lt;= 10.5</text>\r\n",
       "<text text-anchor=\"middle\" x=\"1386.5\" y=\"-156.8\" font-family=\"Times New Roman,serif\" font-size=\"14.00\">gini = 0.493</text>\r\n",
       "<text text-anchor=\"middle\" x=\"1386.5\" y=\"-141.8\" font-family=\"Times New Roman,serif\" font-size=\"14.00\">samples = 1177</text>\r\n",
       "<text text-anchor=\"middle\" x=\"1386.5\" y=\"-126.8\" font-family=\"Times New Roman,serif\" font-size=\"14.00\">value = [659, 518]</text>\r\n",
       "<text text-anchor=\"middle\" x=\"1386.5\" y=\"-111.8\" font-family=\"Times New Roman,serif\" font-size=\"14.00\">class = i</text>\r\n",
       "</g>\r\n",
       "<!-- 17&#45;&gt;21 -->\r\n",
       "<g id=\"edge21\" class=\"edge\">\r\n",
       "<title>17&#45;&gt;21</title>\r\n",
       "<path fill=\"none\" stroke=\"black\" d=\"M1330.34,-222.91C1336.87,-214.01 1343.86,-204.51 1350.61,-195.33\"/>\r\n",
       "<polygon fill=\"black\" stroke=\"black\" points=\"1353.61,-197.15 1356.72,-187.02 1347.97,-193.01 1353.61,-197.15\"/>\r\n",
       "</g>\r\n",
       "<!-- 19 -->\r\n",
       "<g id=\"node20\" class=\"node\">\r\n",
       "<title>19</title>\r\n",
       "<polygon fill=\"#e6843e\" stroke=\"black\" points=\"1166,-68 1035,-68 1035,0 1166,0 1166,-68\"/>\r\n",
       "<text text-anchor=\"middle\" x=\"1100.5\" y=\"-52.8\" font-family=\"Times New Roman,serif\" font-size=\"14.00\">gini = 0.051</text>\r\n",
       "<text text-anchor=\"middle\" x=\"1100.5\" y=\"-37.8\" font-family=\"Times New Roman,serif\" font-size=\"14.00\">samples = 11153</text>\r\n",
       "<text text-anchor=\"middle\" x=\"1100.5\" y=\"-22.8\" font-family=\"Times New Roman,serif\" font-size=\"14.00\">value = [10859, 294]</text>\r\n",
       "<text text-anchor=\"middle\" x=\"1100.5\" y=\"-7.8\" font-family=\"Times New Roman,serif\" font-size=\"14.00\">class = i</text>\r\n",
       "</g>\r\n",
       "<!-- 18&#45;&gt;19 -->\r\n",
       "<g id=\"edge19\" class=\"edge\">\r\n",
       "<title>18&#45;&gt;19</title>\r\n",
       "<path fill=\"none\" stroke=\"black\" d=\"M1176.44,-103.73C1166.16,-94.42 1155.25,-84.54 1144.99,-75.26\"/>\r\n",
       "<polygon fill=\"black\" stroke=\"black\" points=\"1147.06,-72.41 1137.3,-68.3 1142.36,-77.6 1147.06,-72.41\"/>\r\n",
       "</g>\r\n",
       "<!-- 20 -->\r\n",
       "<g id=\"node21\" class=\"node\">\r\n",
       "<title>20</title>\r\n",
       "<polygon fill=\"#ea985d\" stroke=\"black\" points=\"1309,-68 1184,-68 1184,0 1309,0 1309,-68\"/>\r\n",
       "<text text-anchor=\"middle\" x=\"1246.5\" y=\"-52.8\" font-family=\"Times New Roman,serif\" font-size=\"14.00\">gini = 0.259</text>\r\n",
       "<text text-anchor=\"middle\" x=\"1246.5\" y=\"-37.8\" font-family=\"Times New Roman,serif\" font-size=\"14.00\">samples = 2794</text>\r\n",
       "<text text-anchor=\"middle\" x=\"1246.5\" y=\"-22.8\" font-family=\"Times New Roman,serif\" font-size=\"14.00\">value = [2366, 428]</text>\r\n",
       "<text text-anchor=\"middle\" x=\"1246.5\" y=\"-7.8\" font-family=\"Times New Roman,serif\" font-size=\"14.00\">class = i</text>\r\n",
       "</g>\r\n",
       "<!-- 18&#45;&gt;20 -->\r\n",
       "<g id=\"edge20\" class=\"edge\">\r\n",
       "<title>18&#45;&gt;20</title>\r\n",
       "<path fill=\"none\" stroke=\"black\" d=\"M1230.81,-103.73C1232.7,-95.43 1234.7,-86.67 1236.62,-78.28\"/>\r\n",
       "<polygon fill=\"black\" stroke=\"black\" points=\"1240.08,-78.83 1238.9,-68.3 1233.26,-77.27 1240.08,-78.83\"/>\r\n",
       "</g>\r\n",
       "<!-- 22 -->\r\n",
       "<g id=\"node23\" class=\"node\">\r\n",
       "<title>22</title>\r\n",
       "<polygon fill=\"#f1be98\" stroke=\"black\" points=\"1445.5,-68 1327.5,-68 1327.5,0 1445.5,0 1445.5,-68\"/>\r\n",
       "<text text-anchor=\"middle\" x=\"1386.5\" y=\"-52.8\" font-family=\"Times New Roman,serif\" font-size=\"14.00\">gini = 0.439</text>\r\n",
       "<text text-anchor=\"middle\" x=\"1386.5\" y=\"-37.8\" font-family=\"Times New Roman,serif\" font-size=\"14.00\">samples = 730</text>\r\n",
       "<text text-anchor=\"middle\" x=\"1386.5\" y=\"-22.8\" font-family=\"Times New Roman,serif\" font-size=\"14.00\">value = [493, 237]</text>\r\n",
       "<text text-anchor=\"middle\" x=\"1386.5\" y=\"-7.8\" font-family=\"Times New Roman,serif\" font-size=\"14.00\">class = i</text>\r\n",
       "</g>\r\n",
       "<!-- 21&#45;&gt;22 -->\r\n",
       "<g id=\"edge22\" class=\"edge\">\r\n",
       "<title>21&#45;&gt;22</title>\r\n",
       "<path fill=\"none\" stroke=\"black\" d=\"M1386.5,-103.73C1386.5,-95.52 1386.5,-86.86 1386.5,-78.56\"/>\r\n",
       "<polygon fill=\"black\" stroke=\"black\" points=\"1390,-78.3 1386.5,-68.3 1383,-78.3 1390,-78.3\"/>\r\n",
       "</g>\r\n",
       "<!-- 23 -->\r\n",
       "<g id=\"node24\" class=\"node\">\r\n",
       "<title>23</title>\r\n",
       "<polygon fill=\"#aed7f4\" stroke=\"black\" points=\"1581.5,-68 1463.5,-68 1463.5,0 1581.5,0 1581.5,-68\"/>\r\n",
       "<text text-anchor=\"middle\" x=\"1522.5\" y=\"-52.8\" font-family=\"Times New Roman,serif\" font-size=\"14.00\">gini = 0.467</text>\r\n",
       "<text text-anchor=\"middle\" x=\"1522.5\" y=\"-37.8\" font-family=\"Times New Roman,serif\" font-size=\"14.00\">samples = 447</text>\r\n",
       "<text text-anchor=\"middle\" x=\"1522.5\" y=\"-22.8\" font-family=\"Times New Roman,serif\" font-size=\"14.00\">value = [166, 281]</text>\r\n",
       "<text text-anchor=\"middle\" x=\"1522.5\" y=\"-7.8\" font-family=\"Times New Roman,serif\" font-size=\"14.00\">class = n</text>\r\n",
       "</g>\r\n",
       "<!-- 21&#45;&gt;23 -->\r\n",
       "<g id=\"edge23\" class=\"edge\">\r\n",
       "<title>21&#45;&gt;23</title>\r\n",
       "<path fill=\"none\" stroke=\"black\" d=\"M1437.14,-103.73C1448.92,-94.24 1461.45,-84.16 1473.17,-74.72\"/>\r\n",
       "<polygon fill=\"black\" stroke=\"black\" points=\"1475.55,-77.3 1481.14,-68.3 1471.16,-71.84 1475.55,-77.3\"/>\r\n",
       "</g>\r\n",
       "<!-- 25 -->\r\n",
       "<g id=\"node26\" class=\"node\">\r\n",
       "<title>25</title>\r\n",
       "<polygon fill=\"#e58139\" stroke=\"black\" points=\"1569,-179.5 1478,-179.5 1478,-111.5 1569,-111.5 1569,-179.5\"/>\r\n",
       "<text text-anchor=\"middle\" x=\"1523.5\" y=\"-164.3\" font-family=\"Times New Roman,serif\" font-size=\"14.00\">gini = 0.0</text>\r\n",
       "<text text-anchor=\"middle\" x=\"1523.5\" y=\"-149.3\" font-family=\"Times New Roman,serif\" font-size=\"14.00\">samples = 3</text>\r\n",
       "<text text-anchor=\"middle\" x=\"1523.5\" y=\"-134.3\" font-family=\"Times New Roman,serif\" font-size=\"14.00\">value = [3, 0]</text>\r\n",
       "<text text-anchor=\"middle\" x=\"1523.5\" y=\"-119.3\" font-family=\"Times New Roman,serif\" font-size=\"14.00\">class = i</text>\r\n",
       "</g>\r\n",
       "<!-- 24&#45;&gt;25 -->\r\n",
       "<g id=\"edge25\" class=\"edge\">\r\n",
       "<title>24&#45;&gt;25</title>\r\n",
       "<path fill=\"none\" stroke=\"black\" d=\"M1523.5,-222.91C1523.5,-212.2 1523.5,-200.62 1523.5,-189.78\"/>\r\n",
       "<polygon fill=\"black\" stroke=\"black\" points=\"1527,-189.67 1523.5,-179.67 1520,-189.67 1527,-189.67\"/>\r\n",
       "</g>\r\n",
       "<!-- 26 -->\r\n",
       "<g id=\"node27\" class=\"node\">\r\n",
       "<title>26</title>\r\n",
       "<polygon fill=\"#3ea0e6\" stroke=\"black\" points=\"1727.5,-187 1587.5,-187 1587.5,-104 1727.5,-104 1727.5,-187\"/>\r\n",
       "<text text-anchor=\"middle\" x=\"1657.5\" y=\"-171.8\" font-family=\"Times New Roman,serif\" font-size=\"14.00\">education&#45;num &lt;= 3.0</text>\r\n",
       "<text text-anchor=\"middle\" x=\"1657.5\" y=\"-156.8\" font-family=\"Times New Roman,serif\" font-size=\"14.00\">gini = 0.049</text>\r\n",
       "<text text-anchor=\"middle\" x=\"1657.5\" y=\"-141.8\" font-family=\"Times New Roman,serif\" font-size=\"14.00\">samples = 357</text>\r\n",
       "<text text-anchor=\"middle\" x=\"1657.5\" y=\"-126.8\" font-family=\"Times New Roman,serif\" font-size=\"14.00\">value = [9, 348]</text>\r\n",
       "<text text-anchor=\"middle\" x=\"1657.5\" y=\"-111.8\" font-family=\"Times New Roman,serif\" font-size=\"14.00\">class = n</text>\r\n",
       "</g>\r\n",
       "<!-- 24&#45;&gt;26 -->\r\n",
       "<g id=\"edge26\" class=\"edge\">\r\n",
       "<title>24&#45;&gt;26</title>\r\n",
       "<path fill=\"none\" stroke=\"black\" d=\"M1569.99,-222.91C1580.8,-213.47 1592.4,-203.34 1603.5,-193.65\"/>\r\n",
       "<polygon fill=\"black\" stroke=\"black\" points=\"1605.86,-196.23 1611.09,-187.02 1601.26,-190.96 1605.86,-196.23\"/>\r\n",
       "</g>\r\n",
       "<!-- 27 -->\r\n",
       "<g id=\"node28\" class=\"node\">\r\n",
       "<title>27</title>\r\n",
       "<polygon fill=\"#e58139\" stroke=\"black\" points=\"1697,-68 1606,-68 1606,0 1697,0 1697,-68\"/>\r\n",
       "<text text-anchor=\"middle\" x=\"1651.5\" y=\"-52.8\" font-family=\"Times New Roman,serif\" font-size=\"14.00\">gini = 0.0</text>\r\n",
       "<text text-anchor=\"middle\" x=\"1651.5\" y=\"-37.8\" font-family=\"Times New Roman,serif\" font-size=\"14.00\">samples = 1</text>\r\n",
       "<text text-anchor=\"middle\" x=\"1651.5\" y=\"-22.8\" font-family=\"Times New Roman,serif\" font-size=\"14.00\">value = [1, 0]</text>\r\n",
       "<text text-anchor=\"middle\" x=\"1651.5\" y=\"-7.8\" font-family=\"Times New Roman,serif\" font-size=\"14.00\">class = i</text>\r\n",
       "</g>\r\n",
       "<!-- 26&#45;&gt;27 -->\r\n",
       "<g id=\"edge27\" class=\"edge\">\r\n",
       "<title>26&#45;&gt;27</title>\r\n",
       "<path fill=\"none\" stroke=\"black\" d=\"M1655.27,-103.73C1654.82,-95.52 1654.34,-86.86 1653.89,-78.56\"/>\r\n",
       "<polygon fill=\"black\" stroke=\"black\" points=\"1657.37,-78.09 1653.32,-68.3 1650.38,-78.48 1657.37,-78.09\"/>\r\n",
       "</g>\r\n",
       "<!-- 28 -->\r\n",
       "<g id=\"node29\" class=\"node\">\r\n",
       "<title>28</title>\r\n",
       "<polygon fill=\"#3e9fe6\" stroke=\"black\" points=\"1819.5,-68 1715.5,-68 1715.5,0 1819.5,0 1819.5,-68\"/>\r\n",
       "<text text-anchor=\"middle\" x=\"1767.5\" y=\"-52.8\" font-family=\"Times New Roman,serif\" font-size=\"14.00\">gini = 0.044</text>\r\n",
       "<text text-anchor=\"middle\" x=\"1767.5\" y=\"-37.8\" font-family=\"Times New Roman,serif\" font-size=\"14.00\">samples = 356</text>\r\n",
       "<text text-anchor=\"middle\" x=\"1767.5\" y=\"-22.8\" font-family=\"Times New Roman,serif\" font-size=\"14.00\">value = [8, 348]</text>\r\n",
       "<text text-anchor=\"middle\" x=\"1767.5\" y=\"-7.8\" font-family=\"Times New Roman,serif\" font-size=\"14.00\">class = n</text>\r\n",
       "</g>\r\n",
       "<!-- 26&#45;&gt;28 -->\r\n",
       "<g id=\"edge28\" class=\"edge\">\r\n",
       "<title>26&#45;&gt;28</title>\r\n",
       "<path fill=\"none\" stroke=\"black\" d=\"M1698.46,-103.73C1707.71,-94.51 1717.54,-84.74 1726.78,-75.53\"/>\r\n",
       "<polygon fill=\"black\" stroke=\"black\" points=\"1729.43,-77.84 1734.05,-68.3 1724.49,-72.87 1729.43,-77.84\"/>\r\n",
       "</g>\r\n",
       "</g>\r\n",
       "</svg>\r\n"
      ],
      "text/plain": [
       "<graphviz.files.Source at 0x2c1995df130>"
      ]
     },
     "execution_count": 45,
     "metadata": {},
     "output_type": "execute_result"
    }
   ],
   "source": [
    "import graphviz\n",
    "\n",
    "# 위에서 생성된 tree.dot 파일을 Graphviz 읽어서 Jupyter Notebook상에서 시각화 \n",
    "with open(\"tree.dot\") as f:\n",
    "    dot_graph = f.read()\n",
    "graphviz.Source(dot_graph)"
   ]
  },
  {
   "cell_type": "code",
   "execution_count": null,
   "id": "07a405fd",
   "metadata": {},
   "outputs": [],
   "source": []
  }
 ],
 "metadata": {
  "kernelspec": {
   "display_name": "Python 3",
   "language": "python",
   "name": "python3"
  },
  "language_info": {
   "codemirror_mode": {
    "name": "ipython",
    "version": 3
   },
   "file_extension": ".py",
   "mimetype": "text/x-python",
   "name": "python",
   "nbconvert_exporter": "python",
   "pygments_lexer": "ipython3",
   "version": "3.8.9"
  }
 },
 "nbformat": 4,
 "nbformat_minor": 5
}
